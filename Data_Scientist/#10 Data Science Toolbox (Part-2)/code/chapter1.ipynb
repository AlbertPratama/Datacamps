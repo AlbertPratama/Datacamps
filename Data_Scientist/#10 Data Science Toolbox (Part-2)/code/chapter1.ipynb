{
 "cells": [
  {
   "cell_type": "markdown",
   "metadata": {},
   "source": [
    "## `List Comprehesions`\n",
    "#### `[output expression for iterator variable in iterable]`\n",
    "\n",
    "## `Advance`\n",
    "#### `[output expression + conditional on output for iterator in iterable  + conditional on iterable]`"
   ]
  },
  {
   "cell_type": "code",
   "execution_count": 13,
   "metadata": {},
   "outputs": [],
   "source": [
    "import pandas as pd\n",
    "import numpy as np"
   ]
  },
  {
   "cell_type": "markdown",
   "metadata": {},
   "source": [
    "#### `Iterating over iterables (1)`\n",
    "Great, you're familiar with what iterables and iterators are! In this exercise, you will reinforce your knowledge about these by iterating over and printing from iterables and iterators.\n",
    "\n",
    "You are provided with a list of strings __flash__. You will practice iterating over the list by using a __for__ loop. You will also create an iterator for the list and access the values from the iterator."
   ]
  },
  {
   "cell_type": "markdown",
   "metadata": {},
   "source": [
    "- Create a __for__ loop to loop over __flash__ and print the values in the list. Use __person__ as the loop variable.\n",
    "- Create an iterator __for__ the list __flash__ and assign the result to __superhero__.\n",
    "- Print each of the items from __superhero__ using __next()__ 4 times."
   ]
  },
  {
   "cell_type": "code",
   "execution_count": 14,
   "metadata": {},
   "outputs": [
    {
     "name": "stdout",
     "output_type": "stream",
     "text": [
      "jay garrick\n",
      "barry allen\n",
      "wally west\n",
      "bart allen\n",
      "jay garrick\n",
      "barry allen\n",
      "wally west\n",
      "bart allen\n"
     ]
    }
   ],
   "source": [
    "# Create a list of strings: flash\n",
    "flash = ['jay garrick', 'barry allen', 'wally west', 'bart allen']\n",
    "\n",
    "# Print each list item in flash using a for loop\n",
    "for person in flash:\n",
    "    print(person)\n",
    "\n",
    "\n",
    "# Create an iterator for flash: superhero\n",
    "superhero = iter(flash)\n",
    "\n",
    "# # Print each item from the iterator\n",
    "print(next(superhero))\n",
    "print(next(superhero))\n",
    "print(next(superhero))\n",
    "print(next(superhero))"
   ]
  },
  {
   "cell_type": "markdown",
   "metadata": {},
   "source": [
    "#### `Iterating over iterables (2)`\n",
    "One of the things you learned about in this chapter is that not all iterables are actual lists. A couple of examples that we looked at are strings and the use of the __range()__ function. In this exercise, we will focus on the __range()__ function.\n",
    "\n",
    "You can use __range()__ in a __for__ loop as if it's a list to be iterated over:\n",
    "- for i in range(5):\n",
    "  - print(i)\n",
    "\n",
    "Recall that __range()__ doesn't actually create the list; instead, it creates a range object with an iterator that produces the values until it reaches the limit (in the example, until the value 4). If __range()__ created the actual list, calling it with a value of __10^100__ may not work, especially since a number as big as that may go over a regular computer's memory. The value __10^100__ is actually what's called a __Googol__ which is a 1 followed by a hundred 0s. That's a huge number!\n",
    "\n",
    "Your task for this exercise is to show that calling __range()__ with 10^100 won't actually pre-create the list."
   ]
  },
  {
   "cell_type": "markdown",
   "metadata": {},
   "source": [
    "- Create an iterator object __small_value__ over __range(3)__ using the function __iter()__.\n",
    "- Using a __for__ loop, iterate over __range(3)__, printing the value for every iteration. Use __num__ as the loop variable.\n",
    "- Create an iterator object __googol__ over __range(10 ** 100)__."
   ]
  },
  {
   "cell_type": "code",
   "execution_count": 15,
   "metadata": {},
   "outputs": [
    {
     "name": "stdout",
     "output_type": "stream",
     "text": [
      "0\n",
      "1\n",
      "2\n",
      "0\n",
      "1\n",
      "2\n",
      "0\n",
      "1\n",
      "2\n",
      "3\n",
      "4\n"
     ]
    }
   ],
   "source": [
    "# Create an iterator for range(3): small_value\n",
    "small_value = iter(range(3))\n",
    "\n",
    "# Print the values in small_value\n",
    "print(next(small_value))\n",
    "print(next(small_value))\n",
    "print(next(small_value))\n",
    "\n",
    "# Loop over range(3) and print the values\n",
    "for num in range(3):\n",
    "  print(num)\n",
    "\n",
    "# Create an iterator for range(10 ** 100): googol\n",
    "googol = iter(range(10**100))\n",
    "\n",
    "# Print the first 5 values from googol\n",
    "print(next(googol))\n",
    "print(next(googol))\n",
    "print(next(googol))\n",
    "print(next(googol))\n",
    "print(next(googol))"
   ]
  },
  {
   "cell_type": "markdown",
   "metadata": {},
   "source": [
    "#### `Iterators as function arguments`\n",
    "You've been using the __iter()__ function to get an iterator object, as well as the __next()__ function to retrieve the values one by one from the iterator object.\n",
    "\n",
    "There are also functions that take iterators and iterables as arguments. For example, the __list()__ and __sum()__ functions return a list and the sum of elements, respectively.\n",
    "\n",
    "In this exercise, you will use these functions by passing an iterable from __range()__ and then printing the results of the function calls."
   ]
  },
  {
   "cell_type": "markdown",
   "metadata": {},
   "source": [
    "- Create a __range__ object that would produce the values from ___10___ to ___20___ using __range()__. Assign the result to __values__.\n",
    "- Use the __list()__ function to create a list of values from the range object values. Assign the result to __values_list__.\n",
    "- Use the __sum()__ function to get the sum of the __values__ from ___10___ to ___20___ from the range object values. Assign the result to __values_sum__."
   ]
  },
  {
   "cell_type": "code",
   "execution_count": 16,
   "metadata": {},
   "outputs": [
    {
     "name": "stdout",
     "output_type": "stream",
     "text": [
      "range(10, 21)\n",
      "[10, 11, 12, 13, 14, 15, 16, 17, 18, 19, 20]\n",
      "165\n"
     ]
    }
   ],
   "source": [
    "# Create a range object: values\n",
    "values = range(10, 21)\n",
    "\n",
    "# Print the range object\n",
    "print(values)\n",
    "\n",
    "# Create a list of integers: values_list\n",
    "values_list = list(values)\n",
    "\n",
    "# Print values_list\n",
    "print(values_list)\n",
    "\n",
    "# Get the sum of values: values_sum\n",
    "values_sum = sum(values)\n",
    "\n",
    "# Print values_sum\n",
    "print(values_sum)"
   ]
  },
  {
   "cell_type": "code",
   "execution_count": 28,
   "metadata": {},
   "outputs": [
    {
     "name": "stdout",
     "output_type": "stream",
     "text": [
      "(0, 'jay garrick')\n",
      "(1, 'barry allen')\n",
      "(2, 'wally west')\n",
      "(3, 'bart allen')\n"
     ]
    }
   ],
   "source": [
    "flash = ['jay garrick', 'barry allen', 'wally west', 'bart allen']\n",
    "e = enumerate(flash)\n",
    "\n",
    "for index in e:\n",
    "  print(index)"
   ]
  },
  {
   "cell_type": "code",
   "execution_count": null,
   "metadata": {},
   "outputs": [],
   "source": [
    "flash = ['jay garrick', 'barry allen', 'wally west', 'bart allen']\n",
    "e = enumerate(flash)\n",
    "e = list(e)\n",
    "e"
   ]
  },
  {
   "cell_type": "markdown",
   "metadata": {},
   "source": [
    "#### `Using enumerate`\n",
    "You're really getting the hang of using iterators, great job!\n",
    "\n",
    "You've just gained several new ideas on iterators from the last video and one of them is the __enumerate()__ function. Recall that __enumerate()__ returns an _enumerate_ object that produces a sequence of tuples, and each of the tuples is an index-value pair.\n",
    "\n",
    "In this exercise, you are given a list of strings __mutants__ and you will practice using __enumerate()__ on it by printing out a list of tuples and unpacking the tuples using a __for__ loop."
   ]
  },
  {
   "cell_type": "markdown",
   "metadata": {},
   "source": [
    "- Create a list of tuples from __mutants__ and assign the result to mutant_list. Make sure you generate the tuples using __enumerate()__ and turn the result from it into a list using __list()__.\n",
    "- Complete the first __for__ loop by unpacking the tuples generated by calling __enumerate()__ on __mutants__. Use index1 for the index and __value1__ for the value when unpacking the tuple.\n",
    "- Complete the second __for__ loop similarly as with the first, but this time change the starting index to __start__ from ___1___ by passing it in as an argument to the start parameter of __enumerate()__. Use __index2__ for the index and __value2__ for the value when unpacking the tuple."
   ]
  },
  {
   "cell_type": "code",
   "execution_count": 18,
   "metadata": {},
   "outputs": [
    {
     "name": "stdout",
     "output_type": "stream",
     "text": [
      "\n",
      "[(0, 'charles xavier'), (1, 'bobby drake'), (2, 'kurt wagner'), (3, 'max eisenhardt'), (4, 'kitty pryde')]\n",
      "0 charles xavier\n",
      "1 bobby drake\n",
      "2 kurt wagner\n",
      "3 max eisenhardt\n",
      "4 kitty pryde\n",
      "\n",
      "0 charles xavier\n",
      "1 bobby drake\n",
      "2 kurt wagner\n",
      "3 max eisenhardt\n",
      "4 kitty pryde\n",
      "\n",
      "1 charles xavier\n",
      "2 bobby drake\n",
      "3 kurt wagner\n",
      "4 max eisenhardt\n",
      "5 kitty pryde\n"
     ]
    }
   ],
   "source": [
    "# Create a list of strings: mutants\n",
    "mutants = ['charles xavier',\n",
    "           'bobby drake',\n",
    "           'kurt wagner',\n",
    "           'max eisenhardt',\n",
    "           'kitty pryde']\n",
    "\n",
    "# Create a list of tuples: mutant_list\n",
    "mutant_list = list(enumerate(mutants))\n",
    "print()\n",
    "# Print the list of tuples\n",
    "print(mutant_list)\n",
    "\n",
    "# Unpack and print the tuple pairs\n",
    "for index1, value1 in mutant_list:\n",
    "    print(index1, value1)\n",
    "print()\n",
    "for index1, value1 in enumerate(mutants):\n",
    "    print(index1, value1)\n",
    "print()\n",
    "# Change the start index\n",
    "for index2, value2 in enumerate(mutants, start=1):\n",
    "    print(index2, value2)"
   ]
  },
  {
   "cell_type": "markdown",
   "metadata": {},
   "source": [
    "#### `Using zip`\n",
    "Another interesting function that you've learned is __zip()__, which takes any number of iterables and returns a __zip__ object that is an iterator of tuples. If you wanted to print the values of a __zip__ object, you can convert it into a list and then print it. Printing just a __zip__ object will not return the values unless you unpack it first. In this exercise, you will explore this for yourself.\n",
    "\n",
    "Three lists of strings are pre-loaded: __mutants__, __aliases__, and __powers__. First, you will use __list()__ and __zip()__ on these lists to generate a list of tuples. Then, you will create a __zip__ object using __zip()__. Finally, you will unpack this __zip__ object in a __for__ loop to print the values in each tuple. Observe the different output generated by printing the list of tuples, then the __zip__ object, and finally, the tuple values in the __for__ loop."
   ]
  },
  {
   "cell_type": "code",
   "execution_count": 19,
   "metadata": {},
   "outputs": [],
   "source": [
    "mutants = ['charles xavier', 'bobby drake', 'kurt wagner', 'max eisenhardt', 'kitty pryde']\n",
    "aliases = ['prof x', 'iceman', 'nightcrawler', 'magneto', 'shadowcat']\n",
    "powers  = ['telepathy', 'thermokinesis', 'teleportation', 'magnetokinesis', 'intangibility']"
   ]
  },
  {
   "cell_type": "markdown",
   "metadata": {},
   "source": [
    "- Using __zip()__ with __list()__, create a list of tuples from the three lists __mutants__, __aliases__, and __powers__ (in that order) and assign the result to __mutant_data__.\n",
    "- Using __zip()__, create a zip object called __mutant_zip__ from the three lists __mutants__, __aliases__, and __powers__.\n",
    "- Complete the __for__ loop by unpacking the __zip__ object you created and printing the tuple values. Use __value1__, __value2__, __value3__ for the values from each of __mutants__, __aliases__, and __powers__, in that order."
   ]
  },
  {
   "cell_type": "code",
   "execution_count": 29,
   "metadata": {},
   "outputs": [
    {
     "name": "stdout",
     "output_type": "stream",
     "text": [
      "Mutan Data: [('charles xavier', 'prof x', 'telepathy'), ('bobby drake', 'iceman', 'thermokinesis'), ('kurt wagner', 'nightcrawler', 'teleportation'), ('max eisenhardt', 'magneto', 'magnetokinesis'), ('kitty pryde', 'shadowcat', 'intangibility')]\n",
      "\n",
      "Mutan Zip:  <zip object at 0x000002991BA94680>\n",
      "\n",
      "charles xavier prof x telepathy\n",
      "bobby drake iceman thermokinesis\n",
      "kurt wagner nightcrawler teleportation\n",
      "max eisenhardt magneto magnetokinesis\n",
      "kitty pryde shadowcat intangibility\n"
     ]
    }
   ],
   "source": [
    "# Create a list of tuples: mutant_data\n",
    "mutant_data = list(zip(mutants, aliases, powers))\n",
    "\n",
    "# Print the list of tuples\n",
    "print('Mutan Data:',mutant_data)\n",
    "print()\n",
    "# Create a zip object using the three lists: mutant_zip\n",
    "mutant_zip = zip(mutants, aliases, powers)\n",
    "\n",
    "# Print the zip object\n",
    "print('Mutan Zip: ',mutant_zip)\n",
    "print()\n",
    "# Unpack the zip object and print the tuple values\n",
    "for value1, value2, value3 in mutant_zip:\n",
    "    print(value1, value2, value3)"
   ]
  },
  {
   "cell_type": "markdown",
   "metadata": {},
   "source": [
    "#### `Using * and zip to 'unzip'`\n",
    "You know how to use __zip()__ as well as how to print out values from a zip object. Excellent!\n",
    "\n",
    "Let's play around with __zip()__ a little more. There is no unzip function for doing the reverse of what __zip()__ does. We can, however, reverse what has been zipped together by using __zip()__ with a little help from ___*!___ ___*___ unpacks an iterable such as a list or a tuple into positional arguments in a function call.\n",
    "\n",
    "In this exercise, you will use ___*___ in a call to __zip()__ to unpack the tuples produced by __zip()__.\n",
    "\n",
    "Two tuples of strings, __mutants__ and __powers__ have been pre-loaded."
   ]
  },
  {
   "cell_type": "markdown",
   "metadata": {},
   "source": [
    "- Create a __zip__ object by using __zip()__ on mutants and powers, in that order. Assign the result to ___z1___.\n",
    "- Print the tuples in ___z1___ by unpacking them into positional arguments using the ___*___ operator in a __print()__ call.\n",
    "- Because the previous __print()__ call would have exhausted the elements in ___z1___, recreate the zip object you defined earlier and assign the result again to ___z1___.\n",
    "- 'Unzip' the tuples in ___z1___ by unpacking them into positional arguments using the ___*___ operator in a __zip()__ call. Assign the results to __result1__ and __result2__, in that order.\n",
    "\n",
    "- The last __print()__ statements prints the output of comparing __result1__ to mutants and __result2__ to powers. Click __Submit Answer__ to see if the unpacked __result1__ and __result2__ are equivalent to __mutants__ and __powers__, respectively."
   ]
  },
  {
   "cell_type": "code",
   "execution_count": 21,
   "metadata": {},
   "outputs": [
    {
     "name": "stdout",
     "output_type": "stream",
     "text": [
      "('charles xavier', 'telepathy') ('bobby drake', 'thermokinesis') ('kurt wagner', 'teleportation') ('max eisenhardt', 'magnetokinesis') ('kitty pryde', 'intangibility')\n",
      "False\n",
      "False\n"
     ]
    }
   ],
   "source": [
    "# Create a zip object from mutants and powers: z1\n",
    "z1 = zip(mutants, powers)\n",
    "\n",
    "# Print the tuples in z1 by unpacking with *\n",
    "print(*z1)\n",
    "\n",
    "# Re-create a zip object from mutants and powers: z1\n",
    "z1 = zip(mutants, powers)\n",
    "\n",
    "# 'Unzip' the tuples in z1 by unpacking with * and zip(): result1, result2\n",
    "result1, result2 = zip(*z1)\n",
    "\n",
    "# Check if unpacked tuples are equivalent to original tuples\n",
    "print(result1 == mutants)\n",
    "print(result2 == powers)"
   ]
  },
  {
   "cell_type": "markdown",
   "metadata": {},
   "source": [
    "#### `Processing large amounts of Twitter data`\n",
    "Sometimes, the data we have to process reaches a size that is too much for a computer's memory to handle. This is a common problem faced by data scientists. A solution to this is to process an entire data source chunk by chunk, instead of a single go all at once.\n",
    "\n",
    "In this exercise, you will do just that. You will process a large csv file of Twitter data in the same way that you processed '__tweets.csv__' in [Bringing it all together](https://campus.datacamp.com/courses/python-data-science-toolbox-part-1/writing-your-own-functions?ex=12). exercises of the prequel course, but this time, working on it in chunks of 10 entries at a time.\n",
    "\n",
    "If you are interested in learning how to access Twitter data so you can work with it on your own system, refer to [Part2](https://app.datacamp.com/learn/courses/importing-data-in-python-part-2) of the DataCamp course on Importing Data in Python.\n",
    "\n",
    "The __pandas__ package has been imported as __pd__ and the file '__tweets.csv__' is in your current directory for your use.\n",
    "\n",
    "_Be aware that this is real data from Twitter and as such there is always a risk that it may contain profanity or other offensive content (in this exercise, and any following exercises that also use real Twitter data)._\n"
   ]
  },
  {
   "cell_type": "markdown",
   "metadata": {},
   "source": [
    "- Initialize an empty dictionary __counts_dict__ for storing the results of processing the Twitter data.\n",
    "- Iterate over the '__tweets.csv__' file by using a __for__ loop. Use the loop variable __chunk__ and iterate over the call to __pd.read_csv()__ with a ___chunksize___ of ___10___.\n",
    "- In the inner loop, iterate over the column '__lang__' in __chunk__ by using a __for__ loop. Use the loop variable __entry__."
   ]
  },
  {
   "cell_type": "code",
   "execution_count": 22,
   "metadata": {},
   "outputs": [
    {
     "name": "stdout",
     "output_type": "stream",
     "text": [
      "{'en': 97, 'et': 1, 'und': 2}\n"
     ]
    }
   ],
   "source": [
    "# Initialize an empty dictionary: counts_dict\n",
    "counts_dict = {}\n",
    "\n",
    "# Iterate over the file chunk by chunk\n",
    "for chunk in pd.read_csv('../datasets/tweets.csv', chunksize=10):\n",
    "\n",
    "    # Iterate over the column in DataFrame\n",
    "    for entry in chunk['lang']:\n",
    "        if entry in counts_dict.keys():\n",
    "            counts_dict[entry] += 1\n",
    "        else:\n",
    "            counts_dict[entry] = 1\n",
    "\n",
    "# Print the populated dictionary\n",
    "print(counts_dict)"
   ]
  },
  {
   "cell_type": "markdown",
   "metadata": {},
   "source": [
    "#### `Extracting information for large amounts of Twitter data`\n",
    "Great job chunking out that file in the previous exercise. You now know how to deal with situations where you need to process a very large file and that's a very useful skill to have!\n",
    "\n",
    "It's good to know how to process a file in smaller, more manageable chunks, but it can become very tedious having to write and rewrite the same code for the same task each time. In this exercise, you will be making your code more reusable by putting your work in the last exercise in a function definition.\n",
    "\n",
    "The pandas package has been imported as __pd__ and the file '__tweets.csv__' is in your current directory for your use."
   ]
  },
  {
   "cell_type": "markdown",
   "metadata": {},
   "source": [
    "- Define the function __count_entries()__, which has __3__ _parameters_. The first parameter is __csv_file__ for the filename, the second is __c_size__ for the __chunk size__, and the last is __colname__ for the column name.\n",
    "- Iterate over the file in __csv_file__ file by using a __for__ loop. Use the loop variable __`chunk`__ and iterate over the call to __pd.read_csv()__, passing __c_size__ to __chunksize__.\n",
    "- In the inner loop, iterate over the column given by __colname__ in __chunk__ by using a __for__ loop. Use the loop variable __`entry`__.\n",
    "- Call the __count_entries()__ function by passing to it the filename '__tweets.csv__', the _size of chunks_ ___10___, and the name of the column to count, '__lang__'. Assign the result of the call to the variable __result_counts__."
   ]
  },
  {
   "cell_type": "code",
   "execution_count": 23,
   "metadata": {},
   "outputs": [
    {
     "name": "stdout",
     "output_type": "stream",
     "text": [
      "{'en': 97, 'et': 1, 'und': 2}\n"
     ]
    }
   ],
   "source": [
    "# Define count_entries()\n",
    "def count_entries(csv_file, c_size, colname):\n",
    "    \"\"\"Return a dictionary with counts of\n",
    "    occurrences as value for each key.\"\"\"\n",
    "\n",
    "    # Initialize an empty dictionary: counts_dict\n",
    "    counts_dict = {}\n",
    "\n",
    "    # Iterate over the file chunk by chunk\n",
    "    for chunk in pd.read_csv(csv_file, chunksize=c_size):\n",
    "\n",
    "        # Iterate over the column in DataFrame\n",
    "        for entry in chunk[colname]:\n",
    "            if entry in counts_dict.keys():\n",
    "                counts_dict[entry] += 1\n",
    "            else:\n",
    "                counts_dict[entry] = 1\n",
    "\n",
    "    # Return counts_dict\n",
    "    return counts_dict\n",
    "\n",
    "\n",
    "# Call count_entries(): result_counts\n",
    "result_counts = count_entries('../datasets/tweets.csv', 10, 'lang')\n",
    "\n",
    "# Print result_counts\n",
    "print(result_counts)"
   ]
  }
 ],
 "metadata": {
  "kernelspec": {
   "display_name": "Python 3",
   "language": "python",
   "name": "python3"
  },
  "language_info": {
   "codemirror_mode": {
    "name": "ipython",
    "version": 3
   },
   "file_extension": ".py",
   "mimetype": "text/x-python",
   "name": "python",
   "nbconvert_exporter": "python",
   "pygments_lexer": "ipython3",
   "version": "3.11.2"
  }
 },
 "nbformat": 4,
 "nbformat_minor": 2
}
