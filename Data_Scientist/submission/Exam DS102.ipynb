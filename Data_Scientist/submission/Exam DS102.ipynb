{
 "cells": [
  {
   "cell_type": "code",
   "execution_count": 2,
   "metadata": {},
   "outputs": [],
   "source": [
    "import pandas as pd\n",
    "import numpy as np"
   ]
  },
  {
   "cell_type": "code",
   "execution_count": 5,
   "metadata": {},
   "outputs": [
    {
     "data": {
      "text/html": [
       "<div>\n",
       "<style scoped>\n",
       "    .dataframe tbody tr th:only-of-type {\n",
       "        vertical-align: middle;\n",
       "    }\n",
       "\n",
       "    .dataframe tbody tr th {\n",
       "        vertical-align: top;\n",
       "    }\n",
       "\n",
       "    .dataframe thead th {\n",
       "        text-align: right;\n",
       "    }\n",
       "</style>\n",
       "<table border=\"1\" class=\"dataframe\">\n",
       "  <thead>\n",
       "    <tr style=\"text-align: right;\">\n",
       "      <th></th>\n",
       "      <th>Restaurant</th>\n",
       "      <th>Cuisine</th>\n",
       "    </tr>\n",
       "  </thead>\n",
       "  <tbody>\n",
       "    <tr>\n",
       "      <th>0</th>\n",
       "      <td>Sushi Time</td>\n",
       "      <td>Mediterranean</td>\n",
       "    </tr>\n",
       "    <tr>\n",
       "      <th>1</th>\n",
       "      <td>Curry Spot</td>\n",
       "      <td>Japanese Food</td>\n",
       "    </tr>\n",
       "    <tr>\n",
       "      <th>2</th>\n",
       "      <td>Taco House</td>\n",
       "      <td>Mexican</td>\n",
       "    </tr>\n",
       "  </tbody>\n",
       "</table>\n",
       "</div>"
      ],
      "text/plain": [
       "   Restaurant        Cuisine\n",
       "0  Sushi Time  Mediterranean\n",
       "1  Curry Spot  Japanese Food\n",
       "2  Taco House        Mexican"
      ]
     },
     "execution_count": 5,
     "metadata": {},
     "output_type": "execute_result"
    }
   ],
   "source": [
    "data = {\n",
    "    'Restaurant': ['Sushi Time', 'Curry Spot', 'Taco House'],\n",
    "    'Cuisine': ['Mediterranean', 'Japanese Food', 'Mexican']\n",
    "}\n",
    "\n",
    "df = pd.DataFrame(data)\n",
    "df"
   ]
  },
  {
   "cell_type": "code",
   "execution_count": 6,
   "metadata": {},
   "outputs": [],
   "source": [
    "# filtered = df.loc[df['Restaurant']. ____]"
   ]
  },
  {
   "cell_type": "code",
   "execution_count": 8,
   "metadata": {},
   "outputs": [
    {
     "data": {
      "text/html": [
       "<div>\n",
       "<style scoped>\n",
       "    .dataframe tbody tr th:only-of-type {\n",
       "        vertical-align: middle;\n",
       "    }\n",
       "\n",
       "    .dataframe tbody tr th {\n",
       "        vertical-align: top;\n",
       "    }\n",
       "\n",
       "    .dataframe thead th {\n",
       "        text-align: right;\n",
       "    }\n",
       "</style>\n",
       "<table border=\"1\" class=\"dataframe\">\n",
       "  <thead>\n",
       "    <tr style=\"text-align: right;\">\n",
       "      <th></th>\n",
       "      <th>Restaurant</th>\n",
       "      <th>Cuisine</th>\n",
       "      <th>cleans</th>\n",
       "    </tr>\n",
       "  </thead>\n",
       "  <tbody>\n",
       "    <tr>\n",
       "      <th>0</th>\n",
       "      <td>Sushi Time</td>\n",
       "      <td>Mediterranean</td>\n",
       "      <td>Sushi time</td>\n",
       "    </tr>\n",
       "    <tr>\n",
       "      <th>1</th>\n",
       "      <td>Curry Spot</td>\n",
       "      <td>Japanese Food</td>\n",
       "      <td>Curry spot</td>\n",
       "    </tr>\n",
       "    <tr>\n",
       "      <th>2</th>\n",
       "      <td>Taco House</td>\n",
       "      <td>Mexican</td>\n",
       "      <td>Taco house</td>\n",
       "    </tr>\n",
       "  </tbody>\n",
       "</table>\n",
       "</div>"
      ],
      "text/plain": [
       "   Restaurant        Cuisine      cleans\n",
       "0  Sushi Time  Mediterranean  Sushi time\n",
       "1  Curry Spot  Japanese Food  Curry spot\n",
       "2  Taco House        Mexican  Taco house"
      ]
     },
     "execution_count": 8,
     "metadata": {},
     "output_type": "execute_result"
    }
   ],
   "source": [
    "df['cleans'] = df.Restaurant.str.capitalize()\n",
    "df"
   ]
  },
  {
   "cell_type": "code",
   "execution_count": 9,
   "metadata": {},
   "outputs": [
    {
     "name": "stdout",
     "output_type": "stream",
     "text": [
      "Alex\n"
     ]
    }
   ],
   "source": [
    "def print_name(name='Maria'):\n",
    "    print(name)\n",
    "\n",
    "print_name(\"Alex\")"
   ]
  },
  {
   "cell_type": "code",
   "execution_count": 14,
   "metadata": {},
   "outputs": [
    {
     "name": "stdout",
     "output_type": "stream",
     "text": [
      "0\n",
      "1\n",
      "2\n"
     ]
    }
   ],
   "source": [
    "i = 0\n",
    "while i < 5:\n",
    "  if i == 3:\n",
    "    break\n",
    "  print(i)\n",
    "  i += 1"
   ]
  },
  {
   "cell_type": "code",
   "execution_count": 15,
   "metadata": {},
   "outputs": [
    {
     "name": "stdout",
     "output_type": "stream",
     "text": [
      "['Jane', 'Doe']\n"
     ]
    }
   ],
   "source": [
    "def split_string(name):\n",
    "  new_name = name.split(\",\")\n",
    "  print(new_name)\n",
    "\n",
    "\n",
    "split_string(\"Jane,Doe\")"
   ]
  },
  {
   "cell_type": "code",
   "execution_count": 16,
   "metadata": {},
   "outputs": [
    {
     "name": "stdout",
     "output_type": "stream",
     "text": [
      "1\n",
      "2\n",
      "3\n",
      "4\n",
      "5\n",
      "6\n",
      "7\n",
      "8\n",
      "9\n",
      "10\n"
     ]
    }
   ],
   "source": [
    "# Set value of n\n",
    "n = 10\n",
    "\n",
    "# initialize counter\n",
    "i = 1\n",
    "\n",
    "\n",
    "while i <= n:\n",
    "  print(i)\n",
    "  i = i+1    # update counter"
   ]
  },
  {
   "cell_type": "code",
   "execution_count": 17,
   "metadata": {},
   "outputs": [
    {
     "name": "stdout",
     "output_type": "stream",
     "text": [
      "Thanks for your participation\n",
      "Thanks for your participation\n",
      "Thanks for your participation\n",
      "Thanks for your participation\n",
      "Thanks for your participation\n",
      "Thanks for your participation\n",
      "Thanks for your participation\n",
      "Thanks for your participation\n",
      "Thanks for your participation\n",
      "Thanks for your participation\n",
      "Sample goal reached!\n"
     ]
    }
   ],
   "source": [
    "answers = 0\n",
    "sample_goal = 10\n",
    "\n",
    "\n",
    "while answers < sample_goal:\n",
    "    print('Thanks for your participation')\n",
    "    answers += 1\n",
    "    if answers == 10:\n",
    "        print('Sample goal reached!')"
   ]
  },
  {
   "cell_type": "code",
   "execution_count": 18,
   "metadata": {},
   "outputs": [
    {
     "name": "stdout",
     "output_type": "stream",
     "text": [
      "george\n",
      "malik\n"
     ]
    }
   ],
   "source": [
    "names = [\"george\", \"andrew\", \"malik\"]\n",
    "for x in names:\n",
    "    if x == \"andrew\":\n",
    "        continue  # Skip the rest of the loop for \"andrew\"\n",
    "    print(x)"
   ]
  },
  {
   "cell_type": "code",
   "execution_count": null,
   "metadata": {},
   "outputs": [],
   "source": [
    "#  article_price in products.values():\n",
    "#     if article_price <= 500:\n",
    "#         print(get_product_name(article_price),'Buy 1 Get 1 Free!')\n",
    "#     else: print(get_product_name(article_price),'Excluded from promotion')"
   ]
  },
  {
   "cell_type": "code",
   "execution_count": 19,
   "metadata": {},
   "outputs": [
    {
     "name": "stdout",
     "output_type": "stream",
     "text": [
      "red\n",
      "orange\n"
     ]
    }
   ],
   "source": [
    "colors = [\"red\", \"orange\", \"blue\"]\n",
    "for x in colors:\n",
    "  print(x)\n",
    "  if x == \"orange\":\n",
    "    break"
   ]
  },
  {
   "cell_type": "code",
   "execution_count": 21,
   "metadata": {},
   "outputs": [
    {
     "ename": "TypeError",
     "evalue": "first_name() takes 1 positional argument but 3 were given",
     "output_type": "error",
     "traceback": [
      "\u001b[1;31m---------------------------------------------------------------------------\u001b[0m",
      "\u001b[1;31mTypeError\u001b[0m                                 Traceback (most recent call last)",
      "Cell \u001b[1;32mIn[21], line 5\u001b[0m\n\u001b[0;32m      1\u001b[0m \u001b[38;5;28;01mdef\u001b[39;00m \u001b[38;5;21mfirst_name\u001b[39m(names):\n\u001b[0;32m      2\u001b[0m     \u001b[38;5;28mprint\u001b[39m(\u001b[38;5;124m\"\u001b[39m\u001b[38;5;124mThe first name is \u001b[39m\u001b[38;5;124m\"\u001b[39m \u001b[38;5;241m+\u001b[39m names[\u001b[38;5;241m0\u001b[39m])\n\u001b[1;32m----> 5\u001b[0m \u001b[43mfirst_name\u001b[49m\u001b[43m(\u001b[49m\u001b[38;5;124;43m\"\u001b[39;49m\u001b[38;5;124;43mSagar\u001b[39;49m\u001b[38;5;124;43m\"\u001b[39;49m\u001b[43m,\u001b[49m\u001b[43m \u001b[49m\u001b[38;5;124;43m\"\u001b[39;49m\u001b[38;5;124;43mIlyas\u001b[39;49m\u001b[38;5;124;43m\"\u001b[39;49m\u001b[43m,\u001b[49m\u001b[43m \u001b[49m\u001b[38;5;124;43m\"\u001b[39;49m\u001b[38;5;124;43mJacky\u001b[39;49m\u001b[38;5;124;43m\"\u001b[39;49m\u001b[43m)\u001b[49m\n",
      "\u001b[1;31mTypeError\u001b[0m: first_name() takes 1 positional argument but 3 were given"
     ]
    }
   ],
   "source": [
    "def first_name(*names):\n",
    "    print(\"The first name is \" + names[0])\n",
    "\n",
    "\n",
    "first_name(\"Sagar\", \"Ilyas\", \"Jacky\")"
   ]
  },
  {
   "cell_type": "code",
   "execution_count": 25,
   "metadata": {},
   "outputs": [
    {
     "name": "stdout",
     "output_type": "stream",
     "text": [
      "Variable a is equal to: 10\n",
      "Variable a is equal to: 9\n",
      "Variable a is equal to: 8\n",
      "Variable a is equal to: 7\n",
      "Variable a is equal to: 6\n",
      "Variable a is equal to: 5\n",
      "Variable a is equal to: 4\n",
      "Variable a is equal to: 3\n",
      "Variable a is equal to: 2\n",
      "Variable a is equal to: 1\n"
     ]
    }
   ],
   "source": [
    "a = 10  # Example initial value\n",
    "\n",
    "while a > 0:\n",
    "    print(\"Variable a is equal to:\", a)\n",
    "    a = a - 1\n",
    "    if a == 5:\n",
    "        continue  # Skip the rest of the loop when a is 5\n",
    "\n",
    "    # Additional code can be added here if needed"
   ]
  },
  {
   "cell_type": "code",
   "execution_count": 26,
   "metadata": {},
   "outputs": [
    {
     "name": "stdout",
     "output_type": "stream",
     "text": [
      "Recall for the positive class: 0.6666666666666666\n"
     ]
    }
   ],
   "source": [
    "from sklearn import metrics\n",
    "\n",
    "y_true = [0, 1, 0, 0, 1, 0, 1, 0, 0, 0]\n",
    "y_pred = [0, 0, 0, 1, 1, 0, 1, 0, 0, 1]\n",
    "\n",
    "positive_recall = metrics.recall_score(y_true, y_pred, pos_label=1)\n",
    "print(f\"Recall for the positive class: {positive_recall}\")"
   ]
  },
  {
   "cell_type": "code",
   "execution_count": 27,
   "metadata": {},
   "outputs": [
    {
     "name": "stdout",
     "output_type": "stream",
     "text": [
      "      name  test_score  age grade\n",
      "0    Alice          85   16     B\n",
      "1      Bob          72   17     C\n",
      "2  Charlie          92   15     A\n",
      "3    David          68   18     D\n",
      "4      Eve          78   16     C\n"
     ]
    }
   ],
   "source": [
    "import pandas as pd\n",
    "\n",
    "student_data = pd.DataFrame({\n",
    "    'name': ['Alice', 'Bob', 'Charlie', 'David', 'Eve'],\n",
    "    'test_score': [85, 72, 92, 68, 78],\n",
    "    'age': [16, 17, 15, 18, 16]\n",
    "})\n",
    "\n",
    "bins = [0, 60, 70, 80, 90, 100]\n",
    "# Adjusted to match the bin ranges correctly\n",
    "labels = ['F', 'D', 'C', 'B', 'A']\n",
    "student_data['grade'] = pd.cut(\n",
    "    student_data['test_score'], bins=bins, labels=labels, include_lowest=True)\n",
    "\n",
    "print(student_data)"
   ]
  }
 ],
 "metadata": {
  "kernelspec": {
   "display_name": "Python 3",
   "language": "python",
   "name": "python3"
  },
  "language_info": {
   "codemirror_mode": {
    "name": "ipython",
    "version": 3
   },
   "file_extension": ".py",
   "mimetype": "text/x-python",
   "name": "python",
   "nbconvert_exporter": "python",
   "pygments_lexer": "ipython3",
   "version": "3.11.2"
  }
 },
 "nbformat": 4,
 "nbformat_minor": 2
}
