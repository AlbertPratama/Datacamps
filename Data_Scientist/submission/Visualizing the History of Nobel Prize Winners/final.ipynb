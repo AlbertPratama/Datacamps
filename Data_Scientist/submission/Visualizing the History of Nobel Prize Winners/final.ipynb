{
 "cells": [
  {
   "cell_type": "code",
   "execution_count": 3,
   "metadata": {},
   "outputs": [
    {
     "name": "stdout",
     "output_type": "stream",
     "text": [
      "Male\n",
      "United States of America\n",
      "2000\n"
     ]
    },
    {
     "data": {
      "text/plain": [
       "('Marie Curie, née Sklodowska',\n",
       " 'Physics',\n",
       " ['Comité international de la Croix Rouge (International Committee of the Red Cross)',\n",
       "  'Linus Carl Pauling',\n",
       "  'John Bardeen',\n",
       "  'Frederick Sanger',\n",
       "  'Marie Curie, née Sklodowska',\n",
       "  'Office of the United Nations High Commissioner for Refugees (UNHCR)'])"
      ]
     },
     "execution_count": 3,
     "metadata": {},
     "output_type": "execute_result"
    }
   ],
   "source": [
    "# Loading in required libraries\n",
    "import pandas as pd\n",
    "import seaborn as sns\n",
    "import numpy as np\n",
    "\n",
    "# Start coding here!\n",
    "nobel = pd.read_csv('./data/nobel.csv')\n",
    "nobel.head()\n",
    "\n",
    "#1\n",
    "top_gender = nobel['sex'].value_counts().idxmax()\n",
    "top_country = nobel['birth_country'].value_counts().idxmax()\n",
    "print(top_gender)\n",
    "print(top_country)\n",
    "\n",
    "#2\n",
    "nobel['decade'] = (nobel['year']//10)*10\n",
    "\n",
    "us_born = nobel[nobel['birth_country'] == 'United States of America']\n",
    "us_born_decade = us_born['decade'].value_counts()\n",
    "total_us_deaced = nobel['decade'].value_counts()\n",
    "\n",
    "ratio = (us_born_decade/total_us_deaced).fillna(0)\n",
    "\n",
    "max_decade_usa = ratio.idxmax()\n",
    "print(max_decade_usa)\n",
    "\n",
    "#3\n",
    "female_counts = nobel[nobel['sex'] == 'Female'].groupby(['decade', 'category']).size()\n",
    "total_counts = nobel.groupby(['decade', 'category']).size()\n",
    "female_proportion = female_counts/total_counts\n",
    "\n",
    "max_proportion = female_proportion.idxmax()\n",
    "max_decade = max_proportion[0]\n",
    "max_category = max_proportion[1]\n",
    "\n",
    "max_female_dict = {max_decade:max_category}\n",
    "\n",
    "#4\n",
    "female_laureates =  nobel[nobel['sex'] == 'Female']\n",
    "first_woman = female_laureates.sort_values(by='year').iloc[0]\n",
    "first_woman_name = first_woman['full_name']\n",
    "first_woman_category = first_woman['category']\n",
    "\n",
    "prize_counts = nobel.groupby('full_name').size()\n",
    "\n",
    "repeat_list = prize_counts[prize_counts > 1].index.tolist()\n",
    "\n",
    "#5\n",
    "prize_counts = nobel['full_name'].value_counts()\n",
    "\n",
    "repeat_winners = prize_counts[prize_counts > 1].index.tolist()\n",
    "\n",
    "repeat_list = repeat_winners\n",
    "\n",
    "# Display results\n",
    "first_woman_name, first_woman_category, repeat_list"
   ]
  },
  {
   "cell_type": "code",
   "execution_count": 2,
   "metadata": {},
   "outputs": [
    {
     "data": {
      "text/plain": [
       "2000"
      ]
     },
     "execution_count": 2,
     "metadata": {},
     "output_type": "execute_result"
    }
   ],
   "source": [
    "# Loading in required libraries\n",
    "import pandas as pd\n",
    "import seaborn as sns\n",
    "import numpy as np\n",
    "\n",
    "# Start coding here!\n",
    "df = pd.read_csv('./data/nobel.csv')\n",
    "df.head()\n",
    "\n",
    "df['decade'] = (df['year'] // 10) * 10\n",
    "\n",
    "# Filter US-born laureates\n",
    "us_born = df[df['birth_country'] == 'United States of America']\n",
    "\n",
    "# Calculate number of US-born laureates per decade\n",
    "us_born_per_decade = us_born['decade'].value_counts()\n",
    "\n",
    "# Calculate total number of laureates per decade\n",
    "total_per_decade = df['decade'].value_counts()\n",
    "\n",
    "# Calculate ratio\n",
    "ratio_per_decade = (us_born_per_decade / total_per_decade).fillna(0)\n",
    "\n",
    "# Find decade with highest ratio\n",
    "max_decade_usa = ratio_per_decade.idxmax()\n",
    "\n",
    "max_decade_usa"
   ]
  }
 ],
 "metadata": {
  "kernelspec": {
   "display_name": "Python 3",
   "language": "python",
   "name": "python3"
  },
  "language_info": {
   "codemirror_mode": {
    "name": "ipython",
    "version": 3
   },
   "file_extension": ".py",
   "mimetype": "text/x-python",
   "name": "python",
   "nbconvert_exporter": "python",
   "pygments_lexer": "ipython3",
   "version": "3.11.2"
  }
 },
 "nbformat": 4,
 "nbformat_minor": 2
}
