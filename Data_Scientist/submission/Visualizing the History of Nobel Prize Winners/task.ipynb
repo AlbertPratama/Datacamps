{
 "cells": [
  {
   "cell_type": "markdown",
   "metadata": {},
   "source": [
    "Analyze Nobel Prize winner data and identify patterns by answering the following questions:\n",
    "\n",
    "- What is the most commonly awarded gender and birth country?\n",
    "  - Store your answers as string variables __top_gender__ and __top_country__.\n",
    "\n",
    "- Which decade had the highest ratio of US-born Nobel Prize winners to total winners in all categories?\n",
    "  - Store this as an integer called __max_decade_usa__.\n",
    "\n",
    "- Which decade and Nobel Prize category combination had the highest proportion of female laureates?\n",
    "  - Store this as a dictionary called __max_female_dict__ where the decade is the key and the category is the value. There should only be one key:value pair.\n",
    "\n",
    "- Who was the first woman to receive a Nobel Prize, and in what category?\n",
    "  - Save your string answers as __first_woman_name__ and __first_woman_category__.\n",
    "\n",
    "- Which individuals or organizations have won more than one Nobel Prize throughout the years?\n",
    "  - Store the full names in a list named __repeat_list__."
   ]
  }
 ],
 "metadata": {
  "language_info": {
   "name": "python"
  }
 },
 "nbformat": 4,
 "nbformat_minor": 2
}
