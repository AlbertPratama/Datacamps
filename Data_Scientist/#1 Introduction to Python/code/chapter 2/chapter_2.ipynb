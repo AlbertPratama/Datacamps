{
 "cells": [
  {
   "cell_type": "markdown",
   "metadata": {},
   "source": [
    "#### `Create a list`\n",
    "- As opposed to __int__, __bool__ etc., a list is a compound data type; you can group values together:\n",
    "- a = \"is\"\n",
    "- b = \"nice\"\n",
    "- my_list = [\"my\", \"list\", a, b]\n",
    "- After measuring the height of your family, you decide to collect some information on the house you're living in. The areas of the different parts of your house are stored in separate variables for now, as shown in the script."
   ]
  },
  {
   "cell_type": "markdown",
   "metadata": {},
   "source": [
    "#### Quest 1 CH-2\n",
    "- Create a list, __areas__, that contains the area of the hallway (__hall__), kitchen (__kit__), living room (__liv__), bedroom (__bed__) and bathroom (__bath__), in this order. Use the predefined variables.\n",
    "- Print areas with the __print()__ function."
   ]
  },
  {
   "cell_type": "code",
   "execution_count": 1,
   "metadata": {},
   "outputs": [
    {
     "name": "stdout",
     "output_type": "stream",
     "text": [
      "[11.25, 18.0, 20.0, 10.75, 9.5]\n"
     ]
    }
   ],
   "source": [
    "# area variables (in square meters)\n",
    "hall = 11.25\n",
    "kit = 18.0\n",
    "liv = 20.0\n",
    "bed = 10.75\n",
    "bath = 9.50\n",
    "\n",
    "# Create list areas\n",
    "areas = [hall, kit, liv, bed, bath]\n",
    "\n",
    "# Print areas\n",
    "print(areas)"
   ]
  },
  {
   "cell_type": "markdown",
   "metadata": {},
   "source": [
    "#### `Create list with different types`\n",
    "A list can contain any Python type. Although it's not really common, a list can also contain a mix of Python types including strings, floats, booleans, etc.\n",
    "\n",
    "The printout of the previous exercise wasn't really satisfying. It's just a list of numbers representing the areas, but you can't tell which area corresponds to which part of your house.\n",
    "\n",
    "The code in the editor is the start of a solution. For some of the areas, the name of the corresponding room is already placed in front. Pay attention here! \"__bathroom__\" is a string, while __bath__ is a variable that represents the float __9.50__ you specified earlier."
   ]
  },
  {
   "cell_type": "markdown",
   "metadata": {},
   "source": [
    "Quest 2 CH-2\n",
    "- Finish the code that creates the __areas__ list. Build the list so that the list first contains the name of each room as a string and then its area. In other words, add the strings \"__hallway__\", \"__kitchen__\" and \"__bedroom__\" at the appropriate locations.\n",
    "- Print __areas__ again; is the printout more informative this time?"
   ]
  },
  {
   "cell_type": "code",
   "execution_count": 2,
   "metadata": {},
   "outputs": [
    {
     "name": "stdout",
     "output_type": "stream",
     "text": [
      "['hallway', 11.25, 'kitchen', 18.0, 'living room', 20.0, 'bedroom', 10.75, 'bathroom', 9.5]\n"
     ]
    }
   ],
   "source": [
    "# area variables (in square meters)\n",
    "hall = 11.25\n",
    "kit = 18.0\n",
    "liv = 20.0\n",
    "bed = 10.75\n",
    "bath = 9.50\n",
    "\n",
    "# Adapt list areas\n",
    "areas = [\"hallway\", hall, \"kitchen\", kit, \"living room\", liv, \"bedroom\", bed, \"bathroom\", bath]\n",
    "\n",
    "# Print areas\n",
    "print(areas)"
   ]
  },
  {
   "cell_type": "markdown",
   "metadata": {},
   "source": [
    "#### `Select the valid list`\n",
    "A list can contain any Python type. But a list itself is also a Python type. That means that a list can also contain a list! Python is getting funkier by the minute, but fear not, just remember the list syntax:\n",
    "\n",
    "- my_list = [el1, el2, el3]\n",
    "- Can you tell which ones of the following lines of Python code are valid ways to build a list?\n",
    "\n",
    "- A. [1, 3, 4, 2] \n",
    "- B. [[1, 2, 3], [4, 5, 7]] \n",
    "- C. [1 + 2, \"a\" * 5, 3]"
   ]
  },
  {
   "cell_type": "markdown",
   "metadata": {},
   "source": [
    "#### Quest 3 CH-2\n",
    "Possible answers\n",
    "- `A, B and C`\n",
    "- B\n",
    "- B and C\n",
    "- C"
   ]
  },
  {
   "cell_type": "markdown",
   "metadata": {},
   "source": [
    "#### `List of lists`\n",
    "As a data scientist, you'll often be dealing with a lot of data, and it will make sense to group some of this data.\n",
    "\n",
    "Instead of creating a flat list containing strings and floats, representing the names and areas of the rooms in your house, you can create a list of lists. The script in the editor can already give you an idea.\n",
    "\n",
    "Don't get confused here: \"__hallway__\" is a string, while __hall__ is a variable that represents the float __11.25__ you specified earlier."
   ]
  },
  {
   "cell_type": "markdown",
   "metadata": {},
   "source": [
    "#### Quest 4 CH-2\n",
    "- Finish the list of lists so that it also contains the bedroom and bathroom data. Make sure you enter these in order!\n",
    "- Print out __house__; does this way of structuring your data make more sense?\n",
    "- Print out the __type__ of __house__. Are you still dealing with a list?"
   ]
  },
  {
   "cell_type": "code",
   "execution_count": 3,
   "metadata": {},
   "outputs": [
    {
     "name": "stdout",
     "output_type": "stream",
     "text": [
      "[['hallway', 11.25], ['kitchen', 18.0], ['living room', 20.0], ['bedroom', 10.75], ['bathroom', 9.5]]\n",
      "<class 'list'>\n"
     ]
    }
   ],
   "source": [
    "# area variables (in square meters)\n",
    "hall = 11.25\n",
    "kit = 18.0\n",
    "liv = 20.0\n",
    "bed = 10.75\n",
    "bath = 9.50\n",
    "\n",
    "# house information as list of lists\n",
    "house = [[\"hallway\", hall],\n",
    "        [\"kitchen\", kit],\n",
    "        [\"living room\", liv],\n",
    "        [\"bedroom\", bed],\n",
    "        [\"bathroom\", bath]\n",
    "        ]\n",
    "\n",
    "# Print out house\n",
    "print(house)\n",
    "\n",
    "# Print out the type of house\n",
    "print(type(house))"
   ]
  },
  {
   "cell_type": "markdown",
   "metadata": {},
   "source": [
    "#### `Subset and conquer`\n",
    "Subsetting Python lists is a piece of cake. Take the code sample below, which creates a list __x__ and then selects \"b\" from it. Remember that this is the second element, so it has index 1. You can also use negative indexing.\n",
    "\n",
    "- x = [\"a\", \"b\", \"c\", \"d\"]\n",
    "- x[1]\n",
    "- x[-3] # same result!\n",
    "\n",
    "Remember the __areas__ list from before, containing both strings and floats? Its definition is already in the script. Can you add the correct code to do some Python subsetting?"
   ]
  },
  {
   "cell_type": "markdown",
   "metadata": {},
   "source": [
    "#### Quest 5 CH-2\n",
    "- Print out the second element from the __areas__ list (it has the value __11.25__).\n",
    "- Subset and print out the last element of __areas__, being __9.50__. Using a negative index makes sense here!\n",
    "- Select the number representing the area of the living room (__20.0__) and print it out."
   ]
  },
  {
   "cell_type": "code",
   "execution_count": 4,
   "metadata": {},
   "outputs": [
    {
     "name": "stdout",
     "output_type": "stream",
     "text": [
      "11.25\n",
      "9.5\n",
      "20.0\n"
     ]
    }
   ],
   "source": [
    "# Create the areas list\n",
    "areas = [\"hallway\", 11.25, \"kitchen\", 18.0, \"living room\", 20.0, \"bedroom\", 10.75, \"bathroom\", 9.50]\n",
    "\n",
    "# Print out second element from areas\n",
    "print(areas[1])\n",
    "\n",
    "# Print out last element from areas\n",
    "print(areas[-1])\n",
    "\n",
    "# Print out the area of the living room\n",
    "print(areas[5])"
   ]
  },
  {
   "cell_type": "markdown",
   "metadata": {},
   "source": [
    "#### `Subset and calculate`\n",
    "- After you've extracted values from a list, you can use them to perform additional calculations. Take this example, where the second and fourth element of a list __x__ are extracted. The strings that result are pasted together using the __+__ operator:\n",
    "\n",
    "- x = [\"a\", \"b\", \"c\", \"d\"]\n",
    "- print(x[1] + x[3])"
   ]
  },
  {
   "cell_type": "markdown",
   "metadata": {},
   "source": [
    "#### Quest 6 CH-2\n",
    "- Using a combination of list subsetting and variable assignment, create a new variable, __eat_sleep_area__, that contains the sum of the area of the __kitchen__ and the area of the __bedroom__.\n",
    "- Print the new variable __eat_sleep_area__."
   ]
  },
  {
   "cell_type": "code",
   "execution_count": 5,
   "metadata": {},
   "outputs": [
    {
     "name": "stdout",
     "output_type": "stream",
     "text": [
      "28.75\n"
     ]
    }
   ],
   "source": [
    "# Create the areas list\n",
    "areas = [\"hallway\", 11.25, \"kitchen\", 18.0, \"living room\", 20.0, \"bedroom\", 10.75, \"bathroom\", 9.50]\n",
    "\n",
    "# Sum of kitchen and bedroom area: eat_sleep_area\n",
    "eat_sleep_area = areas[3]+areas[7]\n",
    "\n",
    "# Print the variable eat_sleep_area\n",
    "print(eat_sleep_area)"
   ]
  },
  {
   "cell_type": "markdown",
   "metadata": {},
   "source": [
    "#### `Slicing and dicing`\n",
    "Selecting single values from a list is just one part of the story. It's also possible to slice your list, which means selecting multiple elements from your list. Use the following syntax:\n",
    "\n",
    "my_list[start:end]\n",
    "The __start__ index will be included, while the __end__ index is not.\n",
    "\n",
    "The code sample below shows an example. A list with __\"b\"__ and __\"c\"__, corresponding to indexes 1 and 2, are selected from a list __x__:\n",
    "\n",
    "- x = [\"a\", \"b\", \"c\", \"d\"]\n",
    "- x[1:3]\n",
    "\n",
    "The elements with index 1 and 2 are included, while the element with index 3 is not."
   ]
  },
  {
   "cell_type": "markdown",
   "metadata": {},
   "source": [
    "#### Quest 7 CH-2\n",
    "- Use slicing to create a list, __downstairs__, that contains the first 6 elements of __areas__.\n",
    "- Do a similar thing to create a new variable, __upstairs__, that contains the last 4 elements of __areas__.\n",
    "- Print both __downstairs__ and __upstairs__ using print()."
   ]
  },
  {
   "cell_type": "code",
   "execution_count": 1,
   "metadata": {},
   "outputs": [
    {
     "name": "stdout",
     "output_type": "stream",
     "text": [
      "['hallway', 11.25, 'kitchen', 18.0, 'living room', 20.0]\n",
      "['bedroom', 10.75, 'bathroom', 9.5]\n"
     ]
    }
   ],
   "source": [
    "# Create the areas list\n",
    "areas = [\"hallway\", 11.25, \"kitchen\", 18.0, \"living room\", 20.0, \"bedroom\", 10.75, \"bathroom\", 9.50]\n",
    "\n",
    "# Use slicing to create downstairs\n",
    "downstairs = areas[0:6]\n",
    "\n",
    "# Use slicing to create upstairs\n",
    "upstairs = areas[6:10]\n",
    "\n",
    "# Print out downstairs and upstairs\n",
    "print(downstairs)\n",
    "print(upstairs)"
   ]
  },
  {
   "cell_type": "markdown",
   "metadata": {},
   "source": [
    "#### `Slicing and dicing (2)`\n",
    "In the video, Hugo first discussed the syntax where you specify both where to begin and end the slice of your list:\n",
    "\n",
    "- my_list[begin:end]\n",
    "However, it's also possible not to specify these indexes. If you don't specify the __begin__ index, Python figures out that you want to start your slice at the beginning of your list. If you don't specify the __end__ index, the slice will go all the way to the last element of your list. To experiment with this, try the following commands in the IPython Shell:\n",
    "\n",
    "- x = [\"a\", \"b\", \"c\", \"d\"]\n",
    "- x[:2]\n",
    "- x[2:]\n",
    "- x[:]"
   ]
  },
  {
   "cell_type": "markdown",
   "metadata": {},
   "source": [
    "#### Quest 8 CH-2\n",
    "- Create __downstairs__ again, as the first __6__ elements of __areas__. This time, simplify the slicing by omitting the __begin__ index.\n",
    "- Create __upstairs__ again, as the last __4__ elements of __areas__. This time, simplify the slicing by omitting the __end__ index."
   ]
  },
  {
   "cell_type": "code",
   "execution_count": null,
   "metadata": {},
   "outputs": [],
   "source": [
    "# Create the areas list\n",
    "areas = [\"hallway\", 11.25, \"kitchen\", 18.0, \"living room\", 20.0, \"bedroom\", 10.75, \"bathroom\", 9.50]\n",
    "\n",
    "# Alternative slicing to create downstairs\n",
    "downstairs = areas[0:6]\n",
    "print(downstairs)\n",
    "\n",
    "# Alternative slicing to create upstairs\n",
    "upstairs = areas[6:]\n",
    "print(upstairs)"
   ]
  },
  {
   "cell_type": "markdown",
   "metadata": {},
   "source": [
    "#### `Subsetting lists of lists`\n",
    "You saw before that a Python list can contain practically anything; even other lists! To subset lists of lists, you can use the same technique as before: square brackets. Try out the commands in the following code sample in the IPython Shell:\n",
    "\n",
    "- x = [[\"a\", \"b\", \"c\"],\n",
    "     [\"d\", \"e\", \"f\"],\n",
    "     [\"g\", \"h\", \"i\"]]\n",
    "- x[2][0]\n",
    "- x[2][:2]\n",
    "\n",
    "__x[2]__ results in a list, that you can subset again by adding additional square brackets.\n",
    "\n",
    "What will house __[-1][1]__ return? __house__, the list of lists that you created before, is already defined for you in the workspace. You can experiment with it in the IPython Shell."
   ]
  },
  {
   "cell_type": "code",
   "execution_count": 5,
   "metadata": {},
   "outputs": [
    {
     "data": {
      "text/plain": [
       "9.5"
      ]
     },
     "execution_count": 5,
     "metadata": {},
     "output_type": "execute_result"
    }
   ],
   "source": [
    "house = [['hallway', 11.25], ['kitchen', 18.0], ['living room', 20.0], ['bedroom', 10.75], ['bathroom', 9.5]]\n",
    "house[-1][1]"
   ]
  },
  {
   "cell_type": "markdown",
   "metadata": {},
   "source": [
    "Possible answers\n",
    "\n",
    "\n",
    "- A float: the kitchen area\n",
    "- A string: \"kitchen\"\n",
    "- `A float: the bathroom area`\n",
    "- A string: \"bathroom\""
   ]
  },
  {
   "cell_type": "markdown",
   "metadata": {},
   "source": [
    "#### `Replace list elements`\n",
    "Replacing list elements is pretty easy. Simply subset the list and assign new values to the subset. You can select single elements or you can change entire list slices at once.\n",
    "\n",
    "Use the IPython Shell to experiment with the commands below. Can you tell what's happening and why?\n",
    "\n",
    "- x = [\"a\", \"b\", \"c\", \"d\"]\n",
    "- x[1] = \"r\"\n",
    "- x[2:] = [\"s\", \"t\"]\n",
    "\n",
    "For this and the following exercises, you'll continue working on the areas list that contains the names and __areas__ of different rooms in a house."
   ]
  },
  {
   "cell_type": "markdown",
   "metadata": {},
   "source": [
    "- Update the area of the bathroom area to be 10.50 square meters instead of 9.50.\n",
    "- Make the __areas__ list more trendy! Change __\"living room\"__ to \"chill zone\"."
   ]
  },
  {
   "cell_type": "code",
   "execution_count": 6,
   "metadata": {},
   "outputs": [
    {
     "data": {
      "text/plain": [
       "['hallway',\n",
       " 11.25,\n",
       " 'kitchen',\n",
       " 18.0,\n",
       " 'chill zone',\n",
       " 20.0,\n",
       " 'bedroom',\n",
       " 10.75,\n",
       " 'bathroom',\n",
       " 10.5]"
      ]
     },
     "execution_count": 6,
     "metadata": {},
     "output_type": "execute_result"
    }
   ],
   "source": [
    "# Create the areas list\n",
    "areas = [\"hallway\", 11.25, \"kitchen\", 18.0, \"living room\", 20.0, \"bedroom\", 10.75, \"bathroom\", 9.50]\n",
    "\n",
    "# Correct the bathroom area\n",
    "areas[-1] = 10.50\n",
    "\n",
    "# Change \"living room\" to \"chill zone\"\n",
    "areas[4] = 'chill zone'\n",
    "\n",
    "areas"
   ]
  },
  {
   "cell_type": "markdown",
   "metadata": {},
   "source": [
    "Extend a list\n",
    "If you can change elements in a list, you sure want to be able to add elements to it, right? You can use the __+__ operator:\n",
    "\n",
    "- x = [\"a\", \"b\", \"c\", \"d\"]\n",
    "- y = x + [\"e\", \"f\"]\n",
    "\n",
    "\n",
    "You just won the lottery, awesome! You decide to build a poolhouse and a garage. Can you add the information to the __areas__ list?"
   ]
  },
  {
   "cell_type": "markdown",
   "metadata": {},
   "source": [
    "- Use the __+__ operator to paste the list __[\"poolhouse\", 24.5]__ to the end of the __areas__ list. Store the resulting list as __areas_1__.\n",
    "- Further extend __areas_1__ by adding data on your garage. Add the string __\"garage\"__ and float __15.45__. Name the resulting list __areas_2__."
   ]
  },
  {
   "cell_type": "code",
   "execution_count": 16,
   "metadata": {},
   "outputs": [],
   "source": [
    "# Create the areas list and make some changes\n",
    "areas = [\"hallway\", 11.25, \"kitchen\", 18.0, \"chill zone\", 20.0,\n",
    "        \"bedroom\", 10.75, \"bathroom\", 10.50]\n",
    "\n",
    "# Add poolhouse data to areas, new list is areas_1\n",
    "areas_1 = areas + [\"poolhouse\", 24.5]\n",
    "\n",
    "# Add garage data to areas_1, new list is areas_2\n",
    "areas_2 = areas_1 + [\"garage\", 15.45]"
   ]
  },
  {
   "cell_type": "code",
   "execution_count": 15,
   "metadata": {},
   "outputs": [
    {
     "name": "stdout",
     "output_type": "stream",
     "text": [
      "hallway    11.25\n",
      "kitchen    18.0\n",
      "chill zone 20.0\n",
      "bedroom    10.75\n",
      "bathroom   10.5\n"
     ]
    }
   ],
   "source": [
    "for i in range(0, len(areas), 2):\n",
    "  print(f'{areas[i]:<10} {areas[i+1]}')"
   ]
  },
  {
   "cell_type": "markdown",
   "metadata": {},
   "source": [
    "#### `Delete list elements`\n",
    "Finally, you can also remove elements from your list. You can do this with the del statement:\n",
    "- __x = [\"a\", \"b\", \"c\", \"d\"]__\n",
    "- __del(x[1__])\n",
    "Pay attention here: as soon as you remove an element from a list, the indexes of the elements that come after the deleted element all change!\n",
    "\n",
    "The updated and extended version of areas that you've built in the previous exercises is coded below. You can copy and paste this into the IPython Shell to play around with the result.\n",
    "\n",
    "- __areas = [\"hallway\", 11.25, \"kitchen\", 18.0,\n",
    "        \"chill zone\", 20.0, \"bedroom\", 10.75,\n",
    "         \"bathroom\", 10.50, \"poolhouse\", 24.5,\n",
    "         \"garage\", 15.45]__\n",
    "\n",
    "         \n",
    "There was a mistake! The amount you won with the lottery is not that big after all and it looks like the poolhouse isn't going to happen. You decide to remove the corresponding string and float from the areas list.\n",
    "\n",
    "The ; sign is used to place commands on the same line. The following two code chunks are equivalent:\n",
    "\n",
    "- __#Same line__\n",
    "- __command1; command2__\n",
    "\n",
    "- __#Separate lines__\n",
    "- __command1__\n",
    "- __command2__\n",
    "Which of the code chunks will do the job for us?"
   ]
  },
  {
   "cell_type": "markdown",
   "metadata": {},
   "source": [
    "#### Possible answers\n",
    "\n",
    "- del(areas[10]); del(areas[11])\n",
    "- del(areas[10:11])\n",
    "- __`del(areas[-4:-2])`__\n",
    "- del(areas[-3]); del(areas[-4])"
   ]
  },
  {
   "cell_type": "markdown",
   "metadata": {},
   "source": [
    "#### `Inner workings of lists`\n",
    "At the end of the video, Hugo explained how Python lists work behind the scenes. In this exercise you'll get some hands-on experience with this.\n",
    "\n",
    "The Python code in the script already creates a list with the name __areas__ and a copy named __areas_copy__. Next, the first element in the __areas_copy__ list is changed and the __areas__ list is printed out. If you hit Run Code you'll see that, although you've changed __areas_copy__, the change also takes effect in the __areas__ list. That's because __areas__ and __areas_copy__ point to the same list.\n",
    "\n",
    "If you want to prevent changes in __areas_copy__ from also taking effect in __areas__, you'll have to do a more explicit copy of the __areas__ list. You can do this with ___list()___ or by using __[:]__."
   ]
  },
  {
   "cell_type": "markdown",
   "metadata": {},
   "source": [
    "- Change the second command, that creates the variable __areas_copy__, such that __areas_copy__ is an explicit copy of __areas__. After your edit, changes made to __areas_copy__ shouldn't affect __areas__. Submit the answer to check this."
   ]
  },
  {
   "cell_type": "code",
   "execution_count": 17,
   "metadata": {},
   "outputs": [
    {
     "name": "stdout",
     "output_type": "stream",
     "text": [
      "[11.25, 18.0, 20.0, 10.75, 9.5]\n"
     ]
    }
   ],
   "source": [
    "# Create list areas\n",
    "areas = [11.25, 18.0, 20.0, 10.75, 9.50]\n",
    "\n",
    "# Create areas_copy\n",
    "areas_copy = list(areas)\n",
    "\n",
    "# Change areas_copy\n",
    "areas_copy[0] = 5.0\n",
    "\n",
    "# Print areas\n",
    "print(areas)"
   ]
  }
 ],
 "metadata": {
  "kernelspec": {
   "display_name": "Python 3",
   "language": "python",
   "name": "python3"
  },
  "language_info": {
   "codemirror_mode": {
    "name": "ipython",
    "version": 3
   },
   "file_extension": ".py",
   "mimetype": "text/x-python",
   "name": "python",
   "nbconvert_exporter": "python",
   "pygments_lexer": "ipython3",
   "version": "3.11.2"
  }
 },
 "nbformat": 4,
 "nbformat_minor": 2
}
