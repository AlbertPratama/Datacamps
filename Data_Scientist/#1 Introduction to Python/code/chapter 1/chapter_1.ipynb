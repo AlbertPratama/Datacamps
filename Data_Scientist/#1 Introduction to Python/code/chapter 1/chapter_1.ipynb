{
 "cells": [
  {
   "cell_type": "markdown",
   "metadata": {},
   "source": [
    "#### `Variable Assignment`\n",
    "- In Python, a variable allows you to refer to a value with a name. To create a variable __x__ with a value of __5__, you use __=__, like this example:\n",
    "- __x = 5__\n",
    "- You can now use the name of this variable, __x__, instead of the actual value, __5__.\n",
    "- Remember, __=__ in Python means assignment, it doesn't test equality!"
   ]
  },
  {
   "cell_type": "markdown",
   "metadata": {},
   "source": [
    "#### Quest 1 CH-1\n",
    "- Create a variable __savings__ with the value of __100__.\n",
    "- Check out this variable by typing __print(savings)__ in the script."
   ]
  },
  {
   "cell_type": "code",
   "execution_count": 8,
   "metadata": {},
   "outputs": [
    {
     "name": "stdout",
     "output_type": "stream",
     "text": [
      "100\n"
     ]
    }
   ],
   "source": [
    "# Create a variable savings\n",
    "savings = 100\n",
    "\n",
    "# Print out savings\n",
    "print(savings)"
   ]
  },
  {
   "cell_type": "markdown",
   "metadata": {},
   "source": [
    "#### `Calculations with variables`\n",
    "- You've now created a savings variable, so let's start saving!\n",
    "- Instead of calculating with the actual values, you can use variables instead. The __savings__ variable you created in the previous exercise with a value of __100__ is available to you.\n",
    "- How much money would you have saved four months from now, if you saved $10 each month?"
   ]
  },
  {
   "cell_type": "markdown",
   "metadata": {},
   "source": [
    "#### Quest 2 CH-1\n",
    "- Create a variable __monthly_savings__, equal to __10__ and __num_months__, equal to __4__.\n",
    "- Multiply __monthly_savings__ by __num_months__ and save it to __new_savings__.\n",
    "- Add __new_savings__ to __savings__, saving the sum as __total_savings__.\n",
    "- Print the value of __total_savings__."
   ]
  },
  {
   "cell_type": "code",
   "execution_count": 9,
   "metadata": {},
   "outputs": [
    {
     "name": "stdout",
     "output_type": "stream",
     "text": [
      "140\n"
     ]
    }
   ],
   "source": [
    "# Create the variables monthly_savings and num_months\n",
    "monthly_saving = 10\n",
    "num_months = 4\n",
    "\n",
    "\n",
    "# Multiply monthly_savings and num_months\n",
    "new_savings = monthly_saving*num_months\n",
    "\n",
    "# Add new_savings to your savings\n",
    "total_savings = new_savings + savings\n",
    "\n",
    "# Print total_savings\n",
    "print(total_savings)\n"
   ]
  },
  {
   "cell_type": "markdown",
   "metadata": {},
   "source": [
    "#### `Other variable types`\n",
    "In the previous exercise, you worked with the integer Python data type:\n",
    "- __int__, or integer: a number without a fractional part. __savings__, with the value __100__, is an example of an integer.\n",
    "Next to numerical data types, there are three other very common data types:\n",
    "\n",
    "- __float__, or floating point: a number that has both an integer and fractional part, separated by a point. __1.1__, is an example of a float.\n",
    "- __str__, or string: a type to represent text. You can use single or double quotes to build a string.\n",
    "- __bool__, or boolean: a type to represent logical values. It can only be __True or False__ (the capitalization is important!)."
   ]
  },
  {
   "cell_type": "markdown",
   "metadata": {},
   "source": [
    "#### Quest 3 CH-1\n",
    "1. Create a new float, __half__, with the value __0.5__.\n",
    "2. Create a new string, __intro__, with the value __\"Hello! How are you?\"__.\n",
    "3. Create a new boolean, __is_good__, with the value __True__."
   ]
  },
  {
   "cell_type": "code",
   "execution_count": 10,
   "metadata": {},
   "outputs": [],
   "source": [
    "# Create a variable half\n",
    "half = 0.5\n",
    "\n",
    "# Create a variable intro\n",
    "intro = \"Hello! How are you?\"\n",
    "\n",
    "# Create a variable is_good\n",
    "is_good = True"
   ]
  },
  {
   "cell_type": "markdown",
   "metadata": {},
   "source": [
    "#### `Guess the type`\n",
    "- To find out the type of a value or a variable that refers to that value, you can use the __type()__ function. Suppose you've defined __a__ variable __a__, but you forgot the type of this variable. To determine the type of a, simply execute:\n",
    "- __type(a)__\n",
    "- We already went ahead and created three variables: __a__, __b__ and __c__. You can use the IPython shell to discover their type. Which of the following options is correct?"
   ]
  },
  {
   "cell_type": "code",
   "execution_count": 11,
   "metadata": {},
   "outputs": [],
   "source": [
    "a = 0.5\n",
    "b = 'hello'\n",
    "c = False"
   ]
  },
  {
   "cell_type": "markdown",
   "metadata": {},
   "source": [
    "#### Quest 4 CH-1\n",
    "#### Possible answers\n",
    "- a is of type int, b is of type str, c is of type bool\n",
    "\n",
    "- a is of type float, b is of type bool, c is of type str\n",
    "\n",
    "- a is of type float, b is of type str, c is of type bool\n",
    "\n",
    "- a is of type int, b is of type bool, c is of type str"
   ]
  },
  {
   "cell_type": "code",
   "execution_count": 14,
   "metadata": {},
   "outputs": [
    {
     "name": "stdout",
     "output_type": "stream",
     "text": [
      "<class 'float'>\n",
      "<class 'str'>\n",
      "<class 'bool'>\n"
     ]
    }
   ],
   "source": [
    "print(type(a))\n",
    "print(type(b))\n",
    "print(type(c))"
   ]
  },
  {
   "cell_type": "markdown",
   "metadata": {},
   "source": [
    "#### `Operations with other types`\n",
    "- Hugo mentioned that different types behave differently in Python.\n",
    "\n",
    "- When you sum two strings, for example, you'll get different behavior than when you sum two integers or two booleans.\n",
    "\n",
    "- In the script some variables with different types have already been created. It's up to you to use them."
   ]
  },
  {
   "cell_type": "markdown",
   "metadata": {},
   "source": [
    "#### Quest 5 CH-1\n",
    "- Calculate the product of __monthly_savings__ and __num_months__. Store the result in __year_savings__.\n",
    "- What do you think the resulting type will be? Find out by printing out the type of __year_savings__.\n",
    "- Calculate the sum of __intro__ and __intro__ and store the result in a new variable __doubleintro__.\n",
    "- Print out __doubleintro__. Did you expect this?"
   ]
  },
  {
   "cell_type": "code",
   "execution_count": 15,
   "metadata": {},
   "outputs": [
    {
     "name": "stdout",
     "output_type": "stream",
     "text": [
      "<class 'int'>\n",
      "Hello! How are you?Hello! How are you?\n"
     ]
    }
   ],
   "source": [
    "monthly_savings = 10\n",
    "num_months = 12\n",
    "intro = \"Hello! How are you?\"\n",
    "\n",
    "# Calculate year_savings using monthly_savings and num_months\n",
    "year_savings = monthly_savings * num_months\n",
    "\n",
    "# Print the type of year_savings\n",
    "print(type(year_savings))\n",
    "\n",
    "# Assign sum of intro and intro to doubleintro\n",
    "doubleintro = intro+intro\n",
    "\n",
    "# Print out doubleintro\n",
    "print(doubleintro)\n"
   ]
  },
  {
   "cell_type": "markdown",
   "metadata": {},
   "source": [
    "#### `Type conversion`\n",
    "- Using the __+__ operator to paste together two strings can be very useful in building custom messages.\n",
    "\n",
    "- Suppose, for example, that you've calculated your savings want to summarize the results in a string.\n",
    "\n",
    "- To do this, you'll need to explicitly convert the types of your variables. More specifically, you'll need __str()__, to convert a value into a string. __str(savings)__, for example, will convert the integer __savings__ to a string.\n",
    "\n",
    "- Similar functions such as __int()__, __float()__ and __bool()__ will help you convert Python values into any type."
   ]
  },
  {
   "cell_type": "markdown",
   "metadata": {},
   "source": [
    "#### Quest 6 CH-1\n",
    "- Hit Run Code to _run the code_. Try to understand the error message.\n",
    "- Fix the code such that the printout runs without errors; use the function __str()__ to convert the variables savings and __total_savings__ to strings.\n",
    "- Convert the variable __pi_string__ to a float and store this float as a new variable, __pi_float__."
   ]
  },
  {
   "cell_type": "code",
   "execution_count": 1,
   "metadata": {},
   "outputs": [
    {
     "name": "stdout",
     "output_type": "stream",
     "text": [
      "I started with $100 and now have $150. Awesome!\n"
     ]
    }
   ],
   "source": [
    "# Definition of savings and total_savings\n",
    "savings = 100\n",
    "total_savings = 150\n",
    "\n",
    "# Fix the printout\n",
    "print(\"I started with $\" + str(savings) + \" and now have $\" + str(total_savings) + \". Awesome!\")\n",
    "\n",
    "# Definition of pi_string\n",
    "pi_string = \"3.1415926\"\n",
    "\n",
    "# Convert pi_string into float: pi_float\n",
    "pi_float = float(pi_string)\n"
   ]
  },
  {
   "cell_type": "markdown",
   "metadata": {},
   "source": [
    "#### `Can Python handle everything?`\n",
    "Now that you know something more about combining different sources of information, have a look at the four Python expressions below. Which one of these will throw an error? You can always copy and paste this code in the IPython Shell to find out!"
   ]
  },
  {
   "cell_type": "markdown",
   "metadata": {},
   "source": [
    "#### Quest 7 CH-1\n",
    "- \"I can add integers, like \" + str(5) + \" to strings.\"\n",
    "- \"I said \" + (\"Hey \" * 2) + \"Hey!\"\n",
    "- `\"The correct answer to this multiple choice exercise is answer number \" + 2` \n",
    "Correct! Because you're not converting __2__ to a string with __str()__, this will give an error.\n",
    "- True + False"
   ]
  },
  {
   "cell_type": "markdown",
   "metadata": {},
   "source": []
  },
  {
   "cell_type": "markdown",
   "metadata": {},
   "source": []
  }
 ],
 "metadata": {
  "kernelspec": {
   "display_name": "Python 3",
   "language": "python",
   "name": "python3"
  },
  "language_info": {
   "codemirror_mode": {
    "name": "ipython",
    "version": 3
   },
   "file_extension": ".py",
   "mimetype": "text/x-python",
   "name": "python",
   "nbconvert_exporter": "python",
   "pygments_lexer": "ipython3",
   "version": "3.11.2"
  }
 },
 "nbformat": 4,
 "nbformat_minor": 2
}
