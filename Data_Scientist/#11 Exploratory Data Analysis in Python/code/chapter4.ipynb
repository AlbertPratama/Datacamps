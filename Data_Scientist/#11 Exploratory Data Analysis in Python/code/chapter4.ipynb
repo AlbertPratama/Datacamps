{
 "cells": [
  {
   "cell_type": "code",
   "execution_count": 2,
   "metadata": {},
   "outputs": [],
   "source": [
    "import pandas as pd\n",
    "import numpy as np\n",
    "import seaborn as sns\n",
    "import matplotlib.pyplot as plt"
   ]
  },
  {
   "cell_type": "markdown",
   "metadata": {},
   "source": [
    "#### `Checking for class imbalance`\n",
    "The [2022 Kaggle Survey](https://www.kaggle.com/kaggle-survey-2022) captures information about data scientists' backgrounds, preferred technologies, and techniques. It is seen as an accurate view of what is happening in data science based on the volume and profile of responders.\n",
    "\n",
    "Having looked at the job titles and categorized to align with our __salaries__ DataFrame, you can see the following proportion of job categories in the Kaggle survey:\n",
    "<table>\n",
    "<thead>\n",
    "<tr>\n",
    "<th>Job Category</th>\n",
    "<th>Relative Frequency</th>\n",
    "</tr>\n",
    "</thead>\n",
    "<tbody>\n",
    "<tr>\n",
    "<td>Data Science</td>\n",
    "<td>0.281236</td>\n",
    "</tr>\n",
    "<tr>\n",
    "<td>Data Analytics</td>\n",
    "<td>0.224231</td>\n",
    "</tr>\n",
    "<tr>\n",
    "<td>Other</td>\n",
    "<td>0.214609</td>\n",
    "</tr>\n",
    "<tr>\n",
    "<td>Managerial</td>\n",
    "<td>0.121300</td>\n",
    "</tr>\n",
    "<tr>\n",
    "<td>Machine Learning</td>\n",
    "<td>0.083248</td>\n",
    "</tr>\n",
    "<tr>\n",
    "<td>Data Engineering</td>\n",
    "<td>0.075375</td>\n",
    "</tr>\n",
    "</tbody>\n",
    "</table>\n",
    "\n",
    "\n",
    "Thinking of the Kaggle survey results as the population, your task is to find out whether the __salaries__ DataFrame is representative by comparing the relative frequency of job categories."
   ]
  },
  {
   "cell_type": "code",
   "execution_count": 3,
   "metadata": {},
   "outputs": [
    {
     "data": {
      "text/html": [
       "<div>\n",
       "<style scoped>\n",
       "    .dataframe tbody tr th:only-of-type {\n",
       "        vertical-align: middle;\n",
       "    }\n",
       "\n",
       "    .dataframe tbody tr th {\n",
       "        vertical-align: top;\n",
       "    }\n",
       "\n",
       "    .dataframe thead th {\n",
       "        text-align: right;\n",
       "    }\n",
       "</style>\n",
       "<table border=\"1\" class=\"dataframe\">\n",
       "  <thead>\n",
       "    <tr style=\"text-align: right;\">\n",
       "      <th></th>\n",
       "      <th>Working_Year</th>\n",
       "      <th>Designation</th>\n",
       "      <th>Experience</th>\n",
       "      <th>Employment_Status</th>\n",
       "      <th>Salary_In_Rupees</th>\n",
       "      <th>Employee_Location</th>\n",
       "      <th>Company_Location</th>\n",
       "      <th>Company_Size</th>\n",
       "      <th>Remote_Working_Ratio</th>\n",
       "      <th>Salary_USD</th>\n",
       "      <th>Job_Category</th>\n",
       "    </tr>\n",
       "  </thead>\n",
       "  <tbody>\n",
       "    <tr>\n",
       "      <th>0</th>\n",
       "      <td>2020</td>\n",
       "      <td>Machine Learning Scientist</td>\n",
       "      <td>SE</td>\n",
       "      <td>FT</td>\n",
       "      <td>20690000</td>\n",
       "      <td>JP</td>\n",
       "      <td>JP</td>\n",
       "      <td>S</td>\n",
       "      <td>0</td>\n",
       "      <td>248256.840</td>\n",
       "      <td>Machine Learning</td>\n",
       "    </tr>\n",
       "    <tr>\n",
       "      <th>1</th>\n",
       "      <td>2020</td>\n",
       "      <td>Big Data Engineer</td>\n",
       "      <td>SE</td>\n",
       "      <td>FT</td>\n",
       "      <td>8675000</td>\n",
       "      <td>GB</td>\n",
       "      <td>GB</td>\n",
       "      <td>M</td>\n",
       "      <td>50</td>\n",
       "      <td>104099.820</td>\n",
       "      <td>Data Engineering</td>\n",
       "    </tr>\n",
       "    <tr>\n",
       "      <th>2</th>\n",
       "      <td>2020</td>\n",
       "      <td>Product Data Analyst</td>\n",
       "      <td>MI</td>\n",
       "      <td>FT</td>\n",
       "      <td>1591000</td>\n",
       "      <td>HN</td>\n",
       "      <td>HN</td>\n",
       "      <td>S</td>\n",
       "      <td>0</td>\n",
       "      <td>19096.680</td>\n",
       "      <td>Data Analytics</td>\n",
       "    </tr>\n",
       "    <tr>\n",
       "      <th>3</th>\n",
       "      <td>2020</td>\n",
       "      <td>Machine Learning Engineer</td>\n",
       "      <td>SE</td>\n",
       "      <td>FT</td>\n",
       "      <td>11940000</td>\n",
       "      <td>US</td>\n",
       "      <td>US</td>\n",
       "      <td>L</td>\n",
       "      <td>50</td>\n",
       "      <td>143225.100</td>\n",
       "      <td>Machine Learning</td>\n",
       "    </tr>\n",
       "    <tr>\n",
       "      <th>4</th>\n",
       "      <td>2020</td>\n",
       "      <td>Data Analyst</td>\n",
       "      <td>EN</td>\n",
       "      <td>FT</td>\n",
       "      <td>5729000</td>\n",
       "      <td>US</td>\n",
       "      <td>US</td>\n",
       "      <td>L</td>\n",
       "      <td>100</td>\n",
       "      <td>68748.048</td>\n",
       "      <td>Data Analytics</td>\n",
       "    </tr>\n",
       "  </tbody>\n",
       "</table>\n",
       "</div>"
      ],
      "text/plain": [
       "   Working_Year                 Designation Experience Employment_Status  \\\n",
       "0          2020  Machine Learning Scientist         SE                FT   \n",
       "1          2020           Big Data Engineer         SE                FT   \n",
       "2          2020        Product Data Analyst         MI                FT   \n",
       "3          2020   Machine Learning Engineer         SE                FT   \n",
       "4          2020                Data Analyst         EN                FT   \n",
       "\n",
       "   Salary_In_Rupees Employee_Location Company_Location Company_Size  \\\n",
       "0          20690000                JP               JP            S   \n",
       "1           8675000                GB               GB            M   \n",
       "2           1591000                HN               HN            S   \n",
       "3          11940000                US               US            L   \n",
       "4           5729000                US               US            L   \n",
       "\n",
       "  Remote_Working_Ratio  Salary_USD      Job_Category  \n",
       "0                    0  248256.840  Machine Learning  \n",
       "1                   50  104099.820  Data Engineering  \n",
       "2                    0   19096.680    Data Analytics  \n",
       "3                   50  143225.100  Machine Learning  \n",
       "4                  100   68748.048    Data Analytics  "
      ]
     },
     "execution_count": 3,
     "metadata": {},
     "output_type": "execute_result"
    }
   ],
   "source": [
    "salaries = pd.read_excel('../datasets/2022_Kaggle_Survey.xlsx')\n",
    "salaries.head()"
   ]
  },
  {
   "cell_type": "markdown",
   "metadata": {},
   "source": [
    "- Print the _relative frequency_ of the \"__Job_Category__\" column from __salaries__ DataFrame."
   ]
  },
  {
   "cell_type": "code",
   "execution_count": 4,
   "metadata": {},
   "outputs": [
    {
     "name": "stdout",
     "output_type": "stream",
     "text": [
      "Job_Category\n",
      "Data Science        17\n",
      "Data Engineering    12\n",
      "Data Analytics      10\n",
      "Machine Learning     6\n",
      "Managerial           2\n",
      "Other                1\n",
      "Name: count, dtype: int64\n"
     ]
    }
   ],
   "source": [
    "# Print the relative frequency of Job_Category\n",
    "print(salaries['Job_Category'].value_counts())"
   ]
  },
  {
   "cell_type": "code",
   "execution_count": 5,
   "metadata": {},
   "outputs": [
    {
     "name": "stdout",
     "output_type": "stream",
     "text": [
      "Job_Category\n",
      "Data Science        0.354167\n",
      "Data Engineering    0.250000\n",
      "Data Analytics      0.208333\n",
      "Machine Learning    0.125000\n",
      "Managerial          0.041667\n",
      "Other               0.020833\n",
      "Name: proportion, dtype: float64\n"
     ]
    }
   ],
   "source": [
    "# Print the relative frequency of Job_Category\n",
    "print(salaries['Job_Category'].value_counts(normalize=True))"
   ]
  },
  {
   "cell_type": "markdown",
   "metadata": {},
   "source": [
    "` Data Science is the most popular class and has a similar representation. Still, the other categories have quite different relative frequencies, which might not be surprising given the target audience is data scientists! Given the difference in relative frequencies, can you trust the salaries DataFrame to accurately represent Managerial roles?`"
   ]
  },
  {
   "cell_type": "markdown",
   "metadata": {},
   "source": [
    "#### `Cross-tabulation`\n",
    "Cross-tabulation can help identify how observations occur in combination.\n",
    "\n",
    "Using the __salaries__ dataset, which has been imported as a pandas DataFrame, you'll perform cross-tabulation on multiple variables, including the use of aggregation, to see the relationship between \"__Company_Size__\" and other variables.\n",
    "\n",
    "pandas has been imported for you as pd."
   ]
  },
  {
   "cell_type": "code",
   "execution_count": 6,
   "metadata": {},
   "outputs": [
    {
     "data": {
      "text/plain": [
       "(49, 11)"
      ]
     },
     "execution_count": 6,
     "metadata": {},
     "output_type": "execute_result"
    }
   ],
   "source": [
    "salaries.shape"
   ]
  },
  {
   "cell_type": "code",
   "execution_count": 7,
   "metadata": {},
   "outputs": [
    {
     "data": {
      "text/plain": [
       "Experience\n",
       "MI    20\n",
       "SE    14\n",
       "EN    12\n",
       "EX     3\n",
       "Name: count, dtype: int64"
      ]
     },
     "execution_count": 7,
     "metadata": {},
     "output_type": "execute_result"
    }
   ],
   "source": [
    "salaries['Experience'].value_counts()"
   ]
  },
  {
   "cell_type": "code",
   "execution_count": 8,
   "metadata": {},
   "outputs": [
    {
     "data": {
      "text/plain": [
       "Company_Size\n",
       "L    24\n",
       "S    15\n",
       "M    10\n",
       "Name: count, dtype: int64"
      ]
     },
     "execution_count": 8,
     "metadata": {},
     "output_type": "execute_result"
    }
   ],
   "source": [
    "salaries['Company_Size'].value_counts()"
   ]
  },
  {
   "cell_type": "markdown",
   "metadata": {},
   "source": [
    "- Perform cross-tabulation, setting \"__Company_Size__\" as the index, and the columns to classes in \"__Experience__\"."
   ]
  },
  {
   "cell_type": "code",
   "execution_count": 9,
   "metadata": {},
   "outputs": [
    {
     "name": "stdout",
     "output_type": "stream",
     "text": [
      "Experience    EN  EX  MI  SE\n",
      "Company_Size                \n",
      "L              6   3  11   4\n",
      "M              1   0   6   3\n",
      "S              5   0   3   7\n"
     ]
    }
   ],
   "source": [
    "# Cross-tabulate Company_Size and Experience\n",
    "print(pd.crosstab(salaries[\"Company_Size\"], salaries[\"Experience\"]))"
   ]
  },
  {
   "cell_type": "markdown",
   "metadata": {},
   "source": [
    "- Cross-tabulate \"__Job_Category__\" and classes of \"__Company_Size__\" as column names."
   ]
  },
  {
   "cell_type": "code",
   "execution_count": 10,
   "metadata": {},
   "outputs": [
    {
     "name": "stdout",
     "output_type": "stream",
     "text": [
      "Company_Size      L  M  S\n",
      "Job_Category             \n",
      "Data Analytics    8  1  1\n",
      "Data Engineering  6  2  4\n",
      "Data Science      6  4  7\n",
      "Machine Learning  3  0  3\n",
      "Managerial        1  1  0\n",
      "Other             0  1  0\n"
     ]
    }
   ],
   "source": [
    "# Cross-tabulate Job_Category and Company_Size\n",
    "print(pd.crosstab(salaries[\"Job_Category\"], salaries[\"Company_Size\"]))"
   ]
  },
  {
   "cell_type": "markdown",
   "metadata": {},
   "source": [
    "- Update __pd.crosstab()__ to return the mean \"__Salary_USD__\" values."
   ]
  },
  {
   "cell_type": "code",
   "execution_count": 11,
   "metadata": {},
   "outputs": [
    {
     "name": "stdout",
     "output_type": "stream",
     "text": [
      "Company_Size               L           M              S\n",
      "Job_Category                                           \n",
      "Data Analytics     91515.948   93573.732   19096.680000\n",
      "Data Engineering   72383.420  114496.056   75013.434000\n",
      "Data Science       77125.764   87200.931   80449.810286\n",
      "Machine Learning  164582.828         NaN  141193.848000\n",
      "Managerial        224385.996  181609.428            NaN\n",
      "Other                    NaN  429675.300            NaN\n"
     ]
    }
   ],
   "source": [
    "# Cross-tabulate Job_Category and Company_Size\n",
    "print(pd.crosstab(salaries[\"Job_Category\"], salaries[\"Company_Size\"],\n",
    "                  values=salaries[\"Salary_USD\"], aggfunc=\"mean\"))"
   ]
  },
  {
   "cell_type": "markdown",
   "metadata": {},
   "source": [
    "#### `Readable`"
   ]
  },
  {
   "cell_type": "code",
   "execution_count": 12,
   "metadata": {},
   "outputs": [
    {
     "name": "stderr",
     "output_type": "stream",
     "text": [
      "C:\\Users\\Albert\\AppData\\Local\\Temp\\ipykernel_2152\\1203715573.py:7: FutureWarning: DataFrame.applymap has been deprecated. Use DataFrame.map instead.\n",
      "  readable.applymap(lambda x: locale.currency(x, grouping=True))\n"
     ]
    },
    {
     "data": {
      "text/html": [
       "<div>\n",
       "<style scoped>\n",
       "    .dataframe tbody tr th:only-of-type {\n",
       "        vertical-align: middle;\n",
       "    }\n",
       "\n",
       "    .dataframe tbody tr th {\n",
       "        vertical-align: top;\n",
       "    }\n",
       "\n",
       "    .dataframe thead th {\n",
       "        text-align: right;\n",
       "    }\n",
       "</style>\n",
       "<table border=\"1\" class=\"dataframe\">\n",
       "  <thead>\n",
       "    <tr style=\"text-align: right;\">\n",
       "      <th>Company_Size</th>\n",
       "      <th>L</th>\n",
       "      <th>M</th>\n",
       "      <th>S</th>\n",
       "    </tr>\n",
       "    <tr>\n",
       "      <th>Job_Category</th>\n",
       "      <th></th>\n",
       "      <th></th>\n",
       "      <th></th>\n",
       "    </tr>\n",
       "  </thead>\n",
       "  <tbody>\n",
       "    <tr>\n",
       "      <th>Data Analytics</th>\n",
       "      <td>$91,515.95</td>\n",
       "      <td>$93,573.73</td>\n",
       "      <td>$19,096.68</td>\n",
       "    </tr>\n",
       "    <tr>\n",
       "      <th>Data Engineering</th>\n",
       "      <td>$72,383.42</td>\n",
       "      <td>$114,496.06</td>\n",
       "      <td>$75,013.43</td>\n",
       "    </tr>\n",
       "    <tr>\n",
       "      <th>Data Science</th>\n",
       "      <td>$77,125.76</td>\n",
       "      <td>$87,200.93</td>\n",
       "      <td>$80,449.81</td>\n",
       "    </tr>\n",
       "    <tr>\n",
       "      <th>Machine Learning</th>\n",
       "      <td>$164,582.83</td>\n",
       "      <td>$nan</td>\n",
       "      <td>$141,193.85</td>\n",
       "    </tr>\n",
       "    <tr>\n",
       "      <th>Managerial</th>\n",
       "      <td>$224,386.00</td>\n",
       "      <td>$181,609.43</td>\n",
       "      <td>$nan</td>\n",
       "    </tr>\n",
       "    <tr>\n",
       "      <th>Other</th>\n",
       "      <td>$nan</td>\n",
       "      <td>$429,675.30</td>\n",
       "      <td>$nan</td>\n",
       "    </tr>\n",
       "  </tbody>\n",
       "</table>\n",
       "</div>"
      ],
      "text/plain": [
       "Company_Size                L            M            S\n",
       "Job_Category                                           \n",
       "Data Analytics     $91,515.95   $93,573.73   $19,096.68\n",
       "Data Engineering   $72,383.42  $114,496.06   $75,013.43\n",
       "Data Science       $77,125.76   $87,200.93   $80,449.81\n",
       "Machine Learning  $164,582.83         $nan  $141,193.85\n",
       "Managerial        $224,386.00  $181,609.43         $nan\n",
       "Other                    $nan  $429,675.30         $nan"
      ]
     },
     "execution_count": 12,
     "metadata": {},
     "output_type": "execute_result"
    }
   ],
   "source": [
    "import locale\n",
    "\n",
    "readable = pd.crosstab(salaries[\"Job_Category\"], salaries[\"Company_Size\"],\n",
    "                  values=salaries[\"Salary_USD\"], aggfunc=\"mean\")\n",
    "# Set locale to display currency correctly\n",
    "locale.setlocale(locale.LC_ALL, 'en_US.UTF-8')\n",
    "readable.applymap(lambda x: locale.currency(x, grouping=True))"
   ]
  },
  {
   "cell_type": "markdown",
   "metadata": {},
   "source": [
    "`This is a handy function to examine the combination of frequencies, as well as find aggregated statistics. Looks like the largest mean salary is for Managerial data roles in large companies!`"
   ]
  },
  {
   "cell_type": "markdown",
   "metadata": {},
   "source": []
  },
  {
   "cell_type": "markdown",
   "metadata": {},
   "source": []
  },
  {
   "cell_type": "code",
   "execution_count": 13,
   "metadata": {},
   "outputs": [
    {
     "data": {
      "text/plain": [
       "Designation                     object\n",
       "date_of_response        datetime64[ns]\n",
       "Experience                      object\n",
       "Employment_Status               object\n",
       "Salary_In_Rupees               float64\n",
       "Employee_Location               object\n",
       "Company_Location                object\n",
       "Company_Size                    object\n",
       "Remote_Working_Ratio           float64\n",
       "Salary_USD                     float64\n",
       "dtype: object"
      ]
     },
     "execution_count": 13,
     "metadata": {},
     "output_type": "execute_result"
    }
   ],
   "source": [
    "salaries2 = pd.read_excel('../datasets/salaries2.xlsx')\n",
    "salaries2.dtypes"
   ]
  },
  {
   "cell_type": "code",
   "execution_count": 14,
   "metadata": {},
   "outputs": [],
   "source": [
    "salaries['date_of_response'] = salaries2['date_of_response']"
   ]
  },
  {
   "cell_type": "markdown",
   "metadata": {},
   "source": [
    "#### `Extracting features for correlation`\n",
    "In this exercise, you'll work with a version of the __salaries__ dataset containing a new column called \"__date_of_response__\".\n",
    "\n",
    "The dataset has been read in as a pandas DataFrame, with \"__date_of_response__\" as a __datetime__ data type.\n",
    "\n",
    "Your task is to extract datetime attributes from this column and then create a heat map to visualize the correlation coefficients between variables.\n",
    "\n",
    "Seaborn has been imported for you as sns, pandas as pd, and matplotlib.pyplot as plt."
   ]
  },
  {
   "cell_type": "markdown",
   "metadata": {},
   "source": [
    "- Extract the month from \"__date_of_response__\", storing it as a column called \"__month__\".\n",
    "- Create the \"__weekday__\" column, containing the weekday that the participants completed the survey.\n",
    "- Plot a heat map, including the Pearson correlation coefficient scores."
   ]
  },
  {
   "cell_type": "code",
   "execution_count": 15,
   "metadata": {},
   "outputs": [
    {
     "data": {
      "image/png": "[encoded data removed]",
      "text/plain": [
       "<Figure size 640x480 with 2 Axes>"
      ]
     },
     "metadata": {},
     "output_type": "display_data"
    }
   ],
   "source": [
    "#  Get the month of the response\n",
    "salaries2[\"month\"] = salaries2['date_of_response'].dt.month\n",
    "\n",
    "#  Extract the weekday of the response\n",
    "salaries2[\"weekday\"] = salaries2['date_of_response'].dt.weekday\n",
    "\n",
    "# Create a heatmap\n",
    "anjay = salaries2[['Salary_In_Rupees', 'Remote_Working_Ratio',\n",
    "                  'Salary_USD', 'month', 'weekday']]\n",
    "sns.heatmap(anjay.corr(), annot=True)\n",
    "plt.show()"
   ]
  },
  {
   "cell_type": "markdown",
   "metadata": {},
   "source": [
    "##### ` Looks like there aren't any meaningful relationships between our numeric variables, so let's see if converting numeric data into classes offers additional insights.`"
   ]
  },
  {
   "cell_type": "markdown",
   "metadata": {},
   "source": [
    "#### `Calculating salary percentiles`\n",
    "In the video, you saw that the conversion of numeric data into categories sometimes makes it easier to identify patterns.\n",
    "\n",
    "Your task is to convert the \"__Salary_USD__\" column into categories based on its percentiles. First, you need to find the percentiles and store them as variables.\n",
    "\n",
    "pandas has been imported as pd and the salaries dataset read in as DataFrame called salaries."
   ]
  },
  {
   "cell_type": "markdown",
   "metadata": {},
   "source": [
    "- Find the ___25th___ percentile of \"__Salary_USD__\".\n",
    "- Store the ___median___ of \"__Salary_USD__\" as __salaries_median__.\n",
    "- Get the __75th__ percentile of __salaries__."
   ]
  },
  {
   "cell_type": "code",
   "execution_count": 16,
   "metadata": {},
   "outputs": [
    {
     "name": "stdout",
     "output_type": "stream",
     "text": [
      "60880.691999999995 97488.552 143225.1\n"
     ]
    }
   ],
   "source": [
    "# Find the 25th percentile\n",
    "twenty_fifth = salaries2['Salary_USD'].quantile(0.25)\n",
    "\n",
    "# Save the median\n",
    "salaries_median = salaries2['Salary_USD'].median()\n",
    "\n",
    "# Gather the 75th percentile\n",
    "seventy_fifth = salaries2['Salary_USD'].quantile(0.75)\n",
    "print(twenty_fifth, salaries_median, seventy_fifth)"
   ]
  },
  {
   "cell_type": "markdown",
   "metadata": {},
   "source": [
    "##### `Looks like the interquartile range is between 60,881 and 143,225 dollars! Now let's use these variables to add a categorical salary column into the DataFrame!`"
   ]
  },
  {
   "cell_type": "markdown",
   "metadata": {},
   "source": [
    "#### `Categorizing salaries`\n",
    "Now it's time to make a new category! You'll use the variables __twenty_fifth__, __salaries_median__, and __seventy_fifth__, that you created in the previous exercise, to split salaries into different labels.\n",
    "\n",
    "The result will be a new column called \"__salary_level__\", which you'll incorporate into a visualization to analyze survey respondents' salary and at companies of different sizes.\n",
    "\n",
    "pandas has been imported as pd, matplotlib.pyplot as plt, seaborn as sns, and the salaries dataset as a pandas DataFrame called salaries."
   ]
  },
  {
   "cell_type": "markdown",
   "metadata": {},
   "source": [
    "- Create __salary_labels__, a list containing \"__entry__\", \"__mid__\", \"__senior__\", and \"__exec__\"."
   ]
  },
  {
   "cell_type": "code",
   "execution_count": 17,
   "metadata": {},
   "outputs": [],
   "source": [
    "salary_labels = ['entry', 'mid', 'senior', 'exec']"
   ]
  },
  {
   "cell_type": "markdown",
   "metadata": {},
   "source": [
    "- Finish __salary_ranges__, adding the ___25th___ percentile, median, __75th__ percentile, and largest value from \"__Salary_USD__\"."
   ]
  },
  {
   "cell_type": "code",
   "execution_count": 18,
   "metadata": {},
   "outputs": [],
   "source": [
    "# Create salary labels\n",
    "salary_labels = [\"entry\", \"mid\", \"senior\", \"exec\"]\n",
    "\n",
    "# Create the salary ranges list\n",
    "salary_ranges = [0, twenty_fifth, salaries_median,\n",
    "                 seventy_fifth, salaries[\"Salary_USD\"].max()]"
   ]
  },
  {
   "cell_type": "markdown",
   "metadata": {},
   "source": [
    "- Split \"__Salary_USD__\" based on the labels and ranges you've created."
   ]
  },
  {
   "cell_type": "code",
   "execution_count": 19,
   "metadata": {},
   "outputs": [],
   "source": [
    "# Create salary labels\n",
    "salary_labels = [\"entry\", \"mid\", \"senior\", \"exec\"]\n",
    "\n",
    "# Create the salary ranges list\n",
    "salary_ranges = [0, twenty_fifth, salaries_median,\n",
    "                 seventy_fifth, salaries[\"Salary_USD\"].max()]\n",
    "\n",
    "# Create salary_level\n",
    "salaries[\"salary_level\"] = pd.cut(salaries[\"Salary_USD\"],\n",
    "                                  bins=salary_ranges,\n",
    "                                  labels=salary_labels)"
   ]
  },
  {
   "cell_type": "markdown",
   "metadata": {},
   "source": [
    "- Use __sns.countplot()__ to visualize the count of \"__Company_Size__\", factoring salary level labels.\n"
   ]
  },
  {
   "cell_type": "code",
   "execution_count": 20,
   "metadata": {},
   "outputs": [
    {
     "data": {
      "image/png": "[encoded data removed]",
      "text/plain": [
       "<Figure size 640x480 with 1 Axes>"
      ]
     },
     "metadata": {},
     "output_type": "display_data"
    }
   ],
   "source": [
    "# Create salary labels\n",
    "salary_labels = [\"entry\", \"mid\", \"senior\", \"exec\"]\n",
    "\n",
    "# Create the salary ranges list\n",
    "salary_ranges = [0, twenty_fifth, salaries_median,\n",
    "                 seventy_fifth, salaries[\"Salary_USD\"].max()]\n",
    "\n",
    "# Create salary_level\n",
    "salaries[\"salary_level\"] = pd.cut(salaries[\"Salary_USD\"],\n",
    "                                  bins=salary_ranges,\n",
    "                                  labels=salary_labels)\n",
    "\n",
    "# Plot the count of salary levels at companies of different sizes\n",
    "sns.countplot(data=salaries, x=\"Company_Size\", hue=\"salary_level\")\n",
    "plt.show()"
   ]
  },
  {
   "cell_type": "markdown",
   "metadata": {},
   "source": [
    "##### `By using pd.cut() to split out numeric data into categories, you can see that a large proportion of workers at small companies get paid \"entry\" level salaries, while more staff at medium-sized companies are rewarded with \"senior\" level salary. Now let's look at generating hypotheses as you reach the end of the EDA phase!`"
   ]
  },
  {
   "cell_type": "markdown",
   "metadata": {},
   "source": [
    "`Generating Numeric Feature`s: You transformed the 'Total_Stops' column from a string to an integer to reveal its strong correlation with 'Price' and 'Duration'. This involved removing string characters and converting non-numeric values to integers using the string.replace() method.\n",
    "\n",
    "`Extracting DateTime Attributes`: By converting 'Date_of_Journey', 'Dep_Time', and 'Arrival_Time' into datetime objects, you extracted useful attributes like month and weekday. This helped in investigating if flight prices vary by month or day of the week. For example:\n",
    "\n",
    "__df[\"month\"] = df[\"Date_of_Journey\"].dt.month df[\"weekday\"] = df[\"Date_of_Journey\"].dt.weekday__\n",
    "\n",
    "`Visualizing Correlations`: You used seaborn to create heatmaps, visualizing the correlation between newly created features and existing variables. This step was crucial in identifying or dismissing potential relationships.\n",
    "\n",
    "`Categorizing Data`: You learned to categorize numeric data into classes, such as dividing flight prices into 'Economy', 'Premium Economy', 'Business Class', and 'First Class' based on quartiles. This involved using pandas' quantile and cut functions to create a new 'Price_Category' feature.\n",
    "\n",
    "`Practical Application`: Finally, you applied these techniques to a salaries dataset, extracting datetime features and categorizing salaries into percentile-based groups to facilitate pattern recognition and analysis.\n",
    "\n",
    "These skills are vital for deepening your understanding of datasets and preparing them for more sophisticated analyses or machine learning models."
   ]
  },
  {
   "cell_type": "markdown",
   "metadata": {},
   "source": [
    "#### `Comparing salaries`\n",
    "Exploratory data analysis is a crucial step in generating hypotheses!\n",
    "\n",
    "You've had an idea you'd like to explore—do data professionals get paid more in the USA than they do in Great Britain?\n",
    "\n",
    "You'll need to subset the data by \"__Employee_Location__\" and produce a plot displaying the average salary between the two groups.\n",
    "\n",
    "The __salaries__ DataFrame has been imported as a pandas DataFrame.\n",
    "\n",
    "pandas has been imported as pd, maplotlib.pyplot as plt and seaborn as sns."
   ]
  },
  {
   "cell_type": "markdown",
   "metadata": {},
   "source": [
    "- Filter salaries where \"__Employee_Location__\" is \"___US___\" or \"___GB___\", saving as __usa_and_gb__.\n",
    "- Use __usa_and_gb__ to create a barplot visualizing \"__Salary_USD__\" against \"__Employee_Location__\"."
   ]
  },
  {
   "cell_type": "code",
   "execution_count": 21,
   "metadata": {},
   "outputs": [
    {
     "data": {
      "image/png": "[encoded data removed]",
      "text/plain": [
       "<Figure size 640x480 with 1 Axes>"
      ]
     },
     "metadata": {},
     "output_type": "display_data"
    }
   ],
   "source": [
    "# Filter for employees in the US or GB\n",
    "usa_and_gb = salaries[salaries[\"Employee_Location\"].isin([\"US\", \"GB\"])]\n",
    "\n",
    "# Create a barplot of salaries by location\n",
    "sns.barplot(data=usa_and_gb, x=\"Employee_Location\", y=\"Salary_USD\")\n",
    "plt.show()"
   ]
  },
  {
   "cell_type": "markdown",
   "metadata": {},
   "source": [
    "##### ` By subsetting the data you were able to directly compare salaries between the USA and Great Britain. The visualization suggests you've generated a hypothesis that is worth formally investigating to determine whether a real difference exists or not!`"
   ]
  },
  {
   "cell_type": "markdown",
   "metadata": {},
   "source": [
    "#### `Choosing a hypothesis`\n",
    "You've seen how visualizations can be used to generate hypotheses, making them a crucial part of exploratory data analysis!\n",
    "\n",
    "In this exercise, you'll generate a bar plot to inspect how salaries differ based on company size and employment status. For reference, there are four values:\n",
    "<div class=\"listview__content\"><div class=\"css-ikv0qb\"><h1 class=\"css-fsa3o0\">Choosing a hypothesis</h1><div class=\"css-alxior\"><div class=\"\"><p>You've seen how visualizations can be used to generate hypotheses, making them a crucial part of exploratory data analysis!</p>\n",
    "<p>In this exercise, you'll generate a bar plot to inspect how salaries differ based on company size and employment status. For reference, there are four values:</p>\n",
    "<table>\n",
    "<thead>\n",
    "<tr>\n",
    "<th>Value</th>\n",
    "<th>Meaning</th>\n",
    "</tr>\n",
    "</thead>\n",
    "<tbody>\n",
    "<tr>\n",
    "<td><code>CT</code></td>\n",
    "<td>Contractor</td>\n",
    "</tr>\n",
    "<tr>\n",
    "<td><code>FL</code></td>\n",
    "<td>Freelance</td>\n",
    "</tr>\n",
    "<tr>\n",
    "<td><code>PT</code></td>\n",
    "<td>Part-time</td>\n",
    "</tr>\n",
    "<tr>\n",
    "<td><code>FT</code></td>\n",
    "<td>Full-time</td>\n",
    "</tr>\n",
    "</tbody>\n",
    "</table>\n",
    "<p><code>pandas</code> has been imported as <code>pd</code>, <code>matplotlib.pyplot</code> as <code>plt</code>, <code>seaborn</code> as <code>sns</code>, and the salaries dataset as a pandas DataFrame called <code>salaries</code>.</p></div></div></div></div>\n",
    "\n",
    "pandas has been imported as pd, matplotlib.pyplot as plt, seaborn as sns, and the salaries dataset as a pandas DataFrame called salaries."
   ]
  },
  {
   "cell_type": "markdown",
   "metadata": {},
   "source": [
    "- Produce a barplot comparing \"__Salary_USD__\" by \"__Company_Size__\", factoring \"__Employment_Status__\"."
   ]
  },
  {
   "cell_type": "code",
   "execution_count": 22,
   "metadata": {},
   "outputs": [
    {
     "data": {
      "image/png": "[encoded data removed]",
      "text/plain": [
       "<Figure size 640x480 with 1 Axes>"
      ]
     },
     "metadata": {},
     "output_type": "display_data"
    }
   ],
   "source": [
    "# Create a bar plot of salary versus company size, factoring in employment status\n",
    "sns.barplot(data=salaries, x=\"Company_Size\",\n",
    "            y=\"Salary_USD\", hue=\"Employment_Status\")\n",
    "plt.show()"
   ]
  },
  {
   "cell_type": "markdown",
   "metadata": {},
   "source": [
    "#### `Question`\n",
    "What is a reasonable hypothesis to generate based on this plot?"
   ]
  },
  {
   "cell_type": "markdown",
   "metadata": {},
   "source": [
    "#### `Possible answers`\n",
    "\n",
    "\n",
    "- On average, small companies pay part-time employees less than large companies.\n",
    "- Freelancers earn more at medium-sized companies compared to small or large companies.\n",
    "- `On average, large companies pay contractors more than medium-sized companies.`\n",
    "- No hypotheses can be generated from this plot."
   ]
  },
  {
   "cell_type": "markdown",
   "metadata": {},
   "source": [
    "##### `Contractors appear to be paid more by large companies on average based on the data, so this is a reasonable hypothesis! Let's recap what you've learned in the course!`"
   ]
  }
 ],
 "metadata": {
  "kernelspec": {
   "display_name": "Python 3",
   "language": "python",
   "name": "python3"
  },
  "language_info": {
   "codemirror_mode": {
    "name": "ipython",
    "version": 3
   },
   "file_extension": ".py",
   "mimetype": "text/x-python",
   "name": "python",
   "nbconvert_exporter": "python",
   "pygments_lexer": "ipython3",
   "version": "3.11.2"
  }
 },
 "nbformat": 4,
 "nbformat_minor": 2
}
