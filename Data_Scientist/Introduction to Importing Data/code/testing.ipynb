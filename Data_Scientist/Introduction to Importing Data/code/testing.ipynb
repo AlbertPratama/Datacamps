{
 "cells": [
  {
   "cell_type": "code",
   "execution_count": null,
   "metadata": {},
   "outputs": [],
   "source": [
    "import numpy as np\n",
    "\n",
    "files = '../datasets/mnist_kaggle_some_rows.csv'\n",
    "data = np.load"
   ]
  },
  {
   "cell_type": "code",
   "execution_count": 1,
   "metadata": {},
   "outputs": [
    {
     "name": "stdout",
     "output_type": "stream",
     "text": [
      "DataFrame 2002:\n",
      "       country      value\n",
      "0  Afghanistan  36.083990\n",
      "1      Albania   0.128908\n",
      "2      Algeria  18.314120\n",
      "\n",
      "DataFrame 2004:\n",
      "       country     value\n",
      "0  Afghanistan  9.451028\n",
      "1      Albania  0.130354\n",
      "2      Algeria  3.407277\n"
     ]
    }
   ],
   "source": [
    "import pandas as pd\n",
    "\n",
    "# Sheet '2002'\n",
    "data_2002 = {\n",
    "    'country': ['Afghanistan', 'Albania', 'Algeria'],\n",
    "    'value': [36.08399, 0.1289084, 18.31412]\n",
    "}\n",
    "df_2002 = pd.DataFrame(data_2002)\n",
    "\n",
    "# Sheet '2004'\n",
    "data_2004 = {\n",
    "    'country': ['Afghanistan', 'Albania', 'Algeria'],\n",
    "    'value': [9.45102787, 0.130353764, 3.407277346]\n",
    "}\n",
    "df_2004 = pd.DataFrame(data_2004)\n",
    "\n",
    "print(\"DataFrame 2002:\")\n",
    "print(df_2002)\n",
    "print(\"\\nDataFrame 2004:\")\n",
    "print(df_2004)"
   ]
  },
  {
   "cell_type": "code",
   "execution_count": 3,
   "metadata": {},
   "outputs": [
    {
     "data": {
      "text/html": [
       "<div>\n",
       "<style scoped>\n",
       "    .dataframe tbody tr th:only-of-type {\n",
       "        vertical-align: middle;\n",
       "    }\n",
       "\n",
       "    .dataframe tbody tr th {\n",
       "        vertical-align: top;\n",
       "    }\n",
       "\n",
       "    .dataframe thead th {\n",
       "        text-align: right;\n",
       "    }\n",
       "</style>\n",
       "<table border=\"1\" class=\"dataframe\">\n",
       "  <thead>\n",
       "    <tr style=\"text-align: right;\">\n",
       "      <th></th>\n",
       "      <th>country</th>\n",
       "      <th>value</th>\n",
       "    </tr>\n",
       "  </thead>\n",
       "  <tbody>\n",
       "    <tr>\n",
       "      <th>0</th>\n",
       "      <td>AfghanistanAfghanistan</td>\n",
       "      <td>45.535018</td>\n",
       "    </tr>\n",
       "    <tr>\n",
       "      <th>1</th>\n",
       "      <td>AlbaniaAlbania</td>\n",
       "      <td>0.259262</td>\n",
       "    </tr>\n",
       "    <tr>\n",
       "      <th>2</th>\n",
       "      <td>AlgeriaAlgeria</td>\n",
       "      <td>21.721397</td>\n",
       "    </tr>\n",
       "  </tbody>\n",
       "</table>\n",
       "</div>"
      ],
      "text/plain": [
       "                  country      value\n",
       "0  AfghanistanAfghanistan  45.535018\n",
       "1          AlbaniaAlbania   0.259262\n",
       "2          AlgeriaAlgeria  21.721397"
      ]
     },
     "execution_count": 3,
     "metadata": {},
     "output_type": "execute_result"
    }
   ],
   "source": [
    "data = \n",
    "data"
   ]
  },
  {
   "cell_type": "code",
   "execution_count": 6,
   "metadata": {},
   "outputs": [
    {
     "ename": "AttributeError",
     "evalue": "'dict' object has no attribute 'parse'",
     "output_type": "error",
     "traceback": [
      "\u001b[1;31m---------------------------------------------------------------------------\u001b[0m",
      "\u001b[1;31mAttributeError\u001b[0m                            Traceback (most recent call last)",
      "Cell \u001b[1;32mIn[6], line 1\u001b[0m\n\u001b[1;32m----> 1\u001b[0m df \u001b[38;5;241m=\u001b[39m \u001b[43mdata_2002\u001b[49m\u001b[38;5;241;43m.\u001b[39;49m\u001b[43mparse\u001b[49m(\u001b[38;5;124m'\u001b[39m\u001b[38;5;124m2002\u001b[39m\u001b[38;5;124m'\u001b[39m, skiprows\u001b[38;5;241m=\u001b[39m\u001b[38;5;241m1\u001b[39m)\n\u001b[0;32m      2\u001b[0m \u001b[38;5;28mprint\u001b[39m(df\u001b[38;5;241m.\u001b[39mhead())\n",
      "\u001b[1;31mAttributeError\u001b[0m: 'dict' object has no attribute 'parse'"
     ]
    }
   ],
   "source": [
    "df = data_2002.parse('2002', skiprows=1)\n",
    "print(df.head())"
   ]
  }
 ],
 "metadata": {
  "kernelspec": {
   "display_name": "Python 3",
   "language": "python",
   "name": "python3"
  },
  "language_info": {
   "codemirror_mode": {
    "name": "ipython",
    "version": 3
   },
   "file_extension": ".py",
   "mimetype": "text/x-python",
   "name": "python",
   "nbconvert_exporter": "python",
   "pygments_lexer": "ipython3",
   "version": "3.11.2"
  }
 },
 "nbformat": 4,
 "nbformat_minor": 2
}
