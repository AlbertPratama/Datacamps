{
 "cells": [
  {
   "cell_type": "code",
   "execution_count": null,
   "metadata": {},
   "outputs": [],
   "source": []
  },
  {
   "cell_type": "markdown",
   "metadata": {},
   "source": []
  },
  {
   "cell_type": "markdown",
   "metadata": {},
   "source": [
    "- __Opening and reading files__: You discovered how to open a text file in Python using the __open()__ function with mode __'r'__ for read-only access. For instance, __file = open('moby_dick.txt', mode='r')__ opens the file __moby_dick__.txt for reading.\n",
    "- __Best practices for file handling__: You learned the importance of closing files after opening them to free up system resources. Using __file.close()__ ensures the file is closed, or alternatively, using a with statement for context management, which automatically closes the file after the block of code is executed.\n",
    "- __Reading file contents__: The __read()__ method reads the entire file content, while __readline()__ reads the file line by line. This distinction is crucial for handling large files efficiently.\n",
    "\n",
    "Example of reading a file line by line\n",
    "  - __with open('moby_dick.txt') as file:__\n",
    "    - __print(file.readline())__\n",
    "    - __print(file.readline())__\n",
    "    - __print(file.readline())__\n",
    "- __Exploring the working directory__: You used IPython's magic command __!ls__ to list files in your current directory, helping you identify available data files for import."
   ]
  },
  {
   "cell_type": "markdown",
   "metadata": {},
   "source": []
  },
  {
   "cell_type": "code",
   "execution_count": 6,
   "metadata": {},
   "outputs": [
    {
     "name": "stdout",
     "output_type": "stream",
     "text": [
      "{'pen', 'pencil'}\n"
     ]
    }
   ],
   "source": [
    "set1 = {'pen', 'book', 'pencil'}\n",
    "set2 = {'eraser', 'book'}\n",
    "unique = set1.difference(set2)\n",
    "print(unique)"
   ]
  },
  {
   "cell_type": "markdown",
   "metadata": {},
   "source": []
  },
  {
   "cell_type": "code",
   "execution_count": null,
   "metadata": {},
   "outputs": [],
   "source": [
    "# Import packages\n",
    "import numpy as np\n",
    "\n",
    "# Assign filename to variable: file\n",
    "file = 'digits.csv'\n",
    "\n",
    "# Load file as array: digits\n",
    "digits = np.loadtxt(file, delimiter=',')\n",
    "\n",
    "# Print datatype of digits\n",
    "print(type(digits))\n",
    "\n",
    "# Select and reshape a row\n",
    "im = digits[21, 1:]\n",
    "im_sq = np.reshape(im, (28, 28))\n",
    "\n",
    "# Plot reshaped data (matplotlib.pyplot already loaded as plt)\n",
    "plt.imshow(im_sq, cmap='Greys', interpolation='nearest')\n",
    "plt.show()"
   ]
  },
  {
   "cell_type": "markdown",
   "metadata": {},
   "source": []
  },
  {
   "cell_type": "markdown",
   "metadata": {},
   "source": [
    "- __Pandas for Data Import__: The primary tool recommended for importing flat files due to its efficiency and ease of use. You explored how pandas streamline the data import process, allowing for quick analysis and manipulation.\n",
    "- __Exploring Other Methods__: While pandas is preferred, understanding alternative methods for data import is crucial. This knowledge ensures flexibility and preparedness for situations where pandas might not be the optimal choice.\n",
    "- __Future of Data Import__: The lesson touched on the active development in data import methods, highlighting the introduction of the feather format by Wes McKinney and Hadley Wickham. Feather offers a fast, on-disk format for dataframes, promising to enhance data import and interoperability between Python and R.\n",
    "- __Looking Ahead__: You got a glimpse into future topics, including importing more complex file types like Excel spreadsheets and interacting with relational databases and APIs. These skills are vital for a data scientist to efficiently manage and analyze a wide range of data sources."
   ]
  },
  {
   "cell_type": "code",
   "execution_count": null,
   "metadata": {},
   "outputs": [],
   "source": []
  }
 ],
 "metadata": {
  "kernelspec": {
   "display_name": "Python 3",
   "language": "python",
   "name": "python3"
  },
  "language_info": {
   "codemirror_mode": {
    "name": "ipython",
    "version": 3
   },
   "file_extension": ".py",
   "mimetype": "text/x-python",
   "name": "python",
   "nbconvert_exporter": "python",
   "pygments_lexer": "ipython3",
   "version": "3.11.2"
  }
 },
 "nbformat": 4,
 "nbformat_minor": 2
}
