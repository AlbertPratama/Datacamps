{
 "cells": [
  {
   "cell_type": "code",
   "execution_count": 40,
   "metadata": {},
   "outputs": [],
   "source": [
    "import pandas as pd\n",
    "import numpy as np"
   ]
  },
  {
   "cell_type": "code",
   "execution_count": 41,
   "metadata": {},
   "outputs": [
    {
     "data": {
      "text/html": [
       "<div>\n",
       "<style scoped>\n",
       "    .dataframe tbody tr th:only-of-type {\n",
       "        vertical-align: middle;\n",
       "    }\n",
       "\n",
       "    .dataframe tbody tr th {\n",
       "        vertical-align: top;\n",
       "    }\n",
       "\n",
       "    .dataframe thead th {\n",
       "        text-align: right;\n",
       "    }\n",
       "</style>\n",
       "<table border=\"1\" class=\"dataframe\">\n",
       "  <thead>\n",
       "    <tr style=\"text-align: right;\">\n",
       "      <th></th>\n",
       "      <th>ward</th>\n",
       "      <th>alderman</th>\n",
       "      <th>address</th>\n",
       "      <th>zip</th>\n",
       "    </tr>\n",
       "  </thead>\n",
       "  <tbody>\n",
       "    <tr>\n",
       "      <th>0</th>\n",
       "      <td>1</td>\n",
       "      <td>Proco \"Joe\" Moreno</td>\n",
       "      <td>2058 NORTH WESTERN AVENUE</td>\n",
       "      <td>60647</td>\n",
       "    </tr>\n",
       "    <tr>\n",
       "      <th>1</th>\n",
       "      <td>2</td>\n",
       "      <td>Brian Hopkins</td>\n",
       "      <td>1400 NORTH  ASHLAND AVENUE</td>\n",
       "      <td>60622</td>\n",
       "    </tr>\n",
       "    <tr>\n",
       "      <th>2</th>\n",
       "      <td>3</td>\n",
       "      <td>Pat Dowell</td>\n",
       "      <td>5046 SOUTH STATE STREET</td>\n",
       "      <td>60609</td>\n",
       "    </tr>\n",
       "    <tr>\n",
       "      <th>3</th>\n",
       "      <td>4</td>\n",
       "      <td>William D. Burns</td>\n",
       "      <td>435 EAST 35TH STREET, 1ST FLOOR</td>\n",
       "      <td>60616</td>\n",
       "    </tr>\n",
       "    <tr>\n",
       "      <th>4</th>\n",
       "      <td>5</td>\n",
       "      <td>Leslie A. Hairston</td>\n",
       "      <td>2325 EAST 71ST STREET</td>\n",
       "      <td>60649</td>\n",
       "    </tr>\n",
       "  </tbody>\n",
       "</table>\n",
       "</div>"
      ],
      "text/plain": [
       "  ward            alderman                          address    zip\n",
       "0    1  Proco \"Joe\" Moreno        2058 NORTH WESTERN AVENUE  60647\n",
       "1    2       Brian Hopkins       1400 NORTH  ASHLAND AVENUE  60622\n",
       "2    3          Pat Dowell          5046 SOUTH STATE STREET  60609\n",
       "3    4    William D. Burns  435 EAST 35TH STREET, 1ST FLOOR  60616\n",
       "4    5  Leslie A. Hairston            2325 EAST 71ST STREET  60649"
      ]
     },
     "execution_count": 41,
     "metadata": {},
     "output_type": "execute_result"
    }
   ],
   "source": [
    "wards = pd.read_pickle('../datasets/ward.p')\n",
    "wards.head()"
   ]
  },
  {
   "cell_type": "code",
   "execution_count": 42,
   "metadata": {},
   "outputs": [
    {
     "data": {
      "text/html": [
       "<div>\n",
       "<style scoped>\n",
       "    .dataframe tbody tr th:only-of-type {\n",
       "        vertical-align: middle;\n",
       "    }\n",
       "\n",
       "    .dataframe tbody tr th {\n",
       "        vertical-align: top;\n",
       "    }\n",
       "\n",
       "    .dataframe thead th {\n",
       "        text-align: right;\n",
       "    }\n",
       "</style>\n",
       "<table border=\"1\" class=\"dataframe\">\n",
       "  <thead>\n",
       "    <tr style=\"text-align: right;\">\n",
       "      <th></th>\n",
       "      <th>ward</th>\n",
       "      <th>pop_2000</th>\n",
       "      <th>pop_2010</th>\n",
       "      <th>change</th>\n",
       "      <th>address</th>\n",
       "      <th>zip</th>\n",
       "    </tr>\n",
       "  </thead>\n",
       "  <tbody>\n",
       "    <tr>\n",
       "      <th>0</th>\n",
       "      <td>1</td>\n",
       "      <td>52951</td>\n",
       "      <td>56149</td>\n",
       "      <td>6%</td>\n",
       "      <td>2765 WEST SAINT MARY STREET</td>\n",
       "      <td>60647</td>\n",
       "    </tr>\n",
       "    <tr>\n",
       "      <th>1</th>\n",
       "      <td>2</td>\n",
       "      <td>54361</td>\n",
       "      <td>55805</td>\n",
       "      <td>3%</td>\n",
       "      <td>WM WASTE MANAGEMENT 1500</td>\n",
       "      <td>60622</td>\n",
       "    </tr>\n",
       "    <tr>\n",
       "      <th>2</th>\n",
       "      <td>3</td>\n",
       "      <td>40385</td>\n",
       "      <td>53039</td>\n",
       "      <td>31%</td>\n",
       "      <td>17 EAST 38TH STREET</td>\n",
       "      <td>60653</td>\n",
       "    </tr>\n",
       "    <tr>\n",
       "      <th>3</th>\n",
       "      <td>4</td>\n",
       "      <td>51953</td>\n",
       "      <td>54589</td>\n",
       "      <td>5%</td>\n",
       "      <td>31ST ST HARBOR BUILDING LAKEFRONT TRAIL</td>\n",
       "      <td>60653</td>\n",
       "    </tr>\n",
       "    <tr>\n",
       "      <th>4</th>\n",
       "      <td>5</td>\n",
       "      <td>55302</td>\n",
       "      <td>51455</td>\n",
       "      <td>-7%</td>\n",
       "      <td>JACKSON PARK LAGOON SOUTH CORNELL DRIVE</td>\n",
       "      <td>60637</td>\n",
       "    </tr>\n",
       "  </tbody>\n",
       "</table>\n",
       "</div>"
      ],
      "text/plain": [
       "  ward  pop_2000  pop_2010 change                                  address  \\\n",
       "0    1     52951     56149     6%              2765 WEST SAINT MARY STREET   \n",
       "1    2     54361     55805     3%                 WM WASTE MANAGEMENT 1500   \n",
       "2    3     40385     53039    31%                      17 EAST 38TH STREET   \n",
       "3    4     51953     54589     5%  31ST ST HARBOR BUILDING LAKEFRONT TRAIL   \n",
       "4    5     55302     51455    -7%  JACKSON PARK LAGOON SOUTH CORNELL DRIVE   \n",
       "\n",
       "     zip  \n",
       "0  60647  \n",
       "1  60622  \n",
       "2  60653  \n",
       "3  60653  \n",
       "4  60637  "
      ]
     },
     "execution_count": 42,
     "metadata": {},
     "output_type": "execute_result"
    }
   ],
   "source": [
    "census = pd.read_pickle('../datasets/census.p')\n",
    "census.head()"
   ]
  },
  {
   "cell_type": "markdown",
   "metadata": {},
   "source": [
    "#### `Inner joins and number of rows returned`\n",
    "- Inner joins and number of rows returned\n",
    "All of the merges you have studied to this point are called inner joins. It is necessary to understand that inner joins only return the rows with matching values in both tables. You will explore this further by reviewing the merge between the wards and census tables, then comparing it to merges of copies of these tables that are slightly altered, named wards_altered, and census_altered. The first row of the wards column has been changed in the altered tables. You will examine how this affects the merge between them. The tables have been loaded for you.\n",
    "- For this exercise, it is important to know that the wards and census tables start with 50 rows."
   ]
  },
  {
   "cell_type": "markdown",
   "metadata": {},
   "source": [
    "##### Quest 3 CH-1\n",
    "- Merge wards and census on the ward column and save the result to wards_census."
   ]
  },
  {
   "cell_type": "code",
   "execution_count": 43,
   "metadata": {},
   "outputs": [
    {
     "name": "stdout",
     "output_type": "stream",
     "text": [
      "wards_census table shape: (50, 9)\n"
     ]
    }
   ],
   "source": [
    "# Merge the wards and census tables on the ward column\n",
    "wards_census = wards.merge(census, on='ward')\n",
    "\n",
    "# Print the shape of wards_census\n",
    "print('wards_census table shape:', wards_census.shape)"
   ]
  },
  {
   "cell_type": "code",
   "execution_count": 44,
   "metadata": {},
   "outputs": [],
   "source": [
    "# HELL NAAA BRO \n",
    "data = {\n",
    "    'ward': [61, 2, 3, 4, 5, 6, 7, 8, 9, 10, 11, 12, 13, 14, 15, 16, 17, 18, 19, 20, 21, 22, 23, 24, 25, 26, 27, 28, 29, 30, 31, 32, 33, 34, 35, 36, 37, 38, 39, 40, 41, 42, 43, 44, 45, 46, 47, 48, 49, 50],\n",
    "    'alderman': ['Proco \"Joe\" Moreno', 'Brian Hopkins', 'Pat Dowell', 'William D. Burns', 'Leslie A. Hairston', 'Roderick T. Sawyer', 'Gregory I. Mitchell', 'Michelle A. Harris', 'Anthony A. Beale', 'Susan Sadlowski Garza', 'Patrick Daley Thompson', 'George Cardenas', 'Marty Quinn', 'Edward M. Burke', 'Raymond A. Lopez', 'Toni L. Foulkes', 'David H. Moore', 'Derrick G. Curtis', 'Matthew J. O\\'Shea', 'Willie B. Cochran', 'Howard B. Brookins, Jr.', 'Ricardo Munoz', 'Michael R. Zalewski', 'Michael Scott, Jr.', 'Daniel \"Danny\" Solis', 'Roberto Maldonado', 'Walter Burnett, Jr.', 'Jason C. Ervin', 'Chris Taliaferro', 'Ariel E. Reyboras', 'Milagros \"Milly\" Santiago', 'Scott Waguespack', 'Deborah Mell', 'Carrie M. Austin', 'Carlos Ramirez-Rosa', 'Gilbert Villegas', 'Emma M. Mitts', 'Nicholas Sposato', 'Margaret Laurino', 'Patrick J. O\\'Connor', 'Anthony V. Napolitano', 'Brendan Reilly', 'Michelle Smith', 'Tom Tunney', 'John S. Arena', 'James Cappleman', 'Ameya Pawar', 'Harry Osterman', 'Joe Moore', 'Debra L. Silverstein'],\n",
    "    'address': ['2058 NORTH WESTERN AVENUE', '1400 NORTH  ASHLAND AVENUE', '5046 SOUTH STATE STREET', '435 EAST 35TH STREET, 1ST FLOOR', '2325 EAST 71ST STREET', '8001 S. MARTIN LUTHER KING DRIVE', '2249 EAST 95TH STREET', '8539 SOUTH COTTAGE GROVE AVENUE', '34 EAST 112TH PLACE', '10500 SOUTH EWING AVENUE', '3659 SOUTH HALSTED STREET', '3476 SOUTH ARCHER AVENUE', '6500 SOUTH PULASKI ROAD', '2650 WEST 51ST STREET', '1650 WEST 63RD STREET', '3045 WEST 63RD STREET', '7313 SOUTH ASHLAND AVENUE', '8359 SOUTH PULASKI ROAD', '10400 SOUTH WESTERN AVENUE', '6357 SOUTH COTTAGE GROVE AVENUE', '9011 SOUTH ASHLAND AVENUE, UNIT B', '2500 SOUTH ST. LOUIS AVENUE', '6247 SOUTH ARCHER AVENUE', '1158 SOUTH KEELER AVENUE', '1800 SOUTH BLUE ISLAND AVENUE', '2511 WEST DIVISION STREET', '4 NORTH WESTERN AVENUE', '2602 WEST 16TH STREET', '6272 WEST NORTH AVENUE', '3559 NORTH MILWAUKEE AVENUE', '2521 NORTH PULASKI ROAD', '2657 NORTH CLYBOURN AVENUE', '3001 WEST IRVING PARK ROAD', '507 WEST 111TH STREET', '2710 NORTH SAWYER AVENUE', '6934 WEST DIVERSEY', '4924 WEST CHICAGO AVENUE', '3821  NORTH HARLEM AVENUE', '4404 WEST LAWRENCE AVENUE', '5850 NORTH LINCOLN AVENUE', '7442 NORTH HARLEM AVENUE', '325 WEST HURON STREET, SUITE 510', '2523 NORTH HALSTED STREET', '3223 NORTH SHEFFIELD AVENUE', '4754 NORTH MILWAUKEEAVENUE', '4544 NORTH BROADWAY AVENUE', '4243 NORTH LINCOLN AVENUE', '5533 NORTH BROADWAY AVENUE', '7356 NORTH GREENVIEW AVENUE', '2949 WEST DEVON AVENUE, SUITE A'],\n",
    "    'zip': ['60647', '60622', '60609', '60616', '60649', '60619', '60617', '60619', '60628', '60617', '60609', '60608', '60629', '60632', '60636', '60629', '60636', '60652', '60643', '60637', '60620', '60623', '60638', '60624', '60608', '60622', '60612', '60612', '60639', '60641', '60639', '60614', '60618', '60628', '60647', '60607', '60651', '60634', '60630', '60659', '60631', '60654', '60614', '60657', '60630', '60640', '60618', '60640', '60626', '60659']\n",
    "}\n",
    "\n",
    "wards_altered = pd.DataFrame(data)"
   ]
  },
  {
   "cell_type": "code",
   "execution_count": 45,
   "metadata": {},
   "outputs": [
    {
     "data": {
      "text/html": [
       "<div>\n",
       "<style scoped>\n",
       "    .dataframe tbody tr th:only-of-type {\n",
       "        vertical-align: middle;\n",
       "    }\n",
       "\n",
       "    .dataframe tbody tr th {\n",
       "        vertical-align: top;\n",
       "    }\n",
       "\n",
       "    .dataframe thead th {\n",
       "        text-align: right;\n",
       "    }\n",
       "</style>\n",
       "<table border=\"1\" class=\"dataframe\">\n",
       "  <thead>\n",
       "    <tr style=\"text-align: right;\">\n",
       "      <th></th>\n",
       "      <th>ward</th>\n",
       "      <th>pop_2000</th>\n",
       "      <th>pop_2010</th>\n",
       "      <th>change</th>\n",
       "      <th>address</th>\n",
       "      <th>zip</th>\n",
       "    </tr>\n",
       "  </thead>\n",
       "  <tbody>\n",
       "    <tr>\n",
       "      <th>0</th>\n",
       "      <td>1</td>\n",
       "      <td>52951</td>\n",
       "      <td>56149</td>\n",
       "      <td>6%</td>\n",
       "      <td>2765 WEST SAINT MARY STREET</td>\n",
       "      <td>60647</td>\n",
       "    </tr>\n",
       "    <tr>\n",
       "      <th>1</th>\n",
       "      <td>2</td>\n",
       "      <td>54361</td>\n",
       "      <td>55805</td>\n",
       "      <td>3%</td>\n",
       "      <td>WM WASTE MANAGEMENT 1500</td>\n",
       "      <td>60622</td>\n",
       "    </tr>\n",
       "    <tr>\n",
       "      <th>2</th>\n",
       "      <td>3</td>\n",
       "      <td>40385</td>\n",
       "      <td>53039</td>\n",
       "      <td>31%</td>\n",
       "      <td>17 EAST 38TH STREET</td>\n",
       "      <td>60653</td>\n",
       "    </tr>\n",
       "    <tr>\n",
       "      <th>3</th>\n",
       "      <td>4</td>\n",
       "      <td>51953</td>\n",
       "      <td>54589</td>\n",
       "      <td>5%</td>\n",
       "      <td>31ST ST HARBOR BUILDING LAKEFRONT TRAIL</td>\n",
       "      <td>60653</td>\n",
       "    </tr>\n",
       "    <tr>\n",
       "      <th>4</th>\n",
       "      <td>5</td>\n",
       "      <td>55302</td>\n",
       "      <td>51455</td>\n",
       "      <td>-7%</td>\n",
       "      <td>JACKSON PARK LAGOON SOUTH CORNELL DRIVE</td>\n",
       "      <td>60637</td>\n",
       "    </tr>\n",
       "  </tbody>\n",
       "</table>\n",
       "</div>"
      ],
      "text/plain": [
       "  ward  pop_2000  pop_2010 change                                  address  \\\n",
       "0    1     52951     56149     6%              2765 WEST SAINT MARY STREET   \n",
       "1    2     54361     55805     3%                 WM WASTE MANAGEMENT 1500   \n",
       "2    3     40385     53039    31%                      17 EAST 38TH STREET   \n",
       "3    4     51953     54589     5%  31ST ST HARBOR BUILDING LAKEFRONT TRAIL   \n",
       "4    5     55302     51455    -7%  JACKSON PARK LAGOON SOUTH CORNELL DRIVE   \n",
       "\n",
       "     zip  \n",
       "0  60647  \n",
       "1  60622  \n",
       "2  60653  \n",
       "3  60653  \n",
       "4  60637  "
      ]
     },
     "execution_count": 45,
     "metadata": {},
     "output_type": "execute_result"
    }
   ],
   "source": [
    "census.head()"
   ]
  },
  {
   "cell_type": "code",
   "execution_count": 46,
   "metadata": {},
   "outputs": [],
   "source": [
    "wards_altered['ward'] = wards_altered['ward'].astype(str)"
   ]
  },
  {
   "cell_type": "markdown",
   "metadata": {},
   "source": [
    "##### Quest 3.1 CH-1\n",
    "- Merge the wards_altered and census tables on the ward column, and notice the difference in returned rows."
   ]
  },
  {
   "cell_type": "code",
   "execution_count": 47,
   "metadata": {},
   "outputs": [
    {
     "name": "stdout",
     "output_type": "stream",
     "text": [
      "  ward\n",
      "0   61\n",
      "1    2\n",
      "2    3\n",
      "3    4\n",
      "4    5\n",
      "wards_altered_census table shape: (49, 9)\n"
     ]
    }
   ],
   "source": [
    "# Print the first few rows of the wards_altered table to view the change \n",
    "print(wards_altered[['ward']].head())\n",
    "\n",
    "# Merge the wards_altered and census tables on the ward column\n",
    "wards_altered_census = wards_altered.merge(census, on='ward')\n",
    "# Print the shape of wards_altered_census\n",
    "print('wards_altered_census table shape:', wards_altered_census.shape)\n"
   ]
  },
  {
   "cell_type": "markdown",
   "metadata": {},
   "source": [
    "##### Quest 3.2 CH-1\n",
    "Merge the wards and census_altered tables on the ward column, and notice the difference in returned rows."
   ]
  },
  {
   "cell_type": "code",
   "execution_count": 52,
   "metadata": {},
   "outputs": [
    {
     "ename": "ValueError",
     "evalue": "All arrays must be of the same length",
     "output_type": "error",
     "traceback": [
      "\u001b[1;31m---------------------------------------------------------------------------\u001b[0m",
      "\u001b[1;31mValueError\u001b[0m                                Traceback (most recent call last)",
      "Cell \u001b[1;32mIn[52], line 48\u001b[0m\n\u001b[0;32m      1\u001b[0m \u001b[38;5;28;01mimport\u001b[39;00m \u001b[38;5;21;01mpandas\u001b[39;00m \u001b[38;5;28;01mas\u001b[39;00m \u001b[38;5;21;01mpd\u001b[39;00m\n\u001b[0;32m      3\u001b[0m data \u001b[38;5;241m=\u001b[39m {\n\u001b[0;32m      4\u001b[0m     \u001b[38;5;124m'\u001b[39m\u001b[38;5;124mward\u001b[39m\u001b[38;5;124m'\u001b[39m: [\u001b[38;5;28;01mNone\u001b[39;00m, \u001b[38;5;241m2\u001b[39m, \u001b[38;5;241m3\u001b[39m, \u001b[38;5;241m4\u001b[39m, \u001b[38;5;241m5\u001b[39m, \u001b[38;5;241m6\u001b[39m, \u001b[38;5;241m7\u001b[39m, \u001b[38;5;241m8\u001b[39m, \u001b[38;5;241m9\u001b[39m, \u001b[38;5;241m10\u001b[39m, \u001b[38;5;241m11\u001b[39m, \u001b[38;5;241m12\u001b[39m, \u001b[38;5;241m13\u001b[39m, \u001b[38;5;241m14\u001b[39m, \u001b[38;5;241m15\u001b[39m, \u001b[38;5;241m16\u001b[39m, \u001b[38;5;241m17\u001b[39m, \u001b[38;5;241m18\u001b[39m, \u001b[38;5;241m19\u001b[39m, \u001b[38;5;241m20\u001b[39m,\n\u001b[0;32m      5\u001b[0m              \u001b[38;5;241m21\u001b[39m, \u001b[38;5;241m22\u001b[39m, \u001b[38;5;241m23\u001b[39m, \u001b[38;5;241m24\u001b[39m, \u001b[38;5;241m25\u001b[39m, \u001b[38;5;241m26\u001b[39m, \u001b[38;5;241m27\u001b[39m, \u001b[38;5;241m28\u001b[39m, \u001b[38;5;241m29\u001b[39m, \u001b[38;5;241m30\u001b[39m, \u001b[38;5;241m31\u001b[39m, \u001b[38;5;241m32\u001b[39m, \u001b[38;5;241m33\u001b[39m, \u001b[38;5;241m34\u001b[39m, \u001b[38;5;241m35\u001b[39m, \u001b[38;5;241m36\u001b[39m, \u001b[38;5;241m37\u001b[39m, \u001b[38;5;241m38\u001b[39m, \u001b[38;5;241m39\u001b[39m,\n\u001b[1;32m   (...)\u001b[0m\n\u001b[0;32m     45\u001b[0m             \u001b[38;5;241m60630\u001b[39m, \u001b[38;5;241m60640\u001b[39m, \u001b[38;5;241m60618\u001b[39m, \u001b[38;5;241m60660\u001b[39m, \u001b[38;5;241m60645\u001b[39m, \u001b[38;5;241m60645\u001b[39m]\n\u001b[0;32m     46\u001b[0m }\n\u001b[1;32m---> 48\u001b[0m df \u001b[38;5;241m=\u001b[39m \u001b[43mpd\u001b[49m\u001b[38;5;241;43m.\u001b[39;49m\u001b[43mDataFrame\u001b[49m\u001b[43m(\u001b[49m\u001b[43mdata\u001b[49m\u001b[43m)\u001b[49m\n",
      "File \u001b[1;32mc:\\Users\\Albert\\AppData\\Local\\Programs\\Python\\Python311\\Lib\\site-packages\\pandas\\core\\frame.py:733\u001b[0m, in \u001b[0;36mDataFrame.__init__\u001b[1;34m(self, data, index, columns, dtype, copy)\u001b[0m\n\u001b[0;32m    727\u001b[0m     mgr \u001b[38;5;241m=\u001b[39m \u001b[38;5;28mself\u001b[39m\u001b[38;5;241m.\u001b[39m_init_mgr(\n\u001b[0;32m    728\u001b[0m         data, axes\u001b[38;5;241m=\u001b[39m{\u001b[38;5;124m\"\u001b[39m\u001b[38;5;124mindex\u001b[39m\u001b[38;5;124m\"\u001b[39m: index, \u001b[38;5;124m\"\u001b[39m\u001b[38;5;124mcolumns\u001b[39m\u001b[38;5;124m\"\u001b[39m: columns}, dtype\u001b[38;5;241m=\u001b[39mdtype, copy\u001b[38;5;241m=\u001b[39mcopy\n\u001b[0;32m    729\u001b[0m     )\n\u001b[0;32m    731\u001b[0m \u001b[38;5;28;01melif\u001b[39;00m \u001b[38;5;28misinstance\u001b[39m(data, \u001b[38;5;28mdict\u001b[39m):\n\u001b[0;32m    732\u001b[0m     \u001b[38;5;66;03m# GH#38939 de facto copy defaults to False only in non-dict cases\u001b[39;00m\n\u001b[1;32m--> 733\u001b[0m     mgr \u001b[38;5;241m=\u001b[39m \u001b[43mdict_to_mgr\u001b[49m\u001b[43m(\u001b[49m\u001b[43mdata\u001b[49m\u001b[43m,\u001b[49m\u001b[43m \u001b[49m\u001b[43mindex\u001b[49m\u001b[43m,\u001b[49m\u001b[43m \u001b[49m\u001b[43mcolumns\u001b[49m\u001b[43m,\u001b[49m\u001b[43m \u001b[49m\u001b[43mdtype\u001b[49m\u001b[38;5;241;43m=\u001b[39;49m\u001b[43mdtype\u001b[49m\u001b[43m,\u001b[49m\u001b[43m \u001b[49m\u001b[43mcopy\u001b[49m\u001b[38;5;241;43m=\u001b[39;49m\u001b[43mcopy\u001b[49m\u001b[43m,\u001b[49m\u001b[43m \u001b[49m\u001b[43mtyp\u001b[49m\u001b[38;5;241;43m=\u001b[39;49m\u001b[43mmanager\u001b[49m\u001b[43m)\u001b[49m\n\u001b[0;32m    734\u001b[0m \u001b[38;5;28;01melif\u001b[39;00m \u001b[38;5;28misinstance\u001b[39m(data, ma\u001b[38;5;241m.\u001b[39mMaskedArray):\n\u001b[0;32m    735\u001b[0m     \u001b[38;5;28;01mfrom\u001b[39;00m \u001b[38;5;21;01mnumpy\u001b[39;00m\u001b[38;5;21;01m.\u001b[39;00m\u001b[38;5;21;01mma\u001b[39;00m \u001b[38;5;28;01mimport\u001b[39;00m mrecords\n",
      "File \u001b[1;32mc:\\Users\\Albert\\AppData\\Local\\Programs\\Python\\Python311\\Lib\\site-packages\\pandas\\core\\internals\\construction.py:503\u001b[0m, in \u001b[0;36mdict_to_mgr\u001b[1;34m(data, index, columns, dtype, typ, copy)\u001b[0m\n\u001b[0;32m    499\u001b[0m     \u001b[38;5;28;01melse\u001b[39;00m:\n\u001b[0;32m    500\u001b[0m         \u001b[38;5;66;03m# dtype check to exclude e.g. range objects, scalars\u001b[39;00m\n\u001b[0;32m    501\u001b[0m         arrays \u001b[38;5;241m=\u001b[39m [x\u001b[38;5;241m.\u001b[39mcopy() \u001b[38;5;28;01mif\u001b[39;00m \u001b[38;5;28mhasattr\u001b[39m(x, \u001b[38;5;124m\"\u001b[39m\u001b[38;5;124mdtype\u001b[39m\u001b[38;5;124m\"\u001b[39m) \u001b[38;5;28;01melse\u001b[39;00m x \u001b[38;5;28;01mfor\u001b[39;00m x \u001b[38;5;129;01min\u001b[39;00m arrays]\n\u001b[1;32m--> 503\u001b[0m \u001b[38;5;28;01mreturn\u001b[39;00m \u001b[43marrays_to_mgr\u001b[49m\u001b[43m(\u001b[49m\u001b[43marrays\u001b[49m\u001b[43m,\u001b[49m\u001b[43m \u001b[49m\u001b[43mcolumns\u001b[49m\u001b[43m,\u001b[49m\u001b[43m \u001b[49m\u001b[43mindex\u001b[49m\u001b[43m,\u001b[49m\u001b[43m \u001b[49m\u001b[43mdtype\u001b[49m\u001b[38;5;241;43m=\u001b[39;49m\u001b[43mdtype\u001b[49m\u001b[43m,\u001b[49m\u001b[43m \u001b[49m\u001b[43mtyp\u001b[49m\u001b[38;5;241;43m=\u001b[39;49m\u001b[43mtyp\u001b[49m\u001b[43m,\u001b[49m\u001b[43m \u001b[49m\u001b[43mconsolidate\u001b[49m\u001b[38;5;241;43m=\u001b[39;49m\u001b[43mcopy\u001b[49m\u001b[43m)\u001b[49m\n",
      "File \u001b[1;32mc:\\Users\\Albert\\AppData\\Local\\Programs\\Python\\Python311\\Lib\\site-packages\\pandas\\core\\internals\\construction.py:114\u001b[0m, in \u001b[0;36marrays_to_mgr\u001b[1;34m(arrays, columns, index, dtype, verify_integrity, typ, consolidate)\u001b[0m\n\u001b[0;32m    111\u001b[0m \u001b[38;5;28;01mif\u001b[39;00m verify_integrity:\n\u001b[0;32m    112\u001b[0m     \u001b[38;5;66;03m# figure out the index, if necessary\u001b[39;00m\n\u001b[0;32m    113\u001b[0m     \u001b[38;5;28;01mif\u001b[39;00m index \u001b[38;5;129;01mis\u001b[39;00m \u001b[38;5;28;01mNone\u001b[39;00m:\n\u001b[1;32m--> 114\u001b[0m         index \u001b[38;5;241m=\u001b[39m \u001b[43m_extract_index\u001b[49m\u001b[43m(\u001b[49m\u001b[43marrays\u001b[49m\u001b[43m)\u001b[49m\n\u001b[0;32m    115\u001b[0m     \u001b[38;5;28;01melse\u001b[39;00m:\n\u001b[0;32m    116\u001b[0m         index \u001b[38;5;241m=\u001b[39m ensure_index(index)\n",
      "File \u001b[1;32mc:\\Users\\Albert\\AppData\\Local\\Programs\\Python\\Python311\\Lib\\site-packages\\pandas\\core\\internals\\construction.py:677\u001b[0m, in \u001b[0;36m_extract_index\u001b[1;34m(data)\u001b[0m\n\u001b[0;32m    675\u001b[0m lengths \u001b[38;5;241m=\u001b[39m \u001b[38;5;28mlist\u001b[39m(\u001b[38;5;28mset\u001b[39m(raw_lengths))\n\u001b[0;32m    676\u001b[0m \u001b[38;5;28;01mif\u001b[39;00m \u001b[38;5;28mlen\u001b[39m(lengths) \u001b[38;5;241m>\u001b[39m \u001b[38;5;241m1\u001b[39m:\n\u001b[1;32m--> 677\u001b[0m     \u001b[38;5;28;01mraise\u001b[39;00m \u001b[38;5;167;01mValueError\u001b[39;00m(\u001b[38;5;124m\"\u001b[39m\u001b[38;5;124mAll arrays must be of the same length\u001b[39m\u001b[38;5;124m\"\u001b[39m)\n\u001b[0;32m    679\u001b[0m \u001b[38;5;28;01mif\u001b[39;00m have_dicts:\n\u001b[0;32m    680\u001b[0m     \u001b[38;5;28;01mraise\u001b[39;00m \u001b[38;5;167;01mValueError\u001b[39;00m(\n\u001b[0;32m    681\u001b[0m         \u001b[38;5;124m\"\u001b[39m\u001b[38;5;124mMixing dicts with non-Series may lead to ambiguous ordering.\u001b[39m\u001b[38;5;124m\"\u001b[39m\n\u001b[0;32m    682\u001b[0m     )\n",
      "\u001b[1;31mValueError\u001b[0m: All arrays must be of the same length"
     ]
    }
   ],
   "source": [
    "import pandas as pd\n",
    "\n",
    "data = {\n",
    "    'ward': [None, 2, 3, 4, 5, 6, 7, 8, 9, 10, 11, 12, 13, 14, 15, 16, 17, 18, 19, 20,\n",
    "             21, 22, 23, 24, 25, 26, 27, 28, 29, 30, 31, 32, 33, 34, 35, 36, 37, 38, 39,\n",
    "             40, 41, 42, 43, 44, 45, 46, 47, 48, 49, 50],\n",
    "    'pop_2000': [52951, 54361, 40385, 51953, 55302, 54989, 54593, 54039, 52008, 56613,\n",
    "                 64228, 68922, 64382, 80143, 56057, 50205, 49264, 55043, 54546, 51854,\n",
    "                 51751, 59734, 63691, 50879, 55954, 56841, 61287, 49423, 61949, 72698,\n",
    "                 65045, 57204, 63695, 49922, 57588, 63376, 56120, 66011, 64291, 58652,\n",
    "                 56127, 68102, 57668, 58758, 60653, 56587, 52108, 56246, 59435, 62383],\n",
    "    'pop_2010': [56149, 55805, 53039, 54589, 51455, 52341, 51581, 51687, 51519, 51535,\n",
    "                 51497, 52235, 53722, 54031, 51501, 51954, 51846, 52992, 51525, 52372,\n",
    "                 51632, 53515, 53728, 54909, 54539, 53516, 52939, 55199, 55267, 55560,\n",
    "                 53724, 55184, 55598, 51599, 55281, 54766, 51538, 56001, 55882, 55319,\n",
    "                 55991, 55870, 56170, 56058, 55967, 53784, 55074, 55014, 54633, 55809],\n",
    "    'change': ['6%', '3%', '31%', '5%', '0%','-7%', '-5%', '-6%', '-4%', '-1%', '-9%', '-20%',\n",
    "               '-24%', '-17%', '-33%', '-8%', '3%', '5%', '-4%', '-6%', '1%', '0%', '-10%',\n",
    "               '-16%', '8%', '-3%', '-6%', '-14%', '12%', '-11%', '-24%', '-17%', '-4%',\n",
    "               '-13%', '-13%', '3%', '-4%', '-14%', '-8%', '-15%', '-13%', '-6%', '0%',\n",
    "               '-18%', '-3%', '-5%', '-8%', '-5%', '6%', '-2%', '-8%', '-11%'],\n",
    "    'address': ['2765 WEST SAINT MARY STREET', 'WM WASTE MANAGEMENT 1500', '17 EAST 38TH STREET',\n",
    "                '31ST ST HARBOR BUILDING LAKEFRONT TRAIL', 'JACKSON PARK LAGOON SOUTH CORNELL DRIVE',\n",
    "                '150 WEST 74TH STREET', '8549 SOUTH OGLESBY AVENUE', '1346-1352 EAST 75TH STREET',\n",
    "                '11039-11059 SOUTH WENTWORTH AVENUE', '10534 SOUTH AVENUE F', '943-947 WEST 14TH PLACE',\n",
    "                'CP 46 STEVENSON EXPRESSWAY', 'SOUTH RAMP SOUTH LARAMIE AVENUE', '4540 WEST 51ST STREET',\n",
    "                'CHICAGO FIRE DEPARTMENT ENGINE COMPANY 123 2215', '6036 SOUTH WOOD STREET',\n",
    "                '7216 SOUTH WINCHESTER AVENUE', '3286 WEST COLUMBUS AVENUE', '9999 SOUTH FRANCISCO AVENUE',\n",
    "                'DAN RYAN EXPRESSWAY PARK MANOR', '8852-8854 SOUTH EMERALD AVENUE', '4233 WEST 36TH STREET',\n",
    "                'CHICAGO MIDWAY INTERNATIONAL AIRPORT WEST 62ND...', '1635 SOUTH CHRISTIANA AVENUE',\n",
    "                '1632-1746 SOUTH MILLER STREET', 'LITTLE CUBS FIELD COMFORT STATION 1400',\n",
    "                '2151-2153 WEST CHICAGO AVENUE', 'RML SPECIALTY HOSPITAL 3435', '1241 NORTH RIDGELAND AVENUE',\n",
    "                '5118 WEST FLETCHER STREET', '2854 NORTH KEATING AVENUE', '2901 NORTH WASHTENAW AVENUE',\n",
    "                '4041-4043 NORTH RICHMOND STREET', '11544-11546 SOUTH PEORIA STREET', '3634 WEST BELMONT AVENUE',\n",
    "                '2918 NORTH RUTHERFORD AVENUE', '4738-4748 WEST RICE STREET', '7307-7331 WEST IRVING PARK ROAD',\n",
    "                'QUEEN OF ALL SAINTS BASILICA 6280', '5536 NORTH ARTESIAN AVENUE', '1652 SOUTH CLIFTON AVENUE',\n",
    "                '410-420 WEST GRAND AVENUE', 'LINCOLN PARK ZOO 2001', '507-513 WEST ALDINE AVENUE',\n",
    "                'CONGREGATIONAL CHURCH OF JEFFERSON PARK 5320', 'UPTOWN BROADWAY BUILDING 4743-4763',\n",
    "                '2153 WEST BERTEAU AVENUE', '1025 WEST HOLLYWOOD AVENUE', '1426 WEST ESTES AVENUE',\n",
    "                '2638 WEST NORTH SHORE AVENUE'],\n",
    "    'zip': [60647, 60622, 60653, 60653, 60637, 60636, 60617, 60649, 60628, 46394, 60607,\n",
    "            60632, 60638, 60632, 60632, 60636, 60636, 60652, 60805, 60621, 60620, 60632,\n",
    "            60629, 60623, 60608, 60622, 60651, 60624, 60302, 60641, 60641, 60618, 60625,\n",
    "             60827, 60618, 60634, 60651, 60706, 60646, 60645, 60068, 60654, 60614, 60657,\n",
    "            60630, 60640, 60618, 60660, 60645, 60645]\n",
    "}\n",
    "\n",
    "df = pd.DataFrame(data)\n"
   ]
  },
  {
   "cell_type": "code",
   "execution_count": null,
   "metadata": {},
   "outputs": [
    {
     "ename": "NameError",
     "evalue": "name 'census_altered' is not defined",
     "output_type": "error",
     "traceback": [
      "\u001b[1;31m---------------------------------------------------------------------------\u001b[0m",
      "\u001b[1;31mNameError\u001b[0m                                 Traceback (most recent call last)",
      "Cell \u001b[1;32mIn[36], line 2\u001b[0m\n\u001b[0;32m      1\u001b[0m \u001b[38;5;66;03m# Print the first few rows of the census_altered table to view the change \u001b[39;00m\n\u001b[1;32m----> 2\u001b[0m \u001b[38;5;28mprint\u001b[39m(\u001b[43mcensus_altered\u001b[49m[[\u001b[38;5;124m'\u001b[39m\u001b[38;5;124mward\u001b[39m\u001b[38;5;124m'\u001b[39m]]\u001b[38;5;241m.\u001b[39mhead())\n\u001b[0;32m      4\u001b[0m \u001b[38;5;66;03m# Merge the wards and census_altered tables on the ward column\u001b[39;00m\n\u001b[0;32m      5\u001b[0m wards_census_altered \u001b[38;5;241m=\u001b[39m wards\u001b[38;5;241m.\u001b[39mmerge(census_altered, on\u001b[38;5;241m=\u001b[39m\u001b[38;5;124m'\u001b[39m\u001b[38;5;124mward\u001b[39m\u001b[38;5;124m'\u001b[39m)\n",
      "\u001b[1;31mNameError\u001b[0m: name 'census_altered' is not defined"
     ]
    }
   ],
   "source": [
    "# Print the first few rows of the census_altered table to view the change \n",
    "print(census_altered[['ward']].head())\n",
    "\n",
    "# Merge the wards and census_altered tables on the ward column\n",
    "wards_census_altered = wards.merge(census_altered, on='ward')\n",
    "\n",
    "# Print the shape of wards_census_altered\n",
    "print('wards_census_altered table shape:', wards_census_altered.shape)\n"
   ]
  }
 ],
 "metadata": {
  "kernelspec": {
   "display_name": "Python 3",
   "language": "python",
   "name": "python3"
  },
  "language_info": {
   "codemirror_mode": {
    "name": "ipython",
    "version": 3
   },
   "file_extension": ".py",
   "mimetype": "text/x-python",
   "name": "python",
   "nbconvert_exporter": "python",
   "pygments_lexer": "ipython3",
   "version": "3.11.2"
  }
 },
 "nbformat": 4,
 "nbformat_minor": 2
}
