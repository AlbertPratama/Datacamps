{
 "cells": [
  {
   "cell_type": "code",
   "execution_count": 1,
   "metadata": {},
   "outputs": [],
   "source": [
    "# # KODE UNTUK COPAS DATASET(HAPUS INDEX, PRINT SOMETHING COLUMN)\n",
    "# pd.set_option('display.max_columns', None)\n",
    "# pd.set_option('display.max_rows', None)\n",
    "\n",
    "# nama_varPDFrames.set_index('index_pengganti', inplace=True)\n",
    "\n",
    "# nama_varPDFrames.reset_index(drop=True, inplace=True)\n",
    "\n",
    "# print(nama_varPDFrames['columnYangDicetak'].to_string(index=False, header=False))"
   ]
  },
  {
   "cell_type": "code",
   "execution_count": 2,
   "metadata": {},
   "outputs": [],
   "source": [
    "import pandas as pd\n",
    "import numpy as np"
   ]
  },
  {
   "cell_type": "code",
   "execution_count": 3,
   "metadata": {},
   "outputs": [
    {
     "name": "stdout",
     "output_type": "stream",
     "text": [
      "  country  year           gdp\n",
      "0     USA  2010  1.499000e+13\n",
      "1     USA  2011  1.554000e+13\n",
      "2     USA  2012  1.620000e+13\n",
      "3     USA  2012  1.620000e+13\n",
      "4     USA  2013  1.678000e+13\n",
      "5     USA  2014  1.752000e+13\n",
      "6     USA  2015  1.822000e+13\n",
      "7     USA  2016  1.871000e+13\n",
      "8     USA  2017  1.949000e+13\n",
      "9     USA  2018  2.049000e+13\n"
     ]
    }
   ],
   "source": [
    "data = {\n",
    "    'country': ['USA', 'USA', 'USA', 'USA', 'USA', 'USA', 'USA', 'USA', 'USA', 'USA'],\n",
    "    'year': [2010, 2011, 2012, 2012, 2013, 2014, 2015, 2016, 2017, 2018],\n",
    "    'gdp': [1.499e13, 1.554e13, 1.620e13, 1.620e13, 1.678e13, 1.752e13, 1.822e13, 1.871e13, 1.949e13, 2.049e13]\n",
    "}\n",
    "\n",
    "df = pd.DataFrame(data)\n",
    "print(df)"
   ]
  },
  {
   "cell_type": "code",
   "execution_count": 4,
   "metadata": {},
   "outputs": [],
   "source": [
    "# df.to_csv('gdp.csv', index=False)"
   ]
  },
  {
   "cell_type": "code",
   "execution_count": 5,
   "metadata": {},
   "outputs": [
    {
     "name": "stdout",
     "output_type": "stream",
     "text": [
      "         date  unemployment_rate\n",
      "0  2013-06-01                7.5\n",
      "1  2014-01-01                6.7\n",
      "2  2014-06-01                6.1\n",
      "3  2015-01-01                5.6\n",
      "4  2015-06-01                5.3\n"
     ]
    }
   ],
   "source": [
    "data = {\n",
    "    'date': ['2013-06-01', '2014-01-01', '2014-06-01', '2015-01-01', '2015-06-01', '2016-01-01', '2016-06-01',\n",
    "              '2017-01-01', '2017-06-01', '2018-01-01', '2018-06-01', '2019-01-01', '2019-06-01', '2020-01-01'],\n",
    "    'unemployment_rate': [7.5, 6.7, 6.1, 5.6, 5.3, 5.0, 4.9, 4.7, 4.3, 4.1, 4.0, 3.9, 3.7, 3.5]\n",
    "}\n",
    "\n",
    "data = pd.DataFrame(data)\n",
    "print(data.head())"
   ]
  },
  {
   "cell_type": "code",
   "execution_count": 6,
   "metadata": {},
   "outputs": [],
   "source": [
    "# data.to_excel('unemployment.xlsx', index=False)"
   ]
  },
  {
   "cell_type": "code",
   "execution_count": 7,
   "metadata": {},
   "outputs": [],
   "source": [
    "data = {\n",
    "    'metric': ['open', 'high', 'low', 'close'],\n",
    "    '2007-02-01': [0.033, -0.007, -0.016, -0.057],\n",
    "    '2007-03-01': [-0.060, -0.041, -0.008, 0.022],\n",
    "    '2007-04-01': [0.025, 0.022, 0.031, -0.004],\n",
    "    '2007-05-01': [-0.004, 0.031, -0.002, 0.056],\n",
    "    '2007-06-01': [0.061, 0.080, 0.059, 0.029],\n",
    "    '2007-07-01': [0.027, -0.022, -0.027, -0.052],\n",
    "    '2007-08-01': [-0.059, -0.060, -0.052, -0.049],\n",
    "    '2007-09-01': [-0.046, -0.038, -0.043, 0.009],\n",
    "    '2007-10-01': [0.014, 0.004, 0.003, -0.023],\n",
    "    '2007-11-01': [-0.027, -0.056, -0.108, -0.112],\n",
    "    '2007-12-01': [-0.115, -0.039, -0.001, 0.016],\n",
    "    '2008-01-01': [0.023, -0.053, -0.146, -0.098],\n",
    "    '2008-02-01': [-0.094, -0.023, 0.075, -0.029],\n",
    "    '2008-03-01': [-0.025, -0.065, -0.067, -0.029],\n",
    "    '2008-04-01': [-0.021, 0.050, 0.043, 0.095],\n",
    "    '2008-05-01': [0.076, 0.065, 0.073, 0.076],\n",
    "    '2008-06-01': [0.073, 0.045, 0.047, -0.017],\n",
    "    '2008-07-01': [-0.021, -0.035, -0.023, 0.000],\n",
    "    '2008-08-01': [0.000, -0.020, -0.002, -0.042],\n",
    "    '2008-09-01': [-0.024, -0.045, -0.136, 0.004],\n",
    "    '2008-10-01': [-0.026, 0.052, 0.046, 0.037],\n",
    "    '2008-11-01': [0.050, -0.035, -0.138, -0.255],\n",
    "    '2008-12-01': [-0.268, -0.272, -0.304, -0.241],\n",
    "    '2009-01-01': [-0.236, -0.011, 0.059, 0.267],\n",
    "    '2009-02-01': [0.286, 0.069, 0.217, 0.069],\n",
    "    '2009-03-01': [0.046, -0.004, -0.062, -0.117],\n",
    "    '2009-04-01': [-0.103, 0.041, 0.069, 0.164],\n",
    "    '2009-05-01': [0.191, 0.187, 0.168, 0.109],\n",
    "    '2009-06-01': [0.107, 0.068, 0.123, 0.017],\n",
    "    '2009-07-01': [0.024, -0.062, -0.055, -0.006],\n",
    "    '2009-08-01': [-0.007, 0.032, 0.040, -0.029],\n",
    "    '2009-09-01': [-0.047, -0.090, -0.036, -0.028],\n",
    "    '2009-10-01': [-0.032, 0.012, -0.051, 0.026],\n",
    "    '2009-11-01': [0.034, -0.004, 0.030, -0.056],\n",
    "    '2009-12-01': [-0.051, 0.099, 0.007, 0.201]\n",
    "}\n",
    "\n",
    "# Create DataFrame\n",
    "df = pd.DataFrame(data)\n",
    "\n",
    "# Set 'metric' column as index\n",
    "df.set_index('metric', inplace=True)\n",
    "\n"
   ]
  },
  {
   "cell_type": "code",
   "execution_count": 8,
   "metadata": {},
   "outputs": [],
   "source": [
    "# df.to_csv('ten_yr.csv', index=False)"
   ]
  }
 ],
 "metadata": {
  "kernelspec": {
   "display_name": "Python 3",
   "language": "python",
   "name": "python3"
  },
  "language_info": {
   "codemirror_mode": {
    "name": "ipython",
    "version": 3
   },
   "file_extension": ".py",
   "mimetype": "text/x-python",
   "name": "python",
   "nbconvert_exporter": "python",
   "pygments_lexer": "ipython3",
   "version": "3.11.2"
  }
 },
 "nbformat": 4,
 "nbformat_minor": 2
}
