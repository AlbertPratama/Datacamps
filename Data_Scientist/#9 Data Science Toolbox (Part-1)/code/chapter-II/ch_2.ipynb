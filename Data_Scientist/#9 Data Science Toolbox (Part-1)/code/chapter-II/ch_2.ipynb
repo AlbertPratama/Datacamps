{
 "cells": [
  {
   "cell_type": "markdown",
   "metadata": {},
   "source": [
    "#### `Pop quiz on understanding scope`\n",
    "In this exercise, you will practice what you've learned about scope in functions. The variable __num__ has been predefined as ___5___, alongside the following function definitions:\n",
    "\n",
    "- def func1():\n",
    "    - num = 3\n",
    "    - print(num)\n",
    "\n",
    "- def func2():\n",
    "    - global num\n",
    "    - double_num = num * 2\n",
    "    - num = 6\n",
    "    - print(double_num)\n",
    "\n",
    "Try calling __func1()__ and __func2()__ in the shell, then answer the following questions:\n",
    "\n",
    "What are the values printed out when you call __func1()__ and __func2()__?\n",
    "What is the value of __num__ in the global scope after calling __func1()__ and __func2()__?"
   ]
  },
  {
   "cell_type": "code",
   "execution_count": 30,
   "metadata": {},
   "outputs": [],
   "source": [
    "def func1():\n",
    "    num = 3\n",
    "    print(num)\n",
    "\n",
    "def func2():\n",
    "    global num\n",
    "    double_num = num * 2\n",
    "    num = 6\n",
    "    print(double_num)"
   ]
  },
  {
   "cell_type": "markdown",
   "metadata": {},
   "source": [
    "#### `Possible answers`\n",
    "\n",
    "- __func1()__ prints out ____3____, __func2()__ prints out ___6___, and the value of __num__ in the global scope is ____3____.\n",
    "\n",
    "- __func1()__ prints out ____3____, __func2()__ prints out ____3____, and the value of __num__ in the global scope is ____3____.\n",
    "\n",
    "- __func1()__ prints out ____3____, __func2()__ prints out ___10___, and the value of __num__ in the global scope is ___10___.\n",
    "\n",
    "- `func1() prints out 3, func2() prints out 10, and the value of num in the global scope is 6.`"
   ]
  },
  {
   "cell_type": "markdown",
   "metadata": {},
   "source": [
    "#### `The keyword global`\n",
    "Let's work more on your mastery of scope. In this exercise, you will use the keyword global within a function to alter the value of a variable defined in the __global__ scope."
   ]
  },
  {
   "cell_type": "markdown",
   "metadata": {},
   "source": [
    "- Use the keyword __global__ to alter the object __team__ in the __global__ scope.\n",
    "- Change the value of __team__ in the __global__ scope to the string \"__justice league__\". Assign the result to __team__.\n",
    "- Hit the Submit button to see how executing your newly defined function __change_team()__ changes the value of the name team!"
   ]
  },
  {
   "cell_type": "code",
   "execution_count": 31,
   "metadata": {},
   "outputs": [
    {
     "name": "stdout",
     "output_type": "stream",
     "text": [
      "teen titans\n",
      "justice league\n"
     ]
    }
   ],
   "source": [
    "# Create a string: team\n",
    "team = \"teen titans\"\n",
    "\n",
    "# Define change_team()\n",
    "def change_team():\n",
    "    \"\"\"Change the value of the global variable team.\"\"\"\n",
    "\n",
    "    # Use team in global scope\n",
    "    global team\n",
    "\n",
    "    # Change the value of team in global: team\n",
    "    global team\n",
    "    team = \"justice league\"\n",
    "# Print team\n",
    "print(team)\n",
    "\n",
    "# Call change_team()\n",
    "change_team()\n",
    "\n",
    "# Print team\n",
    "print(team)"
   ]
  },
  {
   "cell_type": "markdown",
   "metadata": {},
   "source": [
    "#### `Python's built-in scope`\n",
    "Here you're going to check out Python's built-in scope, which is really just a built-in module called __builtins__. However, to query __builtins__, you'll need to __import builtins__ 'because the name __builtins__ is not itself built in…No, I’m serious!' (Learning Python, 5th edition, Mark Lutz). After executing __import builtins__ in the IPython Shell, execute __dir(builtins)__ to print a list of all the names in the module __builtins__. Have a look and you'll see a bunch of names that you'll recognize! Which of the following names is NOT in the module __builtins__?"
   ]
  },
  {
   "cell_type": "code",
   "execution_count": 32,
   "metadata": {},
   "outputs": [
    {
     "name": "stdout",
     "output_type": "stream",
     "text": [
      "sum\n",
      "range\n",
      "tuple\n"
     ]
    }
   ],
   "source": [
    "import builtins\n",
    "\n",
    "builtins_name = dir(builtins)\n",
    "\n",
    "check = ['sum', 'range', 'array', 'tuple']\n",
    "\n",
    "for option in check:\n",
    "  if option in builtins_name:\n",
    "    print(option)"
   ]
  },
  {
   "cell_type": "markdown",
   "metadata": {},
   "source": [
    "#### `Possible answers`\n",
    "\n",
    "- 'sum'\n",
    "- 'range'\n",
    "- `'array'`\n",
    "- 'tuple'"
   ]
  },
  {
   "cell_type": "markdown",
   "metadata": {},
   "source": [
    "#### `Nested Functions I`\n",
    "You've learned in the last video about nesting functions within functions. One reason why you'd like to do this is to avoid writing out the same computations within functions repeatedly. There's nothing new about defining nested functions: you simply define it as you would a regular function with __def__ and embed it inside another function!\n",
    "\n",
    "In this exercise, inside a function __three_shouts()__, you will define a nested function __inner()__ that concatenates a string object with __!!!__. three_shouts() then returns a tuple of three elements, each a string concatenated with __!!!__ using __inner()__. Go for it!"
   ]
  },
  {
   "cell_type": "markdown",
   "metadata": {},
   "source": [
    "- Complete the function header of the nested function with the function name __inner()__ and a single parameter __word__.\n",
    "- Complete the return value: each element of the tuple should be a call to __inner()__, passing in the parameters from __three_shouts()__ as arguments to each call."
   ]
  },
  {
   "cell_type": "code",
   "execution_count": 33,
   "metadata": {},
   "outputs": [
    {
     "name": "stdout",
     "output_type": "stream",
     "text": [
      "('a!!!', 'b!!!', 'c!!!')\n"
     ]
    }
   ],
   "source": [
    "# Define three_shouts\n",
    "def three_shouts(word1, word2, word3):\n",
    "    \"\"\"Returns a tuple of strings\n",
    "    concatenated with '!!!'.\"\"\"\n",
    "\n",
    "    # Define inner\n",
    "    def inner(word):\n",
    "        \"\"\"Returns a string concatenated with '!!!'.\"\"\"\n",
    "        return word + '!!!'\n",
    "\n",
    "    # Return a tuple of strings\n",
    "    return (inner(word1), inner(word2), inner(word3))\n",
    "\n",
    "# Call three_shouts() and print\n",
    "print(three_shouts('a', 'b', 'c'))"
   ]
  },
  {
   "cell_type": "markdown",
   "metadata": {},
   "source": [
    "#### `Nested Functions II`\n",
    "Great job, you've just nested a function within another function. One other pretty cool reason for nesting functions is the idea of a closure. This means that the nested or inner function remembers the state of its enclosing scope when called. Thus, anything defined locally in the enclosing scope is available to the inner function even when the outer function has finished execution.\n",
    "\n",
    "Let's move forward then! In this exercise, you will complete the definition of the inner function __inner_echo()__ and then call __echo()__ a couple of times, each with a different argument. Complete the exercise and see what the output will be!"
   ]
  },
  {
   "cell_type": "markdown",
   "metadata": {},
   "source": [
    "- Complete the function header of the inner function with the function name __inner_echo()__ and a single parameter __word1__.\n",
    "- Complete the function __echo()__ so that it returns __inner_echo__.\n",
    "- We have called __echo()__, passing ___2___ as an argument, and assigned the resulting function to __twice__. Your job is to call __echo()__, passing ___3___ as an argument. Assign the resulting function to __thrice__.\n",
    "- Hit Submit to call __twice()__ and __thrice()__ and print the results."
   ]
  },
  {
   "cell_type": "code",
   "execution_count": 34,
   "metadata": {},
   "outputs": [
    {
     "name": "stdout",
     "output_type": "stream",
     "text": [
      "hellohello hellohellohello\n"
     ]
    }
   ],
   "source": [
    "# Define echo\n",
    "def echo(n):\n",
    "    \"\"\"Return the inner_echo function.\"\"\"\n",
    "\n",
    "    # Define inner_echo\n",
    "    def inner_echo(word1):\n",
    "        \"\"\"Concatenate n copies of word1.\"\"\"\n",
    "        echo_word = word1 * n\n",
    "        return echo_word\n",
    "\n",
    "    # Return inner_echo\n",
    "    return(inner_echo)\n",
    "\n",
    "# Call echo: twice\n",
    "twice = echo(2)\n",
    "\n",
    "# Call echo: thrice\n",
    "thrice = echo(3)\n",
    "\n",
    "# Call twice() and thrice() then print\n",
    "print(twice('hello'), thrice('hello'))"
   ]
  },
  {
   "cell_type": "markdown",
   "metadata": {},
   "source": [
    "#### `The keyword nonlocal and nested functions`\n",
    "Let's once again work further on your mastery of scope! In this exercise, you will use the keyword __nonlocal__ within a nested function to alter the value of a variable defined in the enclosing scope."
   ]
  },
  {
   "cell_type": "markdown",
   "metadata": {},
   "source": [
    "- Assign to __echo_word__ the string __word__, concatenated with itself.\n",
    "- Use the keyword __nonlocal__ to alter the value of __echo_word__ in the enclosing scope.\n",
    "- Alter __echo_word__ to __echo_word__ concatenated with __'!!!'.__\n",
    "- Call the function __echo_shout()__, passing it a single argument '__hello__'."
   ]
  },
  {
   "cell_type": "code",
   "execution_count": 35,
   "metadata": {},
   "outputs": [
    {
     "name": "stdout",
     "output_type": "stream",
     "text": [
      "hellohello\n",
      "hellohello!!!\n"
     ]
    }
   ],
   "source": [
    "def echo_sout(word):\n",
    "  echo_word = word+word\n",
    "  print(echo_word)\n",
    "\n",
    "  def shout():\n",
    "    nonlocal echo_word\n",
    "    echo_word += '!!!'\n",
    "    \n",
    "  shout()\n",
    "  print(echo_word)\n",
    "\n",
    "echo_sout('hello')"
   ]
  },
  {
   "cell_type": "markdown",
   "metadata": {},
   "source": [
    "#### `Functions with one default argument`\n",
    "In the previous chapter, you've learned to define functions with more than one parameter and then calling those functions by passing the required number of arguments. In the last video, Hugo built on this idea by showing you how to define functions with default arguments. You will practice that skill in this exercise by writing a function that uses a default argument and then calling the function a couple of times."
   ]
  },
  {
   "cell_type": "markdown",
   "metadata": {},
   "source": [
    "- Complete the function header with the function name __shout_echo__. It accepts an argument __word1__ and a default argument __echo__ with default value __1__, in that order.\n",
    "- Use the ___*___ operator to concatenate echo copies of __word1__. Assign the result to echo_word.\n",
    "- Call __shout_echo()__ with just the string, \"__Hey__\". Assign the result to __no_echo__.\n",
    "- Call __shout_echo()__ with the string \"__Hey__\" and the value ___5___ for the default argument, __echo__. Assign the result to __with_echo__."
   ]
  },
  {
   "cell_type": "code",
   "execution_count": 36,
   "metadata": {},
   "outputs": [
    {
     "name": "stdout",
     "output_type": "stream",
     "text": [
      "Hey!!!\n",
      "HeyHeyHeyHeyHey!!!\n"
     ]
    }
   ],
   "source": [
    "def shout_echo(word1, echo=1):\n",
    "  echo_word = word1*echo\n",
    "  shout_word = echo_word+'!!!'\n",
    "  return shout_word\n",
    "\n",
    "no_echo = shout_echo('Hey')\n",
    "with_echo = shout_echo('Hey', echo=5)\n",
    "\n",
    "print(no_echo)\n",
    "print(with_echo)"
   ]
  },
  {
   "cell_type": "markdown",
   "metadata": {},
   "source": [
    "#### `Functions with multiple default arguments`\n",
    "You've now defined a function that uses a default argument - don't stop there just yet! You will now try your hand at defining a function with more than one default argument and then calling this function in various ways.\n",
    "\n",
    "After defining the function, you will call it by supplying values to all the default arguments of the function. Additionally, you will call the function by not passing a value to one of the default arguments - see how that changes the output of your function!"
   ]
  },
  {
   "cell_type": "markdown",
   "metadata": {},
   "source": [
    "- Complete the function header with the function name __shout_echo__. It accepts an argument __word1__, a default argument __echo__ with default value ___1___ and a default argument __intense__ with default value __False__, in that order.\n",
    "- In the body of the __if__ statement, make the string object __echo_word__ upper case by applying the method __.upper()__ on it.\n",
    "- Call __shout_echo()__ with the string, \"__Hey__\", the value __5__ for __echo__ and the value ___True___ for __intense__. Assign the result to __with_big_echo__.\n",
    "- Call __shout_echo()__ with the string \"__Hey__\" and the value ___True___ for __intense__. Assign the result to __big_no_echo__."
   ]
  },
  {
   "cell_type": "code",
   "execution_count": 37,
   "metadata": {},
   "outputs": [
    {
     "name": "stdout",
     "output_type": "stream",
     "text": [
      "HEYHEYHEYHEYHEY!!!\n",
      "HEY!!!\n"
     ]
    }
   ],
   "source": [
    "def shout_echo(word1, echo=1, intense=False):\n",
    "  echo_word = word1*echo\n",
    "\n",
    "  if intense is True:\n",
    "    echo_word_new = echo_word.upper()+'!!!'\n",
    "  else:\n",
    "    echo_word_new = echo_word+'!!!'\n",
    "  return echo_word_new\n",
    "\n",
    "with_big_echo = shout_echo('Hey', echo=5, intense=True)\n",
    "big_no_echo = shout_echo('Hey', intense=True)\n",
    "\n",
    "print(with_big_echo)\n",
    "print(big_no_echo)"
   ]
  },
  {
   "cell_type": "markdown",
   "metadata": {},
   "source": [
    "#### `Functions with variable-length arguments (*args)`\n",
    "Flexible arguments enable you to pass a variable number of arguments to a function. In this exercise, you will practice defining a function that accepts a variable number of string arguments.\n",
    "\n",
    "The function you will define is __gibberish()__ which can accept a variable number of string values. Its return value is a single string composed of all the string arguments concatenated together in the order they were passed to the function call. You will call the function with a single string argument and see how the output changes with another call using more than one string argument. Recall from the previous video that, within the function definition, ___args___ is a tuple."
   ]
  },
  {
   "cell_type": "markdown",
   "metadata": {},
   "source": [
    "- Complete the function header with the function name __gibberish__. It accepts a single flexible argument __*args__.\n",
    "- Initialize a variable __hodgepodge__ to an empty string.\n",
    "- Return the variable __hodgepodge__ at the end of the function body.\n",
    "- Call __gibberish()__ with the single string, \"__luke__\". Assign the result to __one_word__.\n",
    "- Hit the Submit button to call __gibberish()__ with multiple arguments and to print the value to the Shell."
   ]
  },
  {
   "cell_type": "code",
   "execution_count": 38,
   "metadata": {},
   "outputs": [
    {
     "name": "stdout",
     "output_type": "stream",
     "text": [
      "luke\n",
      "lukeleiahanobidarth\n"
     ]
    }
   ],
   "source": [
    "def gibberish(*args):\n",
    "  hodgepodge = \"\"\n",
    "  for word in args:\n",
    "    hodgepodge += word\n",
    "\n",
    "  return(hodgepodge)\n",
    "\n",
    "one_word = gibberish(\"luke\")\n",
    "many_words = gibberish(\"luke\", \"leia\", \"han\", \"obi\", \"darth\")\n",
    "\n",
    "print(one_word)\n",
    "print(many_words)"
   ]
  },
  {
   "cell_type": "markdown",
   "metadata": {},
   "source": [
    "#### `Functions with variable-length keyword arguments (**kwargs)`\n",
    "Let's push further on what you've learned about flexible arguments - you've used __*args__, you're now going to use __**kwargs__! What makes __**kwargs__\n",
    "different is that it allows you to pass a variable number of keyword arguments to functions. Recall from the previous video that, within the function definition, __kwargs__ is a dictionary.\n",
    "\n",
    "To understand this idea better, you're going to use __**kwargs__ in this exercise to define a function that accepts a variable number of keyword arguments. The function simulates a simple status report system that prints out the status of a character in a movie."
   ]
  },
  {
   "cell_type": "markdown",
   "metadata": {},
   "source": [
    "- Complete the function header with the function name __report_status__. It accepts a single flexible argument __**kwargs__.\n",
    "- Iterate over the key-value pairs of __kwargs__ to print out the keys and values, separated by a colon ':'.\n",
    "- In the first call to __report_status()__, pass the following keyword-value pairs: __name=\"luke\"__, __affiliation=\"jedi\"__ and __status=\"missing\"__.\n",
    "- In the second call to __report_status()__, pass the following keyword-value pairs: __name=\"anakin\"__, __affiliation=\"sith lord\"__ and __status=\"deceased\"__."
   ]
  },
  {
   "cell_type": "code",
   "execution_count": 39,
   "metadata": {},
   "outputs": [
    {
     "name": "stdout",
     "output_type": "stream",
     "text": [
      "\n",
      "BEGIN: REPORT\n",
      "\n",
      "name:luke\n",
      "affiliation:jedi\n",
      "status:missing\n",
      "\n",
      "END REPORT\n",
      "\n",
      "BEGIN: REPORT\n",
      "\n",
      "name:anakin\n",
      "affiliation:sith lord\n",
      "status:deceased\n",
      "\n",
      "END REPORT\n"
     ]
    }
   ],
   "source": [
    "def report_status(**kwargs):\n",
    "  print(\"\\nBEGIN: REPORT\\n\")\n",
    "  for keys, values in kwargs.items():\n",
    "    print(keys + ':' + values)\n",
    "  print(\"\\nEND REPORT\")\n",
    "  \n",
    "\n",
    "report_status(name='luke', affiliation='jedi', status='missing')\n",
    "report_status(name='anakin', affiliation='sith lord', status='deceased')"
   ]
  },
  {
   "cell_type": "markdown",
   "metadata": {},
   "source": [
    "#### `Bringing it all together (1)`\n",
    "Recall the Bringing it all together exercise in the previous chapter where you did a simple Twitter analysis by developing a function that counts how many tweets are in certain languages. The output of your function was a dictionary that had the language as the keys and the counts of tweets in that language as the value.\n",
    "\n",
    "In this exercise, we will generalize the Twitter language analysis that you did in the previous chapter. You will do that by including a __default argument__ that takes a column name.\n",
    "\n",
    "For your convenience, pandas has been imported as pd and the '__tweets.csv__' file has been imported into the DataFrame __tweets_df__. Parts of the code from your previous work are also provided."
   ]
  },
  {
   "cell_type": "code",
   "execution_count": 40,
   "metadata": {},
   "outputs": [],
   "source": [
    "import pandas as pd\n",
    "tweets_df = pd.read_csv('../../datasets/tweets.csv')"
   ]
  },
  {
   "cell_type": "markdown",
   "metadata": {},
   "source": [
    "- Complete the function header by supplying the parameter for a DataFrame __df__ and the parameter __col_name__ with a default value of '__lang__' for the DataFrame column name.\n",
    "- Call __count_entries()__ by passing the __tweets_df__ DataFrame and the column name '__lang__'. Assign the result to __result1__. Note that since '__lang__' is the default value of the __col_name__ parameter, you don't have to specify it here.\n",
    "- Call __count_entries()__ by passing the __tweets_df__ DataFrame and the column name '__source__'. Assign the result to __result2__."
   ]
  },
  {
   "cell_type": "code",
   "execution_count": 41,
   "metadata": {},
   "outputs": [
    {
     "name": "stdout",
     "output_type": "stream",
     "text": [
      "{'en': 97, 'et': 1, 'und': 2}\n",
      "{'<a href=\"http://twitter.com\" rel=\"nofollow\">Twitter Web Client</a>': 24, '<a href=\"http://www.facebook.com/twitter\" rel=\"nofollow\">Facebook</a>': 1, '<a href=\"http://twitter.com/download/android\" rel=\"nofollow\">Twitter for Android</a>': 26, '<a href=\"http://twitter.com/download/iphone\" rel=\"nofollow\">Twitter for iPhone</a>': 33, '<a href=\"http://www.twitter.com\" rel=\"nofollow\">Twitter for BlackBerry</a>': 2, '<a href=\"http://www.google.com/\" rel=\"nofollow\">Google</a>': 2, '<a href=\"http://twitter.com/#!/download/ipad\" rel=\"nofollow\">Twitter for iPad</a>': 6, '<a href=\"http://linkis.com\" rel=\"nofollow\">Linkis.com</a>': 2, '<a href=\"http://rutracker.org/forum/viewforum.php?f=93\" rel=\"nofollow\">newzlasz</a>': 2, '<a href=\"http://ifttt.com\" rel=\"nofollow\">IFTTT</a>': 1, '<a href=\"http://www.myplume.com/\" rel=\"nofollow\">PlumeÂ\\xa0forÂ\\xa0Android</a>': 1}\n"
     ]
    }
   ],
   "source": [
    "# Define count_entries()\n",
    "def count_entries(df, col_name='lang'):\n",
    "    \"\"\"Return a dictionary with counts of\n",
    "    occurrences as value for each key.\"\"\"\n",
    "\n",
    "    # Initialize an empty dictionary: cols_count\n",
    "    cols_count = {}\n",
    "    # Extract column from DataFrame: col\n",
    "    col = df[col_name]\n",
    "    \n",
    "    # Iterate over the column in DataFrame\n",
    "    for entry in col:\n",
    "        # If entry is in cols_count, add 1\n",
    "        if entry in cols_count.keys():\n",
    "            cols_count[entry] += 1\n",
    "        # Else add the entry to cols_count, set the value to 1\n",
    "        else:\n",
    "            cols_count[entry] = 1\n",
    "    # Return the cols_count dictionary\n",
    "    return cols_count\n",
    "\n",
    "# Call count_entries(): result1\n",
    "result1 = count_entries(tweets_df, 'lang')\n",
    "# Call count_entries(): result2\n",
    "result2 = count_entries(tweets_df, 'source')\n",
    "\n",
    "# Print result1 and result2\n",
    "print(result1)\n",
    "print(result2)"
   ]
  },
  {
   "cell_type": "markdown",
   "metadata": {},
   "source": [
    "#### `Bringing it all together (2)`\n",
    "Wow, you've just generalized your Twitter language analysis that you did in the previous chapter to include a default argument for the column name. You're now going to generalize this function one step further by allowing the user to pass it a flexible argument, that is, in this case, as many column names as the user would like!\n",
    "\n",
    "Once again, for your convenience, __pandas__ has been imported as __pd__ and the '__tweets.csv__' file has been imported into the DataFrame __tweets_df__. Parts of the code from your previous work are also provided."
   ]
  },
  {
   "cell_type": "markdown",
   "metadata": {},
   "source": [
    "- Complete the function header by supplying the parameter for the DataFrame __df__ and the flexible argument __*args__.\n",
    "- Complete the __for__ loop within the function definition so that the loop occurs over the tuple __args__.\n",
    "- Call __count_entries()__ by passing the __tweets_df__ DataFrame and the column name '__lang__'. Assign the result to __result1__.\n",
    "- Call __count_entries()__ by passing the __tweets_df__ DataFrame and the column names '__lang__' and '__source__'. Assign the result to __result2__."
   ]
  },
  {
   "cell_type": "code",
   "execution_count": 42,
   "metadata": {},
   "outputs": [
    {
     "name": "stdout",
     "output_type": "stream",
     "text": [
      "{'en': 97, 'et': 1, 'und': 2}\n",
      "{'en': 97, 'et': 1, 'und': 2, '<a href=\"http://twitter.com\" rel=\"nofollow\">Twitter Web Client</a>': 24, '<a href=\"http://www.facebook.com/twitter\" rel=\"nofollow\">Facebook</a>': 1, '<a href=\"http://twitter.com/download/android\" rel=\"nofollow\">Twitter for Android</a>': 26, '<a href=\"http://twitter.com/download/iphone\" rel=\"nofollow\">Twitter for iPhone</a>': 33, '<a href=\"http://www.twitter.com\" rel=\"nofollow\">Twitter for BlackBerry</a>': 2, '<a href=\"http://www.google.com/\" rel=\"nofollow\">Google</a>': 2, '<a href=\"http://twitter.com/#!/download/ipad\" rel=\"nofollow\">Twitter for iPad</a>': 6, '<a href=\"http://linkis.com\" rel=\"nofollow\">Linkis.com</a>': 2, '<a href=\"http://rutracker.org/forum/viewforum.php?f=93\" rel=\"nofollow\">newzlasz</a>': 2, '<a href=\"http://ifttt.com\" rel=\"nofollow\">IFTTT</a>': 1, '<a href=\"http://www.myplume.com/\" rel=\"nofollow\">PlumeÂ\\xa0forÂ\\xa0Android</a>': 1}\n"
     ]
    }
   ],
   "source": [
    "# Define count_entries()\n",
    "def count_entries(df, *args):\n",
    "    \"\"\"Return a dictionary with counts of\n",
    "    occurrences as value for each key.\"\"\"\n",
    "    \n",
    "    #Initialize an empty dictionary: cols_count\n",
    "    cols_count = {}\n",
    "    \n",
    "    # Iterate over column names in args\n",
    "    for col_name in args:\n",
    "    \n",
    "        # Extract column from DataFrame: col\n",
    "        col = df[col_name]\n",
    "    \n",
    "        # Iterate over the column in DataFrame\n",
    "        for entry in col:\n",
    "    \n",
    "            # If entry is in cols_count, add 1\n",
    "            if entry in cols_count.keys():\n",
    "                cols_count[entry] += 1\n",
    "    \n",
    "            # Else add the entry to cols_count, set the value to 1\n",
    "            else:\n",
    "                cols_count[entry] = 1\n",
    "\n",
    "    # Return the cols_count dictionary\n",
    "    return cols_count\n",
    "\n",
    "# Call count_entries(): result1\n",
    "result1 = count_entries(tweets_df, 'lang')\n",
    "\n",
    "# Call count_entries(): result2\n",
    "result2 = count_entries(tweets_df, 'lang', 'source')\n",
    "\n",
    "# Print result1 and result2\n",
    "print(result1)\n",
    "print(result2)"
   ]
  },
  {
   "cell_type": "markdown",
   "metadata": {},
   "source": [
    "#### `Pop quiz on lambda functions`\n",
    "In this exercise, you will practice writing a simple lambda function and calling this function. Recall what you know about lambda functions and answer the following questions:\n",
    "\n",
    "- How would you write a lambda function __add_bangs__ that adds three exclamation points __'!!!'__ to the end of a string a?\n",
    "- How would you call __add_bangs__ with the argument '__hello__'?\n",
    "You may use the IPython shell to test your code."
   ]
  },
  {
   "cell_type": "code",
   "execution_count": 43,
   "metadata": {},
   "outputs": [
    {
     "name": "stdout",
     "output_type": "stream",
     "text": [
      "hello\n"
     ]
    }
   ],
   "source": [
    "\n",
    "add_bangs = (lambda a:a +'!!!')\n",
    "print('hello')"
   ]
  },
  {
   "cell_type": "markdown",
   "metadata": {},
   "source": [
    "#### `Possible answers`\n",
    "\n",
    "\n",
    "- The lambda function definition is: __add_bangs = (a + '!!!')__, and the function call is: add_bangs('__hello__').\n",
    "\n",
    "- The lambda function definition is: __add_bangs = (lambda a: a + '!!!')__, and the function call is: __add_bangs('hello')__.\n",
    "\n",
    "- The lambda function definition is: __(lambda a: a + '!!!') = add_bangs__, and the function call is: __add_bangs('hello')__."
   ]
  },
  {
   "cell_type": "markdown",
   "metadata": {},
   "source": [
    "#### `Writing a lambda function you already know`\n",
    "Some function definitions are simple enough that they can be converted to a lambda function. By doing this, you write less lines of code, which is pretty awesome and will come in handy, especially when you're writing and maintaining big programs. In this exercise, you will use what you know about lambda functions to convert a function that does a simple task into a lambda function. Take a look at this function definition:\n",
    "- def echo_word(word1, echo):\n",
    "    - \"\"\"Concatenate echo copies of word1.\"\"\"\n",
    "    - words = word1 * echo\n",
    "    - return words\n",
    "\n",
    "The function __echo_word__ takes __2__ parameters: a string value, __word1__ and an integer value, __echo__. It returns a string that is a concatenation of __echo__ copies of __word1__. Your task is to convert this simple function into a lambda function."
   ]
  },
  {
   "cell_type": "code",
   "execution_count": 44,
   "metadata": {},
   "outputs": [],
   "source": [
    "def echo_word(word1, echo):\n",
    "    \"\"\"Concatenate echo copies of word1.\"\"\"\n",
    "    words = word1 * echo\n",
    "    return words"
   ]
  },
  {
   "cell_type": "markdown",
   "metadata": {},
   "source": [
    "- Define the lambda function __echo_word__ using the variables __word1__ and __echo__. Replicate what the original function definition for __echo_word()__ does above.\n",
    "- Call __echo_word()__ with the string argument '__hey__' and the value ___5___, in that order. Assign the call to __result__."
   ]
  },
  {
   "cell_type": "code",
   "execution_count": 45,
   "metadata": {},
   "outputs": [
    {
     "name": "stdout",
     "output_type": "stream",
     "text": [
      "heyheyheyheyhey\n"
     ]
    }
   ],
   "source": [
    "echo_word = (lambda word1, echo, : word1*echo)\n",
    "\n",
    "result = echo_word('hey', 5)\n",
    "\n",
    "print(result)"
   ]
  },
  {
   "cell_type": "markdown",
   "metadata": {},
   "source": [
    "#### `Map() and lambda functions`\n",
    "So far, you've used lambda functions to write short, simple functions as well as to redefine functions with simple functionality. The best use case for lambda functions, however, are for when you want these simple functionalities to be anonymously embedded within larger expressions. What that means is that the functionality is not stored in the environment, unlike a function defined with __def__. To understand this idea better, you will use a lambda function in the context of the __map()__ function.\n",
    "\n",
    "Recall from the video that __map()__ applies a function over an object, such as a list. Here, you can use lambda functions to define the function that __map()__ will use to process the object. For example:\n",
    "- __nums = [2, 4, 6, 8, 10]__\n",
    "- __result = map(lambda a: a ** 2, nums)__\n",
    "\n",
    "You can see here that a lambda function, which raises __a__ value a to the power of 2, is passed to __map()__ alongside a list of numbers, __nums__. The map object that results from the call to __map()__ is stored in __result__. You will now practice the use of lambda functions with __map()__. For this exercise, you will map the functionality of the __add_bangs()__ function you defined in previous exercises over a list of strings."
   ]
  },
  {
   "cell_type": "code",
   "execution_count": 47,
   "metadata": {},
   "outputs": [
    {
     "name": "stdout",
     "output_type": "stream",
     "text": [
      "<map object at 0x00000126B04E7B50>\n",
      "[4, 8, 12, 16, 20]\n"
     ]
    }
   ],
   "source": [
    "nums = [2,4,6,8,10]\n",
    "res = map(lambda a: a*2, nums)\n",
    "print(res)\n",
    "print(list(res))"
   ]
  },
  {
   "cell_type": "markdown",
   "metadata": {},
   "source": [
    "- In the __map()__ call, pass a lambda function that concatenates the string __'!!!'__ to a string __item__; also pass the list of strings, __spells__. Assign the resulting map object to __shout_spells__.\n",
    "- Convert __shout_spells__ to a list and print out the list."
   ]
  },
  {
   "cell_type": "code",
   "execution_count": 48,
   "metadata": {},
   "outputs": [
    {
     "name": "stdout",
     "output_type": "stream",
     "text": [
      "['protego!!!', 'accio!!!', 'expecto patronum!!!', 'legilimens!!!']\n"
     ]
    }
   ],
   "source": [
    "# Create a list of strings: spells\n",
    "spells = [\"protego\", \"accio\", \"expecto patronum\", \"legilimens\"]\n",
    "\n",
    "# Use map() to apply a lambda function over spells: shout_spells\n",
    "shout_spells = map(lambda a: a+'!!!', spells)\n",
    "\n",
    "# Convert shout_spells to a list: shout_spells_list\n",
    "shout_spells_list = list(shout_spells)\n",
    "\n",
    "# Print the result\n",
    "print(shout_spells_list)"
   ]
  },
  {
   "cell_type": "markdown",
   "metadata": {},
   "source": [
    "#### `Filter() and lambda functions`\n",
    "In the previous exercise, you used lambda functions to anonymously embed an operation within __map()__. You will practice this again in this exercise by using a lambda function with __filter()__, which may be new to you! The function __filter()__ offers a way to filter out elements from a list that don't satisfy certain criteria.\n",
    "\n",
    "Your goal in this exercise is to use __filter()__ to create, from an input list of strings, a new list that contains only strings that have more than 6 characters"
   ]
  },
  {
   "cell_type": "markdown",
   "metadata": {},
   "source": [
    "- In the __filter()__ call, pass a lambda function and the list of strings, __fellowship__. The lambda function should check if the number of characters in a string __member__ is _greater than 6_; use the __len()__ function to do this. Assign the resulting filter object to __result__.\n",
    "- Convert __result__ to a list and print out the list."
   ]
  },
  {
   "cell_type": "code",
   "execution_count": 49,
   "metadata": {},
   "outputs": [
    {
     "name": "stdout",
     "output_type": "stream",
     "text": [
      "['frodo', 'samwise', 'merry', 'pippin', 'aragorn', 'boromir', 'legolas', 'gimli', 'gandalf']\n"
     ]
    }
   ],
   "source": [
    "# Create a list of strings: fellowship\n",
    "fellowship = ['frodo', 'samwise', 'merry', 'pippin', 'aragorn', 'boromir', 'legolas', 'gimli', 'gandalf']\n",
    "\n",
    "# Use filter() to apply a lambda function over fellowship: result\n",
    "result = filter(lambda a: len(a), fellowship)\n",
    "\n",
    "# Convert result to a list: result_list\n",
    "result_list = list(result)\n",
    "\n",
    "# Print result_list\n",
    "print(result_list)"
   ]
  },
  {
   "cell_type": "markdown",
   "metadata": {},
   "source": [
    "#### `Reduce() and lambda functions`\n",
    "You're getting very good at using lambda functions! Here's one more function to add to your repertoire of skills. The __reduce()__ function is useful for performing some computation on a list and, unlike __map()__ and __filter()__, returns a single value as a result. To use __reduce()__, you must import it from the functools module\n",
    "\n",
    "Remember __gibberish()__ from a few exercises back?\n",
    "# Define gibberish\n",
    "- def gibberish(*args):\n",
    "    - \"\"\"Concatenate strings in *args together.\"\"\"\n",
    "    - hodgepodge = ''\n",
    "    - for word in args:\n",
    "        - hodgepodge += word\n",
    "    - return hodgepodge\n",
    "\n",
    "__gibberish()__ simply takes a list of strings as an argument and returns, as a single-value result, the concatenation of all of these strings. In this exercise, you will replicate this functionality by using __reduce()__ and a lambda function that concatenates strings together."
   ]
  },
  {
   "cell_type": "markdown",
   "metadata": {},
   "source": [
    "- Import the _reduce function_ from the __functools__ module.\n",
    "- In the __reduce()__ call, pass a lambda function that takes two string arguments __item1__ and __item2__ and concatenates them; also pass the list of strings, __stark__. Assign the result to __result__. The first argument to __reduce()__ should be the lambda function and the second argument is the list __stark__."
   ]
  },
  {
   "cell_type": "code",
   "execution_count": 51,
   "metadata": {},
   "outputs": [
    {
     "name": "stdout",
     "output_type": "stream",
     "text": [
      "robbsansaaryabrandonrickon\n"
     ]
    }
   ],
   "source": [
    "# Import reduce from functools\n",
    "from functools import reduce\n",
    "\n",
    "# Create a list of strings: stark\n",
    "stark = ['robb', 'sansa', 'arya', 'brandon', 'rickon']\n",
    "\n",
    "# Use reduce() to apply a lambda function over stark: result\n",
    "result = reduce(lambda item1, item2: item1+item2, stark)\n",
    "\n",
    "# Print the result\n",
    "print(result)"
   ]
  },
  {
   "cell_type": "markdown",
   "metadata": {},
   "source": [
    "#### `Pop quiz about errors`\n",
    "In the video, Hugo talked about how errors happen when functions are supplied arguments that they are unable to work with. In this exercise, you will identify which function call raises an error and what type of error is raised.\n",
    "\n",
    "Take a look at the following function calls to __len()__:\n",
    "\n",
    "- __len('There is a beast in every man and it stirs when you put a sword in his hand.')__\n",
    "- __len(['robb', 'sansa', 'arya', 'eddard', 'jon'])__\n",
    " __len(525600)__\n",
    "- __len(('jaime', 'cersei', 'tywin', 'tyrion', 'joffrey'))__\n",
    "\n",
    "Which of the function calls raises an error and what type of error is raised?"
   ]
  },
  {
   "cell_type": "code",
   "execution_count": 54,
   "metadata": {},
   "outputs": [
    {
     "data": {
      "text/plain": [
       "5"
      ]
     },
     "execution_count": 54,
     "metadata": {},
     "output_type": "execute_result"
    }
   ],
   "source": [
    "len('There is a beast in every man and it stirs when you put a sword in his hand.')\n",
    "\n",
    "len(['robb', 'sansa', 'arya', 'eddard', 'jon'])\n",
    "\n",
    "len(('jaime', 'cersei', 'tywin', 'tyrion', 'joffrey'))\n",
    "\n",
    "# len(525600)\n"
   ]
  },
  {
   "cell_type": "markdown",
   "metadata": {},
   "source": [
    "#### `Possible answers`\n",
    "\n",
    "\n",
    "- The call __len('There is a beast in every man and it stirs when you put a sword in his hand.')__ raises a __TypeError__.\n",
    "\n",
    "- The call __len(['robb', 'sansa', 'arya', 'eddard', 'jon'])__ __raises__ an __IndexError__.\n",
    "\n",
    "- `The call __len(525600)__ raises a __TypeError__.`\n",
    "\n",
    "- The call __len(('jaime', 'cersei', 'tywin', 'tyrion', 'joffrey'))__ __raises__ a __NameError__."
   ]
  },
  {
   "cell_type": "code",
   "execution_count": 3,
   "metadata": {},
   "outputs": [],
   "source": [
    "# import pandas as pd\n",
    "# tweets_df = pd.read_csv('../../datasets/tweets.csv')\n",
    "# pd.set_option('display.max_columns', None)\n",
    "# tweets_df.head()"
   ]
  }
 ],
 "metadata": {
  "kernelspec": {
   "display_name": "Python 3",
   "language": "python",
   "name": "python3"
  },
  "language_info": {
   "codemirror_mode": {
    "name": "ipython",
    "version": 3
   },
   "file_extension": ".py",
   "mimetype": "text/x-python",
   "name": "python",
   "nbconvert_exporter": "python",
   "pygments_lexer": "ipython3",
   "version": "3.11.2"
  }
 },
 "nbformat": 4,
 "nbformat_minor": 2
}
