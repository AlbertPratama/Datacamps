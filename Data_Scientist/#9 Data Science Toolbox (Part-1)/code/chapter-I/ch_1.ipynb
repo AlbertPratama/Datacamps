{
 "cells": [
  {
   "cell_type": "markdown",
   "metadata": {},
   "source": [
    "#### Recapping built-in functions\n",
    "In the video, Hugo briefly examined the return behavior of the built-in functions __print()__ and __str()__. Here, you will use both functions and examine their return values. A variable ___x___ has been preloaded for this exercise. Run the code below in the console. Pay close attention to the results to answer the question that follows.\n",
    "\n",
    "- Assign __str(x)__ to a variable __y1__: __y1__ = __str(x)__\n",
    "- Assign __print(x)__ to a variable __y2__: __y2__ = __print(x)__\n",
    "- Check the types of the variables x, __y1__, and __y2__.\n",
    "\n",
    "What are the types of x, __y1__, and __y2__?"
   ]
  },
  {
   "cell_type": "code",
   "execution_count": 3,
   "metadata": {},
   "outputs": [
    {
     "name": "stdout",
     "output_type": "stream",
     "text": [
      "4.89\n",
      "\n",
      "<class 'float'>\n",
      "<class 'str'>\n",
      "<class 'NoneType'>\n"
     ]
    }
   ],
   "source": [
    "x = 4.89\n",
    "y1 = str(x)\n",
    "y2 = print(x)\n",
    "\n",
    "print()\n",
    "print(type(x))\n",
    "print(type(y1))\n",
    "print(type(y2))"
   ]
  },
  {
   "cell_type": "markdown",
   "metadata": {},
   "source": [
    "#### Possible answers\n",
    "\n",
    "- They are all __str__ types.\n",
    "- __x__ is a __float__, __y1__ is an __float__, and y2 is a __str__.\n",
    "- `__x__ is a __float__, __y1__ is a __str__, and y2 is a __NoneType__.`\n",
    "- They are all __NoneType__ types."
   ]
  },
  {
   "cell_type": "markdown",
   "metadata": {},
   "source": [
    "#### `Write a simple function`\n",
    "In the last video, Hugo described the basics of how to define a function. You will now write your own function!\n",
    "\n",
    "Define a function, __shout()__, which simply prints out a string with three exclamation marks __'!!!'__ at the end. The code for the square() function that we wrote earlier is found below. You can use it as a pattern to define __shout()__.\n",
    "\n",
    "- def square():\n",
    "  -  new_value = 4 ** 2\n",
    "  -  return new_value\n",
    "\n",
    "Note that the function body is indented ___4___ spaces already for you. Function bodies need to be indented by a consistent number of spaces and the choice of ___4___ is common.\n",
    "\n",
    "_This course touches on a lot of concepts you may have forgotten, so if you ever need a quick refresher, download the_ [ Python for Data Science Cheat Sheet](https://res.cloudinary.com/dyd911kmh/image/upload/f_auto,q_auto:best/v1620781328/Python_For_Data_Science_-_A_Cheat_Sheet_For_Beginners_igzrny.png) _and keep it handy!_"
   ]
  },
  {
   "cell_type": "markdown",
   "metadata": {},
   "source": [
    "- Complete the function header by adding the appropriate function name, __shout__.\n",
    "- In the function body, concatenate the string, '__congratulations__' with another string, __'!!!'__. Assign the result to __shout_word__.\n",
    "- Print the value of __shout_word__.\n",
    "- Call the __shout__ function."
   ]
  },
  {
   "cell_type": "code",
   "execution_count": 4,
   "metadata": {},
   "outputs": [
    {
     "name": "stdout",
     "output_type": "stream",
     "text": [
      "congratulations!!!\n"
     ]
    }
   ],
   "source": [
    "# Define the function shout\n",
    "def shout():\n",
    "    \"\"\"Print a string with three exclamation marks\"\"\"\n",
    "    # Concatenate the strings: shout_word\n",
    "    shout_word = \"congratulations\"+'!!!'\n",
    "\n",
    "    # Print shout_word\n",
    "    print(shout_word)\n",
    "\n",
    "# Call shout\n",
    "shout()"
   ]
  },
  {
   "cell_type": "markdown",
   "metadata": {},
   "source": [
    "#### `Single-parameter functions`\n",
    "Congratulations! You have successfully defined and called your own function! That's pretty cool.\n",
    "\n",
    "In the previous exercise, you defined and called the function __shout()__, which printed out a string concatenated with __'!!!'__. You will now update __shout()__ by adding a parameter so that it can accept and process any string argument passed to it. Also note that __shout(word)__, the part of the header that specifies the function name and parameter(s), is known as the signature of the function. You may encounter this term in the wild!"
   ]
  },
  {
   "cell_type": "markdown",
   "metadata": {},
   "source": [
    "- Complete the function header by adding the parameter name, __word__.\n",
    "- Assign the result of concatenating __word__ with __'!!!'__ to __shout_word__.\n",
    "- Print the value of __shout_word__.\n",
    "- Call the __shout()__ function, passing to it the string, __'congratulations'__."
   ]
  },
  {
   "cell_type": "code",
   "execution_count": null,
   "metadata": {},
   "outputs": [],
   "source": [
    "# Define shout with the parameter, word\n",
    "def shout(word):\n",
    "    \"\"\"Print a string with three exclamation marks\"\"\"\n",
    "    # Concatenate the strings: shout_word\n",
    "    shout_word = word + '!!!'\n",
    "\n",
    "    # Print shout_word\n",
    "    print(shout_word)\n",
    "\n",
    "# Call shout with the string 'congratulations'\n",
    "shout('congratulations')"
   ]
  },
  {
   "cell_type": "markdown",
   "metadata": {},
   "source": [
    "#### `Functions that return single values`\n",
    "You're getting very good at this! Try your hand at another modification to the __shout()__ function so that it now returns a single value instead of printing within the function. Recall that the __return__ keyword lets you return values from functions. Parts of the function __shout()__, which you wrote earlier, are shown. Returning values is generally more desirable than printing them out because, as you saw earlier, a __print()__ call assigned to a variable has type __NoneType__."
   ]
  },
  {
   "cell_type": "markdown",
   "metadata": {},
   "source": [
    "- In the function body, concatenate the string in word with __'!!!'__ and assign to __shout_word__.\n",
    "- Replace the __print()__ statement with the appropriate __return__ statement.\n",
    "- Call the __shout()__ function, passing to it the string, '__congratulations__', and assigning the call to the variable, __yell__.\n",
    "- To check if __yell__ contains the value returned by __shout()__, print the value of __yell__."
   ]
  },
  {
   "cell_type": "code",
   "execution_count": 6,
   "metadata": {},
   "outputs": [
    {
     "name": "stdout",
     "output_type": "stream",
     "text": [
      "congratulations!!!\n"
     ]
    }
   ],
   "source": [
    "# Define shout with the parameter, word\n",
    "def shout(word):\n",
    "    \"\"\"Return a string with three exclamation marks\"\"\"\n",
    "    # Concatenate the strings: shout_word\n",
    "    shout_word = word+'!!!'\n",
    "\n",
    "    # Replace print with return\n",
    "    return(shout_word)\n",
    "\n",
    "# Pass 'congratulations' to shout: yell\n",
    "yell = shout('congratulations')\n",
    "\n",
    "# Print yell\n",
    "print(yell)"
   ]
  },
  {
   "cell_type": "markdown",
   "metadata": {},
   "source": [
    "#### `Functions with multiple parameters`\n",
    "Hugo discussed the use of multiple parameters in defining functions in the last lecture. You are now going to use what you've learned to modify the __shout()__ function further. Here, you will modify __shout()__ to accept two arguments. Parts of the function __shout()__, which you wrote earlier, are shown."
   ]
  },
  {
   "cell_type": "markdown",
   "metadata": {},
   "source": [
    "- Modify the function header such that it accepts two parameters, __word1__ and __word2__, in that order.\n",
    "- Concatenate each of __word1__ and __word2__ with __'!!!'__ and assign to __shout1__ and __shout2__, respectively.\n",
    "- Concatenate __shout1__ and __shout2__ together, in that order, and assign to __new_shout__.\n",
    "- Pass the strings '__congratulations__' and 'you', in that order, to a call to shout(). Assign the return value to __yell__."
   ]
  },
  {
   "cell_type": "code",
   "execution_count": 8,
   "metadata": {},
   "outputs": [
    {
     "name": "stdout",
     "output_type": "stream",
     "text": [
      "congratulations!!!you!!!\n"
     ]
    }
   ],
   "source": [
    "# Define shout with parameters word1 and word2\n",
    "def shout(word1, word2):\n",
    "    \"\"\"Concatenate strings with three exclamation marks\"\"\"\n",
    "    # Concatenate word1 with '!!!': shout1\n",
    "    shout1 = word1+'!!!'\n",
    "    \n",
    "    # Concatenate word2 with '!!!': shout2\n",
    "    shout2 = word2+'!!!'\n",
    "    \n",
    "    # Concatenate shout1 with shout2: new_shout\n",
    "    new_shout = shout1+shout2\n",
    "\n",
    "    # Return new_shout\n",
    "    return new_shout\n",
    "\n",
    "# Pass 'congratulations' and 'you' to shout(): yell\n",
    "yell = shout('congratulations', 'you')\n",
    "\n",
    "# Print yell\n",
    "print(yell)"
   ]
  },
  {
   "cell_type": "markdown",
   "metadata": {},
   "source": [
    "#### `A brief introduction to tuples`\n",
    "Alongside learning about functions, you've also learned about tuples! Here, you will practice what you've learned about tuples: how to construct, unpack, and access tuple elements. Recall how Hugo unpacked the tuple __even_nums__ in the video:\n",
    "\n",
    "- __a, b, c = even_nums__\n",
    "A three-element tuple named __nums__ has been preloaded for this exercise. Before completing the script, perform the following:\n",
    "\n",
    "Print out the value of __nums__ in the IPython shell. Note the elements in the tuple.\n",
    "In the IPython shell, try to change the first element of __nums__ to the value 2 by doing an assignment: __nums[0] = 2__. What happens?"
   ]
  },
  {
   "cell_type": "code",
   "execution_count": 1,
   "metadata": {},
   "outputs": [
    {
     "data": {
      "text/plain": [
       "(3, 4, 6)"
      ]
     },
     "execution_count": 1,
     "metadata": {},
     "output_type": "execute_result"
    }
   ],
   "source": [
    "nums = (3,4,6)\n",
    "nums"
   ]
  },
  {
   "cell_type": "markdown",
   "metadata": {},
   "source": [
    "- Unpack __nums__ to the variables __num1__, __num2__, and __num3__.\n",
    "- Construct a new tuple, even___nums__ composed of the same elements in __nums__, but with the 1st element replaced with the value, ___2___."
   ]
  },
  {
   "cell_type": "code",
   "execution_count": 3,
   "metadata": {},
   "outputs": [
    {
     "data": {
      "text/plain": [
       "(2, 4, 6)"
      ]
     },
     "execution_count": 3,
     "metadata": {},
     "output_type": "execute_result"
    }
   ],
   "source": [
    "# Unpack nums into num1, num2, and num3\n",
    "num1,num2,num3 = nums \n",
    "\n",
    "# Construct even_nums\n",
    "even_nums = (2, num2, num3)\n",
    "even_nums"
   ]
  },
  {
   "cell_type": "markdown",
   "metadata": {},
   "source": [
    "#### `Functions that return multiple values`\n",
    "In the previous exercise, you constructed tuples, assigned tuples to variables, and unpacked tuples. Here you will return multiple values from a function using tuples. Let's now update our __shout()__ function to return multiple values. Instead of returning just one string, we will return two strings with the string __!!!__ concatenated to each.\n",
    "\n",
    "Note that the return statement __return x, y__ has the same result as __return (x, y)__: the former actually packs ___x___ and ___y___ into a tuple under the hood!"
   ]
  },
  {
   "cell_type": "markdown",
   "metadata": {},
   "source": [
    "- Modify the function header such that the function name is now __shout_all__, and it accepts two parameters, __word1__ and __word2__, in that order.\n",
    "- Concatenate the string __'!!!'__ to each of __word1__ and __word2__ and assign to __shout1__ and __shout2__, respectively.\n",
    "- Construct a tuple shout_words, composed of __shout1__ and __shout2__.\n",
    "- Call __shout_all()__ with the strings '__congratulations__' and '__you__' and assign the result to __yell1__ and __yell2__ (remember, __shout_all()__ returns 2 variables!)."
   ]
  },
  {
   "cell_type": "code",
   "execution_count": 4,
   "metadata": {},
   "outputs": [
    {
     "name": "stdout",
     "output_type": "stream",
     "text": [
      "congratulations!!!!\n",
      "you!!!\n"
     ]
    }
   ],
   "source": [
    "# Define shout_all with parameters word1 and word2\n",
    "def shout_all(word1, word2):\n",
    "    \n",
    "    # Concatenate word1 with '!!!': shout1\n",
    "    shout1 = word1 + '!!!'\n",
    "    \n",
    "    # Concatenate word2 with '!!!': shout2\n",
    "    shout2 = word2 + '!!!'\n",
    "    \n",
    "    # Construct a tuple with shout1 and shout2: shout_words\n",
    "    shout_words = (shout1, shout2)\n",
    "    \n",
    "    # Return shout_words\n",
    "    return shout_words\n",
    "\n",
    "# Pass 'congratulations' and 'you' to shout_all(): yell1, yell2\n",
    "yell1, yell2 = shout_all('congratulations', 'you')\n",
    "\n",
    "# Print yell1 and yell2\n",
    "print(yell1)\n",
    "print(yell2)\n"
   ]
  },
  {
   "cell_type": "markdown",
   "metadata": {},
   "source": [
    "#### `Bringing it all together (1)`\n",
    "You've got your first taste of writing your own functions in the previous exercises. You've learned how to add parameters to your own function definitions, return a value or multiple values with tuples, and how to call the functions you've defined.\n",
    "\n",
    "In this and the following exercise, you will bring together all these concepts and apply them to a simple data science problem. You will load a dataset and develop functionalities to extract simple insights from the data.\n",
    "\n",
    "For this exercise, your goal is to recall how to load a dataset into a DataFrame. The dataset contains Twitter data and you will iterate over entries in a column to build a dictionary in which the keys are the names of languages and the values are the number of tweets in the given language. The file __tweets.csv__ is available in your current directory.\n",
    "\n",
    "_Be aware that this is real data from Twitter and as such there is always a risk that it may contain profanity or other offensive content (in this exercise, and any following exercises that also use real Twitter data)_."
   ]
  },
  {
   "cell_type": "markdown",
   "metadata": {},
   "source": [
    "- Import the __pandas__ package with the alias __pd__.\n",
    "- Import the file '__tweets.csv__' using the __pandas__ function __read_csv()__. Assign the resulting _DataFrame_ to __df__.\n",
    "- Complete the __for__ loop by iterating over __col__, the '__lang__' column in the _DataFrame_ __df__.\n",
    "- Complete the bodies of the __if-else__ statements in the for loop: __if__ the key is in the dictionary __langs_count__, add ___1___ to the value corresponding to this key in the dictionary, __else__ add the key to __langs_count__ and set the corresponding value to ___1___. Use the loop variable entry in your code."
   ]
  },
  {
   "cell_type": "code",
   "execution_count": 6,
   "metadata": {},
   "outputs": [
    {
     "name": "stdout",
     "output_type": "stream",
     "text": [
      "{'en': 97, 'et': 1, 'und': 2}\n"
     ]
    }
   ],
   "source": [
    "# Import pandas\n",
    "import pandas as pd\n",
    "\n",
    "# Import Twitter data as DataFrame: df\n",
    "df = pd.read_csv('../../datasets/tweets.csv')\n",
    "\n",
    "# Initialize an empty dictionary: langs_count\n",
    "langs_count = {}\n",
    "\n",
    "# Extract column from DataFrame: col\n",
    "col = df['lang']\n",
    "\n",
    "# Iterate over lang column in DataFrame\n",
    "for entry in col:\n",
    "\n",
    "    # If the language is in langs_count, add 1 \n",
    "    if entry in langs_count.keys():\n",
    "        langs_count[entry] +=1\n",
    "    # Else add the language to langs_count, set the value to 1\n",
    "    else:\n",
    "        langs_count[entry] = 1\n",
    "\n",
    "# Print the populated dictionary\n",
    "print(langs_count)"
   ]
  },
  {
   "cell_type": "markdown",
   "metadata": {},
   "source": [
    "#### `Bringing it all together (2)`\n",
    "Great job! You've now defined the functionality for iterating over entries in a column and building a dictionary with keys the names of languages and values the number of tweets in the given language.\n",
    "\n",
    "In this exercise, you will define a function with the functionality you developed in the previous exercise, return the resulting dictionary from within the function, and call the function with the appropriate arguments.\n",
    "\n",
    "For your convenience, the pandas package has been imported as __pd__ and the '__tweets.csv__' file has been imported into the __tweets_df__ variable."
   ]
  },
  {
   "cell_type": "code",
   "execution_count": 13,
   "metadata": {},
   "outputs": [],
   "source": [
    "tweets_df = pd.read_csv('../../datasets/tweets.csv')"
   ]
  },
  {
   "cell_type": "markdown",
   "metadata": {},
   "source": [
    "- Define the function __count_entries()__, which has two parameters. The first parameter is __df__ for the _DataFrame_ and the second is __col_name__ for the column name.\n",
    "- Complete the bodies of the __if-else__ statements in the __for__ loop: __if__ the key is in the dictionary __langs_count__, add ___1___ to its current value, __else__ add the key to __langs_count__ and set its value to ___1___. Use the loop variable __entry__ in your code.\n",
    "- Return the __langs_count__ dictionary from inside the __count_entries()__ function.\n",
    "- Call the __count_entries()__ function by passing to it __tweets_df__ and the name of the column, '__lang__'. Assign the result of the call to the variable __result__."
   ]
  },
  {
   "cell_type": "code",
   "execution_count": 14,
   "metadata": {},
   "outputs": [
    {
     "name": "stdout",
     "output_type": "stream",
     "text": [
      "{'en': 97, 'et': 1, 'und': 2}\n"
     ]
    }
   ],
   "source": [
    "# Define count_entries()\n",
    "def count_entries(df, col_name):\n",
    "    \"\"\"Return a dictionary with counts of \n",
    "    occurrences as value for each key.\"\"\"\n",
    "\n",
    "    # Initialize an empty dictionary: langs_count\n",
    "    langs_count = {}\n",
    "    \n",
    "    # Extract column from DataFrame: col\n",
    "    col = df[col_name]\n",
    "    \n",
    "    # Iterate over lang column in DataFrame\n",
    "    for entry in col:\n",
    "\n",
    "        # If the language is in langs_count, add 1\n",
    "        if entry in langs_count.keys():\n",
    "            langs_count[entry] +=1\n",
    "        # Else add the language to langs_count, set the value to 1\n",
    "        else:\n",
    "            langs_count[entry] =1\n",
    "\n",
    "    # Return the langs_count dictionary\n",
    "    return(langs_count)\n",
    "\n",
    "# Call count_entries(): result\n",
    "result = count_entries(tweets_df, 'lang')\n",
    "\n",
    "# Print the result\n",
    "print(result)"
   ]
  }
 ],
 "metadata": {
  "kernelspec": {
   "display_name": "Python 3",
   "language": "python",
   "name": "python3"
  },
  "language_info": {
   "codemirror_mode": {
    "name": "ipython",
    "version": 3
   },
   "file_extension": ".py",
   "mimetype": "text/x-python",
   "name": "python",
   "nbconvert_exporter": "python",
   "pygments_lexer": "ipython3",
   "version": "3.11.2"
  }
 },
 "nbformat": 4,
 "nbformat_minor": 2
}
