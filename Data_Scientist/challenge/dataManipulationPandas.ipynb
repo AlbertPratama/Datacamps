{
 "cells": [
  {
   "cell_type": "code",
   "execution_count": 3,
   "metadata": {},
   "outputs": [],
   "source": [
    "import pandas as pd\n",
    "import numpy as np"
   ]
  },
  {
   "cell_type": "code",
   "execution_count": 8,
   "metadata": {},
   "outputs": [],
   "source": [
    "data = {\n",
    "    'surname': ['Hargrave', 'Hill', 'Onio', 'Boni', 'Mitchell'],\n",
    "    'credit_score': [619, 608, 502, 699, 850],\n",
    "    'geography': ['France', 'Spain', 'France', 'France', 'Spain'],\n",
    "    'age': [42, 41, 42, 39, 43],\n",
    "    'exited': ['Yes', 'No', 'Yes', 'No', 'No']\n",
    "}\n",
    "\n",
    "churn = pd.DataFrame(data)"
   ]
  },
  {
   "cell_type": "code",
   "execution_count": 9,
   "metadata": {},
   "outputs": [
    {
     "data": {
      "text/html": [
       "<div>\n",
       "<style scoped>\n",
       "    .dataframe tbody tr th:only-of-type {\n",
       "        vertical-align: middle;\n",
       "    }\n",
       "\n",
       "    .dataframe tbody tr th {\n",
       "        vertical-align: top;\n",
       "    }\n",
       "\n",
       "    .dataframe thead th {\n",
       "        text-align: right;\n",
       "    }\n",
       "</style>\n",
       "<table border=\"1\" class=\"dataframe\">\n",
       "  <thead>\n",
       "    <tr style=\"text-align: right;\">\n",
       "      <th></th>\n",
       "      <th>surname</th>\n",
       "      <th>credit_score</th>\n",
       "      <th>geography</th>\n",
       "      <th>age</th>\n",
       "      <th>exited</th>\n",
       "    </tr>\n",
       "  </thead>\n",
       "  <tbody>\n",
       "    <tr>\n",
       "      <th>3</th>\n",
       "      <td>Boni</td>\n",
       "      <td>699</td>\n",
       "      <td>France</td>\n",
       "      <td>39</td>\n",
       "      <td>No</td>\n",
       "    </tr>\n",
       "    <tr>\n",
       "      <th>1</th>\n",
       "      <td>Hill</td>\n",
       "      <td>608</td>\n",
       "      <td>Spain</td>\n",
       "      <td>41</td>\n",
       "      <td>No</td>\n",
       "    </tr>\n",
       "    <tr>\n",
       "      <th>0</th>\n",
       "      <td>Hargrave</td>\n",
       "      <td>619</td>\n",
       "      <td>France</td>\n",
       "      <td>42</td>\n",
       "      <td>Yes</td>\n",
       "    </tr>\n",
       "    <tr>\n",
       "      <th>2</th>\n",
       "      <td>Onio</td>\n",
       "      <td>502</td>\n",
       "      <td>France</td>\n",
       "      <td>42</td>\n",
       "      <td>Yes</td>\n",
       "    </tr>\n",
       "    <tr>\n",
       "      <th>4</th>\n",
       "      <td>Mitchell</td>\n",
       "      <td>850</td>\n",
       "      <td>Spain</td>\n",
       "      <td>43</td>\n",
       "      <td>No</td>\n",
       "    </tr>\n",
       "  </tbody>\n",
       "</table>\n",
       "</div>"
      ],
      "text/plain": [
       "    surname  credit_score geography  age exited\n",
       "3      Boni           699    France   39     No\n",
       "1      Hill           608     Spain   41     No\n",
       "0  Hargrave           619    France   42    Yes\n",
       "2      Onio           502    France   42    Yes\n",
       "4  Mitchell           850     Spain   43     No"
      ]
     },
     "execution_count": 9,
     "metadata": {},
     "output_type": "execute_result"
    }
   ],
   "source": [
    "cpeler = churn.sort_values('age', ascending=True)\n",
    "cpeler"
   ]
  },
  {
   "cell_type": "code",
   "execution_count": 12,
   "metadata": {},
   "outputs": [
    {
     "data": {
      "text/html": [
       "<div>\n",
       "<style scoped>\n",
       "    .dataframe tbody tr th:only-of-type {\n",
       "        vertical-align: middle;\n",
       "    }\n",
       "\n",
       "    .dataframe tbody tr th {\n",
       "        vertical-align: top;\n",
       "    }\n",
       "\n",
       "    .dataframe thead th {\n",
       "        text-align: right;\n",
       "    }\n",
       "</style>\n",
       "<table border=\"1\" class=\"dataframe\">\n",
       "  <thead>\n",
       "    <tr style=\"text-align: right;\">\n",
       "      <th>exited</th>\n",
       "      <th>No</th>\n",
       "      <th>Yes</th>\n",
       "    </tr>\n",
       "    <tr>\n",
       "      <th>geography</th>\n",
       "      <th></th>\n",
       "      <th></th>\n",
       "    </tr>\n",
       "  </thead>\n",
       "  <tbody>\n",
       "    <tr>\n",
       "      <th>France</th>\n",
       "      <td>699.0</td>\n",
       "      <td>560.5</td>\n",
       "    </tr>\n",
       "    <tr>\n",
       "      <th>Spain</th>\n",
       "      <td>729.0</td>\n",
       "      <td>NaN</td>\n",
       "    </tr>\n",
       "  </tbody>\n",
       "</table>\n",
       "</div>"
      ],
      "text/plain": [
       "exited        No    Yes\n",
       "geography              \n",
       "France     699.0  560.5\n",
       "Spain      729.0    NaN"
      ]
     },
     "execution_count": 12,
     "metadata": {},
     "output_type": "execute_result"
    }
   ],
   "source": [
    "churn_by_credit_score = churn.pivot_table('credit_score', index='geography', columns='exited')\n",
    "churn_by_credit_score.loc['Framce': 'Spain']"
   ]
  },
  {
   "cell_type": "code",
   "execution_count": 4,
   "metadata": {},
   "outputs": [
    {
     "name": "stdout",
     "output_type": "stream",
     "text": [
      "<class 'pandas.core.frame.DataFrame'>\n",
      "RangeIndex: 5 entries, 0 to 4\n",
      "Data columns (total 5 columns):\n",
      " #   Column        Non-Null Count  Dtype \n",
      "---  ------        --------------  ----- \n",
      " 0   surname       5 non-null      object\n",
      " 1   credit_score  5 non-null      int64 \n",
      " 2   geography     5 non-null      object\n",
      " 3   age           5 non-null      int64 \n",
      " 4   exited        5 non-null      object\n",
      "dtypes: int64(2), object(3)\n",
      "memory usage: 332.0+ bytes\n",
      "None\n"
     ]
    }
   ],
   "source": [
    "print(churn.info())"
   ]
  },
  {
   "cell_type": "code",
   "execution_count": 5,
   "metadata": {},
   "outputs": [
    {
     "data": {
      "text/html": [
       "<div>\n",
       "<style scoped>\n",
       "    .dataframe tbody tr th:only-of-type {\n",
       "        vertical-align: middle;\n",
       "    }\n",
       "\n",
       "    .dataframe tbody tr th {\n",
       "        vertical-align: top;\n",
       "    }\n",
       "\n",
       "    .dataframe thead th {\n",
       "        text-align: right;\n",
       "    }\n",
       "</style>\n",
       "<table border=\"1\" class=\"dataframe\">\n",
       "  <thead>\n",
       "    <tr style=\"text-align: right;\">\n",
       "      <th></th>\n",
       "      <th>surname</th>\n",
       "      <th>credit_score</th>\n",
       "      <th>geography</th>\n",
       "      <th>age</th>\n",
       "      <th>exited</th>\n",
       "    </tr>\n",
       "  </thead>\n",
       "  <tbody>\n",
       "    <tr>\n",
       "      <th>2</th>\n",
       "      <td>Onio</td>\n",
       "      <td>502</td>\n",
       "      <td>France</td>\n",
       "      <td>42</td>\n",
       "      <td>Yes</td>\n",
       "    </tr>\n",
       "  </tbody>\n",
       "</table>\n",
       "</div>"
      ],
      "text/plain": [
       "  surname  credit_score geography  age exited\n",
       "2    Onio           502    France   42    Yes"
      ]
     },
     "execution_count": 5,
     "metadata": {},
     "output_type": "execute_result"
    }
   ],
   "source": [
    "churn[churn['credit_score'] < 600].head()"
   ]
  },
  {
   "cell_type": "code",
   "execution_count": 6,
   "metadata": {},
   "outputs": [
    {
     "name": "stdout",
     "output_type": "stream",
     "text": [
      "            surname  credit_score  age exited\n",
      "geography                                    \n",
      "Spain          Hill           608   41     No\n",
      "Spain      Mitchell           850   43     No\n"
     ]
    }
   ],
   "source": [
    "churn_ind = churn.set_index(\"geography\")\n",
    "print(churn_ind.loc['Spain'])"
   ]
  },
  {
   "cell_type": "code",
   "execution_count": 7,
   "metadata": {},
   "outputs": [
    {
     "name": "stdout",
     "output_type": "stream",
     "text": [
      "                   age exited\n",
      "geography surname            \n",
      "France    Boni      39     No\n"
     ]
    }
   ],
   "source": [
    "churn_srt = churn.set_index([\"geography\", \"surname\"]).sort_index()\n",
    "print(churn_srt.loc[ \n",
    "('France', 'Bartlett')\n",
    ":\n",
    "('France', 'Boni')\n",
    ", \n",
    "'age':'exited'\n",
    "])"
   ]
  },
  {
   "cell_type": "code",
   "execution_count": 8,
   "metadata": {},
   "outputs": [
    {
     "name": "stdout",
     "output_type": "stream",
     "text": [
      "                    credit_score  age\n",
      "geography surname                    \n",
      "France    Boni               699   39\n",
      "          Hargrave           619   42\n",
      "          Onio               502   42\n",
      "Spain     Hill               608   41\n",
      "          Mitchell           850   43\n"
     ]
    }
   ],
   "source": [
    "churn_srt = churn.set_index([\"geography\", \"surname\"]).sort_index()\n",
    "print(churn_srt.loc[:, 'credit_score':'age'].head())"
   ]
  },
  {
   "cell_type": "code",
   "execution_count": 9,
   "metadata": {},
   "outputs": [
    {
     "data": {
      "text/html": [
       "<div>\n",
       "<style scoped>\n",
       "    .dataframe tbody tr th:only-of-type {\n",
       "        vertical-align: middle;\n",
       "    }\n",
       "\n",
       "    .dataframe tbody tr th {\n",
       "        vertical-align: top;\n",
       "    }\n",
       "\n",
       "    .dataframe thead th {\n",
       "        text-align: right;\n",
       "    }\n",
       "</style>\n",
       "<table border=\"1\" class=\"dataframe\">\n",
       "  <thead>\n",
       "    <tr style=\"text-align: right;\">\n",
       "      <th></th>\n",
       "      <th>name</th>\n",
       "      <th>c</th>\n",
       "    </tr>\n",
       "  </thead>\n",
       "  <tbody>\n",
       "    <tr>\n",
       "      <th>0</th>\n",
       "      <td>hi</td>\n",
       "      <td>65</td>\n",
       "    </tr>\n",
       "    <tr>\n",
       "      <th>1</th>\n",
       "      <td>ha</td>\n",
       "      <td>70</td>\n",
       "    </tr>\n",
       "  </tbody>\n",
       "</table>\n",
       "</div>"
      ],
      "text/plain": [
       "  name   c\n",
       "0   hi  65\n",
       "1   ha  70"
      ]
     },
     "execution_count": 9,
     "metadata": {},
     "output_type": "execute_result"
    }
   ],
   "source": [
    "a = {\n",
    "  'name' : ['hi', 'ha'],\n",
    "  'c' : [65, 70]\n",
    "}\n",
    "a = pd.DataFrame(a)\n",
    "a"
   ]
  },
  {
   "cell_type": "code",
   "execution_count": 10,
   "metadata": {},
   "outputs": [],
   "source": [
    "data = {\n",
    "    'surname': ['Hargrave', 'Hill', 'Onio', 'Boni', 'Mitchell'],\n",
    "    'credit_score': [619, 608, 502, 699, 850],\n",
    "    'geography': ['France', 'Spain', 'France', 'France', 'Spain'],\n",
    "    'age': [42, 41, 42, 39, 43],\n",
    "    'exited': ['Yes', 'No', 'Yes', 'No', 'No']\n",
    "}\n",
    "\n",
    "churn = pd.DataFrame(data)"
   ]
  },
  {
   "cell_type": "code",
   "execution_count": 11,
   "metadata": {},
   "outputs": [
    {
     "name": "stdout",
     "output_type": "stream",
     "text": [
      "   credit_score geography  age exited\n",
      "0           619    France   42    Yes\n",
      "1           608     Spain   41     No\n",
      "2           502    France   42    Yes\n",
      "3           699    France   39     No\n",
      "4           850     Spain   43     No\n"
     ]
    }
   ],
   "source": [
    "churn_id = churn.set_index('surname')\n",
    "print(churn_id.reset_index(drop=True))"
   ]
  },
  {
   "cell_type": "code",
   "execution_count": 12,
   "metadata": {},
   "outputs": [],
   "source": [
    "data = {\n",
    "    'date': ['2018-01-15', '2018-01-15', '2018-01-16', '2018-01-16', '2018-01-17'],\n",
    "    'product_line': ['Health and beauty', 'Electronic accessories', 'Home and lifestyle', 'Sports', 'Food and beverages'],\n",
    "    'product': ['Shampoo', 'Headphones', 'Lamp', 'Yoga mat', 'Milk'],\n",
    "    'unit_price': [6.99, 25.28, 46.33, 39.99, 5.99],\n",
    "    'quantity': [7, 5, 3, 5, 8]\n",
    "}\n",
    "\n",
    "sales = pd.DataFrame(data)\n"
   ]
  },
  {
   "cell_type": "code",
   "execution_count": 13,
   "metadata": {},
   "outputs": [
    {
     "name": "stdout",
     "output_type": "stream",
     "text": [
      "date\n",
      "2018-01-15    2\n",
      "2018-01-16    2\n",
      "2018-01-17    1\n",
      "Name: count, dtype: int64\n"
     ]
    }
   ],
   "source": [
    "print(sales['date'].value_counts())"
   ]
  },
  {
   "cell_type": "code",
   "execution_count": 14,
   "metadata": {},
   "outputs": [
    {
     "name": "stdout",
     "output_type": "stream",
     "text": [
      "2018-01-15\n"
     ]
    }
   ],
   "source": [
    "print(sales['date'].min())"
   ]
  },
  {
   "cell_type": "code",
   "execution_count": 15,
   "metadata": {},
   "outputs": [
    {
     "name": "stdout",
     "output_type": "stream",
     "text": [
      "         date            product_line     product  unit_price  quantity\n",
      "0  2018-01-15       Health and beauty     Shampoo        6.99         7\n",
      "1  2018-01-15  Electronic accessories  Headphones       25.28         5\n",
      "2  2018-01-16      Home and lifestyle        Lamp       46.33         3\n",
      "3  2018-01-16                  Sports    Yoga mat       39.99         5\n",
      "4  2018-01-17      Food and beverages        Milk        5.99         8\n"
     ]
    }
   ],
   "source": [
    "print(sales.drop_duplicates(subset='product'))"
   ]
  },
  {
   "cell_type": "markdown",
   "metadata": {},
   "source": [
    "## `04-21-2024` Sunday"
   ]
  },
  {
   "cell_type": "code",
   "execution_count": null,
   "metadata": {},
   "outputs": [],
   "source": []
  },
  {
   "cell_type": "code",
   "execution_count": 16,
   "metadata": {},
   "outputs": [],
   "source": [
    "# churn_by_credit_score = churn.pivot_table(\"credit_score\", index=\"geography\", columns=\"exited\")\n",
    "# print(churn_by_credit_score.max(axis='columns'))"
   ]
  },
  {
   "cell_type": "code",
   "execution_count": 17,
   "metadata": {},
   "outputs": [],
   "source": [
    "data = {\n",
    "    'surname': ['Hargrave', 'Hill', 'Onio', 'Boni', 'Mitchell'],\n",
    "    'credit_score': [619, 608, 502, 699, 850],\n",
    "    'geography': ['France', 'Spain', 'France', 'France', 'Spain'],\n",
    "    'age': [42, 41, 42, 39, 43],\n",
    "    'exited': ['Yes', 'No', 'Yes', 'No', 'No']\n",
    "}\n",
    "\n",
    "churn = pd.DataFrame(data)"
   ]
  },
  {
   "cell_type": "code",
   "execution_count": 18,
   "metadata": {},
   "outputs": [
    {
     "data": {
      "text/html": [
       "<div>\n",
       "<style scoped>\n",
       "    .dataframe tbody tr th:only-of-type {\n",
       "        vertical-align: middle;\n",
       "    }\n",
       "\n",
       "    .dataframe tbody tr th {\n",
       "        vertical-align: top;\n",
       "    }\n",
       "\n",
       "    .dataframe thead th {\n",
       "        text-align: right;\n",
       "    }\n",
       "</style>\n",
       "<table border=\"1\" class=\"dataframe\">\n",
       "  <thead>\n",
       "    <tr style=\"text-align: right;\">\n",
       "      <th></th>\n",
       "      <th>surname</th>\n",
       "      <th>credit_score</th>\n",
       "      <th>geography</th>\n",
       "      <th>age</th>\n",
       "      <th>exited</th>\n",
       "    </tr>\n",
       "  </thead>\n",
       "  <tbody>\n",
       "    <tr>\n",
       "      <th>0</th>\n",
       "      <td>Hargrave</td>\n",
       "      <td>619</td>\n",
       "      <td>France</td>\n",
       "      <td>42</td>\n",
       "      <td>Yes</td>\n",
       "    </tr>\n",
       "    <tr>\n",
       "      <th>1</th>\n",
       "      <td>Hill</td>\n",
       "      <td>608</td>\n",
       "      <td>Spain</td>\n",
       "      <td>41</td>\n",
       "      <td>No</td>\n",
       "    </tr>\n",
       "    <tr>\n",
       "      <th>2</th>\n",
       "      <td>Onio</td>\n",
       "      <td>502</td>\n",
       "      <td>France</td>\n",
       "      <td>42</td>\n",
       "      <td>Yes</td>\n",
       "    </tr>\n",
       "    <tr>\n",
       "      <th>3</th>\n",
       "      <td>Boni</td>\n",
       "      <td>699</td>\n",
       "      <td>France</td>\n",
       "      <td>39</td>\n",
       "      <td>No</td>\n",
       "    </tr>\n",
       "    <tr>\n",
       "      <th>4</th>\n",
       "      <td>Mitchell</td>\n",
       "      <td>850</td>\n",
       "      <td>Spain</td>\n",
       "      <td>43</td>\n",
       "      <td>No</td>\n",
       "    </tr>\n",
       "  </tbody>\n",
       "</table>\n",
       "</div>"
      ],
      "text/plain": [
       "    surname  credit_score geography  age exited\n",
       "0  Hargrave           619    France   42    Yes\n",
       "1      Hill           608     Spain   41     No\n",
       "2      Onio           502    France   42    Yes\n",
       "3      Boni           699    France   39     No\n",
       "4  Mitchell           850     Spain   43     No"
      ]
     },
     "execution_count": 18,
     "metadata": {},
     "output_type": "execute_result"
    }
   ],
   "source": [
    "churn"
   ]
  },
  {
   "cell_type": "code",
   "execution_count": 19,
   "metadata": {},
   "outputs": [
    {
     "name": "stdout",
     "output_type": "stream",
     "text": [
      "  surname  credit_score geography  age exited\n",
      "2    Onio           502    France   42    Yes\n",
      "3    Boni           699    France   39     No\n"
     ]
    }
   ],
   "source": [
    "print(churn.iloc[2:4])"
   ]
  },
  {
   "cell_type": "code",
   "execution_count": 20,
   "metadata": {},
   "outputs": [
    {
     "name": "stdout",
     "output_type": "stream",
     "text": [
      "   credit_score\n",
      "2           502\n",
      "3           699\n"
     ]
    }
   ],
   "source": [
    "print(churn.iloc[2:4, 1:2])"
   ]
  },
  {
   "cell_type": "code",
   "execution_count": 21,
   "metadata": {},
   "outputs": [
    {
     "name": "stdout",
     "output_type": "stream",
     "text": [
      "    surname  credit_score geography  age exited\n",
      "2      Onio           502    France   42    Yes\n",
      "0  Hargrave           619    France   42    Yes\n"
     ]
    }
   ],
   "source": [
    "churn_sorted = churn.sort_values(\"credit_score\")\n",
    "churn_filter = churn_sorted[churn_sorted['exited'] == 'Yes']\n",
    "print(churn_filter.head())"
   ]
  },
  {
   "cell_type": "code",
   "execution_count": 22,
   "metadata": {},
   "outputs": [
    {
     "data": {
      "image/png": "[encoded data removed]",
      "text/plain": [
       "<Figure size 640x480 with 1 Axes>"
      ]
     },
     "metadata": {},
     "output_type": "display_data"
    }
   ],
   "source": [
    "import matplotlib.pyplot as plt\n",
    "churn_credit_by_country = churn.groupby(\"geography\")[\"credit_score\"].mean() \n",
    "churn_credit_by_country.plot(kind = \"hist\")\n",
    "plt.show()"
   ]
  },
  {
   "cell_type": "code",
   "execution_count": 23,
   "metadata": {},
   "outputs": [
    {
     "name": "stdout",
     "output_type": "stream",
     "text": [
      "    surname  credit_score geography  age exited\n",
      "3      Boni           699    France   39     No\n",
      "1      Hill           608     Spain   41     No\n",
      "0  Hargrave           619    France   42    Yes\n",
      "2      Onio           502    France   42    Yes\n",
      "4  Mitchell           850     Spain   43     No\n"
     ]
    }
   ],
   "source": [
    "print(churn.sort_values(by='age', ascending=True).head())"
   ]
  },
  {
   "cell_type": "code",
   "execution_count": 24,
   "metadata": {},
   "outputs": [],
   "source": [
    "data = {\n",
    "    'date': ['2018-01-15', '2018-01-15', '2018-01-16', '2018-01-16', '2018-01-17'],\n",
    "    'product_line': ['Health and beauty', 'Electronic accessories', 'Home and lifestyle', 'Sports', 'Food and beverages'],\n",
    "    'product': ['Shampoo', 'Headphones', 'Lamp', 'Yoga mat', 'Milk'],\n",
    "    'unit_price': [6.99, 25.28, 46.33, 39.99, 5.99],\n",
    "    'quantity': [7, 5, 3, 5, 8]\n",
    "}\n",
    "\n",
    "sales = pd.DataFrame(data)"
   ]
  },
  {
   "cell_type": "code",
   "execution_count": 25,
   "metadata": {},
   "outputs": [
    {
     "name": "stdout",
     "output_type": "stream",
     "text": [
      "mean      24.916\n",
      "median    25.280\n",
      "Name: unit_price, dtype: float64\n"
     ]
    },
    {
     "name": "stderr",
     "output_type": "stream",
     "text": [
      "C:\\Users\\Albert\\AppData\\Local\\Temp\\ipykernel_1076\\4062240103.py:2: FutureWarning: The provided callable <function mean at 0x00000220AB59E660> is currently using Series.mean. In a future version of pandas, the provided callable will be used directly. To keep current behavior pass the string \"mean\" instead.\n",
      "  print(sales[\"unit_price\"].agg([np.mean, np.median]))\n",
      "C:\\Users\\Albert\\AppData\\Local\\Temp\\ipykernel_1076\\4062240103.py:2: FutureWarning: The provided callable <function median at 0x00000220C16CE840> is currently using Series.median. In a future version of pandas, the provided callable will be used directly. To keep current behavior pass the string \"median\" instead.\n",
      "  print(sales[\"unit_price\"].agg([np.mean, np.median]))\n"
     ]
    }
   ],
   "source": [
    "import numpy as np\n",
    "print(sales[\"unit_price\"].agg([np.mean, np.median]))"
   ]
  },
  {
   "cell_type": "code",
   "execution_count": 26,
   "metadata": {},
   "outputs": [
    {
     "name": "stdout",
     "output_type": "stream",
     "text": [
      "   credit_score  age exited geography   surname\n",
      "0           822   50     No    France  Bartlett\n",
      "1           528   31     No    France    Bearce\n",
      "2           699   39     No    France      Boni\n",
      "3           549   25     No    France      Chin\n",
      "4           684   27     No    France       Hao\n"
     ]
    }
   ],
   "source": [
    "data = {\n",
    "    'credit_score': [822, 528, 699, 549, 684],\n",
    "    'age': [50, 31, 39, 25, 27],\n",
    "    'exited': ['No', 'No', 'No', 'No', 'No'],\n",
    "    'geography': ['France', 'France', 'France', 'France', 'France'],\n",
    "    'surname': ['Bartlett', 'Bearce', 'Boni', 'Chin', 'Hao']\n",
    "}\n",
    "\n",
    "churn1 = pd.DataFrame(data)\n",
    "print(churn1)"
   ]
  },
  {
   "cell_type": "code",
   "execution_count": 27,
   "metadata": {},
   "outputs": [
    {
     "name": "stdout",
     "output_type": "stream",
     "text": [
      "                   credit_score  age exited\n",
      "geography surname                          \n",
      "France    Bearce            528   31     No\n",
      "          Boni              699   39     No\n",
      "          Chin              549   25     No\n"
     ]
    }
   ],
   "source": [
    "churn_srt = churn1.set_index([\"geography\", \"surname\"]).sort_index()\n",
    "print(churn_srt.loc[('France', 'Bearce'):('France','Chin')])"
   ]
  },
  {
   "cell_type": "code",
   "execution_count": 28,
   "metadata": {},
   "outputs": [
    {
     "name": "stdout",
     "output_type": "stream",
     "text": [
      "                    credit_score  age exited\n",
      "geography surname                           \n",
      "Spain     Hill               608   41     No\n",
      "          Mitchell           850   43     No\n",
      "France    Boni               699   39     No\n",
      "          Hargrave           619   42    Yes\n",
      "          Onio               502   42    Yes\n"
     ]
    }
   ],
   "source": [
    "churn_ind = churn.set_index(['geography', 'surname'])\n",
    "print(churn_ind.sort_index(\n",
    "    level=['geography', 'surname'], ascending=[False, True]).head(8))"
   ]
  },
  {
   "cell_type": "code",
   "execution_count": 29,
   "metadata": {},
   "outputs": [
    {
     "name": "stdout",
     "output_type": "stream",
     "text": [
      "                    credit_score  age exited\n",
      "geography surname                           \n",
      "France    Onio               502   42    Yes\n",
      "          Hargrave           619   42    Yes\n",
      "          Boni               699   39     No\n",
      "Spain     Mitchell           850   43     No\n",
      "          Hill               608   41     No\n"
     ]
    }
   ],
   "source": [
    "churn_ind = churn.set_index(['geography', 'surname'])\n",
    "print(churn_ind.sort_index(level=['geography', 'surname'], ascending=[True, False]).head(8))"
   ]
  },
  {
   "cell_type": "markdown",
   "metadata": {},
   "source": []
  },
  {
   "cell_type": "code",
   "execution_count": 30,
   "metadata": {},
   "outputs": [
    {
     "name": "stdout",
     "output_type": "stream",
     "text": [
      "  surname  credit_score geography  age exited\n",
      "2    Onio           502    France   42    Yes\n",
      "3    Boni           699    France   39     No\n"
     ]
    }
   ],
   "source": [
    "print(churn.iloc[2:4])"
   ]
  },
  {
   "cell_type": "markdown",
   "metadata": {},
   "source": [
    "# `09-08-2024`"
   ]
  },
  {
   "cell_type": "code",
   "execution_count": 31,
   "metadata": {},
   "outputs": [],
   "source": [
    "data = {\n",
    "    'surname': ['Hargrave', 'Hill', 'Onio', 'Boni', 'Mitchell'],\n",
    "    'credit_score': [619, 608, 502, 699, 850],\n",
    "    'geography': ['France', 'Spain', 'France', 'France', 'Spain'],\n",
    "    'age': [42, 41, 42, 39, 43],\n",
    "    'exited': ['Yes', 'No', 'Yes', 'No', 'No']\n",
    "}\n",
    "\n",
    "churn = pd.DataFrame(data)"
   ]
  },
  {
   "cell_type": "code",
   "execution_count": 32,
   "metadata": {},
   "outputs": [
    {
     "data": {
      "text/html": [
       "<div>\n",
       "<style scoped>\n",
       "    .dataframe tbody tr th:only-of-type {\n",
       "        vertical-align: middle;\n",
       "    }\n",
       "\n",
       "    .dataframe tbody tr th {\n",
       "        vertical-align: top;\n",
       "    }\n",
       "\n",
       "    .dataframe thead th {\n",
       "        text-align: right;\n",
       "    }\n",
       "</style>\n",
       "<table border=\"1\" class=\"dataframe\">\n",
       "  <thead>\n",
       "    <tr style=\"text-align: right;\">\n",
       "      <th></th>\n",
       "      <th>surname</th>\n",
       "      <th>credit_score</th>\n",
       "      <th>geography</th>\n",
       "      <th>age</th>\n",
       "      <th>exited</th>\n",
       "    </tr>\n",
       "  </thead>\n",
       "  <tbody>\n",
       "    <tr>\n",
       "      <th>0</th>\n",
       "      <td>Hargrave</td>\n",
       "      <td>619</td>\n",
       "      <td>France</td>\n",
       "      <td>42</td>\n",
       "      <td>Yes</td>\n",
       "    </tr>\n",
       "    <tr>\n",
       "      <th>1</th>\n",
       "      <td>Hill</td>\n",
       "      <td>608</td>\n",
       "      <td>Spain</td>\n",
       "      <td>41</td>\n",
       "      <td>No</td>\n",
       "    </tr>\n",
       "    <tr>\n",
       "      <th>2</th>\n",
       "      <td>Onio</td>\n",
       "      <td>502</td>\n",
       "      <td>France</td>\n",
       "      <td>42</td>\n",
       "      <td>Yes</td>\n",
       "    </tr>\n",
       "    <tr>\n",
       "      <th>3</th>\n",
       "      <td>Boni</td>\n",
       "      <td>699</td>\n",
       "      <td>France</td>\n",
       "      <td>39</td>\n",
       "      <td>No</td>\n",
       "    </tr>\n",
       "    <tr>\n",
       "      <th>4</th>\n",
       "      <td>Mitchell</td>\n",
       "      <td>850</td>\n",
       "      <td>Spain</td>\n",
       "      <td>43</td>\n",
       "      <td>No</td>\n",
       "    </tr>\n",
       "  </tbody>\n",
       "</table>\n",
       "</div>"
      ],
      "text/plain": [
       "    surname  credit_score geography  age exited\n",
       "0  Hargrave           619    France   42    Yes\n",
       "1      Hill           608     Spain   41     No\n",
       "2      Onio           502    France   42    Yes\n",
       "3      Boni           699    France   39     No\n",
       "4  Mitchell           850     Spain   43     No"
      ]
     },
     "execution_count": 32,
     "metadata": {},
     "output_type": "execute_result"
    }
   ],
   "source": [
    "churn"
   ]
  },
  {
   "cell_type": "code",
   "execution_count": 33,
   "metadata": {},
   "outputs": [
    {
     "ename": "KeyError",
     "evalue": "\"None of ['surname', 'geography'] are in the columns\"",
     "output_type": "error",
     "traceback": [
      "\u001b[1;31m---------------------------------------------------------------------------\u001b[0m",
      "\u001b[1;31mKeyError\u001b[0m                                  Traceback (most recent call last)",
      "\u001b[1;32m~\\AppData\\Local\\Temp\\ipykernel_1076\\2894885000.py\u001b[0m in \u001b[0;36m?\u001b[1;34m()\u001b[0m\n\u001b[1;32m----> 1\u001b[1;33m \u001b[0mchurn_ind\u001b[0m \u001b[1;33m=\u001b[0m \u001b[0mchurn_ind\u001b[0m\u001b[1;33m.\u001b[0m\u001b[0mset_index\u001b[0m\u001b[1;33m(\u001b[0m\u001b[1;33m[\u001b[0m\u001b[1;34m'surname'\u001b[0m\u001b[1;33m,\u001b[0m \u001b[1;34m'geography'\u001b[0m\u001b[1;33m]\u001b[0m\u001b[1;33m)\u001b[0m\u001b[1;33m\u001b[0m\u001b[1;33m\u001b[0m\u001b[0m\n\u001b[0m\u001b[0;32m      2\u001b[0m \u001b[0mprint\u001b[0m\u001b[1;33m(\u001b[0m\u001b[0mchurn_ind\u001b[0m\u001b[1;33m.\u001b[0m\u001b[0mloc\u001b[0m\u001b[1;33m[\u001b[0m\u001b[1;33m[\u001b[0m\u001b[1;33m(\u001b[0m\u001b[1;34m'Boni'\u001b[0m\u001b[1;33m,\u001b[0m \u001b[1;34m'France'\u001b[0m\u001b[1;33m)\u001b[0m\u001b[1;33m,\u001b[0m \u001b[1;33m(\u001b[0m\u001b[1;34m'Mitchell'\u001b[0m\u001b[1;33m,\u001b[0m \u001b[1;34m'Spain'\u001b[0m\u001b[1;33m)\u001b[0m\u001b[1;33m]\u001b[0m\u001b[1;33m]\u001b[0m\u001b[1;33m)\u001b[0m\u001b[1;33m\u001b[0m\u001b[1;33m\u001b[0m\u001b[0m\n",
      "\u001b[1;32mc:\\Users\\Albert\\AppData\\Local\\Programs\\Python\\Python311\\Lib\\site-packages\\pandas\\core\\frame.py\u001b[0m in \u001b[0;36m?\u001b[1;34m(self, keys, drop, append, inplace, verify_integrity)\u001b[0m\n\u001b[0;32m   5866\u001b[0m                     \u001b[1;32mif\u001b[0m \u001b[1;32mnot\u001b[0m \u001b[0mfound\u001b[0m\u001b[1;33m:\u001b[0m\u001b[1;33m\u001b[0m\u001b[1;33m\u001b[0m\u001b[0m\n\u001b[0;32m   5867\u001b[0m                         \u001b[0mmissing\u001b[0m\u001b[1;33m.\u001b[0m\u001b[0mappend\u001b[0m\u001b[1;33m(\u001b[0m\u001b[0mcol\u001b[0m\u001b[1;33m)\u001b[0m\u001b[1;33m\u001b[0m\u001b[1;33m\u001b[0m\u001b[0m\n\u001b[0;32m   5868\u001b[0m \u001b[1;33m\u001b[0m\u001b[0m\n\u001b[0;32m   5869\u001b[0m         \u001b[1;32mif\u001b[0m \u001b[0mmissing\u001b[0m\u001b[1;33m:\u001b[0m\u001b[1;33m\u001b[0m\u001b[1;33m\u001b[0m\u001b[0m\n\u001b[1;32m-> 5870\u001b[1;33m             \u001b[1;32mraise\u001b[0m \u001b[0mKeyError\u001b[0m\u001b[1;33m(\u001b[0m\u001b[1;34mf\"None of {missing} are in the columns\"\u001b[0m\u001b[1;33m)\u001b[0m\u001b[1;33m\u001b[0m\u001b[1;33m\u001b[0m\u001b[0m\n\u001b[0m\u001b[0;32m   5871\u001b[0m \u001b[1;33m\u001b[0m\u001b[0m\n\u001b[0;32m   5872\u001b[0m         \u001b[1;32mif\u001b[0m \u001b[0minplace\u001b[0m\u001b[1;33m:\u001b[0m\u001b[1;33m\u001b[0m\u001b[1;33m\u001b[0m\u001b[0m\n\u001b[0;32m   5873\u001b[0m             \u001b[0mframe\u001b[0m \u001b[1;33m=\u001b[0m \u001b[0mself\u001b[0m\u001b[1;33m\u001b[0m\u001b[1;33m\u001b[0m\u001b[0m\n",
      "\u001b[1;31mKeyError\u001b[0m: \"None of ['surname', 'geography'] are in the columns\""
     ]
    }
   ],
   "source": [
    "churn_ind = churn_ind.set_index(['surname', 'geography'])\n",
    "print(churn_ind.loc[[('Boni', 'France'), ('Mitchell', 'Spain')]])"
   ]
  },
  {
   "cell_type": "code",
   "execution_count": 38,
   "metadata": {},
   "outputs": [
    {
     "name": "stdout",
     "output_type": "stream",
     "text": [
      "    surname  credit_score geography  age exited\n",
      "4  Mitchell           850     Spain   43     No\n",
      "3      Boni           699    France   39     No\n",
      "0  Hargrave           619    France   42    Yes\n",
      "1      Hill           608     Spain   41     No\n",
      "2      Onio           502    France   42    Yes\n"
     ]
    }
   ],
   "source": [
    "print(churn.sort_values(\"credit_score\", ascending=False).head())"
   ]
  },
  {
   "cell_type": "code",
   "execution_count": 39,
   "metadata": {},
   "outputs": [
    {
     "name": "stdout",
     "output_type": "stream",
     "text": [
      "    surname exited\n",
      "0  Hargrave    Yes\n",
      "1      Hill     No\n",
      "2      Onio    Yes\n",
      "3      Boni     No\n",
      "4  Mitchell     No\n"
     ]
    }
   ],
   "source": [
    "print(churn[['surname','exited']])"
   ]
  },
  {
   "cell_type": "code",
   "execution_count": 3,
   "metadata": {},
   "outputs": [
    {
     "ename": "TypeError",
     "evalue": "KNeighborsClassifier.predict() missing 1 required positional argument: 'X'",
     "output_type": "error",
     "traceback": [
      "\u001b[1;31m---------------------------------------------------------------------------\u001b[0m",
      "\u001b[1;31mTypeError\u001b[0m                                 Traceback (most recent call last)",
      "Cell \u001b[1;32mIn[3], line 8\u001b[0m\n\u001b[0;32m      2\u001b[0m \u001b[38;5;28;01mimport\u001b[39;00m \u001b[38;5;21;01mnumpy\u001b[39;00m \u001b[38;5;28;01mas\u001b[39;00m \u001b[38;5;21;01mnp\u001b[39;00m\n\u001b[0;32m      3\u001b[0m X_new \u001b[38;5;241m=\u001b[39m np\u001b[38;5;241m.\u001b[39marray ([[\u001b[38;5;241m56.8\u001b[39m, \u001b[38;5;241m17.5\u001b[39m],\n\u001b[0;32m      4\u001b[0m                   [\u001b[38;5;241m24.4\u001b[39m, \u001b[38;5;241m24.1\u001b[39m],\n\u001b[0;32m      5\u001b[0m                   [\u001b[38;5;241m50.1\u001b[39m, \u001b[38;5;241m10.9\u001b[39m]]\n\u001b[0;32m      6\u001b[0m                   )\n\u001b[1;32m----> 8\u001b[0m prdecit \u001b[38;5;241m=\u001b[39m \u001b[43mKNeighborsClassifier\u001b[49m\u001b[38;5;241;43m.\u001b[39;49m\u001b[43mpredict\u001b[49m\u001b[43m(\u001b[49m\u001b[43mX_new\u001b[49m\u001b[43m)\u001b[49m\n\u001b[0;32m      9\u001b[0m \u001b[38;5;28mprint\u001b[39m(\u001b[38;5;124m'\u001b[39m\u001b[38;5;124mprediction: \u001b[39m\u001b[38;5;132;01m{}\u001b[39;00m\u001b[38;5;124m'\u001b[39m\u001b[38;5;241m.\u001b[39mformat(prdecit))\n",
      "\u001b[1;31mTypeError\u001b[0m: KNeighborsClassifier.predict() missing 1 required positional argument: 'X'"
     ]
    }
   ],
   "source": [
    "from sklearn.neighbors import KNeighborsClassifier\n",
    "import numpy as np\n",
    "X_new = np.array ([[56.8, 17.5],\n",
    "                  [24.4, 24.1],\n",
    "                  [50.1, 10.9]]\n",
    "                  )\n",
    "\n",
    "prdecit = KNeighborsClassifier.predict(X_new)\n",
    "print('prediction: {}'.format(prdecit))"
   ]
  }
 ],
 "metadata": {
  "kernelspec": {
   "display_name": "Python 3",
   "language": "python",
   "name": "python3"
  },
  "language_info": {
   "codemirror_mode": {
    "name": "ipython",
    "version": 3
   },
   "file_extension": ".py",
   "mimetype": "text/x-python",
   "name": "python",
   "nbconvert_exporter": "python",
   "pygments_lexer": "ipython3",
   "version": "3.11.2"
  }
 },
 "nbformat": 4,
 "nbformat_minor": 2
}
