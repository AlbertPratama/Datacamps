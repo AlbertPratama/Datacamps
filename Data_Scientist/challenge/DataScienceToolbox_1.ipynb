{
 "cells": [
  {
   "cell_type": "code",
   "execution_count": 5,
   "metadata": {},
   "outputs": [
    {
     "name": "stdout",
     "output_type": "stream",
     "text": [
      "33\n",
      "16\n",
      "15\n"
     ]
    }
   ],
   "source": [
    "apples = [[9, 25, 33], \n",
    "          [16, 19, 16], \n",
    "          [25, 37, 15]]\n",
    "for x in apples:\n",
    "    print(x[2])"
   ]
  },
  {
   "cell_type": "code",
   "execution_count": 7,
   "metadata": {},
   "outputs": [
    {
     "name": "stdout",
     "output_type": "stream",
     "text": [
      "j\n",
      "u\n",
      "m\n",
      "p\n"
     ]
    }
   ],
   "source": [
    "word = 'jump'\n",
    "for letter in word:\n",
    "  print(letter) "
   ]
  },
  {
   "cell_type": "code",
   "execution_count": 4,
   "metadata": {},
   "outputs": [
    {
     "data": {
      "text/plain": [
       "15"
      ]
     },
     "execution_count": 4,
     "metadata": {},
     "output_type": "execute_result"
    }
   ],
   "source": [
    "y = range(0,6)\n",
    "y = sum(y)\n",
    "y"
   ]
  },
  {
   "cell_type": "code",
   "execution_count": 10,
   "metadata": {},
   "outputs": [
    {
     "name": "stdout",
     "output_type": "stream",
     "text": [
      "0\n",
      "chapter                  1\n",
      "course        Data Science\n",
      "technology          Python\n",
      "Name: 0, dtype: object\n",
      "1\n",
      "chapter                        2\n",
      "course        Data Visualization\n",
      "technology                     R\n",
      "Name: 1, dtype: object\n",
      "2\n",
      "chapter               3\n",
      "course        Databases\n",
      "technology          SQL\n",
      "Name: 2, dtype: object\n"
     ]
    }
   ],
   "source": [
    "import pandas as pd\n",
    "\n",
    "# Define the DataFrame\n",
    "datacamp = pd.DataFrame({'chapter': [1, 2, 3],\n",
    "                        'course': ['Data Science', 'Data Visualization', 'Databases'],\n",
    "                        'technology': ['Python', 'R', 'SQL']})\n",
    "\n",
    "for lab, row in datacamp.iterrows():\n",
    "  print(lab)\n",
    "  print(row)"
   ]
  },
  {
   "cell_type": "code",
   "execution_count": 11,
   "metadata": {},
   "outputs": [
    {
     "name": "stdout",
     "output_type": "stream",
     "text": [
      "10\n",
      "9\n",
      "8\n",
      "7\n",
      "6\n"
     ]
    }
   ],
   "source": [
    "i = 10\n",
    "while i > 5:\n",
    "  print(i)\n",
    "  i -= 1"
   ]
  },
  {
   "cell_type": "code",
   "execution_count": 12,
   "metadata": {},
   "outputs": [
    {
     "name": "stdout",
     "output_type": "stream",
     "text": [
      "2\n",
      "3\n",
      "4\n",
      "5\n",
      "6\n",
      "7\n",
      "8\n"
     ]
    }
   ],
   "source": [
    "i = 2\n",
    "while i <= 8:\n",
    "  print(i)\n",
    "  i += 1"
   ]
  },
  {
   "cell_type": "code",
   "execution_count": 4,
   "metadata": {},
   "outputs": [
    {
     "name": "stdout",
     "output_type": "stream",
     "text": [
      "0 km\n",
      "4 km\n",
      "4 km\n"
     ]
    }
   ],
   "source": [
    "import numpy as np\n",
    "x = np.array([0, 4, 4])\n",
    "for j in x:\n",
    "    print(str(j) + ' km')"
   ]
  },
  {
   "cell_type": "code",
   "execution_count": 1,
   "metadata": {},
   "outputs": [
    {
     "name": "stdout",
     "output_type": "stream",
     "text": [
      "{1: 3, 2: 6}\n"
     ]
    }
   ],
   "source": [
    "x = [1, 2]\n",
    "mult = {i: 3*i for i in x}\n",
    "print(mult)"
   ]
  },
  {
   "cell_type": "code",
   "execution_count": 2,
   "metadata": {},
   "outputs": [
    {
     "name": "stdout",
     "output_type": "stream",
     "text": [
      "pelertity\n",
      "kontdicks\n"
     ]
    }
   ],
   "source": [
    "char = ['peler', 'kont']\n",
    "code = ['tity', 'dicks']\n",
    "\n",
    "team_arr = zip(char, code)\n",
    "for i,j in team_arr:\n",
    "  print(i+j)"
   ]
  },
  {
   "cell_type": "code",
   "execution_count": null,
   "metadata": {},
   "outputs": [],
   "source": [
    "heroes = ['thor', 'hulk']\n",
    "for i in heroes:\n",
    "  i.upper()\n",
    "print(list(to_upper(superhero_list)))"
   ]
  },
  {
   "cell_type": "code",
   "execution_count": 3,
   "metadata": {},
   "outputs": [
    {
     "name": "stdout",
     "output_type": "stream",
     "text": [
      "['THOR', 'HULK']\n"
     ]
    }
   ],
   "source": [
    "superhero_list = ['thor', 'hulk']\n",
    "\n",
    "def to_upper(heroes):\n",
    "  for i in heroes:\n",
    "    yield i.upper()\n",
    "\n",
    "print(list(to_upper(superhero_list)))"
   ]
  },
  {
   "cell_type": "code",
   "execution_count": 18,
   "metadata": {},
   "outputs": [
    {
     "name": "stdout",
     "output_type": "stream",
     "text": [
      "[[1, 2, 3], [1, 2, 3], [1, 2, 3]]\n"
     ]
    }
   ],
   "source": [
    "matrix = [[1,2,3] for i in range(3)]\n",
    "print(matrix)"
   ]
  },
  {
   "cell_type": "code",
   "execution_count": 22,
   "metadata": {},
   "outputs": [
    {
     "data": {
      "text/plain": [
       "<list_iterator at 0x1d214946bf0>"
      ]
     },
     "execution_count": 22,
     "metadata": {},
     "output_type": "execute_result"
    }
   ],
   "source": [
    "groceris = ['Apple','Milk','Bread']\n",
    "groceris = iter(groceris)\n",
    "groceris"
   ]
  },
  {
   "cell_type": "code",
   "execution_count": null,
   "metadata": {},
   "outputs": [],
   "source": [
    "result = []\n",
    "for chunk in pd.read_csv('sales.csv', chunksize=2):\n",
    "  result.append(sum(chunk['sales']))\n",
    "total = sum(result)\n",
    "print(total)"
   ]
  },
  {
   "cell_type": "code",
   "execution_count": 26,
   "metadata": {},
   "outputs": [
    {
     "name": "stdout",
     "output_type": "stream",
     "text": [
      "0: Mick Rory\n",
      "1: Leonard Snart\n",
      "2: Gorilla Grodd\n"
     ]
    }
   ],
   "source": [
    "flash_vil = ['Mick Rory', 'Leonard Snart', 'Gorilla Grodd']\n",
    "for x, y in enumerate(flash_vil):\n",
    "    print(str (x) + ': ' + y)\n"
   ]
  },
  {
   "cell_type": "code",
   "execution_count": 27,
   "metadata": {},
   "outputs": [
    {
     "name": "stdout",
     "output_type": "stream",
     "text": [
      "0: Mick Rory\n",
      "1: Leonard Snart\n",
      "2: Gorilla Grodd\n"
     ]
    }
   ],
   "source": [
    "flash_vil = ['Mick Rory', 'Leonard Snart', 'Gorilla Grodd']\n",
    "for x, y in enumerate(flash_vil):\n",
    "    print(str(x) + ': ' + y)"
   ]
  }
 ],
 "metadata": {
  "kernelspec": {
   "display_name": "Python 3",
   "language": "python",
   "name": "python3"
  },
  "language_info": {
   "codemirror_mode": {
    "name": "ipython",
    "version": 3
   },
   "file_extension": ".py",
   "mimetype": "text/x-python",
   "name": "python",
   "nbconvert_exporter": "python",
   "pygments_lexer": "ipython3",
   "version": "3.11.2"
  }
 },
 "nbformat": 4,
 "nbformat_minor": 2
}
