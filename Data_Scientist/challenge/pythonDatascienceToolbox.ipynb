{
 "cells": [
  {
   "cell_type": "code",
   "execution_count": 7,
   "metadata": {},
   "outputs": [],
   "source": [
    "import numpy as np\n",
    "import pandas as pd"
   ]
  },
  {
   "cell_type": "code",
   "execution_count": 6,
   "metadata": {},
   "outputs": [
    {
     "name": "stdout",
     "output_type": "stream",
     "text": [
      "<function <lambda> at 0x000002D7FF39A8E0>\n"
     ]
    }
   ],
   "source": [
    "def plus_5(number):\n",
    "  \"\"\"Adds 5 to a given number and returns the result.\"\"\"\n",
    "  new_number = number + 5\n",
    "  return new_number\n",
    "\n",
    "plus_5 = lambda number:number+5\n",
    "print(plus_5)"
   ]
  },
  {
   "cell_type": "code",
   "execution_count": 11,
   "metadata": {},
   "outputs": [
    {
     "name": "stdout",
     "output_type": "stream",
     "text": [
      "(4.5, 45.0)\n"
     ]
    }
   ],
   "source": [
    "def mean(*x):\n",
    "    \"\"\"Returns the mean of all the numbers\"\"\"\n",
    "    total_sum = 0\n",
    "    n = len(x)\n",
    "    for i in x:\n",
    "        total_sum = total_sum + i\n",
    "    return total_sum/n\n",
    "print((mean(4, 5), mean(40, 45, 50)))"
   ]
  },
  {
   "cell_type": "code",
   "execution_count": 21,
   "metadata": {},
   "outputs": [
    {
     "ename": "IndentationError",
     "evalue": "unindent does not match any outer indentation level (<tokenize>, line 4)",
     "output_type": "error",
     "traceback": [
      "\u001b[1;36m  File \u001b[1;32m<tokenize>:4\u001b[1;36m\u001b[0m\n\u001b[1;33m    global temp\u001b[0m\n\u001b[1;37m    ^\u001b[0m\n\u001b[1;31mIndentationError\u001b[0m\u001b[1;31m:\u001b[0m unindent does not match any outer indentation level\n"
     ]
    }
   ],
   "source": [
    "temp = 15\n",
    "def convert_temp(x):\n",
    "    \"\"\"Converts the temperature from Celsius to Fahrenheit\"\"\"\n",
    " global temp\n",
    " temp = (x * 1.8) + 32\n",
    "convert_temp(temp)\n",
    "print(temp)"
   ]
  },
  {
   "cell_type": "code",
   "execution_count": null,
   "metadata": {},
   "outputs": [],
   "source": [
    "def print_name(name):\n",
    "  \"\"\"Prints Hello and the name of the person.\"\"\"\n",
    "  statement = \"Hello \" + name + \"!\"\n",
    "  \n",
    "print(statement)\n",
    "print_name('Amy')"
   ]
  },
  {
   "cell_type": "code",
   "execution_count": 6,
   "metadata": {},
   "outputs": [
    {
     "name": "stdout",
     "output_type": "stream",
     "text": [
      "[9, 8, 3, 7]\n"
     ]
    }
   ],
   "source": [
    "floats = [9.33, 7.78, 3.16, 6.52]\n",
    "integers = [round (x) for x in floats]\n",
    "print(integers)"
   ]
  },
  {
   "cell_type": "code",
   "execution_count": 7,
   "metadata": {},
   "outputs": [],
   "source": [
    "characters = ['The Hulk', 'Iron Man']\n",
    "names = ['Bruce Banner', 'Tony Stark']"
   ]
  },
  {
   "cell_type": "code",
   "execution_count": 9,
   "metadata": {},
   "outputs": [
    {
     "data": {
      "text/plain": [
       "[('The Hulk', 'Bruce Banner'), ('Iron Man', 'Tony Stark')]"
      ]
     },
     "execution_count": 9,
     "metadata": {},
     "output_type": "execute_result"
    }
   ],
   "source": [
    "ave = zip(characters, names)\n",
    "aven = list(ave)\n",
    "aven"
   ]
  },
  {
   "cell_type": "code",
   "execution_count": 13,
   "metadata": {},
   "outputs": [],
   "source": [
    "letters = ['A', 'B', 'C']\n",
    "pairs = []\n",
    "l_and_n = pairs\n",
    "for letter in letters:\n",
    "    for num in range(0, 2):\n",
    "        l_and_n.append((letter, num))"
   ]
  },
  {
   "cell_type": "code",
   "execution_count": 15,
   "metadata": {},
   "outputs": [
    {
     "name": "stdout",
     "output_type": "stream",
     "text": [
      "[('A', 0), ('A', 1), ('B', 0), ('B', 1), ('C', 0), ('C', 1)]\n"
     ]
    }
   ],
   "source": [
    "pairs = [(letter, num) for letter in letters for num in range(0,2)]\n",
    "print(pairs)"
   ]
  },
  {
   "cell_type": "code",
   "execution_count": 2,
   "metadata": {},
   "outputs": [
    {
     "name": "stdout",
     "output_type": "stream",
     "text": [
      "A L B E R T\n"
     ]
    }
   ],
   "source": [
    "wordss = iter('ALBERT')\n",
    "print(*wordss)"
   ]
  },
  {
   "cell_type": "code",
   "execution_count": null,
   "metadata": {},
   "outputs": [],
   "source": [
    "capitals = {'Australia': 'Canberra',\n",
    "            'Belgium': 'Brussels', 'Finland': 'Helsinki'}\n",
    "for i, j in capitals.items():\n",
    "  print(i, j)"
   ]
  },
  {
   "cell_type": "code",
   "execution_count": 2,
   "metadata": {},
   "outputs": [],
   "source": [
    "# from sklearn import datasets\n",
    "# import pandas as pd\n",
    "\n",
    "# irisdatas = datasets.load_iris()\n",
    "# irisdatas = pd.DataFrame(irisdatas)\n",
    "# # irisdatas"
   ]
  },
  {
   "cell_type": "code",
   "execution_count": 1,
   "metadata": {},
   "outputs": [],
   "source": [
    "# iris = pd.read_csv(irisdatas, chunksize=4)\n",
    "# print(iris)\n",
    "# print(next(iris))\n"
   ]
  },
  {
   "cell_type": "code",
   "execution_count": 4,
   "metadata": {},
   "outputs": [],
   "source": [
    "floats = [9.33, 7.78, 3.16, 6.52]"
   ]
  },
  {
   "cell_type": "code",
   "execution_count": 6,
   "metadata": {},
   "outputs": [
    {
     "name": "stdout",
     "output_type": "stream",
     "text": [
      "[]\n"
     ]
    }
   ],
   "source": [
    "floats = []\n",
    "integers = []\n",
    "\n",
    "for float in floats:\n",
    "  integers.append(round(float))\n",
    "\n",
    "print(floats)"
   ]
  },
  {
   "cell_type": "code",
   "execution_count": 9,
   "metadata": {},
   "outputs": [
    {
     "name": "stdout",
     "output_type": "stream",
     "text": [
      "[9, 8, 3, 7]\n"
     ]
    }
   ],
   "source": [
    "floats = [9.33, 7.78, 3.16, 6.52]\n",
    "inteher = [round (x) for x in floats]\n",
    "print(inteher)"
   ]
  },
  {
   "cell_type": "code",
   "execution_count": 10,
   "metadata": {},
   "outputs": [],
   "source": [
    "superhero_list = ['thor', 'hulk']"
   ]
  },
  {
   "cell_type": "code",
   "execution_count": 14,
   "metadata": {},
   "outputs": [
    {
     "name": "stdout",
     "output_type": "stream",
     "text": [
      "['THOR', 'HULK']\n"
     ]
    }
   ],
   "source": [
    "def to_upper(heroes):\n",
    "  for i in heroes:\n",
    "    yield i.upper()\n",
    "\n",
    "\n",
    "print(list(to_upper(superhero_list)))"
   ]
  },
  {
   "cell_type": "code",
   "execution_count": 15,
   "metadata": {},
   "outputs": [],
   "source": [
    "codenames = ['Spartan', 'Green Arrow']\n",
    "characters_name = ['Jhon Diggle', ' Oliver Quenn']"
   ]
  },
  {
   "cell_type": "code",
   "execution_count": 16,
   "metadata": {},
   "outputs": [
    {
     "name": "stdout",
     "output_type": "stream",
     "text": [
      "('Jhon Diggle', ' Oliver Quenn')\n"
     ]
    }
   ],
   "source": [
    "team_arrow = zip(codenames, characters_name)\n",
    "cnames, names = zip(*team_arrow)\n",
    "print(names)"
   ]
  }
 ],
 "metadata": {
  "kernelspec": {
   "display_name": "Python 3",
   "language": "python",
   "name": "python3"
  },
  "language_info": {
   "codemirror_mode": {
    "name": "ipython",
    "version": 3
   },
   "file_extension": ".py",
   "mimetype": "text/x-python",
   "name": "python",
   "nbconvert_exporter": "python",
   "pygments_lexer": "ipython3",
   "version": "3.11.2"
  }
 },
 "nbformat": 4,
 "nbformat_minor": 2
}
