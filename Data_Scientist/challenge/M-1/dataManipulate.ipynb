{
 "cells": [
  {
   "cell_type": "code",
   "execution_count": 76,
   "metadata": {},
   "outputs": [],
   "source": [
    "import pandas as pd\n",
    "\n",
    "data = {\n",
    "    'date': ['2018-01-15', '2018-01-15', '2018-01-16', '2018-01-16', '2018-01-17'],\n",
    "    'product_line': ['Health and beauty', 'Electronic accessories', 'Home and lifestyle', 'Sports', 'Food and beverages'],\n",
    "    'product': ['Shampoo', 'Headphones', 'Lamp', 'Yoga mat', 'Milk'],\n",
    "    'unit_price': [6.99, 25.28, 46.33, 39.99, 5.99],\n",
    "    'quantity': [7, 5, 3, 5, 8]\n",
    "}\n",
    "\n",
    "sales = pd.DataFrame(data)"
   ]
  },
  {
   "cell_type": "code",
   "execution_count": 77,
   "metadata": {},
   "outputs": [
    {
     "data": {
      "text/html": [
       "<div>\n",
       "<style scoped>\n",
       "    .dataframe tbody tr th:only-of-type {\n",
       "        vertical-align: middle;\n",
       "    }\n",
       "\n",
       "    .dataframe tbody tr th {\n",
       "        vertical-align: top;\n",
       "    }\n",
       "\n",
       "    .dataframe thead th {\n",
       "        text-align: right;\n",
       "    }\n",
       "</style>\n",
       "<table border=\"1\" class=\"dataframe\">\n",
       "  <thead>\n",
       "    <tr style=\"text-align: right;\">\n",
       "      <th></th>\n",
       "      <th>date</th>\n",
       "      <th>product_line</th>\n",
       "      <th>product</th>\n",
       "      <th>unit_price</th>\n",
       "      <th>quantity</th>\n",
       "    </tr>\n",
       "  </thead>\n",
       "  <tbody>\n",
       "    <tr>\n",
       "      <th>0</th>\n",
       "      <td>2018-01-15</td>\n",
       "      <td>Health and beauty</td>\n",
       "      <td>Shampoo</td>\n",
       "      <td>6.99</td>\n",
       "      <td>7</td>\n",
       "    </tr>\n",
       "    <tr>\n",
       "      <th>1</th>\n",
       "      <td>2018-01-15</td>\n",
       "      <td>Electronic accessories</td>\n",
       "      <td>Headphones</td>\n",
       "      <td>25.28</td>\n",
       "      <td>5</td>\n",
       "    </tr>\n",
       "    <tr>\n",
       "      <th>2</th>\n",
       "      <td>2018-01-16</td>\n",
       "      <td>Home and lifestyle</td>\n",
       "      <td>Lamp</td>\n",
       "      <td>46.33</td>\n",
       "      <td>3</td>\n",
       "    </tr>\n",
       "    <tr>\n",
       "      <th>3</th>\n",
       "      <td>2018-01-16</td>\n",
       "      <td>Sports</td>\n",
       "      <td>Yoga mat</td>\n",
       "      <td>39.99</td>\n",
       "      <td>5</td>\n",
       "    </tr>\n",
       "    <tr>\n",
       "      <th>4</th>\n",
       "      <td>2018-01-17</td>\n",
       "      <td>Food and beverages</td>\n",
       "      <td>Milk</td>\n",
       "      <td>5.99</td>\n",
       "      <td>8</td>\n",
       "    </tr>\n",
       "  </tbody>\n",
       "</table>\n",
       "</div>"
      ],
      "text/plain": [
       "         date            product_line     product  unit_price  quantity\n",
       "0  2018-01-15       Health and beauty     Shampoo        6.99         7\n",
       "1  2018-01-15  Electronic accessories  Headphones       25.28         5\n",
       "2  2018-01-16      Home and lifestyle        Lamp       46.33         3\n",
       "3  2018-01-16                  Sports    Yoga mat       39.99         5\n",
       "4  2018-01-17      Food and beverages        Milk        5.99         8"
      ]
     },
     "execution_count": 77,
     "metadata": {},
     "output_type": "execute_result"
    }
   ],
   "source": [
    "sales"
   ]
  },
  {
   "cell_type": "code",
   "execution_count": 66,
   "metadata": {},
   "outputs": [],
   "source": [
    "import numpy as np"
   ]
  },
  {
   "cell_type": "code",
   "execution_count": 67,
   "metadata": {},
   "outputs": [
    {
     "name": "stdout",
     "output_type": "stream",
     "text": [
      "                         mean    sum\n",
      "product_line                        \n",
      "Electronic accessories  25.28  25.28\n",
      "Food and beverages       5.99   5.99\n",
      "Health and beauty        6.99   6.99\n",
      "Home and lifestyle      46.33  46.33\n",
      "Sports                  39.99  39.99\n"
     ]
    },
    {
     "name": "stderr",
     "output_type": "stream",
     "text": [
      "C:\\Users\\Albert\\AppData\\Local\\Temp\\ipykernel_18004\\1959031296.py:1: FutureWarning: The provided callable <function mean at 0x00000257FEB8A160> is currently using SeriesGroupBy.mean. In a future version of pandas, the provided callable will be used directly. To keep current behavior pass the string \"mean\" instead.\n",
      "  print(sales.groupby(\"product_line\")['unit_price'].agg([np.mean, np.sum]))\n",
      "C:\\Users\\Albert\\AppData\\Local\\Temp\\ipykernel_18004\\1959031296.py:1: FutureWarning: The provided callable <function sum at 0x00000257FEB89080> is currently using SeriesGroupBy.sum. In a future version of pandas, the provided callable will be used directly. To keep current behavior pass the string \"sum\" instead.\n",
      "  print(sales.groupby(\"product_line\")['unit_price'].agg([np.mean, np.sum]))\n"
     ]
    }
   ],
   "source": [
    "print(sales.groupby(\"product_line\")['unit_price'].agg([np.mean, np.sum]))\n"
   ]
  },
  {
   "cell_type": "code",
   "execution_count": 68,
   "metadata": {},
   "outputs": [
    {
     "ename": "SyntaxError",
     "evalue": "invalid syntax. Perhaps you forgot a comma? (1835572341.py, line 14)",
     "output_type": "error",
     "traceback": [
      "\u001b[1;36m  Cell \u001b[1;32mIn[68], line 14\u001b[1;36m\u001b[0m\n\u001b[1;33m    print(df[df['date'] == 3 '2018-01-16'])\u001b[0m\n\u001b[1;37m             ^\u001b[0m\n\u001b[1;31mSyntaxError\u001b[0m\u001b[1;31m:\u001b[0m invalid syntax. Perhaps you forgot a comma?\n"
     ]
    }
   ],
   "source": [
    "import pandas as pd\n",
    "import numpy as np\n",
    "\n",
    "data1 = {\n",
    "    'date': ['2018-01-15', '2018-01-15', '2018-01-16', '2018-01-16', '2018-01-17'],\n",
    "    'product_line': ['Health and beauty', 'Electronic accessories', 'Home and lifestyle', 'Sports', 'Electronic accessories'],\n",
    "    'product': ['Shampoo', 'Keyboard', 'Lamp', 'Yoga mat', 'Headphones'],\n",
    "    'unit_price': [6.99, 49.99, 46.33, 39.99, 12.99],\n",
    "    'quantity': [7, 5, 3, 5, 8]\n",
    "}\n",
    "\n",
    "df = pd.DataFrame(data1)\n",
    "\n",
    "print(df[df['date'] == 3 '2018-01-16'])\n"
   ]
  },
  {
   "cell_type": "code",
   "execution_count": null,
   "metadata": {},
   "outputs": [
    {
     "name": "stdout",
     "output_type": "stream",
     "text": [
      "         date            product_line     product  unit_price  quantity\n",
      "4  2018-01-17  Electronic accessories  Headphones       12.99         8\n"
     ]
    }
   ],
   "source": [
    "import pandas as pd\n",
    "\n",
    "data1 = {\n",
    "    'date': ['2018-01-15', '2018-01-15', '2018-01-16', '2018-01-16', '2018-01-17'],\n",
    "    'product_line': ['Health and beauty', 'Electronic accessories', 'Home and lifestyle', 'Sports', 'Electronic accessories'],\n",
    "    'product': ['Shampoo', 'Keyboard', 'Lamp', 'Yoga mat', 'Headphones'],\n",
    "    'unit_price': [6.99, 49.99, 46.33, 39.99, 12.99],\n",
    "    'quantity': [7, 5, 3, 5, 8]\n",
    "}\n",
    "\n",
    "df = pd.DataFrame(data1)\n",
    "\n",
    "print(df[df['date'] > '2018-01-16'])"
   ]
  },
  {
   "cell_type": "code",
   "execution_count": 70,
   "metadata": {},
   "outputs": [],
   "source": [
    "import pandas as pd\n",
    "\n",
    "data = {\n",
    "    'surname': ['Hargrave', 'Hill', 'Onio', 'Boni', 'Mitchell'],\n",
    "    'credit_score': [619, 608, 502, 699, 850],\n",
    "    'geography': ['France', 'Spain', 'France', 'France', 'Spain'],\n",
    "    'age': [42, 41, 42, 39, 43],\n",
    "    'exited': ['Yes', 'No', 'Yes', 'No', 'No']\n",
    "}\n",
    "\n",
    "churn = pd.DataFrame(data)"
   ]
  },
  {
   "cell_type": "code",
   "execution_count": null,
   "metadata": {},
   "outputs": [
    {
     "name": "stdout",
     "output_type": "stream",
     "text": [
      "0    Hargrave\n",
      "1        Hill\n",
      "2        Onio\n",
      "3        Boni\n",
      "4    Mitchell\n",
      "Name: surname, dtype: object\n"
     ]
    }
   ],
   "source": [
    "print(churn['surname'].head())"
   ]
  },
  {
   "cell_type": "code",
   "execution_count": null,
   "metadata": {},
   "outputs": [
    {
     "name": "stdout",
     "output_type": "stream",
     "text": [
      "RangeIndex(start=0, stop=5, step=1)\n"
     ]
    }
   ],
   "source": [
    "print(churn.index)"
   ]
  },
  {
   "cell_type": "code",
   "execution_count": null,
   "metadata": {},
   "outputs": [
    {
     "data": {
      "image/png": "[encoded data removed]",
      "text/plain": [
       "<Figure size 640x480 with 1 Axes>"
      ]
     },
     "metadata": {},
     "output_type": "display_data"
    }
   ],
   "source": [
    "import matplotlib.pyplot as plt\n",
    "# churn.isna().any().plot(kind='bar')\n",
    "# churn.isna().any().plot(kind='hist')\n",
    "# churn.isna().sum().plot(kind='bar')\n",
    "# churn.isna().any().plot(kind='hist')\n",
    "# churn1.isna().sum().plot(kind='bar')\n",
    "churn.isna().sum().plot(kind='bar')\n",
    "plt.show()"
   ]
  },
  {
   "cell_type": "code",
   "execution_count": null,
   "metadata": {},
   "outputs": [
    {
     "ename": "SyntaxError",
     "evalue": "invalid syntax. Maybe you meant '==' or ':=' instead of '='? (584667748.py, line 1)",
     "output_type": "error",
     "traceback": [
      "\u001b[1;36m  Cell \u001b[1;32mIn[42], line 1\u001b[1;36m\u001b[0m\n\u001b[1;33m    print(sales.pivot(values=['unit_price', index=['product']]))\u001b[0m\n\u001b[1;37m                                            ^\u001b[0m\n\u001b[1;31mSyntaxError\u001b[0m\u001b[1;31m:\u001b[0m invalid syntax. Maybe you meant '==' or ':=' instead of '='?\n"
     ]
    }
   ],
   "source": [
    "print(sales.pivot_table(values=['unit_price', index=['product_line']]))"
   ]
  },
  {
   "cell_type": "code",
   "execution_count": null,
   "metadata": {},
   "outputs": [
    {
     "name": "stdout",
     "output_type": "stream",
     "text": [
      "                        unit_price\n",
      "product_line                      \n",
      "Electronic accessories       25.28\n",
      "Food and beverages            5.99\n",
      "Health and beauty             6.99\n",
      "Home and lifestyle           46.33\n",
      "Sports                       39.99\n"
     ]
    }
   ],
   "source": [
    "print(sales.pivot_table(values='unit_price', index='product_line'))"
   ]
  },
  {
   "cell_type": "code",
   "execution_count": 72,
   "metadata": {},
   "outputs": [
    {
     "name": "stdout",
     "output_type": "stream",
     "text": [
      "    surname geography exited\n",
      "0  Hargrave    France    Yes\n",
      "1      Hill     Spain     No\n",
      "2      Onio    France    Yes\n",
      "3      Boni    France     No\n",
      "4  Mitchell     Spain     No\n"
     ]
    }
   ],
   "source": [
    "churn_subset = churn[['surname','geography','exited']]\n",
    "churn_filter = churn_subset[churn_subset['geography'].isin(['Germany','France'])]\n",
    "print(churn_subset.head())"
   ]
  },
  {
   "cell_type": "code",
   "execution_count": 80,
   "metadata": {},
   "outputs": [
    {
     "name": "stdout",
     "output_type": "stream",
     "text": [
      "         date small_sold large_sold\n",
      "0  2019-11-03   10376832    7835071\n",
      "1  2019-11-10   10717154    8561348\n"
     ]
    }
   ],
   "source": [
    "# Create a list of dictionaries with new data\n",
    "import pandas as pd\n",
    "avocados_list = [\n",
    "    {'date': '2019-11-03', 'small_sold': '10376832', 'large_sold': '7835071'},\n",
    "    {'date': '2019-11-10', 'small_sold': '10717154', 'large_sold': '8561348'},\n",
    "]\n",
    "\n",
    "# Convert list into DataFrame\n",
    "avocados_2019 = pd.DataFrame(avocados_list)\n",
    "\n",
    "# Print the new DataFrame\n",
    "print(avocados_2019)"
   ]
  }
 ],
 "metadata": {
  "kernelspec": {
   "display_name": "Python 3",
   "language": "python",
   "name": "python3"
  },
  "language_info": {
   "codemirror_mode": {
    "name": "ipython",
    "version": 3
   },
   "file_extension": ".py",
   "mimetype": "text/x-python",
   "name": "python",
   "nbconvert_exporter": "python",
   "pygments_lexer": "ipython3",
   "version": "3.11.2"
  }
 },
 "nbformat": 4,
 "nbformat_minor": 2
}
