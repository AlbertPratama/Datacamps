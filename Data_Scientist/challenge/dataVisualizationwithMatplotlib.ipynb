{
 "cells": [
  {
   "cell_type": "code",
   "execution_count": 1,
   "metadata": {},
   "outputs": [],
   "source": [
    "import pandas as pd\n",
    "import numpy as np\n",
    "import matplotlib.pyplot as plt"
   ]
  },
  {
   "cell_type": "code",
   "execution_count": 2,
   "metadata": {},
   "outputs": [],
   "source": [
    "data = {\n",
    "    'date': ['2018-01-15', '2018-01-15', '2018-01-16', '2018-01-16', '2018-01-17'],\n",
    "    'product_line': ['Health and beauty', 'Electronic accessories', 'Home and lifestyle', 'Sports', 'Food and beverages'],\n",
    "    'product': ['Shampoo', 'Headphones', 'Lamp', 'Yoga mat', 'Milk'],\n",
    "    'unit_price': [6.99, 25.28, 46.33, 39.99, 5.99],\n",
    "    'quantity': [7, 5, 3, 5, 8]\n",
    "}\n",
    "\n",
    "sales = pd.DataFrame(data)"
   ]
  },
  {
   "cell_type": "code",
   "execution_count": 3,
   "metadata": {},
   "outputs": [
    {
     "name": "stdout",
     "output_type": "stream",
     "text": [
      "product_line       product \n",
      "Health and beauty  Shampoo      6.99\n",
      "Sports             Yoga mat    39.99\n",
      "Name: unit_price, dtype: float64\n"
     ]
    }
   ],
   "source": [
    "filtered_sales = sales[sales[\"product_line\"].isin([\"Health and beauty\", \"Sports\"])]\n",
    "print(filtered_sales.groupby(['product_line','product' ])['unit_price'].min())"
   ]
  },
  {
   "cell_type": "code",
   "execution_count": 5,
   "metadata": {},
   "outputs": [
    {
     "name": "stdout",
     "output_type": "stream",
     "text": [
      "     name  age\n",
      "0    Onio   32\n",
      "1  Bonnie   42\n"
     ]
    }
   ],
   "source": [
    "list_of_dicts = [{\"name\": \"Onio\", \"age\": 32}, {\"name\": \"Bonnie\", \"age\": 42},]\n",
    "new_df = pd.DataFrame(list_of_dicts)\n",
    "print(new_df)"
   ]
  }
 ],
 "metadata": {
  "kernelspec": {
   "display_name": "Python 3",
   "language": "python",
   "name": "python3"
  },
  "language_info": {
   "codemirror_mode": {
    "name": "ipython",
    "version": 3
   },
   "file_extension": ".py",
   "mimetype": "text/x-python",
   "name": "python",
   "nbconvert_exporter": "python",
   "pygments_lexer": "ipython3",
   "version": "3.11.2"
  }
 },
 "nbformat": 4,
 "nbformat_minor": 2
}
