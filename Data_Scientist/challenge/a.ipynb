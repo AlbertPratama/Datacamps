{
 "cells": [
  {
   "cell_type": "code",
   "execution_count": null,
   "metadata": {},
   "outputs": [],
   "source": [
    "import scipy.stats as stats\n",
    "\n",
    "res = stats. (treat)"
   ]
  },
  {
   "cell_type": "code",
   "execution_count": 3,
   "metadata": {},
   "outputs": [
    {
     "name": "stdout",
     "output_type": "stream",
     "text": [
      "[-1.12813593 -1.48040658  1.82566951  2.15318558 -3.1092902   4.16535904\n",
      "  0.55109712  0.3565975   1.43897413  2.94993402 -1.46241089  0.49032047\n",
      "  2.55706931  1.2870183   3.74891207 -0.68999057 -0.29744897  0.16407514\n",
      "  2.72976818  2.6764954  -0.73230827  3.19910855  0.60452789  1.10634113\n",
      "  1.74114579  3.68269038 -0.78521978  1.8775535   2.86770347  4.44043292\n",
      " -1.30162175  1.39724884  0.87071135  1.16461796 -0.0095266   3.97470618\n",
      "  0.30281085 -4.19292364 -4.66035901 -0.90219836 -2.1378446   1.51338569\n",
      "  0.6090276   2.38837479  1.72272345  6.46872418 -1.36028062  2.46715977\n",
      "  1.93427564 -0.44564117  1.20868402  3.09877634  2.71753043 -0.75110945\n",
      "  0.63115162  1.32702983  3.10900587 -1.57203286  2.64938489  1.03008887\n",
      " -0.20899003  1.75527497  0.69622638  1.94297548 -1.13409671  3.59701595\n",
      "  4.65585735 -2.34106598 -0.33053722 -0.98833748  3.12567519 -0.94968694\n",
      "  2.03713717  0.58286407  0.02320441  2.25531902 -0.59349713  1.14396031\n",
      " -0.84279541  0.41994806  0.06446922 -3.66819385  3.38429581  1.47712933\n",
      "  0.32378255  2.07052425  2.77824046  0.86212245  5.1403515  -0.05792062\n",
      "  2.05434757  3.23267401 -0.54919181  1.31913109  1.16085487 -1.41029874\n",
      "  3.68622871  2.87966912  1.26780824 -2.11704351]\n"
     ]
    }
   ],
   "source": [
    "import numpy as np\n",
    "\n",
    "norm = np.random.normal(loc=1, scale=2, size=100)\n",
    "\n",
    "print(norm)"
   ]
  },
  {
   "cell_type": "code",
   "execution_count": 4,
   "metadata": {},
   "outputs": [
    {
     "name": "stdout",
     "output_type": "stream",
     "text": [
      "Power_divergenceResult(statistic=125.04861111111109, pvalue=1.4157826255104735e-24)\n"
     ]
    }
   ],
   "source": [
    "from scipy import stats\n",
    "\n",
    "obs = [10,20,54,32,96,53,23]\n",
    "\n",
    "res = stats.power_divergence(obs)im\n",
    "print(res)"
   ]
  },
  {
   "cell_type": "code",
   "execution_count": null,
   "metadata": {},
   "outputs": [],
   "source": [
    "res = stats.(df['A'],df['B'])\n",
    "\n",
    "print(res)"
   ]
  },
  {
   "cell_type": "code",
   "execution_count": 5,
   "metadata": {},
   "outputs": [
    {
     "name": "stdout",
     "output_type": "stream",
     "text": [
      "[1 0 0 1 2 0 0 0 1 1 1 2 0 0 1 1 2 1 2 2 1 1 0 1 1 1 0 1 1 0 1 2 0 1 1 2 1\n",
      " 1 1 1 0 1 1 1 1 2 0 1 3 2 1 1 1 1 0 1 0 0 2 1 2 0 0 0 1 2 1 1 3 1 2 3 2 1\n",
      " 1 2 1 1 1 0 3 2 3 0 0 2 1 1 0 0 0 1 0 1 1 0 3 1 2 2]\n"
     ]
    }
   ],
   "source": [
    "import numpy as np \n",
    "\n",
    "n = 5\n",
    "prob = .2\n",
    "\n",
    "binom = np.random.binomial(n, prob, 100)\n",
    "print(binom)"
   ]
  },
  {
   "cell_type": "code",
   "execution_count": 6,
   "metadata": {},
   "outputs": [
    {
     "name": "stdout",
     "output_type": "stream",
     "text": [
      "[1.04922752e+00 1.75683131e+00 4.30601617e+00 1.17566960e-01\n",
      " 2.56175388e+00 3.86180333e-01 4.64271866e+00 1.89218151e+00\n",
      " 2.59575743e-01 3.41366565e+00 2.41698662e+00 2.08078148e+00\n",
      " 1.67850473e+00 8.48547229e-01 3.09479197e+00 1.90469268e+00\n",
      " 6.31654360e+00 4.67243714e-01 1.59451521e-01 4.43620518e-01\n",
      " 8.62080206e-01 1.58938746e-01 1.97221703e-01 1.06532806e+00\n",
      " 3.56636410e+00 5.12450517e+00 5.64886407e-01 7.58654065e-01\n",
      " 5.47454555e-01 8.36468974e-01 9.93230290e-01 5.29300073e-01\n",
      " 3.11589381e+00 7.50972090e-04 9.95200897e-02 3.28807140e+00\n",
      " 5.39903074e+00 5.54666685e-01 3.05938535e-02 1.79675160e+00\n",
      " 6.66636749e-01 2.40853806e-01 2.49444843e+00 6.21147380e-01\n",
      " 7.21522656e-01 4.44580154e+00 2.14708813e+00 1.01860902e-01\n",
      " 5.22917170e+00 1.37950595e+00 1.55738060e+00 2.85123532e+00\n",
      " 3.59677399e-01 2.18895842e+00 2.31355556e-01 1.52761898e+00\n",
      " 2.01989534e-01 1.05908936e+00 1.82420270e+00 8.97747313e-01\n",
      " 3.74081170e+00 8.64768409e-01 6.60150401e-01 8.57274825e-01\n",
      " 1.32534483e+00 1.43965814e+00 1.00164432e-01 2.36210260e+00\n",
      " 6.17034428e-01 3.18047126e+00 6.43748478e-01 4.01250403e-01\n",
      " 4.10943103e+00 4.53775125e+00 1.23796749e+00 1.13500642e-01\n",
      " 1.27172300e-01 5.14890744e+00 1.34157422e+00 2.85994175e+00\n",
      " 2.19000379e+00 3.22748626e-01 5.66670312e-01 7.46391593e-02\n",
      " 2.53713408e+00 3.41668623e-01 1.60991133e+00 2.69485997e+00\n",
      " 5.88830348e-02 1.03284891e+00 2.37087861e-01 5.98696850e-01\n",
      " 7.02143210e-01 4.64656091e+00 2.06611891e+00 6.06667120e-01\n",
      " 1.55055432e+00 2.70363021e+00 4.84190434e-01 1.67787991e+00]\n"
     ]
    }
   ],
   "source": [
    "df = 2\n",
    "chis = np.random.chisquare(df, 100)\n",
    "print(chis)"
   ]
  },
  {
   "cell_type": "code",
   "execution_count": null,
   "metadata": {},
   "outputs": [],
   "source": [
    "import pandas as pd\n",
    "\n",
    "new_sam = df.sample(=0.2)\n",
    "print(new_sam)"
   ]
  },
  {
   "cell_type": "code",
   "execution_count": 9,
   "metadata": {},
   "outputs": [
    {
     "name": "stdout",
     "output_type": "stream",
     "text": [
      "Probabilitas antara 60 dan 65 adalah 5.08%\n"
     ]
    }
   ],
   "source": [
    "from scipy.stats import norm\n",
    "\n",
    "# Menghitung probabilitas kumulatif\n",
    "upp = norm(loc=40, scale=18).cdf(65)\n",
    "low = norm(loc=40, scale=18).cdf(60)\n",
    "\n",
    "# Menghitung probabilitas antara 60 dan 65\n",
    "prob = upp - low\n",
    "prob_per = prob * 100  # Mengonversi ke persen\n",
    "\n",
    "print(\"Probabilitas antara 60 dan 65 adalah {:.2f}%\".format(prob_per))"
   ]
  },
  {
   "cell_type": "code",
   "execution_count": 10,
   "metadata": {},
   "outputs": [
    {
     "name": "stdout",
     "output_type": "stream",
     "text": [
      "0.0005896157846393688\n"
     ]
    }
   ],
   "source": [
    "prob = stats.poisson.pmf(k=180, mu=145)\n",
    "print(prob)"
   ]
  },
  {
   "cell_type": "code",
   "execution_count": 11,
   "metadata": {},
   "outputs": [
    {
     "name": "stdout",
     "output_type": "stream",
     "text": [
      "2.1444728212872144e-43\n"
     ]
    }
   ],
   "source": [
    "prob = stats.poisson.___(k=15, mu=145)\n",
    "print(prob)"
   ]
  },
  {
   "cell_type": "code",
   "execution_count": 21,
   "metadata": {},
   "outputs": [
    {
     "data": {
      "image/png": "[encoded data removed]",
      "text/plain": [
       "<Figure size 500x500 with 1 Axes>"
      ]
     },
     "metadata": {},
     "output_type": "display_data"
    }
   ],
   "source": [
    "from numpy.random import default_rng\n",
    "import seaborn as sns\n",
    "import matplotlib.pyplot as plt\n",
    "\n",
    "# Membuat instance random number generator\n",
    "rng = default_rng()\n",
    "\n",
    "# Menghasilkan data acak\n",
    "# Menggunakan distribusi normal dengan mean 6 dan std dev 1\n",
    "data = rng.normal(6, 1, 5000)\n",
    "\n",
    "# Membuat displot\n",
    "sns.displot(data, color='lightblue')\n",
    "\n",
    "# Menampilkan plot\n",
    "plt.show()"
   ]
  },
  {
   "cell_type": "code",
   "execution_count": 23,
   "metadata": {},
   "outputs": [
    {
     "name": "stdout",
     "output_type": "stream",
     "text": [
      "11.979148550710939\n"
     ]
    }
   ],
   "source": [
    "import math\n",
    "var1 = 143.5\n",
    "std = math.sqrt(var1)\n",
    "print(std)"
   ]
  },
  {
   "cell_type": "code",
   "execution_count": null,
   "metadata": {},
   "outputs": [],
   "source": [
    "outliers = np.abs(stats.(df['response_time']))\n",
    "len(outliers)"
   ]
  },
  {
   "cell_type": "code",
   "execution_count": null,
   "metadata": {},
   "outputs": [],
   "source": [
    "pd.pivot_table(df,)"
   ]
  },
  {
   "cell_type": "code",
   "execution_count": null,
   "metadata": {},
   "outputs": [],
   "source": [
    "from scipy.stats import __\n",
    "score = __ (df['score'], bias=___)\n",
    "perint(score)"
   ]
  }
 ],
 "metadata": {
  "kernelspec": {
   "display_name": "Python 3",
   "language": "python",
   "name": "python3"
  },
  "language_info": {
   "codemirror_mode": {
    "name": "ipython",
    "version": 3
   },
   "file_extension": ".py",
   "mimetype": "text/x-python",
   "name": "python",
   "nbconvert_exporter": "python",
   "pygments_lexer": "ipython3",
   "version": "3.11.2"
  }
 },
 "nbformat": 4,
 "nbformat_minor": 2
}
