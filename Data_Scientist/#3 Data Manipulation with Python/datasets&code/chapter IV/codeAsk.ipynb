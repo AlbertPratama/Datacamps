{
 "cells": [
  {
   "cell_type": "code",
   "execution_count": 5,
   "metadata": {},
   "outputs": [],
   "source": [
    "import pandas as pd\n",
    "import numpy as np\n",
    "import matplotlib.pyplot as plt\n",
    "import seaborn as sns"
   ]
  },
  {
   "cell_type": "code",
   "execution_count": null,
   "metadata": {},
   "outputs": [],
   "source": []
  },
  {
   "cell_type": "code",
   "execution_count": null,
   "metadata": {},
   "outputs": [],
   "source": []
  },
  {
   "cell_type": "code",
   "execution_count": null,
   "metadata": {},
   "outputs": [],
   "source": []
  },
  {
   "cell_type": "code",
   "execution_count": null,
   "metadata": {},
   "outputs": [],
   "source": []
  },
  {
   "cell_type": "code",
   "execution_count": null,
   "metadata": {},
   "outputs": [],
   "source": []
  },
  {
   "cell_type": "code",
   "execution_count": null,
   "metadata": {},
   "outputs": [],
   "source": []
  },
  {
   "cell_type": "markdown",
   "metadata": {},
   "source": [
    "# `Creating Data Frame`"
   ]
  },
  {
   "cell_type": "code",
   "execution_count": null,
   "metadata": {},
   "outputs": [],
   "source": []
  },
  {
   "cell_type": "code",
   "execution_count": null,
   "metadata": {},
   "outputs": [],
   "source": []
  },
  {
   "cell_type": "code",
   "execution_count": 6,
   "metadata": {},
   "outputs": [
    {
     "name": "stdout",
     "output_type": "stream",
     "text": [
      "         date small_sold large_sold\n",
      "0  2019-11-03   10376832    7835071\n",
      "1  2019-11-10   10717154    8561348\n"
     ]
    }
   ],
   "source": [
    "# Create a list of dictionaries with new data\n",
    "avocados_list = [\n",
    "    {'date': '2019-11-03', 'small_sold': '10376832', 'large_sold': '7835071'},\n",
    "    {'date': '2019-11-10', 'small_sold': '10717154', 'large_sold': '8561348'},\n",
    "]\n",
    "\n",
    "# Convert list into DataFrame\n",
    "avocados_2019 = pd.DataFrame(avocados_list)\n",
    "\n",
    "# Print the new DataFrame\n",
    "print(avocados_2019)"
   ]
  },
  {
   "cell_type": "code",
   "execution_count": 7,
   "metadata": {},
   "outputs": [
    {
     "name": "stdout",
     "output_type": "stream",
     "text": [
      "         date  small_sold  large_sold\n",
      "0  2019-11-17    10859987     7674135\n",
      "1  2019-12-01     9291631     6238096\n"
     ]
    }
   ],
   "source": [
    "# Create a dictionary of lists with new data\n",
    "avocados_dict = {\n",
    "  \"date\": [\"2019-11-17\", \"2019-12-01\"],\n",
    "  \"small_sold\": [10859987, 9291631],\n",
    "  \"large_sold\": [7674135, 6238096]\n",
    "}\n",
    "\n",
    "# Convert dictionary into DataFrame\n",
    "avocados_2019 = pd.DataFrame(avocados_dict)\n",
    "\n",
    "# Print the new DataFrame\n",
    "print(avocados_2019)"
   ]
  },
  {
   "cell_type": "markdown",
   "metadata": {},
   "source": [
    "### `Read & Writing CSVs`"
   ]
  },
  {
   "cell_type": "code",
   "execution_count": 8,
   "metadata": {},
   "outputs": [],
   "source": [
    "# Create the DataFrame\n",
    "data = {\n",
    "    \"airline\": [\n",
    "        \"DELTA AIR LINES\", \"VIRGIN AMERICA\", \"JETBLUE AIRWAYS\", \"UNITED AIRLINES\",\n",
    "        \"HAWAIIAN AIRLINES\", \"EXPRESSJET AIRLINES\", \"SKYWEST AIRLINES\", \"AMERICAN AIRLINES\",\n",
    "        \"ALASKA AIRLINES\", \"SOUTHWEST AIRLINES\", \"FRONTIER AIRLINES\", \"SPIRIT AIRLINES\",\n",
    "        \"DELTA AIR LINES\", \"VIRGIN AMERICA\", \"JETBLUE AIRWAYS\", \"UNITED AIRLINES\",\n",
    "        \"HAWAIIAN AIRLINES\", \"EXPRESSJET AIRLINES\", \"SKYWEST AIRLINES\", \"AMERICAN AIRLINES\",\n",
    "        \"ALASKA AIRLINES\", \"SOUTHWEST AIRLINES\", \"FRONTIER AIRLINES\", \"SPIRIT AIRLINES\"\n",
    "    ],\n",
    "    \"year\": [\n",
    "        2017, 2017, 2017, 2017, 2017, 2017, 2017, 2017, 2017, 2017, 2017, 2017,\n",
    "        2016, 2016, 2016, 2016, 2016, 2016, 2016, 2016, 2016, 2016, 2016, 2016\n",
    "    ],\n",
    "    \"nb_bumped\": [\n",
    "        679, 165, 1475, 2067, 92, 785, 917, 4517, 658, 6678, 540, 1502,\n",
    "        912, 77, 2140, 2874, 30, 2541, 2177, 6598, 734, 11907, 688, 1418\n",
    "    ],\n",
    "    \"total_passengers\": [\n",
    "        99796155, 6090029, 27255038, 70030765, 8422734, 11738812, 24516354, 98017132,\n",
    "        18817924, 115988988, 12059943, 17069647, 97237060, 5927938, 25990828, 64438132,\n",
    "        8154838, 16119866, 22575383, 99348093, 17725197, 112153048, 10895052, 15234924\n",
    "    ]\n",
    "}\n",
    "\n",
    "df = pd.DataFrame(data)\n",
    "\n",
    "# Save the DataFrame as a CSV file\n",
    "df.to_csv(\"airline_bumping.csv\", index=False)"
   ]
  },
  {
   "cell_type": "code",
   "execution_count": 9,
   "metadata": {},
   "outputs": [
    {
     "name": "stdout",
     "output_type": "stream",
     "text": [
      "             airline  year  nb_bumped  total_passengers\n",
      "0    DELTA AIR LINES  2017        679          99796155\n",
      "1     VIRGIN AMERICA  2017        165           6090029\n",
      "2    JETBLUE AIRWAYS  2017       1475          27255038\n",
      "3    UNITED AIRLINES  2017       2067          70030765\n",
      "4  HAWAIIAN AIRLINES  2017         92           8422734\n"
     ]
    }
   ],
   "source": [
    "# 1 . \n",
    "# Read CSV as DataFrame called airline_bumping\n",
    "airline_bumping = pd.read_csv('airline_bumping.csv')\n",
    "\n",
    "# Take a look at the DataFrame\n",
    "print(airline_bumping.head())"
   ]
  },
  {
   "cell_type": "markdown",
   "metadata": {},
   "source": [
    "incorrect"
   ]
  },
  {
   "cell_type": "code",
   "execution_count": 13,
   "metadata": {},
   "outputs": [
    {
     "name": "stdout",
     "output_type": "stream",
     "text": [
      "             airline  year  nb_bumped  total_passengers\n",
      "0    DELTA AIR LINES  2017        679          99796155\n",
      "1     VIRGIN AMERICA  2017        165           6090029\n",
      "2    JETBLUE AIRWAYS  2017       1475          27255038\n",
      "3    UNITED AIRLINES  2017       2067          70030765\n",
      "4  HAWAIIAN AIRLINES  2017         92           8422734\n"
     ]
    }
   ],
   "source": [
    "# 2. \n",
    "# From previous step\n",
    "airline_bumping = pd.read_csv(\"airline_bumping.csv\")\n",
    "print(airline_bumping.head())\n",
    "\n",
    "# For each airline, select nb_bumped and total_passengers and sum\n",
    "airline_totals = airline_bumping.groupby('nb_bumped')[['total_passengers']].sum()"
   ]
  },
  {
   "cell_type": "markdown",
   "metadata": {},
   "source": [
    "correct "
   ]
  },
  {
   "cell_type": "code",
   "execution_count": 14,
   "metadata": {},
   "outputs": [
    {
     "name": "stdout",
     "output_type": "stream",
     "text": [
      "             airline  year  nb_bumped  total_passengers\n",
      "0    DELTA AIR LINES  2017        679          99796155\n",
      "1     VIRGIN AMERICA  2017        165           6090029\n",
      "2    JETBLUE AIRWAYS  2017       1475          27255038\n",
      "3    UNITED AIRLINES  2017       2067          70030765\n",
      "4  HAWAIIAN AIRLINES  2017         92           8422734\n"
     ]
    }
   ],
   "source": [
    "# 2. \n",
    "# From previous step\n",
    "airline_bumping = pd.read_csv(\"airline_bumping.csv\")\n",
    "print(airline_bumping.head())\n",
    "\n",
    "# For each airline, select nb_bumped and total_passengers and sum\n",
    "airline_totals = airline_bumping.groupby('airline')[['nb_bumped','total_passengers']].sum()"
   ]
  },
  {
   "cell_type": "code",
   "execution_count": 16,
   "metadata": {},
   "outputs": [
    {
     "name": "stdout",
     "output_type": "stream",
     "text": [
      "             airline  year  nb_bumped  total_passengers\n",
      "0    DELTA AIR LINES  2017        679          99796155\n",
      "1     VIRGIN AMERICA  2017        165           6090029\n",
      "2    JETBLUE AIRWAYS  2017       1475          27255038\n",
      "3    UNITED AIRLINES  2017       2067          70030765\n",
      "4  HAWAIIAN AIRLINES  2017         92           8422734\n"
     ]
    }
   ],
   "source": [
    "# From previous steps\n",
    "airline_bumping = pd.read_csv(\"airline_bumping.csv\")\n",
    "print(airline_bumping.head())\n",
    "airline_totals = airline_bumping.groupby(\"airline\")[[\"nb_bumped\", \"total_passengers\"]].sum()\n",
    "\n",
    "# Create new col, bumps_per_10k: no. of bumps per 10k passengers for each airline\n",
    "airline_totals[\"bumps_per_10k\"] = (airline_totals['nb_bumped']) / (airline_totals['total_passengers']) * 10000"
   ]
  },
  {
   "cell_type": "code",
   "execution_count": 17,
   "metadata": {},
   "outputs": [
    {
     "name": "stdout",
     "output_type": "stream",
     "text": [
      "                     nb_bumped  total_passengers  bumps_per_10k\n",
      "airline                                                        \n",
      "ALASKA AIRLINES           1392          36543121       0.380920\n",
      "AMERICAN AIRLINES        11115         197365225       0.563169\n",
      "DELTA AIR LINES           1591         197033215       0.080748\n",
      "EXPRESSJET AIRLINES       3326          27858678       1.193883\n",
      "FRONTIER AIRLINES         1228          22954995       0.534960\n",
      "HAWAIIAN AIRLINES          122          16577572       0.073593\n",
      "JETBLUE AIRWAYS           3615          53245866       0.678926\n",
      "SKYWEST AIRLINES          3094          47091737       0.657015\n",
      "SOUTHWEST AIRLINES       18585         228142036       0.814624\n",
      "SPIRIT AIRLINES           2920          32304571       0.903897\n",
      "UNITED AIRLINES           4941         134468897       0.367446\n",
      "VIRGIN AMERICA             242          12017967       0.201365\n"
     ]
    }
   ],
   "source": [
    "print(airline_totals)"
   ]
  },
  {
   "cell_type": "code",
   "execution_count": 22,
   "metadata": {},
   "outputs": [
    {
     "name": "stdout",
     "output_type": "stream",
     "text": [
      "                     nb_bumped  total_passengers  bumps_per_10k\n",
      "airline                                                        \n",
      "EXPRESSJET AIRLINES       3326          27858678       1.193883\n",
      "SPIRIT AIRLINES           2920          32304571       0.903897\n",
      "SOUTHWEST AIRLINES       18585         228142036       0.814624\n",
      "JETBLUE AIRWAYS           3615          53245866       0.678926\n",
      "SKYWEST AIRLINES          3094          47091737       0.657015\n",
      "AMERICAN AIRLINES        11115         197365225       0.563169\n",
      "FRONTIER AIRLINES         1228          22954995       0.534960\n",
      "ALASKA AIRLINES           1392          36543121       0.380920\n",
      "UNITED AIRLINES           4941         134468897       0.367446\n",
      "VIRGIN AMERICA             242          12017967       0.201365\n",
      "DELTA AIR LINES           1591         197033215       0.080748\n",
      "HAWAIIAN AIRLINES          122          16577572       0.073593\n"
     ]
    }
   ],
   "source": [
    "# Create airline_totals_sorted\n",
    "airline_totals_sorted = airline_totals['bumps_per_10k'].sort_values()\n",
    "# airline_totals = airline_totals.sort_values('bumps_per_10k', ascending=False)\n",
    "\n",
    "# Print airline_totals_sorted\n",
    "print(airline_totals)\n",
    "\n",
    "# Save as airline_totals_sorted.csv"
   ]
  },
  {
   "cell_type": "markdown",
   "metadata": {},
   "source": [
    "Correct"
   ]
  },
  {
   "cell_type": "code",
   "execution_count": 23,
   "metadata": {},
   "outputs": [
    {
     "name": "stdout",
     "output_type": "stream",
     "text": [
      "                     nb_bumped  total_passengers  bumps_per_10k\n",
      "airline                                                        \n",
      "EXPRESSJET AIRLINES       3326          27858678       1.193883\n",
      "SPIRIT AIRLINES           2920          32304571       0.903897\n",
      "SOUTHWEST AIRLINES       18585         228142036       0.814624\n",
      "JETBLUE AIRWAYS           3615          53245866       0.678926\n",
      "SKYWEST AIRLINES          3094          47091737       0.657015\n",
      "AMERICAN AIRLINES        11115         197365225       0.563169\n",
      "FRONTIER AIRLINES         1228          22954995       0.534960\n",
      "ALASKA AIRLINES           1392          36543121       0.380920\n",
      "UNITED AIRLINES           4941         134468897       0.367446\n",
      "VIRGIN AMERICA             242          12017967       0.201365\n",
      "DELTA AIR LINES           1591         197033215       0.080748\n",
      "HAWAIIAN AIRLINES          122          16577572       0.073593\n"
     ]
    }
   ],
   "source": [
    "# Create airline_totals_sorted\n",
    "airline_totals_sorted = airline_totals.sort_values(\"bumps_per_10k\", ascending=False)\n",
    "\n",
    "# Print airline_totals_sorted\n",
    "print(airline_totals_sorted)\n",
    "\n",
    "# Save as airline_totals_sorted.csv\n",
    "airline_totals_sorted.to_csv('airline_totals_sorted.csv', index=False)"
   ]
  },
  {
   "cell_type": "markdown",
   "metadata": {},
   "source": [
    "Incorrect"
   ]
  },
  {
   "cell_type": "code",
   "execution_count": null,
   "metadata": {},
   "outputs": [],
   "source": [
    "# Create airline_totals_sorted\n",
    "airline_totals_sorted = airline_totals['bumps_per_10k'].sort_values()\n",
    "\n",
    "# Print airline_totals_sorted\n",
    "print(airline_totals_sorted)\n",
    "\n",
    "# Save as airline_totals_sorted.csv\n",
    "airline_totals_sorted.to_csv('airline_totals_sorted.csv', index=False)"
   ]
  }
 ],
 "metadata": {
  "kernelspec": {
   "display_name": "Python 3",
   "language": "python",
   "name": "python3"
  },
  "language_info": {
   "codemirror_mode": {
    "name": "ipython",
    "version": 3
   },
   "file_extension": ".py",
   "mimetype": "text/x-python",
   "name": "python",
   "nbconvert_exporter": "python",
   "pygments_lexer": "ipython3",
   "version": "3.11.2"
  }
 },
 "nbformat": 4,
 "nbformat_minor": 2
}
