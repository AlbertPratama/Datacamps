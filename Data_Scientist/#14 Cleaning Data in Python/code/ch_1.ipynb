{
 "cells": [
  {
   "cell_type": "code",
   "execution_count": 1,
   "metadata": {},
   "outputs": [],
   "source": [
    "import pandas as pd\n",
    "import numpy as np\n",
    "import datetime as dt"
   ]
  },
  {
   "cell_type": "code",
   "execution_count": 2,
   "metadata": {},
   "outputs": [
    {
     "data": {
      "text/html": [
       "<div>\n",
       "<style scoped>\n",
       "    .dataframe tbody tr th:only-of-type {\n",
       "        vertical-align: middle;\n",
       "    }\n",
       "\n",
       "    .dataframe tbody tr th {\n",
       "        vertical-align: top;\n",
       "    }\n",
       "\n",
       "    .dataframe thead th {\n",
       "        text-align: right;\n",
       "    }\n",
       "</style>\n",
       "<table border=\"1\" class=\"dataframe\">\n",
       "  <thead>\n",
       "    <tr style=\"text-align: right;\">\n",
       "      <th></th>\n",
       "      <th>Unnamed: 0</th>\n",
       "      <th>duration</th>\n",
       "      <th>station_A_id</th>\n",
       "      <th>station_A_name</th>\n",
       "      <th>station_B_id</th>\n",
       "      <th>station_B_name</th>\n",
       "      <th>bike_id</th>\n",
       "      <th>user_type</th>\n",
       "      <th>user_birth_year</th>\n",
       "      <th>user_gender</th>\n",
       "      <th>tire_sizes</th>\n",
       "      <th>ride_date</th>\n",
       "    </tr>\n",
       "  </thead>\n",
       "  <tbody>\n",
       "    <tr>\n",
       "      <th>0</th>\n",
       "      <td>0</td>\n",
       "      <td>12 minutes</td>\n",
       "      <td>81</td>\n",
       "      <td>Berry St at 4th St</td>\n",
       "      <td>323</td>\n",
       "      <td>Broadway at Kearny</td>\n",
       "      <td>5480</td>\n",
       "      <td>2</td>\n",
       "      <td>1959</td>\n",
       "      <td>Male</td>\n",
       "      <td>27</td>\n",
       "      <td>1/19/2020</td>\n",
       "    </tr>\n",
       "    <tr>\n",
       "      <th>1</th>\n",
       "      <td>1</td>\n",
       "      <td>24 minutes</td>\n",
       "      <td>3</td>\n",
       "      <td>Powell St BART Station (Market St at 4th St)</td>\n",
       "      <td>118</td>\n",
       "      <td>Eureka Valley Recreation Center</td>\n",
       "      <td>5193</td>\n",
       "      <td>2</td>\n",
       "      <td>1965</td>\n",
       "      <td>Male</td>\n",
       "      <td>26</td>\n",
       "      <td>10/24/2018</td>\n",
       "    </tr>\n",
       "    <tr>\n",
       "      <th>2</th>\n",
       "      <td>2</td>\n",
       "      <td>8 minutes</td>\n",
       "      <td>67</td>\n",
       "      <td>San Francisco Caltrain Station 2  (Townsend St...</td>\n",
       "      <td>23</td>\n",
       "      <td>The Embarcadero at Steuart St</td>\n",
       "      <td>3652</td>\n",
       "      <td>3</td>\n",
       "      <td>1993</td>\n",
       "      <td>Male</td>\n",
       "      <td>26</td>\n",
       "      <td>12/25/2017</td>\n",
       "    </tr>\n",
       "    <tr>\n",
       "      <th>3</th>\n",
       "      <td>3</td>\n",
       "      <td>4 minutes</td>\n",
       "      <td>16</td>\n",
       "      <td>Steuart St at Market St</td>\n",
       "      <td>28</td>\n",
       "      <td>The Embarcadero at Bryant St</td>\n",
       "      <td>1883</td>\n",
       "      <td>1</td>\n",
       "      <td>1979</td>\n",
       "      <td>Male</td>\n",
       "      <td>27</td>\n",
       "      <td>8/4/2025</td>\n",
       "    </tr>\n",
       "    <tr>\n",
       "      <th>4</th>\n",
       "      <td>4</td>\n",
       "      <td>11 minutes</td>\n",
       "      <td>22</td>\n",
       "      <td>Howard St at Beale St</td>\n",
       "      <td>350</td>\n",
       "      <td>8th St at Brannan St</td>\n",
       "      <td>4626</td>\n",
       "      <td>2</td>\n",
       "      <td>1994</td>\n",
       "      <td>Male</td>\n",
       "      <td>27</td>\n",
       "      <td>1/29/2019</td>\n",
       "    </tr>\n",
       "  </tbody>\n",
       "</table>\n",
       "</div>"
      ],
      "text/plain": [
       "   Unnamed: 0    duration  station_A_id  \\\n",
       "0           0  12 minutes            81   \n",
       "1           1  24 minutes             3   \n",
       "2           2   8 minutes            67   \n",
       "3           3   4 minutes            16   \n",
       "4           4  11 minutes            22   \n",
       "\n",
       "                                      station_A_name  station_B_id  \\\n",
       "0                                 Berry St at 4th St           323   \n",
       "1       Powell St BART Station (Market St at 4th St)           118   \n",
       "2  San Francisco Caltrain Station 2  (Townsend St...            23   \n",
       "3                            Steuart St at Market St            28   \n",
       "4                              Howard St at Beale St           350   \n",
       "\n",
       "                    station_B_name  bike_id  user_type  user_birth_year  \\\n",
       "0               Broadway at Kearny     5480          2             1959   \n",
       "1  Eureka Valley Recreation Center     5193          2             1965   \n",
       "2    The Embarcadero at Steuart St     3652          3             1993   \n",
       "3     The Embarcadero at Bryant St     1883          1             1979   \n",
       "4             8th St at Brannan St     4626          2             1994   \n",
       "\n",
       "  user_gender  tire_sizes   ride_date  \n",
       "0        Male          27   1/19/2020  \n",
       "1        Male          26  10/24/2018  \n",
       "2        Male          26  12/25/2017  \n",
       "3        Male          27    8/4/2025  \n",
       "4        Male          27   1/29/2019  "
      ]
     },
     "execution_count": 2,
     "metadata": {},
     "output_type": "execute_result"
    }
   ],
   "source": [
    "ride_sharing = pd.read_csv('../datasets/ride_sharing_new.csv')\n",
    "ride_sharing.head()"
   ]
  },
  {
   "cell_type": "markdown",
   "metadata": {},
   "source": [
    "- __Data Type Constraints__: Understanding that data must be in the correct format for analysis. For example, numerical data represented as strings can lead to incorrect analysis outcomes.\n",
    "- __Converting Data Types__: You practiced converting string data to numerical types using the __.astype()__ method. This is crucial when you need to perform mathematical operations on data initially read as strings.\n",
    "- __Stripping Unwanted Characters__: Using the __.str.strip()__ method to remove unwanted characters from data, such as currency symbols, which allows for the conversion of string data to numerical types.\n",
    "- __Assert Statements__: You learned to use assert statements to verify that your data transformations have been successful. For instance, ensuring that a column's data type has been changed as expected.\n",
    "\n",
    "// Strip duration of minutes\n",
    "\n",
    "__ride_sharing['duration_trim'] = ride_sharing['duration'].str.strip('minutes')__\n",
    "\n",
    "// Convert duration to integer\n",
    "\n",
    "__ride_sharing['duration_time'] = ride_sharing['duration_trim'].astype('int')__\n",
    "\n",
    "// Assert the conversion was successful\n",
    "\n",
    "__assert ride_sharing['duration_time'].dtype == 'int'__"
   ]
  },
  {
   "cell_type": "markdown",
   "metadata": {},
   "source": [
    "#### `Summing strings and concatenating numbers`\n",
    "In the previous exercise, you were able to identify that __category__ is the correct data type for __user_type__ and convert it in order to extract relevant statistical summaries that shed light on the distribution of __user_type__.\n",
    "\n",
    "Another common data type problem is importing what should be numerical values as strings, as mathematical operations such as summing and multiplication lead to string concatenation, not numerical outputs.\n",
    "\n",
    "In this exercise, you'll be converting the string column __duration__ to the type ___int___. Before that however, you will need to make sure to strip \"__minutes__\" from the column in order to make sure pandas reads it as numerical. The pandas package has been imported as pd."
   ]
  },
  {
   "cell_type": "markdown",
   "metadata": {},
   "source": [
    "- Use the __.strip()__ method to strip __duration__ of \"__minutes__\" and store it in the __duration_trim__ column.\n",
    "- Convert __duration_trim__ to int and store it in the __duration_time__ column.\n",
    "Write an __assert__ statement that checks if __duration_time__'s data type is now an __int__.\n",
    "Print the average ride duration."
   ]
  },
  {
   "cell_type": "code",
   "execution_count": 3,
   "metadata": {},
   "outputs": [
    {
     "name": "stdout",
     "output_type": "stream",
     "text": [
      "         duration duration_trim  duration_time\n",
      "0      12 minutes           12              12\n",
      "1      24 minutes           24              24\n",
      "2       8 minutes            8               8\n",
      "3       4 minutes            4               4\n",
      "4      11 minutes           11              11\n",
      "...           ...           ...            ...\n",
      "25755  11 minutes           11              11\n",
      "25756  10 minutes           10              10\n",
      "25757  14 minutes           14              14\n",
      "25758  14 minutes           14              14\n",
      "25759  29 minutes           29              29\n",
      "\n",
      "[25760 rows x 3 columns]\n",
      "11.389052795031056\n"
     ]
    }
   ],
   "source": [
    "# Strip duration of minutes\n",
    "ride_sharing['duration_trim'] = ride_sharing['duration'].str.strip(\"minutes\")\n",
    "ride_sharing['duration_trim']\n",
    "# # Convert duration to integer\n",
    "ride_sharing['duration_time'] = ride_sharing['duration_trim'].astype(int)\n",
    "\n",
    "# # Write an assert statement making sure of conversion\n",
    "assert ride_sharing['duration_time'].dtype == 'int'\n",
    "\n",
    "# # Print formed columns and calculate average ride duration\n",
    "print(ride_sharing[['duration', 'duration_trim', 'duration_time']])\n",
    "print(ride_sharing['duration_time'].mean())"
   ]
  },
  {
   "cell_type": "markdown",
   "metadata": {},
   "source": []
  },
  {
   "cell_type": "code",
   "execution_count": null,
   "metadata": {},
   "outputs": [],
   "source": []
  },
  {
   "cell_type": "code",
   "execution_count": 4,
   "metadata": {},
   "outputs": [
    {
     "data": {
      "text/html": [
       "<div>\n",
       "<style scoped>\n",
       "    .dataframe tbody tr th:only-of-type {\n",
       "        vertical-align: middle;\n",
       "    }\n",
       "\n",
       "    .dataframe tbody tr th {\n",
       "        vertical-align: top;\n",
       "    }\n",
       "\n",
       "    .dataframe thead th {\n",
       "        text-align: right;\n",
       "    }\n",
       "</style>\n",
       "<table border=\"1\" class=\"dataframe\">\n",
       "  <thead>\n",
       "    <tr style=\"text-align: right;\">\n",
       "      <th></th>\n",
       "      <th>Unnamed: 0</th>\n",
       "      <th>duration</th>\n",
       "      <th>station_A_id</th>\n",
       "      <th>station_A_name</th>\n",
       "      <th>station_B_id</th>\n",
       "      <th>station_B_name</th>\n",
       "      <th>bike_id</th>\n",
       "      <th>user_type</th>\n",
       "      <th>user_birth_year</th>\n",
       "      <th>user_gender</th>\n",
       "      <th>tire_sizes</th>\n",
       "      <th>ride_date</th>\n",
       "      <th>duration_trim</th>\n",
       "      <th>duration_time</th>\n",
       "    </tr>\n",
       "  </thead>\n",
       "  <tbody>\n",
       "    <tr>\n",
       "      <th>0</th>\n",
       "      <td>0</td>\n",
       "      <td>12 minutes</td>\n",
       "      <td>81</td>\n",
       "      <td>Berry St at 4th St</td>\n",
       "      <td>323</td>\n",
       "      <td>Broadway at Kearny</td>\n",
       "      <td>5480</td>\n",
       "      <td>2</td>\n",
       "      <td>1959</td>\n",
       "      <td>Male</td>\n",
       "      <td>27</td>\n",
       "      <td>1/19/2020</td>\n",
       "      <td>12</td>\n",
       "      <td>12</td>\n",
       "    </tr>\n",
       "    <tr>\n",
       "      <th>1</th>\n",
       "      <td>1</td>\n",
       "      <td>24 minutes</td>\n",
       "      <td>3</td>\n",
       "      <td>Powell St BART Station (Market St at 4th St)</td>\n",
       "      <td>118</td>\n",
       "      <td>Eureka Valley Recreation Center</td>\n",
       "      <td>5193</td>\n",
       "      <td>2</td>\n",
       "      <td>1965</td>\n",
       "      <td>Male</td>\n",
       "      <td>26</td>\n",
       "      <td>10/24/2018</td>\n",
       "      <td>24</td>\n",
       "      <td>24</td>\n",
       "    </tr>\n",
       "    <tr>\n",
       "      <th>2</th>\n",
       "      <td>2</td>\n",
       "      <td>8 minutes</td>\n",
       "      <td>67</td>\n",
       "      <td>San Francisco Caltrain Station 2  (Townsend St...</td>\n",
       "      <td>23</td>\n",
       "      <td>The Embarcadero at Steuart St</td>\n",
       "      <td>3652</td>\n",
       "      <td>3</td>\n",
       "      <td>1993</td>\n",
       "      <td>Male</td>\n",
       "      <td>26</td>\n",
       "      <td>12/25/2017</td>\n",
       "      <td>8</td>\n",
       "      <td>8</td>\n",
       "    </tr>\n",
       "    <tr>\n",
       "      <th>3</th>\n",
       "      <td>3</td>\n",
       "      <td>4 minutes</td>\n",
       "      <td>16</td>\n",
       "      <td>Steuart St at Market St</td>\n",
       "      <td>28</td>\n",
       "      <td>The Embarcadero at Bryant St</td>\n",
       "      <td>1883</td>\n",
       "      <td>1</td>\n",
       "      <td>1979</td>\n",
       "      <td>Male</td>\n",
       "      <td>27</td>\n",
       "      <td>8/4/2025</td>\n",
       "      <td>4</td>\n",
       "      <td>4</td>\n",
       "    </tr>\n",
       "    <tr>\n",
       "      <th>4</th>\n",
       "      <td>4</td>\n",
       "      <td>11 minutes</td>\n",
       "      <td>22</td>\n",
       "      <td>Howard St at Beale St</td>\n",
       "      <td>350</td>\n",
       "      <td>8th St at Brannan St</td>\n",
       "      <td>4626</td>\n",
       "      <td>2</td>\n",
       "      <td>1994</td>\n",
       "      <td>Male</td>\n",
       "      <td>27</td>\n",
       "      <td>1/29/2019</td>\n",
       "      <td>11</td>\n",
       "      <td>11</td>\n",
       "    </tr>\n",
       "  </tbody>\n",
       "</table>\n",
       "</div>"
      ],
      "text/plain": [
       "   Unnamed: 0    duration  station_A_id  \\\n",
       "0           0  12 minutes            81   \n",
       "1           1  24 minutes             3   \n",
       "2           2   8 minutes            67   \n",
       "3           3   4 minutes            16   \n",
       "4           4  11 minutes            22   \n",
       "\n",
       "                                      station_A_name  station_B_id  \\\n",
       "0                                 Berry St at 4th St           323   \n",
       "1       Powell St BART Station (Market St at 4th St)           118   \n",
       "2  San Francisco Caltrain Station 2  (Townsend St...            23   \n",
       "3                            Steuart St at Market St            28   \n",
       "4                              Howard St at Beale St           350   \n",
       "\n",
       "                    station_B_name  bike_id  user_type  user_birth_year  \\\n",
       "0               Broadway at Kearny     5480          2             1959   \n",
       "1  Eureka Valley Recreation Center     5193          2             1965   \n",
       "2    The Embarcadero at Steuart St     3652          3             1993   \n",
       "3     The Embarcadero at Bryant St     1883          1             1979   \n",
       "4             8th St at Brannan St     4626          2             1994   \n",
       "\n",
       "  user_gender  tire_sizes   ride_date duration_trim  duration_time  \n",
       "0        Male          27   1/19/2020           12              12  \n",
       "1        Male          26  10/24/2018           24              24  \n",
       "2        Male          26  12/25/2017            8               8  \n",
       "3        Male          27    8/4/2025            4               4  \n",
       "4        Male          27   1/29/2019           11              11  "
      ]
     },
     "execution_count": 4,
     "metadata": {},
     "output_type": "execute_result"
    }
   ],
   "source": [
    "ride_sharing.head()"
   ]
  },
  {
   "cell_type": "code",
   "execution_count": 5,
   "metadata": {},
   "outputs": [
    {
     "name": "stdout",
     "output_type": "stream",
     "text": [
      "count     25760\n",
      "unique        2\n",
      "top          27\n",
      "freq      13274\n",
      "Name: tire_sizes, dtype: int64\n"
     ]
    }
   ],
   "source": [
    "# Convert tire_sizes to integer\n",
    "ride_sharing['tire_sizes'] = ride_sharing['tire_sizes'].astype('int')\n",
    "\n",
    "# Set all values above 27 to 27\n",
    "ride_sharing.loc[ride_sharing['tire_sizes'] > 27, 'tire_sizes'] = 27\n",
    "\n",
    "# Reconvert tire_sizes back to categorical\n",
    "ride_sharing['tire_sizes'] = ride_sharing['tire_sizes'].astype('category')\n",
    "\n",
    "# Print tire size description\n",
    "print(ride_sharing['tire_sizes'].describe())"
   ]
  },
  {
   "cell_type": "code",
   "execution_count": 6,
   "metadata": {},
   "outputs": [
    {
     "name": "stdout",
     "output_type": "stream",
     "text": [
      "[27, 26]\n",
      "Categories (2, int32): [26, 27]\n"
     ]
    }
   ],
   "source": [
    "print(ride_sharing['tire_sizes'].unique())"
   ]
  },
  {
   "cell_type": "markdown",
   "metadata": {},
   "source": [
    "You can look at the new maximum by looking at the __top__ row in the description. Notice how essential it was to convert __tire_sizes__ into integer before setting a new maximum."
   ]
  },
  {
   "cell_type": "markdown",
   "metadata": {},
   "source": [
    "#### `Back to the future`\n",
    "A new update to the data pipeline feeding into the __ride_sharing__ DataFrame has been updated to register each ride's date. This information is stored in the __ride_date__ column of the type __object__, which represents strings in __pandas__.\n",
    "\n",
    "A bug was discovered which was relaying rides taken today as taken next year. To fix this, you will find all instances of the __ride_date__ column that occur anytime in the future, and set the maximum possible value of this column to today's date. Before doing so, you would need to convert __ride_date__ to a __datetime__ object.\n",
    "\n",
    "The __datetime__ package has been imported as dt, alongside all the packages you've been using till now."
   ]
  },
  {
   "cell_type": "markdown",
   "metadata": {},
   "source": [
    "- Convert __ride_date__ to a datetime object using __to_datetime()__, then convert the __datetime__ object into a ___date___ and store it in __ride_dt__ column.\n",
    "- Create the variable __today__, which stores today's date by using the __dt.date.today()__ function.\n",
    "- For all instances of __ride_dt__ in the future, set them to today's date.\n",
    "- Print the maximum date in the __ride_dt__ column."
   ]
  },
  {
   "cell_type": "code",
   "execution_count": 7,
   "metadata": {},
   "outputs": [
    {
     "name": "stdout",
     "output_type": "stream",
     "text": [
      "2024-08-11\n"
     ]
    }
   ],
   "source": [
    "# Convert ride_date to dateto\n",
    "ride_sharing['ride_dt'] = pd.to_datetime(ride_sharing['ride_date']).dt.date\n",
    "\n",
    "# Save today's date\n",
    "today = dt.date.today()\n",
    "\n",
    "# Set all in the future to today's date\n",
    "ride_sharing.loc[ride_sharing['ride_dt'] > today, 'ride_dt'] = today\n",
    "\n",
    "# Print maximum of ride_dt column\n",
    "print(ride_sharing['ride_dt'].max())"
   ]
  },
  {
   "cell_type": "code",
   "execution_count": 8,
   "metadata": {},
   "outputs": [
    {
     "data": {
      "text/plain": [
       "ride_dt\n",
       "2024-08-11    5534\n",
       "2017-09-29      34\n",
       "2017-02-13      32\n",
       "2018-11-24      32\n",
       "2017-11-20      31\n",
       "              ... \n",
       "2019-09-09       8\n",
       "2019-08-09       8\n",
       "2019-05-10       7\n",
       "2019-07-18       7\n",
       "2017-06-10       6\n",
       "Name: count, Length: 1146, dtype: int64"
      ]
     },
     "execution_count": 8,
     "metadata": {},
     "output_type": "execute_result"
    }
   ],
   "source": [
    "ride_sharing['ride_dt'].value_counts(ascending=False)"
   ]
  },
  {
   "cell_type": "markdown",
   "metadata": {},
   "source": [
    "Imagine counting the number of rides taken today without having cleaned your ranges correctly. You would have wildly underreported your findings!"
   ]
  },
  {
   "cell_type": "code",
   "execution_count": 9,
   "metadata": {},
   "outputs": [
    {
     "name": "stdout",
     "output_type": "stream",
     "text": [
      "4684     1/1/2017\n",
      "18079    1/1/2017\n",
      "24000    1/1/2017\n",
      "24512    1/1/2017\n",
      "20351    1/1/2017\n",
      "           ...   \n",
      "14118    9/9/2019\n",
      "1984     9/9/2019\n",
      "23991    9/9/2019\n",
      "6911     9/9/2019\n",
      "9463     9/9/2019\n",
      "Name: ride_date, Length: 25760, dtype: object\n"
     ]
    }
   ],
   "source": [
    "print(ride_sharing['ride_date'].sort_values(ascending=True))"
   ]
  },
  {
   "cell_type": "markdown",
   "metadata": {},
   "source": [
    "- The importance of ensuring data falls within a specified range, using examples like movie ratings and subscription dates, to prevent analysis errors.\n",
    "- Methods to address out-of-range data, including dropping the data, setting custom limits, or assigning a custom value to out-of-range data points.\n",
    "- Practical steps to implement these methods in Python using pandas, such as filtering data with conditions, modifying values with the __.loc__ method, and ensuring changes with __assert__ statements.\n",
    "For example, to correct movie ratings exceeding the maximum allowed value, you used:\n",
    "\n",
    "__movies.loc[movies['avg_rating'] > 5, 'avg_rating'] = 5__\n",
    "This code snippet sets any __avg_rating__ values above ___5___ to ___5___, ensuring all ratings fall within the acceptable range.\n",
    "\n",
    "Additionally, you practiced converting data types and applying constraints to a ride_sharing DataFrame, ensuring tire sizes and ride dates were within realistic limits. This included converting columns to appropriate data types, using conditional logic to identify and correct out-of-range values, and verifying the corrections."
   ]
  },
  {
   "cell_type": "code",
   "execution_count": 10,
   "metadata": {},
   "outputs": [
    {
     "data": {
      "text/html": [
       "<div>\n",
       "<style scoped>\n",
       "    .dataframe tbody tr th:only-of-type {\n",
       "        vertical-align: middle;\n",
       "    }\n",
       "\n",
       "    .dataframe tbody tr th {\n",
       "        vertical-align: top;\n",
       "    }\n",
       "\n",
       "    .dataframe thead th {\n",
       "        text-align: right;\n",
       "    }\n",
       "</style>\n",
       "<table border=\"1\" class=\"dataframe\">\n",
       "  <thead>\n",
       "    <tr style=\"text-align: right;\">\n",
       "      <th></th>\n",
       "      <th>first_name</th>\n",
       "      <th>last_name</th>\n",
       "      <th>loan_amount</th>\n",
       "    </tr>\n",
       "  </thead>\n",
       "  <tbody>\n",
       "    <tr>\n",
       "      <th>0</th>\n",
       "      <td>John</td>\n",
       "      <td>Doe</td>\n",
       "      <td>1000</td>\n",
       "    </tr>\n",
       "    <tr>\n",
       "      <th>1</th>\n",
       "      <td>Jane</td>\n",
       "      <td>Doe</td>\n",
       "      <td>2000</td>\n",
       "    </tr>\n",
       "    <tr>\n",
       "      <th>2</th>\n",
       "      <td>John</td>\n",
       "      <td>Doe</td>\n",
       "      <td>1500</td>\n",
       "    </tr>\n",
       "    <tr>\n",
       "      <th>3</th>\n",
       "      <td>Jane</td>\n",
       "      <td>Smith</td>\n",
       "      <td>500</td>\n",
       "    </tr>\n",
       "    <tr>\n",
       "      <th>4</th>\n",
       "      <td>Bob</td>\n",
       "      <td>Smith</td>\n",
       "      <td>800</td>\n",
       "    </tr>\n",
       "  </tbody>\n",
       "</table>\n",
       "</div>"
      ],
      "text/plain": [
       "  first_name last_name  loan_amount\n",
       "0       John       Doe         1000\n",
       "1       Jane       Doe         2000\n",
       "2       John       Doe         1500\n",
       "3       Jane     Smith          500\n",
       "4        Bob     Smith          800"
      ]
     },
     "execution_count": 10,
     "metadata": {},
     "output_type": "execute_result"
    }
   ],
   "source": [
    "import pandas as pd\n",
    "\n",
    "loans = pd.DataFrame({\n",
    "    'first_name': ['John', 'Jane', 'John', 'Jane', 'Bob'],\n",
    "    'last_name': ['Doe', 'Doe', 'Doe', 'Smith', 'Smith'],\n",
    "    'loan_amount': [1000, 2000, 1500, 500, 800]\n",
    "})\n",
    "loans"
   ]
  },
  {
   "cell_type": "code",
   "execution_count": 11,
   "metadata": {},
   "outputs": [
    {
     "name": "stdout",
     "output_type": "stream",
     "text": [
      "0     True\n",
      "1    False\n",
      "2     True\n",
      "3    False\n",
      "4    False\n",
      "dtype: bool\n"
     ]
    }
   ],
   "source": [
    "print(loans.duplicated(subset=['first_name', 'last_name'], keep=False))"
   ]
  },
  {
   "cell_type": "code",
   "execution_count": 12,
   "metadata": {},
   "outputs": [
    {
     "name": "stdout",
     "output_type": "stream",
     "text": [
      "0    False\n",
      "1    False\n",
      "2     True\n",
      "3    False\n",
      "4    False\n",
      "dtype: bool\n"
     ]
    }
   ],
   "source": [
    "print(loans.duplicated(subset=['first_name', 'last_name'], keep='first'))"
   ]
  },
  {
   "cell_type": "markdown",
   "metadata": {},
   "source": [
    "`Subsetting on metadata and keeping all duplicate records gives you a better bird-eye's view over your data and how to duplicate it! You can even subset the loans DataFrame using bracketing and sort the values so you can properly identify the duplicates.`"
   ]
  },
  {
   "cell_type": "markdown",
   "metadata": {},
   "source": [
    "#### `Finding duplicates`\n",
    "A new update to the data pipeline feeding into __ride_sharing__ has added the __ride_id__ column, which represents a unique identifier for each ride.\n",
    "\n",
    "The update however coincided with radically shorter average ride duration times and irregular user birth dates set in the future. Most importantly, the number of rides taken has increased by 20% overnight, leading you to think there might be both complete and incomplete duplicates in the __ride_sharing__ DataFrame.\n",
    "\n",
    "In this exercise, you will confirm this suspicion by finding those duplicates. A sample of __ride_sharing__ is in your environment, as well as all the packages you've been working with thus far."
   ]
  },
  {
   "cell_type": "markdown",
   "metadata": {},
   "source": [
    "- Find duplicated rows of __ride_id__ in the __ride_sharing__ DataFrame while setting ___keep___ to ___False___.\n",
    "- Subset __ride_sharing__ on __duplicates__ and sort by __ride_id__ and assign the results to __duplicated_rides__.\n",
    "- Print the __ride_id__, __duration__ and __user_birth_year__ columns of __duplicated_rides__ in that order."
   ]
  },
  {
   "cell_type": "code",
   "execution_count": 13,
   "metadata": {},
   "outputs": [
    {
     "data": {
      "text/html": [
       "<div>\n",
       "<style scoped>\n",
       "    .dataframe tbody tr th:only-of-type {\n",
       "        vertical-align: middle;\n",
       "    }\n",
       "\n",
       "    .dataframe tbody tr th {\n",
       "        vertical-align: top;\n",
       "    }\n",
       "\n",
       "    .dataframe thead th {\n",
       "        text-align: right;\n",
       "    }\n",
       "</style>\n",
       "<table border=\"1\" class=\"dataframe\">\n",
       "  <thead>\n",
       "    <tr style=\"text-align: right;\">\n",
       "      <th></th>\n",
       "      <th>ride_id</th>\n",
       "      <th>duration</th>\n",
       "      <th>station_A_id</th>\n",
       "      <th>station_A_name</th>\n",
       "      <th>station_B_id</th>\n",
       "      <th>station_B_name</th>\n",
       "      <th>bike_id</th>\n",
       "      <th>user_type</th>\n",
       "      <th>user_birth_year</th>\n",
       "      <th>user_gender</th>\n",
       "      <th>tire_sizes</th>\n",
       "      <th>ride_date</th>\n",
       "    </tr>\n",
       "  </thead>\n",
       "  <tbody>\n",
       "    <tr>\n",
       "      <th>0</th>\n",
       "      <td>0</td>\n",
       "      <td>11</td>\n",
       "      <td>16</td>\n",
       "      <td>Steuart St at Market St</td>\n",
       "      <td>93</td>\n",
       "      <td>4th St at Mission Bay Blvd S</td>\n",
       "      <td>5504</td>\n",
       "      <td>Subscriber</td>\n",
       "      <td>1988</td>\n",
       "      <td>Male</td>\n",
       "      <td>27</td>\n",
       "      <td>2018-03-04</td>\n",
       "    </tr>\n",
       "    <tr>\n",
       "      <th>1</th>\n",
       "      <td>1</td>\n",
       "      <td>8</td>\n",
       "      <td>3</td>\n",
       "      <td>Powell St BART Station (Market St at 4th St)</td>\n",
       "      <td>93</td>\n",
       "      <td>4th St at Mission Bay Blvd S</td>\n",
       "      <td>2915</td>\n",
       "      <td>Subscriber</td>\n",
       "      <td>1988</td>\n",
       "      <td>Male</td>\n",
       "      <td>27</td>\n",
       "      <td>2017-03-27</td>\n",
       "    </tr>\n",
       "  </tbody>\n",
       "</table>\n",
       "</div>"
      ],
      "text/plain": [
       "   ride_id  duration  station_A_id  \\\n",
       "0        0        11            16   \n",
       "1        1         8             3   \n",
       "\n",
       "                                 station_A_name  station_B_id  \\\n",
       "0                       Steuart St at Market St            93   \n",
       "1  Powell St BART Station (Market St at 4th St)            93   \n",
       "\n",
       "                 station_B_name  bike_id   user_type  user_birth_year  \\\n",
       "0  4th St at Mission Bay Blvd S     5504  Subscriber             1988   \n",
       "1  4th St at Mission Bay Blvd S     2915  Subscriber             1988   \n",
       "\n",
       "  user_gender  tire_sizes  ride_date  \n",
       "0        Male          27 2018-03-04  \n",
       "1        Male          27 2017-03-27  "
      ]
     },
     "execution_count": 13,
     "metadata": {},
     "output_type": "execute_result"
    }
   ],
   "source": [
    "ride_sharing_1 = pd.read_excel('../datasets/ride_sharing.xlsx')\n",
    "ride_sharing_1.head(2)"
   ]
  },
  {
   "cell_type": "code",
   "execution_count": 14,
   "metadata": {},
   "outputs": [
    {
     "name": "stdout",
     "output_type": "stream",
     "text": [
      "    ride_id  duration  user_birth_year\n",
      "22       33        10             1979\n",
      "39       33         2             1979\n",
      "53       55         9             1985\n",
      "65       55         9             1985\n",
      "74       71        11             1997\n",
      "75       71        11             1997\n",
      "76       89         9             1986\n",
      "77       89         9             2060\n"
     ]
    }
   ],
   "source": [
    "# Find duplicates\n",
    "duplicates = ride_sharing_1.duplicated(subset='ride_id', keep=False)\n",
    "\n",
    "# Sort your duplicated rides\n",
    "duplicated_rides = ride_sharing_1[duplicates].sort_values('ride_id')\n",
    "\n",
    "# Print relevant columns of duplicated_rides\n",
    "print(duplicated_rides[['ride_id', 'duration', 'user_birth_year']])"
   ]
  },
  {
   "cell_type": "code",
   "execution_count": 15,
   "metadata": {},
   "outputs": [
    {
     "name": "stdout",
     "output_type": "stream",
     "text": [
      "    ride_id  duration  station_A_id  \\\n",
      "22       33        10            30   \n",
      "39       33         2            30   \n",
      "53       55         9             3   \n",
      "65       55         9             3   \n",
      "74       71        11             3   \n",
      "75       71        11             3   \n",
      "76       89         9            15   \n",
      "77       89         9            15   \n",
      "\n",
      "                                       station_A_name  station_B_id  \\\n",
      "22     San Francisco Caltrain (Townsend St at 4th St)            59   \n",
      "39     San Francisco Caltrain (Townsend St at 4th St)            59   \n",
      "53       Powell St BART Station (Market St at 4th St)           115   \n",
      "65       Powell St BART Station (Market St at 4th St)           115   \n",
      "74       Powell St BART Station (Market St at 4th St)            44   \n",
      "75       Powell St BART Station (Market St at 4th St)            44   \n",
      "76  San Francisco Ferry Building (Harry Bridges Pl...            81   \n",
      "77  San Francisco Ferry Building (Harry Bridges Pl...            81   \n",
      "\n",
      "                                       station_B_name  bike_id   user_type  \\\n",
      "22                        S Van Ness Ave at Market St     5022  Subscriber   \n",
      "39                        S Van Ness Ave at Market St     5022  Subscriber   \n",
      "53                                 Jackson Playground     4343  Subscriber   \n",
      "65                                 Jackson Playground     4343  Subscriber   \n",
      "74  Civic Center/UN Plaza BART Station (Market St ...     4805    Customer   \n",
      "75  Civic Center/UN Plaza BART Station (Market St ...     4805    Customer   \n",
      "76                                 Berry St at 4th St     5552  Subscriber   \n",
      "77                                 Berry St at 4th St     5552  Subscriber   \n",
      "\n",
      "    user_birth_year user_gender  tire_sizes  ride_date  \n",
      "22             1979        Male          27 2019-07-06  \n",
      "39             1979        Male          27 2019-07-06  \n",
      "53             1985        Male          27 2017-08-12  \n",
      "65             1985        Male          27 2017-08-12  \n",
      "74             1997        Male          27 2018-02-03  \n",
      "75             1997        Male          27 2018-02-03  \n",
      "76             1986        Male          26 2018-09-09  \n",
      "77             2060        Male          26 2018-09-09  \n"
     ]
    }
   ],
   "source": [
    "print(duplicated_rides)"
   ]
  },
  {
   "cell_type": "markdown",
   "metadata": {},
   "source": [
    "Notice that rides 33 and 89 are incomplete duplicates, whereas the remaining are complete. You'll learn how to treat them in the next exercise!"
   ]
  },
  {
   "cell_type": "markdown",
   "metadata": {},
   "source": []
  },
  {
   "cell_type": "code",
   "execution_count": 16,
   "metadata": {},
   "outputs": [],
   "source": [
    "# Drop complete duplicates from ride_sharing\n",
    "ride_dup = ride_sharing_1.drop_duplicates()\n",
    "\n",
    "# Create statistics dictionary for aggregation function\n",
    "statistics = {'user_birth_year': 'min', 'duration': 'mean'}\n",
    "\n",
    "# Group by ride_id and compute new statistics\n",
    "ride_unique = ride_dup.groupby('ride_id').agg(statistics).reset_index()\n",
    "\n",
    "# Find duplicated values again\n",
    "duplicates = ride_unique.duplicated(subset='ride_id', keep=False)\n",
    "duplicated_rides = ride_unique[duplicates == True]\n",
    "\n",
    "# Assert duplicates are processed\n",
    "assert duplicated_rides.shape[0] == 0"
   ]
  },
  {
   "cell_type": "markdown",
   "metadata": {},
   "source": [
    "- __Identifying Duplicates__: You used the __.duplicated()__ method to find duplicate rows in a DataFrame. This method returns a Series of boolean values, marking duplicates as ___True___ except for their first occurrence.\n",
    "- __Customizing Duplicate Identification__: By adjusting the __subset__ and __keep__ arguments of the __.duplicated()__ method, you learned to refine how duplicates are identified. The __subset__ argument allows focusing on specific columns, while __keep__ controls which duplicates to mark as ___True___.\n",
    "- __Removing Duplicates__: The __.drop_duplicates()__ method was used to remove duplicate rows from a DataFrame. Similar to __.duplicated()__, it also supports __subset__ and __keep__ arguments for targeted removal of duplicates.\n",
    "- __Treating Incomplete Duplicates__: For duplicates with discrepancies in certain columns, you explored combining them using statistical measures (e.g., mean or maximum) via the __groupby__ and __agg__ methods. This approach is useful for resolving inconsistencies within duplicated data.\n",
    "\n",
    "For example, to find and sort duplicate rides in a ride_sharing DataFrame by ride_id, you used:\n",
    "\n",
    "    - duplicates = ride_sharing.duplicated(subset='ride_id', keep=False)\n",
    "    - duplicated_rides = ride_sharing[duplicates].sort_values('ride_id')\n",
    "    - print(duplicated_rides[['ride_id', 'duration', 'user_birth_year']])"
   ]
  },
  {
   "cell_type": "code",
   "execution_count": 17,
   "metadata": {},
   "outputs": [
    {
     "name": "stdout",
     "output_type": "stream",
     "text": [
      "<class 'pandas.core.frame.DataFrame'>\n",
      "RangeIndex: 25760 entries, 0 to 25759\n",
      "Data columns (total 15 columns):\n",
      " #   Column           Non-Null Count  Dtype   \n",
      "---  ------           --------------  -----   \n",
      " 0   Unnamed: 0       25760 non-null  int64   \n",
      " 1   duration         25760 non-null  object  \n",
      " 2   station_A_id     25760 non-null  int64   \n",
      " 3   station_A_name   25760 non-null  object  \n",
      " 4   station_B_id     25760 non-null  int64   \n",
      " 5   station_B_name   25760 non-null  object  \n",
      " 6   bike_id          25760 non-null  int64   \n",
      " 7   user_type        25760 non-null  int64   \n",
      " 8   user_birth_year  25760 non-null  int64   \n",
      " 9   user_gender      25760 non-null  object  \n",
      " 10  tire_sizes       25760 non-null  category\n",
      " 11  ride_date        25760 non-null  object  \n",
      " 12  duration_trim    25760 non-null  object  \n",
      " 13  duration_time    25760 non-null  int32   \n",
      " 14  ride_dt          25760 non-null  object  \n",
      "dtypes: category(1), int32(1), int64(6), object(7)\n",
      "memory usage: 2.7+ MB\n"
     ]
    }
   ],
   "source": [
    "ride_sharing.info()"
   ]
  },
  {
   "cell_type": "code",
   "execution_count": 18,
   "metadata": {},
   "outputs": [
    {
     "name": "stdout",
     "output_type": "stream",
     "text": [
      "<class 'pandas.core.frame.DataFrame'>\n",
      "RangeIndex: 78 entries, 0 to 77\n",
      "Data columns (total 12 columns):\n",
      " #   Column           Non-Null Count  Dtype         \n",
      "---  ------           --------------  -----         \n",
      " 0   ride_id          78 non-null     int64         \n",
      " 1   duration         78 non-null     int64         \n",
      " 2   station_A_id     78 non-null     int64         \n",
      " 3   station_A_name   78 non-null     object        \n",
      " 4   station_B_id     78 non-null     int64         \n",
      " 5   station_B_name   78 non-null     object        \n",
      " 6   bike_id          78 non-null     int64         \n",
      " 7   user_type        78 non-null     object        \n",
      " 8   user_birth_year  78 non-null     int64         \n",
      " 9   user_gender      78 non-null     object        \n",
      " 10  tire_sizes       78 non-null     int64         \n",
      " 11  ride_date        78 non-null     datetime64[ns]\n",
      "dtypes: datetime64[ns](1), int64(7), object(4)\n",
      "memory usage: 7.4+ KB\n"
     ]
    }
   ],
   "source": [
    "ride_sharing_1.info()"
   ]
  }
 ],
 "metadata": {
  "kernelspec": {
   "display_name": "Python 3",
   "language": "python",
   "name": "python3"
  },
  "language_info": {
   "codemirror_mode": {
    "name": "ipython",
    "version": 3
   },
   "file_extension": ".py",
   "mimetype": "text/x-python",
   "name": "python",
   "nbconvert_exporter": "python",
   "pygments_lexer": "ipython3",
   "version": "3.11.2"
  }
 },
 "nbformat": 4,
 "nbformat_minor": 2
}
