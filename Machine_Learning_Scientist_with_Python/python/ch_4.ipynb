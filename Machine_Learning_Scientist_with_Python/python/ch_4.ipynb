{
 "cells": [
  {
   "cell_type": "code",
   "execution_count": null,
   "metadata": {},
   "outputs": [],
   "source": [
    "import pandas as pd\n",
    "import numpy as np"
   ]
  },
  {
   "cell_type": "markdown",
   "metadata": {},
   "source": [
    "<h3> if-elif-else"
   ]
  },
  {
   "cell_type": "code",
   "execution_count": 3,
   "metadata": {},
   "outputs": [
    {
     "name": "stdout",
     "output_type": "stream",
     "text": [
      "Z is divisible by 2\n"
     ]
    }
   ],
   "source": [
    "z = 6\n",
    "\n",
    "if z % 2 == 0:\n",
    "  print('Z is divisible by 2')\n",
    "elif z % 3 == 0:\n",
    "  print('Z is divisible by 3')\n",
    "else:\n",
    "  print('Z is neither divisible by 2 nor 3')"
   ]
  },
  {
   "cell_type": "markdown",
   "metadata": {},
   "source": [
    "<h1> While </h1>\n",
    "\n",
    "\n",
    "\n",
    "> While condition:\n",
    "\n",
    "  > expression"
   ]
  },
  {
   "cell_type": "code",
   "execution_count": 4,
   "metadata": {},
   "outputs": [
    {
     "name": "stdout",
     "output_type": "stream",
     "text": [
      "12.5\n",
      "3.125\n",
      "0.78125\n"
     ]
    }
   ],
   "source": [
    "error = 50.0\n",
    "\n",
    "while error > 1:\n",
    "  error = error/4\n",
    "  print(error)"
   ]
  },
  {
   "cell_type": "markdown",
   "metadata": {},
   "source": [
    "#### `while: warming up`\n",
    "The while loop is like a repeated if statement. The code is executed over and over again, as long as the condition is __True__. Have another look at its recipe.\n",
    "\n",
    "- while condition :\n",
    "  - expression\n",
    "\n",
    "Can you tell how many printouts the following __while__ loop will do?"
   ]
  },
  {
   "cell_type": "code",
   "execution_count": 2,
   "metadata": {},
   "outputs": [
    {
     "name": "stdout",
     "output_type": "stream",
     "text": [
      "1\n",
      "2\n",
      "3\n"
     ]
    }
   ],
   "source": [
    "x = 1\n",
    "while x < 4:\n",
    "  print(x)\n",
    "  x = x + 1"
   ]
  },
  {
   "cell_type": "markdown",
   "metadata": {},
   "source": [
    "Correct! After ___3___ runs, x will be equal to ___4___, causing ___x < 4___ to evaluate to __False__. This means that the __while__ loop is executed ___3___ times, giving three printouts."
   ]
  },
  {
   "cell_type": "markdown",
   "metadata": {},
   "source": [
    "#### `Basic while loop`\n",
    "Below you can find the example from the video where the __error__ variable, initially equal to ___50.0___, is divided by 4 and printed out on every run:\n"
   ]
  },
  {
   "cell_type": "code",
   "execution_count": 1,
   "metadata": {},
   "outputs": [
    {
     "name": "stdout",
     "output_type": "stream",
     "text": [
      "12.5\n",
      "3.125\n",
      "0.78125\n"
     ]
    }
   ],
   "source": [
    "error = 50.0\n",
    "while error > 1 :\n",
    "    error = error / 4\n",
    "    print(error)"
   ]
  },
  {
   "cell_type": "markdown",
   "metadata": {},
   "source": [
    "This example will come in handy, because it's time to build a __while__ loop yourself! We're going to code a __while__ loop that implements a very basic control system for an __inverted pendulum__. If there's an offset from standing perfectly straight, the __while__ loop will incrementally fix this offset.\n",
    "\n",
    "Note that if your while loop takes too long to run, you might have made a mistake. In particular, remember to indent the contents of the loop using four spaces or auto-indentation!\n",
    "\n",
    "#### `Instructions`\n",
    "- Create the variable __offset__ with an initial value of ___8___.\n",
    "- Code a __while__ loop that keeps running as long as __offset__ is not equal to ___0___. Inside the __while__ loop:\n",
    "- Print out the sentence \"__correcting...__\".\n",
    "- Next, decrease the value of __offset__ by 1. You can do this with __offset = offset - 1__.\n",
    "- Finally, still within your loop, print out __offset__ so you can see how it changes."
   ]
  },
  {
   "cell_type": "code",
   "execution_count": 3,
   "metadata": {},
   "outputs": [
    {
     "name": "stdout",
     "output_type": "stream",
     "text": [
      "correcting...\n",
      "7\n",
      "correcting...\n",
      "6\n",
      "correcting...\n",
      "5\n",
      "correcting...\n",
      "4\n",
      "correcting...\n",
      "3\n",
      "correcting...\n",
      "2\n",
      "correcting...\n",
      "1\n",
      "correcting...\n",
      "0\n"
     ]
    }
   ],
   "source": [
    "# Initialize offset\n",
    "offset = 8\n",
    "\n",
    "# Code the while loop\n",
    "while offset != 0:\n",
    "    print(\"correcting...\")\n",
    "    offset -= 1\n",
    "    print(offset)"
   ]
  },
  {
   "cell_type": "markdown",
   "metadata": {},
   "source": [
    "#### `Add conditionals`\n",
    "The __while__ loop that corrects the __offset__ is a good start, but what if __offset__ is negative? You can try to run the following code where __offset__ is initialized to ___-6___:"
   ]
  },
  {
   "cell_type": "code",
   "execution_count": null,
   "metadata": {},
   "outputs": [],
   "source": [
    "# # Initialize offset\n",
    "# offset = -6\n",
    "\n",
    "# # Code the while loop\n",
    "# while offset != 0:\n",
    "#     print(\"correcting...\")\n",
    "#     offset = offset - 1\n",
    "#     print(offset)"
   ]
  },
  {
   "cell_type": "code",
   "execution_count": 16,
   "metadata": {},
   "outputs": [
    {
     "name": "stdout",
     "output_type": "stream",
     "text": [
      "correcting...\n",
      "1\n",
      "correcting...\n"
     ]
    }
   ],
   "source": [
    "# Initialize offset\n",
    "offset = -6\n",
    "\n",
    "# Code the while loop\n",
    "while offset != 0:\n",
    "    print(\"correcting...\")\n",
    "    if offset < 0:\n",
    "        offset = offset + 7  # Modifikasi nilai increment agar dapat mencapai 8\n",
    "        print(offset)\n",
    "    elif offset == 8:\n",
    "        print('offset')\n",
    "        break\n",
    "    else:\n",
    "        offset -= 1\n",
    "\n",
    "\n",
    "\n",
    "# # Initialize offset\n",
    "# offset = -6\n",
    "\n",
    "# # Code the while loop\n",
    "# while offset != 0:\n",
    "#     print(\"correcting...\")\n",
    "#     if offset < 0:\n",
    "#       offset = offset + 5\n",
    "#       print('offset')\n",
    "#     elif offset == 8:\n",
    "#       print('offset')\n",
    "#       break\n",
    "#     else:\n",
    "#       offset -= 1"
   ]
  },
  {
   "cell_type": "markdown",
   "metadata": {},
   "source": [
    "but your session will be disconnected. The __while__ loop will never stop running, because __offset__ will be further decreased on every run. ___offset != 0___ will never become __False__ and the __while__ loop continues forever.\n",
    "\n",
    "Fix things by putting an __if-else__ statement inside the __while__ loop. If your code is still taking too long to run, you probably made a mistake!\n",
    "\n",
    "#### `Instructions`\n",
    "- Inside the __while__ loop, complete the __if-else__ statement:\n",
    "  - If __offset__ is greater than zero, you should decrease __offset__ by ___1___.\n",
    "  - Else, you should increase __offset__ by ___1___.\n",
    "- If you've coded things correctly, hitting Submit Answer should work this time.\n",
    "\n",
    "_If your code is still taking too long to run (or your session is expiring), you probably made a mistake. Check your code and make sure that the statement ___offset != 0___ will eventually evaluate to __FALSE__!_"
   ]
  },
  {
   "cell_type": "code",
   "execution_count": 8,
   "metadata": {},
   "outputs": [
    {
     "name": "stdout",
     "output_type": "stream",
     "text": [
      "correcting...\n",
      "-5\n",
      "correcting...\n",
      "-4\n",
      "correcting...\n",
      "-3\n",
      "correcting...\n",
      "-2\n",
      "correcting...\n",
      "-1\n",
      "correcting...\n",
      "0\n"
     ]
    }
   ],
   "source": [
    "# Initialize offset\n",
    "offset = -6\n",
    "\n",
    "# Code the while loop\n",
    "while offset != 0:\n",
    "    print(\"correcting...\")\n",
    "    if offset > 0:\n",
    "      offset -= 1\n",
    "    else:\n",
    "      offset += 1\n",
    "    print(offset)"
   ]
  },
  {
   "cell_type": "markdown",
   "metadata": {},
   "source": [
    "You learned about the basics of while loops in Python, a fundamental concept for executing a block of code repeatedly as long as a given condition is true. Specifically, you explored:\n",
    "- The syntax and structure of a while loop, which is similar to an if statement but continues to execute as long as the condition remains true.\n",
    "- An example of a while loop to numerically calculate a model's error and reduce it by a factor until it falls below a certain threshold. The key code snippet demonstrated this concept:"
   ]
  },
  {
   "cell_type": "code",
   "execution_count": null,
   "metadata": {},
   "outputs": [],
   "source": [
    "error = 50.0\n",
    "while error > 1 :\n",
    "    error = error / 4\n",
    "    print(error)"
   ]
  },
  {
   "cell_type": "markdown",
   "metadata": {},
   "source": [
    "- The importance of updating the loop condition within the loop to prevent infinite loops. You saw how failing to update the __error__ variable within the loop could lead to a loop that never ends.\n",
    "- How to use a while loop with conditionals to handle different scenarios, such as correcting an offset that could be positive or negative. You learned to increment or decrement the offset value appropriately to eventually meet the loop's exit condition.\n",
    "\n",
    "This lesson equipped you with the understanding to implement while loops in your Python scripts effectively, allowing for repetitive tasks to be executed efficiently until a specific condition is met."
   ]
  },
  {
   "cell_type": "markdown",
   "metadata": {},
   "source": [
    "#### `Loop over a list`\n",
    "Have another look at the for loop that Hugo showed in the video:"
   ]
  },
  {
   "cell_type": "code",
   "execution_count": null,
   "metadata": {},
   "outputs": [],
   "source": [
    "fam = [1.73, 1.68, 1.71, 1.89]\n",
    "for height in fam:\n",
    "    print(height)"
   ]
  },
  {
   "cell_type": "markdown",
   "metadata": {},
   "source": [
    "As usual, you simply have to indent the code with 4 spaces to tell Python which code should be executed in the __for__ loop.\n",
    "\n",
    "The __areas__ variable, containing the area of different rooms in your house, is already defined.\n",
    "\n",
    "#### `Instructions`\n",
    "- Write a __for__ loop that iterates over all elements of the __areas__ list and prints out every element separately."
   ]
  },
  {
   "cell_type": "code",
   "execution_count": 1,
   "metadata": {},
   "outputs": [
    {
     "name": "stdout",
     "output_type": "stream",
     "text": [
      "11.25\n",
      "18.0\n",
      "20.0\n",
      "10.75\n",
      "9.5\n"
     ]
    }
   ],
   "source": [
    "# areas list\n",
    "areas = [11.25, 18.0, 20.0, 10.75, 9.50]\n",
    "\n",
    "# Code the for loop\n",
    "for i in areas:\n",
    "    print(i)"
   ]
  },
  {
   "cell_type": "markdown",
   "metadata": {},
   "source": [
    "#### `Indexes and values (1)`\n",
    "Using a __for__ loop to iterate over a list only gives you access to every list element in each run, one after the other. If you also want to access the index information, so where the list element you're iterating over is located, you can use __enumerate()__.\n",
    "\n",
    "As an example, have a look at how the for loop from the video was converted:"
   ]
  },
  {
   "cell_type": "code",
   "execution_count": 2,
   "metadata": {},
   "outputs": [
    {
     "name": "stdout",
     "output_type": "stream",
     "text": [
      "person 0: 1.73\n",
      "person 1: 1.68\n",
      "person 2: 1.71\n",
      "person 3: 1.89\n"
     ]
    }
   ],
   "source": [
    "fam = [1.73, 1.68, 1.71, 1.89]\n",
    "for index, height in enumerate(fam):\n",
    "    print(\"person \" + str(index) + \": \" + str(height))"
   ]
  },
  {
   "cell_type": "markdown",
   "metadata": {},
   "source": [
    "#### `Instructions`\n",
    "- Adapt the __for__ loop in the sample code to use __enumerate()__ and use two iterator variables.\n",
    "- Update the __print()__ statement so that on each run, a line of the form \"__room x: y__\" should be printed, where x is the index of the list element and y is the actual list element, i.e. the area. Make sure to print out this exact string, with the correct spacing."
   ]
  },
  {
   "cell_type": "code",
   "execution_count": 9,
   "metadata": {},
   "outputs": [
    {
     "name": "stdout",
     "output_type": "stream",
     "text": [
      "room 0: 11.25\n",
      "room 1: 18.0\n",
      "room 2: 20.0\n",
      "room 3: 10.75\n",
      "room 4: 9.5\n"
     ]
    }
   ],
   "source": [
    "# areas list\n",
    "areas = [11.25, 18.0, 20.0, 10.75, 9.50]\n",
    "\n",
    "# Change for loop to use enumerate() and update print()\n",
    "for i, a in enumerate(areas):\n",
    "    print('room ' + str(i) + ': ' + str(a))"
   ]
  }
 ],
 "metadata": {
  "kernelspec": {
   "display_name": "Python 3",
   "language": "python",
   "name": "python3"
  },
  "language_info": {
   "codemirror_mode": {
    "name": "ipython",
    "version": 3
   },
   "file_extension": ".py",
   "mimetype": "text/x-python",
   "name": "python",
   "nbconvert_exporter": "python",
   "pygments_lexer": "ipython3",
   "version": "3.11.8"
  }
 },
 "nbformat": 4,
 "nbformat_minor": 2
}
