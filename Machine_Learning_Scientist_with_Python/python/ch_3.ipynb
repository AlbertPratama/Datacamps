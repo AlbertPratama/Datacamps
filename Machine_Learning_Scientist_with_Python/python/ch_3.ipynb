{
 "cells": [
  {
   "cell_type": "markdown",
   "metadata": {},
   "source": [
    "#### `Equality`\n",
    "To check if two Python values, or variables, are equal you can use ==. To check for inequality, you need ___!=___. As a refresher, have a look at the following examples that all result in __True__. Feel free to try them out."
   ]
  },
  {
   "cell_type": "code",
   "execution_count": 1,
   "metadata": {},
   "outputs": [
    {
     "data": {
      "text/plain": [
       "True"
      ]
     },
     "execution_count": 1,
     "metadata": {},
     "output_type": "execute_result"
    }
   ],
   "source": [
    "2 == (1 + 1)\n",
    "\"intermediate\" != \"python\"\n",
    "True != False\n",
    "\"Python\" != \"python\""
   ]
  },
  {
   "cell_type": "markdown",
   "metadata": {},
   "source": [
    "When you write these comparisons in a script, you will need to wrap a __print()__ function around them to see the output.\n",
    "- Write code to see if __True__ equals __False__.\n",
    "- Write Python code to check if ___-5 * 15___ is not equal to ___75___.\n",
    "- Ask Python whether the strings \"__pyscript__\" and \"__PyScript__\" are equal.\n",
    "- What happens if you compare booleans and integers? Write code to see if __True__ and ___1___ are equal."
   ]
  },
  {
   "cell_type": "code",
   "execution_count": 2,
   "metadata": {},
   "outputs": [
    {
     "data": {
      "text/plain": [
       "True"
      ]
     },
     "execution_count": 2,
     "metadata": {},
     "output_type": "execute_result"
    }
   ],
   "source": [
    "# Comparison of booleans\n",
    "True == False\n",
    "\n",
    "# Comparison of integers\n",
    "-5 * 15 != 75\n",
    "\n",
    "# Comparison of strings\n",
    "\"pyscript\" == \"PyScript\"\n",
    "\n",
    "# Compare a boolean with an integer\n",
    "True == 1"
   ]
  },
  {
   "cell_type": "markdown",
   "metadata": {},
   "source": [
    "#### `Greater and less than`\n",
    "In the video, Hugo also talked about the less than and greater than signs, ___<___ and ___>___ in Python. You can combine them with an equals sign: ___<=___ and __>=__. Pay attention: ___<=___ is valid syntax, but ___=<___ is not.\n",
    "\n",
    "All Python expressions in the following code chunk evaluate to __True__:"
   ]
  },
  {
   "cell_type": "code",
   "execution_count": 3,
   "metadata": {},
   "outputs": [
    {
     "data": {
      "text/plain": [
       "True"
      ]
     },
     "execution_count": 3,
     "metadata": {},
     "output_type": "execute_result"
    }
   ],
   "source": [
    "3 < 4\n",
    "3 <= 4\n",
    "\"alpha\" <= \"beta\""
   ]
  },
  {
   "cell_type": "markdown",
   "metadata": {},
   "source": [
    "- Write Python expressions, wrapped in a print() function, to check whether:\n",
    "  - ___x___ is _greater than or equal to_ ___-10___. ___x___ has already been defined for you.\n",
    "  - \"__test__\" is l_ess than or equal_ to ___y___. ___y___ has already been defined for you.\n",
    "  - __True__ is _greater_ than __False__."
   ]
  },
  {
   "cell_type": "code",
   "execution_count": 4,
   "metadata": {},
   "outputs": [
    {
     "data": {
      "text/plain": [
       "True"
      ]
     },
     "execution_count": 4,
     "metadata": {},
     "output_type": "execute_result"
    }
   ],
   "source": [
    "# Comparison of integers\n",
    "x = -3 * 6\n",
    "x >= -10\n",
    "\n",
    "# Comparison of strings\n",
    "y = \"test\"\n",
    "\"test\" <= y\n",
    "\n",
    "# Comparison of booleans\n",
    "True > False"
   ]
  },
  {
   "cell_type": "markdown",
   "metadata": {},
   "source": []
  },
  {
   "cell_type": "markdown",
   "metadata": {},
   "source": [
    "#### `and, or, not (2)`\n",
    "To see if you completely understood the boolean operators, have a look at the following piece of Python code:\n",
    "\n",
    "  - x = 8\n",
    "  - y = 9\n",
    "  - not(not(x < 3) and not(y > 14 or y > 10))\n",
    "\n",
    "What will the result be if you execute these three commands?\n",
    "\n",
    "NB: Notice that not has a higher priority than and and or, it is executed first.\n",
    "\n",
    "Instructions\n",
    "\n",
    "- True\n",
    "\n",
    "- `False`\n",
    "\n",
    "- Running these commands will result in an error."
   ]
  },
  {
   "cell_type": "code",
   "execution_count": 5,
   "metadata": {},
   "outputs": [
    {
     "data": {
      "text/plain": [
       "False"
      ]
     },
     "execution_count": 5,
     "metadata": {},
     "output_type": "execute_result"
    }
   ],
   "source": [
    "x = 8\n",
    "y = 9\n",
    "not (not (x < 3) and not (y > 14 or y > 10))"
   ]
  },
  {
   "cell_type": "markdown",
   "metadata": {},
   "source": [
    "Correct! ___x < 3___ is __False__. ___y > 14___ or ___y > 10___ is __False__ as well. If you continue working like this, simplifying from inside outwards, you'll end up with __False__."
   ]
  },
  {
   "cell_type": "markdown",
   "metadata": {},
   "source": [
    "You learned about the basics of Boolean logic and comparison operators in Python, which are essential for decision-making in programs. Specifically, you explored:\n",
    "\n",
    "- How to use comparison operators (___<, >, ==, !=, <=, >=___) to compare two values, which return a Boolean value (__True__ or __False__). For example, ___3 > 2___ returns __True__.\n",
    "- The importance of comparing values of the same type to avoid errors, except when comparing numeric types (e.g., integers and floats) or using NumPy arrays for element-wise comparison.\n",
    "- Using comparison operators with strings is based on alphabetical order, so __\"apple\" < \"banana\"__ returns __True__.\n",
    "- The special case of NumPy arrays, where comparison operators can be used to perform element-wise comparisons. For instance, comparing an array to a single number results in a Boolean array.\n",
    "\n",
    "\n",
    "You practiced these concepts through exercises, such as:\n",
    "\n"
   ]
  },
  {
   "cell_type": "code",
   "execution_count": 6,
   "metadata": {},
   "outputs": [
    {
     "name": "stdout",
     "output_type": "stream",
     "text": [
      "False\n",
      "True\n",
      "False\n",
      "True\n"
     ]
    }
   ],
   "source": [
    "# Comparison of booleans\n",
    "print(True == False)\n",
    "\n",
    "# Comparison of integers\n",
    "print(-5 * 15 != 75)\n",
    "\n",
    "# Comparison of strings\n",
    "print(\"pyscript\" == \"PyScript\")\n",
    "\n",
    "# Compare a boolean with a numeric\n",
    "print(True == 1)"
   ]
  },
  {
   "cell_type": "code",
   "execution_count": 7,
   "metadata": {},
   "outputs": [
    {
     "data": {
      "text/plain": [
       "True"
      ]
     },
     "execution_count": 7,
     "metadata": {},
     "output_type": "execute_result"
    }
   ],
   "source": [
    "\"i\" > \"b\"\n",
    "\n",
    "# their compered by ACII unicode, but basiclly you can compared them order alphabets"
   ]
  },
  {
   "cell_type": "markdown",
   "metadata": {},
   "source": [
    "And you learned how to compare areas in two houses using NumPy arrays, highlighting the power of Python for data manipulation and comparison tasks."
   ]
  },
  {
   "cell_type": "markdown",
   "metadata": {},
   "source": [
    "#### `Boolean operators with NumPy`\n",
    "Before, the operational operators like ___<___ and ___>=___ worked with NumPy arrays out of the box. Unfortunately, this is not true for the boolean operators __and__, __or__, and __not__.\n",
    "\n",
    "To use these operators with NumPy, you will need __np.logical_and()__, __np.logical_or(__) and __np.logical_not()__. Here's an example on the __my_house__ and __your_house__ arrays from before to give you an idea:\n",
    "\n",
    "np.logical_and(__my_house__ > 13, \n",
    "               __your_house__ < 15)\n",
    "\n",
    "#### `Instructions`\n",
    "- Generate boolean arrays that answer the following questions:\n",
    "- Which areas in __my_house__ are greater than ___18.5___ or smaller than ___10___?\n",
    "- Which areas are smaller than ___11___ in both __my_house__ and __your_house__? Make sure to wrap both commands in __print()__ statement, so that you can inspect the output."
   ]
  },
  {
   "cell_type": "code",
   "execution_count": 8,
   "metadata": {},
   "outputs": [
    {
     "name": "stdout",
     "output_type": "stream",
     "text": [
      "[False  True False  True]\n",
      "[False False False  True]\n"
     ]
    }
   ],
   "source": [
    "# Create arrays\n",
    "import numpy as np\n",
    "my_house = np.array([18.0, 20.0, 10.75, 9.50])\n",
    "your_house = np.array([14.0, 24.0, 14.25, 9.0])\n",
    "\n",
    "# my_house greater than 18.5 or smaller than 10\n",
    "print(np.logical_or(my_house > 18.5, my_house < 10))\n",
    "\n",
    "# Both my_house and your_house smaller than 11\n",
    "print(np.logical_and(my_house < 11, your_house <11))"
   ]
  },
  {
   "cell_type": "markdown",
   "metadata": {},
   "source": [
    "#### `Warmup`\n",
    "To experiment with if and else a bit, have a look at this code sample:"
   ]
  },
  {
   "cell_type": "code",
   "execution_count": 9,
   "metadata": {},
   "outputs": [
    {
     "name": "stdout",
     "output_type": "stream",
     "text": [
      "medium\n"
     ]
    }
   ],
   "source": [
    "area = 10.0\n",
    "if (area < 9):\n",
    "    print(\"small\")\n",
    "elif (area < 12):\n",
    "    print(\"medium\")\n",
    "else:\n",
    "    print(\"large\")"
   ]
  },
  {
   "cell_type": "markdown",
   "metadata": {},
   "source": [
    "#### `if`\n",
    "It's time to take a closer look around in your house.\n",
    "\n",
    "Two variables are defined in the sample code: room, a string that tells you which room of the house we're looking at, and area, the area of that room.\n",
    "\n",
    "#### `Instructions`\n",
    "- Examine the __if__ statement that prints out \"__looking around in the kitchen.__\" if room equals \"kit\".\n",
    "- Write another __if__ statement that prints out \"__big place!__\" if area is greater than ___15___."
   ]
  },
  {
   "cell_type": "code",
   "execution_count": 10,
   "metadata": {},
   "outputs": [
    {
     "name": "stdout",
     "output_type": "stream",
     "text": [
      "looking around in the kitchen.\n"
     ]
    }
   ],
   "source": [
    "# Define variables\n",
    "room = \"kit\"\n",
    "area = 14.0\n",
    "\n",
    "# if statement for room\n",
    "if room == \"kit\":\n",
    "    print(\"looking around in the kitchen.\")\n",
    "\n",
    "# if statement for area\n",
    "if area > 15:\n",
    "    print(\"big place!\")"
   ]
  },
  {
   "cell_type": "markdown",
   "metadata": {},
   "source": [
    "You learned about the basics of Boolean logic in Python, which is essential for making decisions in your programs. Specifically, you explored how to use comparison operators to produce Boolean values (True or False) and how to combine these values using Boolean operators to perform more complex queries on your data.\n",
    "\n",
    "- __Comparison Operators__: You discovered that these operators compare two values and return a Boolean indicating the relationship's truthfulness. For example, ___x > 5___ checks if ___x___ is greater than ___5___.\n",
    "- __Boolean Operators__: You learned about three key Boolean operators:\n",
    "  - __and__: Returns __True__ if both sides are __True__. For instance, __True__ and __False__ results in __False__.\n",
    "  - __or__: Returns __True__ if at least one side is __True__. For example, __True__ or __False__ results in __True__.\n",
    "  - __not__: Negates the Boolean value it precedes. Thus, not __True__ is __False__.\n",
    "- __Combining Comparisons__: You practiced combining comparison operations with Boolean operators to form more complex conditions, like checking if a variable x is between two values with ___x > 5___ and ___x < 15___.\n",
    "\n",
    "Additionally, you learned how to apply these concepts to NumPy arrays and encountered the specialized functions __np.logical_and__, __np.logical_or__, and __np.logical_not__ for element-wise logical operations. For example, to find elements of an array my_house that are greater than ___18.5___ or smaller than ___10___, you used:\n",
    "\n",
    "\n"
   ]
  },
  {
   "cell_type": "code",
   "execution_count": 11,
   "metadata": {},
   "outputs": [
    {
     "name": "stdout",
     "output_type": "stream",
     "text": [
      "[False  True False  True]\n"
     ]
    }
   ],
   "source": [
    "import numpy as np\n",
    "\n",
    "my_house = np.array([18.0, 20.0, 10.75, 9.50])\n",
    "print(np.logical_or(my_house > 18.5, my_house < 10))"
   ]
  },
  {
   "cell_type": "markdown",
   "metadata": {},
   "source": [
    "This lesson equipped you with the foundational skills to manipulate and query data based on conditions, a fundamental aspect of programming in Python."
   ]
  },
  {
   "cell_type": "markdown",
   "metadata": {},
   "source": [
    "#### `Add else`\n",
    "In the script, the __if__ construct for __room__ has been extended with an __else__ statement so that \"looking around elsewhere.\" is printed __if__ the condition __room == \"kit\"__ evaluates to __False__.\n",
    "\n",
    "Can you do a similar thing to add more functionality to the __if__ construct for __area__?\n",
    "\n",
    "#### `Instructions`\n",
    "- Add an __else__ statement to the second control structure so that \"__pretty small.__\" is printed out if ___area > 15___ evaluates to __False__."
   ]
  },
  {
   "cell_type": "code",
   "execution_count": 12,
   "metadata": {},
   "outputs": [
    {
     "name": "stdout",
     "output_type": "stream",
     "text": [
      "looking around in the kitchen.\n",
      "pretty small.\n"
     ]
    }
   ],
   "source": [
    "# Define variables\n",
    "room = \"kit\"\n",
    "area = 14.0\n",
    "\n",
    "# if-else construct for room\n",
    "if room == \"kit\":\n",
    "    print(\"looking around in the kitchen.\")\n",
    "else:\n",
    "    print(\"looking around elsewhere.\")\n",
    "\n",
    "# if-else construct for area\n",
    "if area > 15:\n",
    "    print(\"big place!\")\n",
    "else:\n",
    "    print(\"pretty small.\")"
   ]
  },
  {
   "cell_type": "markdown",
   "metadata": {},
   "source": [
    "You learned about the basics of control flow in Python using conditional statements: __if__, __elif__, and __else__. These statements allow your program to execute different blocks of code based on certain conditions. Here's a quick recap:\n",
    "\n",
    "- __if statement__: Used to execute a block of code if a condition is true. For example, __if area < 9: print(\"small\")__ checks if the _variable_ __area__ is _less than_ ___9___ and prints \"__small__\" if the condition is true.\n",
    "- __else statement__: Follows an __if__ statement and is executed __if__ the __if__ condition is false. It does not require a condition. For example, in the context of __if__ statements, __if__ __area__ is _not less than_ ___9___, the __else__ block can print \"__large__\" as a default action.\n",
    "- __elif (else if) statement__: Used after an __if__ statement to check another condition __if__ the previous condition was false. For example, __elif area < 12: print(\"medium\")__ can be used to check __if__ area is _less than_ ___12___ but only after the __if__ condition has been found to be false.\n",
    "\n",
    "Here's a code snippet illustrating these concepts:"
   ]
  },
  {
   "cell_type": "code",
   "execution_count": 13,
   "metadata": {},
   "outputs": [
    {
     "name": "stdout",
     "output_type": "stream",
     "text": [
      "medium\n"
     ]
    }
   ],
   "source": [
    "area = 10.0\n",
    "if area < 9:\n",
    "    print(\"small\")\n",
    "elif area < 12:\n",
    "    print(\"medium\")\n",
    "else:\n",
    "    print(\"large\")"
   ]
  },
  {
   "cell_type": "markdown",
   "metadata": {},
   "source": [
    "#### `Customize further: elif`\n",
    "It's also possible to have a look around in the bedroom. The sample code contains an __elif__ part that checks if __room__ equals \"bed\". In that case, \"looking around in the bedroom.\" is printed out.\n",
    "\n",
    "It's up to you now! Make a similar addition to the second control structure to further customize the messages for different values of area.\n",
    "\n",
    "#### `Instruction`s\n",
    "Add an __elif__ to the second control structure such that \"medium size, nice!\" is printed out if __area__ is greater than ___10___."
   ]
  },
  {
   "cell_type": "code",
   "execution_count": 14,
   "metadata": {},
   "outputs": [
    {
     "name": "stdout",
     "output_type": "stream",
     "text": [
      "looking around in the bedroom.\n",
      "medium size, nice!\n"
     ]
    }
   ],
   "source": [
    "# Define variables\n",
    "room = \"bed\"\n",
    "area = 14.0\n",
    "\n",
    "# if-elif-else construct for room\n",
    "if room == \"kit\":\n",
    "    print(\"looking around in the kitchen.\")\n",
    "elif room == \"bed\":\n",
    "    print(\"looking around in the bedroom.\")\n",
    "else:\n",
    "    print(\"looking around elsewhere.\")\n",
    "\n",
    "# if-elif-else construct for area\n",
    "if area > 15:\n",
    "    print(\"big place!\")\n",
    "elif area > 10:\n",
    "    print('medium size, nice!')\n",
    "else:\n",
    "    print(\"pretty small.\")"
   ]
  },
  {
   "cell_type": "markdown",
   "metadata": {},
   "source": [
    "#### `Driving right (1)`\n",
    "Remember that __cars__ dataset, containing the __cars__ per 1000 people (__cars_per_cap__) and whether people drive right (__drives_right__) for different countries (__country__)? The code that imports this data in CSV format into Python as a DataFrame is included in the script.\n",
    "\n",
    "In the video, you saw a step-by-step approach to filter observations from a DataFrame based on boolean arrays. Let's start simple and try to find all observations in __cars__ where __drives_right__ is __True__.\n",
    "\n",
    "__drives_right__ is a boolean column, so you'll have to extract it as a Series and then use this boolean Series to select observations from __cars__.\n",
    "\n",
    "#### `Instructions`\n",
    "- Extract the __drives_right__ column as a Pandas Series and store it as __dr__.\n",
    "- Use __dr__, a boolean Series, to subset the __cars__ DataFrame. Store the resulting selection in __sel__.\n",
    "- Print __sel__, and assert that drives_right is __True__ for all observations."
   ]
  },
  {
   "cell_type": "code",
   "execution_count": 15,
   "metadata": {},
   "outputs": [
    {
     "name": "stdout",
     "output_type": "stream",
     "text": [
      "     cars_per_cap        country  drives_right\n",
      "US            809  United States          True\n",
      "RU            200         Russia          True\n",
      "MOR            70        Morocco          True\n",
      "EG             45          Egypt          True\n"
     ]
    }
   ],
   "source": [
    "# Import cars data\n",
    "import pandas as pd\n",
    "cars = pd.read_csv('./datasets/cars.csv', index_col=0)\n",
    "\n",
    "# Extract drives_right column as Series: dr\n",
    "dr = cars['drives_right']\n",
    "\n",
    "# Use dr to subset cars: sel\n",
    "sel = cars[dr]\n",
    "\n",
    "# Print sel\n",
    "print(sel)"
   ]
  },
  {
   "cell_type": "markdown",
   "metadata": {},
   "source": [
    "#### `Driving right (2)`\n",
    "The code in the previous example worked fine, but you actually unnecessarily created a new variable __dr__. You can achieve the same result without this intermediate variable. Put the code that computes __dr__ straight into the square brackets that select observations from __cars__.\n",
    "\n",
    "#### `Instructions`\n",
    "- Convert the code to a one-liner that calculates the variable __sel__ as before."
   ]
  },
  {
   "cell_type": "code",
   "execution_count": 16,
   "metadata": {},
   "outputs": [
    {
     "name": "stdout",
     "output_type": "stream",
     "text": [
      "     cars_per_cap        country  drives_right\n",
      "US            809  United States          True\n",
      "RU            200         Russia          True\n",
      "MOR            70        Morocco          True\n",
      "EG             45          Egypt          True\n"
     ]
    }
   ],
   "source": [
    "# Import cars data\n",
    "import pandas as pd\n",
    "cars = pd.read_csv('./datasets/cars.csv', index_col=0)\n",
    "\n",
    "# Convert code to a one-liner\n",
    "sel = cars[cars['drives_right']]\n",
    "\n",
    "# Print sel\n",
    "print(sel)"
   ]
  },
  {
   "cell_type": "markdown",
   "metadata": {},
   "source": [
    "Nice one! __cars__ contains 7 rows or observations, __sel__ contains 4; so in the majority of the countries in your dataset, people drive on the right side of the road."
   ]
  },
  {
   "cell_type": "markdown",
   "metadata": {},
   "source": [
    "#### `Cars per capita (1)`\n",
    "Let's stick to the __cars__ data some more. This time you want to find out which countries have a high cars per capita figure. In other words, in which countries do many people have a car, or maybe multiple cars.\n",
    "\n",
    "Similar to the previous example, you'll want to build up a boolean Series, that you can then use to subset the __cars__ DataFrame to select certain observations. If you want to do this in a one-liner, that's perfectly fine!\n",
    "\n",
    "#### `Instructions`\n",
    "- Select the __cars_per_cap__ column from __cars__ as a Pandas Series and store it as __cpc__.\n",
    "- Use __cpc__ in combination with a comparison operator and ___500___. You want to end up with a boolean Series that's True if the corresponding country has a __cars_per_cap__ of more than ___500___ and ___False___ otherwise. Store this boolean Series as __many_cars__.\n",
    "- Use __many_cars__ to subset __cars__, similar to what you did before. Store the result as __car_maniac__.\n",
    "- Print out __car_maniac__ to see if you got it right."
   ]
  },
  {
   "cell_type": "code",
   "execution_count": 17,
   "metadata": {},
   "outputs": [
    {
     "name": "stdout",
     "output_type": "stream",
     "text": [
      "     cars_per_cap        country  drives_right\n",
      "US            809  United States          True\n",
      "AUS           731      Australia         False\n",
      "JAP           588          Japan         False\n"
     ]
    }
   ],
   "source": [
    "# Import cars data\n",
    "import pandas as pd\n",
    "cars = pd.read_csv('./datasets/cars.csv', index_col=0)\n",
    "\n",
    "# Create car_maniac: observations that have a cars_per_cap over 500\n",
    "# car_maniac = cars['cars_per_cap']\n",
    "cpc = cars['cars_per_cap']\n",
    "\n",
    "car_maniac = cpc > 500\n",
    "car_maniac = cars[car_maniac]\n",
    "\n",
    "# Print car_maniac\n",
    "print(car_maniac)"
   ]
  },
  {
   "cell_type": "markdown",
   "metadata": {},
   "source": [
    "#### `Cars per capita (2)`\n",
    "Remember about __np.logical_and()__, __np.logical_or()__ and __np.logical_not()__, the NumPy variants of the __and__, __or__ and __not__ operators? You can also use them on Pandas Series to do more advanced filtering operations.\n",
    "\n",
    "Take this example that selects the observations that have a __cars_per_cap__ between ___10___ and ___80___. Try out these lines of code step by step to see what's happening."
   ]
  },
  {
   "cell_type": "code",
   "execution_count": 18,
   "metadata": {},
   "outputs": [],
   "source": [
    "cpc = cars['cars_per_cap']\n",
    "between = np.logical_and(cpc > 10, cpc < 80)\n",
    "medium = cars[between]"
   ]
  },
  {
   "cell_type": "markdown",
   "metadata": {},
   "source": [
    "#### `Instructions`\n",
    "- Use the code sample provided to create a DataFrame __medium__, that includes all the observations of __cars__ that have a __cars_per_cap__ between ___100___ and ___500___.\n",
    "- Print out __medium__."
   ]
  },
  {
   "cell_type": "code",
   "execution_count": 19,
   "metadata": {},
   "outputs": [
    {
     "name": "stdout",
     "output_type": "stream",
     "text": [
      "    cars_per_cap country  drives_right\n",
      "RU           200  Russia          True\n"
     ]
    }
   ],
   "source": [
    "# Import cars data\n",
    "import numpy as np\n",
    "import pandas as pd\n",
    "cars = pd.read_csv('./datasets/cars.csv', index_col=0)\n",
    "\n",
    "# Import numpy, you'll need this\n",
    "\n",
    "# Create medium: observations with cars_per_cap between 100 and 500\n",
    "medium = cars[(cars['cars_per_cap'] > 100) & (cars['cars_per_cap'] < 500)]\n",
    "\n",
    "# Print medium\n",
    "print(medium)"
   ]
  },
  {
   "cell_type": "markdown",
   "metadata": {},
   "source": [
    "You learned about filtering pandas DataFrames, a crucial skill for data analysis, allowing you to select specific parts of your data based on conditionals. Here are the key points:\n",
    "\n",
    "- __Selecting DataFrame columns__: You discovered how to extract a column from a DataFrame, which returns a pandas Series. This is done using square brackets and the column name, e.g., __brics['area']__.\n",
    "- __Boolean indexing__: You learned to perform comparisons on DataFrame columns, generating Boolean Series. These Series can then be used to filter the DataFrame, selecting only rows where the condition is True. For example, to filter countries with an area greater than ___8___ million square kilometers, you used: __is_huge = brics['area'] > 8__.\n",
    "- __Using Boolean Series for filtering__: You applied the Boolean Series as an index to the DataFrame to select only the rows of interest, like __brics[is_huge]__.\n",
    "- Simplifying with one-liners: You combined these steps into a one-liner, directly placing the comparison inside the square brackets used for indexing, e.g., __brics[brics['area'] > 8]__.\n",
    "- Advanced Boolean operations: You utilized np.logical_and() to perform element-wise logical operations, enabling more complex filters, such as selecting observations within a specific range.\n",
    "\n",
    "Here's a snippet demonstrating how to filter for countries with an area greater than 8 million square kilometers:"
   ]
  },
  {
   "cell_type": "code",
   "execution_count": 21,
   "metadata": {},
   "outputs": [],
   "source": [
    "brics = pd.read_csv('./datasets/brics.csv')"
   ]
  },
  {
   "cell_type": "code",
   "execution_count": 22,
   "metadata": {},
   "outputs": [
    {
     "name": "stdout",
     "output_type": "stream",
     "text": [
      "  Unnamed: 0 country   capital    area  population\n",
      "0         BR  Brazil  Brasilia   8.516       200.4\n",
      "1         RU  Russia    Moscow  17.100       143.5\n",
      "3         CH   China   Beijing   9.597      1357.0\n"
     ]
    }
   ],
   "source": [
    "import pandas as pd\n",
    "\n",
    "# Assuming brics DataFrame is already defined\n",
    "is_huge = brics['area'] > 8\n",
    "huge_countries = brics[is_huge]\n",
    "print(huge_countries)"
   ]
  },
  {
   "cell_type": "markdown",
   "metadata": {},
   "source": []
  },
  {
   "cell_type": "code",
   "execution_count": null,
   "metadata": {},
   "outputs": [],
   "source": []
  }
 ],
 "metadata": {
  "kernelspec": {
   "display_name": "Python 3",
   "language": "python",
   "name": "python3"
  },
  "language_info": {
   "codemirror_mode": {
    "name": "ipython",
    "version": 3
   },
   "file_extension": ".py",
   "mimetype": "text/x-python",
   "name": "python",
   "nbconvert_exporter": "python",
   "pygments_lexer": "ipython3",
   "version": "3.12.8"
  }
 },
 "nbformat": 4,
 "nbformat_minor": 2
}
