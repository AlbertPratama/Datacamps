{
 "cells": [
  {
   "cell_type": "code",
   "execution_count": null,
   "metadata": {},
   "outputs": [],
   "source": [
    "import pandas as pd\n",
    "import numpy as np "
   ]
  },
  {
   "cell_type": "code",
   "execution_count": null,
   "metadata": {},
   "outputs": [],
   "source": [
    "a = (-2, 4, 7)\n",
    "\n",
    "\n"
   ]
  },
  {
   "cell_type": "markdown",
   "metadata": {},
   "source": [
    "You learned about advanced techniques for building complex workflows in software development, focusing on conditional statements, loops, and how to manipulate data structures based on various conditions. Key points include:\n",
    "\n",
    "- The use of the in keyword to check for the existence of a value within a data structure, such as checking if a product ID exists in a dictionary.\n",
    "- Implementing the not keyword to verify that a condition hasn't been met, for example, confirming a value is not present in a list or dictionary.\n",
    "- Utilizing and & or keywords to combine multiple conditions, allowing for more nuanced logic in your workflows. For instance, checking if a product ID is in a dictionary and its price is above a certain threshold.\n",
    "- The practical application of these concepts was demonstrated through exercises, such as appending to a list based on conditions. You practiced this by creating a list of authors who have written less than 25 books with the following code:"
   ]
  },
  {
   "cell_type": "code",
   "execution_count": 1,
   "metadata": {},
   "outputs": [],
   "source": [
    "authors = {'Penny Jordan': 200, 'Nicholas Sparks': 22, 'Ken Follett': 30, 'Erskine Caldwell': 25, 'Wilbur Smith': 32, 'Judith Krantz': 12, 'Harold Robbins': 23, 'J. K. Rowling': 22, 'Debbie Macomber': 199, 'Eiichiro Oda': 106, 'Danielle Steel': 179, 'Barbara Cartland': 723, 'Georges Simenon': 570, 'Corín Tellado': 4000, 'Clive Cussler': 37, 'Sidney Sheldon': 21, 'Dean Koontz': 91, 'Janet Dailey': 93, 'Jirō Akagawa': 500, 'Stephen King': 77}\n"
   ]
  },
  {
   "cell_type": "code",
   "execution_count": null,
   "metadata": {},
   "outputs": [],
   "source": [
    "# Create an empty list\n",
    "authors_below_twenty_five = []\n",
    "\n",
    "# Loop through the authors dictionary\n",
    "for key, value in authors.items():\n",
    "  \n",
    "  # Check for values less than 25\n",
    "  if value < 25:\n",
    "    \n",
    "    # Append the author to the list\n",
    "    authors_below_twenty_five.append(key)\n",
    "    \n",
    "print(authors_below_twenty_five)"
   ]
  },
  {
   "cell_type": "markdown",
   "metadata": {},
   "source": [
    "- Additionally, you explored how to use loops and conditional logic to filter and display information from a dictionary, such as identifying the most and least popular book genres based on average sales.\n",
    "\n",
    "\n",
    "These techniques are essential for creating efficient, dynamic programs that can handle a wide range of scenarios and data inputs."
   ]
  },
  {
   "cell_type": "code",
   "execution_count": null,
   "metadata": {},
   "outputs": [],
   "source": [
    "salawa_ahe  = pd.read_excel(\"/content/drive/MyDrive/BILLNET/fee/SALAWA'AHE.xlsx\")\n",
    "\n",
    "final_salawa_ahe = salawa_ahe.iloc[2:, 1:6]\n",
    "\n",
    "# final_lolomatua = final_lolomatua.rename(columns={\"Unnamed: 4\":\"Januari\",\t\"Unnamed: 5\": \"Februari\"})\n",
    "final_salawa_ahe.columns = ['Profile','Tipe','Biaya','Januari', 'Februari']"
   ]
  },
  {
   "cell_type": "code",
   "execution_count": null,
   "metadata": {},
   "outputs": [],
   "source": [
    "oou_feb = oou['Februari'].value_counts().reset_index()\n",
    "oou_feb.columns = ['Februari', 'Jumlah']"
   ]
  },
  {
   "cell_type": "code",
   "execution_count": null,
   "metadata": {},
   "outputs": [],
   "source": [
    "# Menentukan nilai pembayaran\n",
    "harga_per_orang = 200_000\n",
    "\n",
    "# Menambahkan kolom baru\n",
    "oou_feb[\"Total Sudah Dibayar\"] = oou_feb[\"Jumlah\"] * harga_per_orang * (oou_feb[\"Februari\"] == 1)\n",
    "oou_feb[\"Expect Total\"] = oou_feb[\"Jumlah\"].sum() * harga_per_orang\n",
    "\n",
    "# Menampilkan hasil\n",
    "print(oou_feb)\n"
   ]
  }
 ],
 "metadata": {
  "kernelspec": {
   "display_name": "Python 3",
   "language": "python",
   "name": "python3"
  },
  "language_info": {
   "codemirror_mode": {
    "name": "ipython",
    "version": 3
   },
   "file_extension": ".py",
   "mimetype": "text/x-python",
   "name": "python",
   "nbconvert_exporter": "python",
   "pygments_lexer": "ipython3",
   "version": "3.11.8"
  }
 },
 "nbformat": 4,
 "nbformat_minor": 2
}
