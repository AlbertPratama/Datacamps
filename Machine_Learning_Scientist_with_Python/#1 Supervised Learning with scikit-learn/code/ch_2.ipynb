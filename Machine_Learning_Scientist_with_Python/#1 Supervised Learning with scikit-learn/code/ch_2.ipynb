{
 "cells": [
  {
   "cell_type": "code",
   "execution_count": 1,
   "metadata": {},
   "outputs": [],
   "source": [
    "import pandas as pd\n",
    "import numpy as np\n",
    "import matplotlib.pyplot as plt\n",
    "from sklearn.model_selection import train_test_split"
   ]
  },
  {
   "cell_type": "code",
   "execution_count": 2,
   "metadata": {},
   "outputs": [],
   "source": [
    "diabetes_df = pd.read_csv('../datasets/diabetes_clean.csv')"
   ]
  },
  {
   "cell_type": "code",
   "execution_count": 3,
   "metadata": {},
   "outputs": [],
   "source": [
    "sales_df = pd.read_csv('../datasets/advertising_and_sales_clean.csv')\n",
    "sales_df = sales_df.drop(columns=['influencer'])"
   ]
  },
  {
   "cell_type": "code",
   "execution_count": 4,
   "metadata": {},
   "outputs": [],
   "source": [
    "# diabetes_df_col = diabetes_df.columns.tolist()\n",
    "# diabetes_df_col"
   ]
  },
  {
   "cell_type": "code",
   "execution_count": 5,
   "metadata": {},
   "outputs": [],
   "source": [
    "# diabetes_df.head()"
   ]
  },
  {
   "cell_type": "code",
   "execution_count": 6,
   "metadata": {},
   "outputs": [],
   "source": [
    "# diabetes_df = diabetes_df[: 5]\n",
    "# diabetes_df"
   ]
  },
  {
   "cell_type": "code",
   "execution_count": 7,
   "metadata": {},
   "outputs": [],
   "source": [
    "# x = diabetes_df.drop('glucose', axis=1).values\n",
    "\n",
    "# x_new = x[:, 3]"
   ]
  },
  {
   "cell_type": "markdown",
   "metadata": {},
   "source": [
    "#### `Creating features`\n",
    "In this chapter, you will work with a dataset called __sales_df__, which contains information on advertising campaign expenditure across different media types, and the number of dollars generated in sales for the respective campaign. The dataset has been preloaded for you. Here are the first two rows:\n",
    "\n",
    "<table>\n",
    "    <thead>\n",
    "        <tr>\n",
    "            <th></th>\n",
    "            <th>TV</th>\n",
    "            <th>Radio</th>\n",
    "            <th>Social Media</th>\n",
    "            <th>Sales</th>\n",
    "        </tr>\n",
    "    </thead>\n",
    "    <tbody>\n",
    "        <tr>\n",
    "            <td>1</td>\n",
    "            <td>13000.0</td>\n",
    "            <td>9237.76</td>\n",
    "            <td>2409.57</td>\n",
    "            <td>46677.90</td>\n",
    "        </tr>\n",
    "        <tr>\n",
    "            <td>2</td>\n",
    "            <td>41000.0</td>\n",
    "            <td>15886.45</td>\n",
    "            <td>2913.41</td>\n",
    "            <td>150177.83</td>\n",
    "        </tr>\n",
    "    </tbody>\n",
    "</table>\n",
    "\n",
    "You will use the advertising expenditure as features to predict sales values, initially working with the \"radio\" column. However, before you make any predictions you will need to create the feature and target arrays, reshaping them to the correct format for scikit-learn."
   ]
  },
  {
   "cell_type": "markdown",
   "metadata": {},
   "source": [
    "- Create ___X___, an array of the values from the __sales_df__ DataFrame's \"__radio__\" column.\n",
    "- Create ___y___, an array of the values from the __sales_df__ DataFrame's \"__sales__\" column.\n",
    "- Reshape ___X___ into a _two-dimensional_ NumPy array.\n",
    "- Print the shape of ___X___ and ___y___."
   ]
  },
  {
   "cell_type": "code",
   "execution_count": 8,
   "metadata": {},
   "outputs": [
    {
     "name": "stdout",
     "output_type": "stream",
     "text": [
      "Shape of X before reshape:  (4546,)\n",
      "(4546, 1) (4546,)\n"
     ]
    }
   ],
   "source": [
    "import numpy as np\n",
    "\n",
    "# Create X from the radio column's values\n",
    "X = sales_df['radio'].values\n",
    "\n",
    "# Create y from the sales column's values\n",
    "y = sales_df['sales'].values\n",
    "\n",
    "# Reshape X\n",
    "print('Shape of X before reshape: ',X.shape)\n",
    "X = X.reshape(-1, 1)\n",
    "\n",
    "# Check the shape of the features and targets\n",
    "print(X.shape, y.shape)"
   ]
  },
  {
   "cell_type": "markdown",
   "metadata": {},
   "source": [
    "X.reshape(-1, 1): \n",
    "- -1: Biarkan NumPy menentukan ukuran untuk dimensi ini secara otomatis berdasarkan jumlah total elemen dalam array. Dalam hal ini, karena kita tahu ada 4546 elemen, NumPy akan mengatur dimensi pertama menjadi 4546. \n",
    "- 1: Ini menunjukkan bahwa kita ingin array hasil memiliki 1 kolom.\n",
    "Hasilnya adalah array 2D dengan bentuk (4546, 1), yang berarti ada 4546 baris dan 1 kolom.\n",
    "\n",
    "before:\n",
    "- array(\n",
    "  - [ 6566.23]\n",
    "  - )\n",
    "\n",
    "after:\n",
    "- array([\n",
    "  - [ 6566.23]\n",
    "  - ])"
   ]
  },
  {
   "cell_type": "markdown",
   "metadata": {},
   "source": [
    "#### `Building a linear regression model`\n",
    "Now you have created your feature and target arrays, you will train a linear regression model on all feature and target values.\n",
    "\n",
    "As the goal is to assess the relationship between the feature and target values there is no need to split the data into training and test sets.\n",
    "\n",
    "___X___ and ___y___ have been preloaded for you as follows:\n",
    "\n",
    "  - __y = sales_df[\"sales\"].values__\n",
    "  - __X = sales_df[\"radio\"].values.reshape(-1, 1)__\n"
   ]
  },
  {
   "cell_type": "markdown",
   "metadata": {},
   "source": [
    "- Import __LinearRegression__.\n",
    "- Instantiate a linear regression model.- \n",
    "- Predict sales values using ___X___, storing as __predictions__."
   ]
  },
  {
   "cell_type": "code",
   "execution_count": 9,
   "metadata": {},
   "outputs": [],
   "source": [
    "y =  sales_df['sales'].values\n",
    "X = sales_df['radio'].values.reshape(-1, 1)"
   ]
  },
  {
   "cell_type": "code",
   "execution_count": 10,
   "metadata": {},
   "outputs": [
    {
     "name": "stdout",
     "output_type": "stream",
     "text": [
      "[ 95491.17119147 117829.51038393 173423.38071499 291603.11444202\n",
      " 111137.28167129]\n"
     ]
    }
   ],
   "source": [
    "# Import LinearRegression\n",
    "from sklearn.linear_model import LinearRegression\n",
    "\n",
    "# Create the model\n",
    "reg = LinearRegression()\n",
    "\n",
    "# Fit the model to the data\n",
    "reg.fit(X, y)\n",
    "\n",
    "# Make predictions\n",
    "predictions = reg.predict(X)\n",
    "\n",
    "print(predictions[:5])"
   ]
  },
  {
   "cell_type": "markdown",
   "metadata": {},
   "source": [
    "See how sales values for the first five predictions range from $95,000 to over $290,000. Let's visualize the model's fit"
   ]
  },
  {
   "cell_type": "markdown",
   "metadata": {},
   "source": [
    "#### `Visualizing a linear regression model`\n",
    "Now you have built your linear regression model and trained it using all available observations, you can visualize how well the model fits the data. This allows you to interpret the relationship between __radio__ advertising expenditure and __sales__ values.\n",
    "\n",
    "The variables ___X___, an array of __radio__ values, ___y___, an array of __sales__ values, and __predictions__, an array of the model's predicted values for ___y___ given ___X___, have all been preloaded for you from the previous exercise."
   ]
  },
  {
   "cell_type": "markdown",
   "metadata": {},
   "source": [
    "- Import __matplotlib.pyplot__ as __plt__.\n",
    "- Create a scatter plot visualizing ___y___ against ___X___, with observations in _blue_.\n",
    "- Draw a _red_ line plot displaying the predictions against ___X___.\n",
    "- Display the plot."
   ]
  },
  {
   "cell_type": "code",
   "execution_count": 11,
   "metadata": {},
   "outputs": [
    {
     "data": {
      "image/png": "[encoded data removed]",
      "text/plain": [
       "<Figure size 640x480 with 1 Axes>"
      ]
     },
     "metadata": {},
     "output_type": "display_data"
    }
   ],
   "source": [
    "# Import matplotlib.pyplot\n",
    "import matplotlib.pyplot as plt\n",
    "\n",
    "# Create scatter plot\n",
    "plt.scatter(X, y, color=\"blue\")\n",
    "\n",
    "# Create line plot\n",
    "plt.plot(X, predictions, color=\"red\")\n",
    "plt.xlabel(\"Radio Expenditure ($)\")\n",
    "plt.ylabel(\"Sales ($)\")\n",
    "\n",
    "# Display the plot\n",
    "plt.show()"
   ]
  },
  {
   "cell_type": "markdown",
   "metadata": {},
   "source": [
    "The model nicely captures a near-perfect linear correlation between radio advertising expenditure and sales! Now let's take a look at what is going on under the hood to calculate this relationship."
   ]
  },
  {
   "cell_type": "markdown",
   "metadata": {},
   "source": [
    "You learned about regression, a type of supervised learning where the target variable has continuous values. Specifically, you explored how to predict blood glucose levels and sales values based on advertising expenditure using linear regression. Key points include:\n",
    "\n",
    "- Understanding regression tasks and their applications, such as predicting a country's GDP or the price of a house.\n",
    "- Loading and preparing datasets for regression analysis, emphasizing the separation of features and target variables into distinct arrays.\n",
    "- The process of reshaping feature arrays to meet scikit-learn's requirements, using NumPy's reshape method for proper model fitting.\n",
    "- Implementing and interpreting linear regression models to establish relationships between variables, illustrated by predicting blood glucose levels from body mass index (BMI) and sales from radio advertising expenditure.\n",
    "For example, to reshape an array and fit a linear regression model, you used:\n",
    "\n",
    "  - __X = X.reshape(-1, 1)__\n",
    "  - __reg = LinearRegression()__\n",
    "  - __reg.fit(X, y)__\n",
    "\n",
    "This code snippet reshapes the feature array X into a two-dimensional array, fits a linear regression model to the features X and target y, and is foundational for predicting continuous outcomes based on input features."
   ]
  },
  {
   "cell_type": "markdown",
   "metadata": {},
   "source": [
    "### `The basics of linear regression`"
   ]
  },
  {
   "attachments": {
    "image-2.png": {
     "image/png": "[encoded data removed]"
    },
    "image.png": {
     "image/png": "[encoded data removed]"
    }
   },
   "cell_type": "markdown",
   "metadata": {},
   "source": [
    "#### `Regression mechanics`\n",
    "y = ax+b\n",
    "- simple linreg use one features\n",
    "  - y = target\n",
    "  - x = single feature\n",
    "  - a,b = parameters/coefficients of the model - slope, intercept\n",
    "    - a = n(Σxy)−(Σx)(Σy) / n(Σx^2)−(Σx)^2\n",
    "    - b = (Σy)(Σx^2)−(Σx)(Σxy) / n(Σx^2)−(Σx)^2 \n",
    "  -Hhow do we choose a and b?\n",
    "    - define an error function for any given line\n",
    "    - choose the line that minimizes the error function\n",
    "  - Error function = los function = cost function\n",
    "\n",
    "![image.png](attachment:image.png)\n",
    "\n",
    "the vertical distance between it the line is called a residual, residual sum of squares (RSS).\n",
    "![image-2.png](attachment:image-2.png)\n",
    "\n",
    "Linear Equation:\n",
    "y = a1x1 + a2x2 + b\n",
    "- tp fit a linear regression model here:\n",
    "  - need to specify 3 variables: a1, a2, b\n",
    "\n",
    "-in higher dimensions:\n",
    "  - known as multiple regressions\n",
    "  - must specify coefficient for each feature and variable b\n",
    "    y = a1x1 + a2x2 + a3+x3 + ... + anxn + b\n",
    "\n",
    "### `R-squared`\n",
    "R^2 : quantifies hte variance in target values explaine by the features"
   ]
  },
  {
   "cell_type": "markdown",
   "metadata": {},
   "source": []
  },
  {
   "cell_type": "markdown",
   "metadata": {},
   "source": []
  },
  {
   "cell_type": "markdown",
   "metadata": {},
   "source": [
    "### `Fit and predict for regression`\n",
    "Now you have seen how linear regression works, your task is to create a multiple linear regression model using all of the features in the sales_df dataset, which has been preloaded for you. As a reminder, here are the first two rows:\n",
    "  -      tv        radio      social_media    sales\n",
    "  -     13000.0   9237.76    2409.57         46677.90\n",
    "  -     41000.0   15886.45   2913.41         150177.83\n",
    "\n",
    "You will then use this model to predict sales based on the values of the test features.\n",
    "\n",
    "___LinearRegression___ and ___train_test_split___ have been preloaded for you from their respective modules."
   ]
  },
  {
   "cell_type": "code",
   "execution_count": 12,
   "metadata": {},
   "outputs": [
    {
     "data": {
      "text/html": [
       "<div>\n",
       "<style scoped>\n",
       "    .dataframe tbody tr th:only-of-type {\n",
       "        vertical-align: middle;\n",
       "    }\n",
       "\n",
       "    .dataframe tbody tr th {\n",
       "        vertical-align: top;\n",
       "    }\n",
       "\n",
       "    .dataframe thead th {\n",
       "        text-align: right;\n",
       "    }\n",
       "</style>\n",
       "<table border=\"1\" class=\"dataframe\">\n",
       "  <thead>\n",
       "    <tr style=\"text-align: right;\">\n",
       "      <th></th>\n",
       "      <th>tv</th>\n",
       "      <th>radio</th>\n",
       "      <th>social_media</th>\n",
       "      <th>sales</th>\n",
       "    </tr>\n",
       "  </thead>\n",
       "  <tbody>\n",
       "    <tr>\n",
       "      <th>0</th>\n",
       "      <td>16000.0</td>\n",
       "      <td>6566.23</td>\n",
       "      <td>2907.98</td>\n",
       "      <td>54732.76</td>\n",
       "    </tr>\n",
       "    <tr>\n",
       "      <th>1</th>\n",
       "      <td>13000.0</td>\n",
       "      <td>9237.76</td>\n",
       "      <td>2409.57</td>\n",
       "      <td>46677.90</td>\n",
       "    </tr>\n",
       "    <tr>\n",
       "      <th>2</th>\n",
       "      <td>41000.0</td>\n",
       "      <td>15886.45</td>\n",
       "      <td>2913.41</td>\n",
       "      <td>150177.83</td>\n",
       "    </tr>\n",
       "    <tr>\n",
       "      <th>3</th>\n",
       "      <td>83000.0</td>\n",
       "      <td>30020.03</td>\n",
       "      <td>6922.30</td>\n",
       "      <td>298246.34</td>\n",
       "    </tr>\n",
       "    <tr>\n",
       "      <th>4</th>\n",
       "      <td>15000.0</td>\n",
       "      <td>8437.41</td>\n",
       "      <td>1406.00</td>\n",
       "      <td>56594.18</td>\n",
       "    </tr>\n",
       "  </tbody>\n",
       "</table>\n",
       "</div>"
      ],
      "text/plain": [
       "        tv     radio  social_media      sales\n",
       "0  16000.0   6566.23       2907.98   54732.76\n",
       "1  13000.0   9237.76       2409.57   46677.90\n",
       "2  41000.0  15886.45       2913.41  150177.83\n",
       "3  83000.0  30020.03       6922.30  298246.34\n",
       "4  15000.0   8437.41       1406.00   56594.18"
      ]
     },
     "execution_count": 12,
     "metadata": {},
     "output_type": "execute_result"
    }
   ],
   "source": [
    "sales_df.head()"
   ]
  },
  {
   "cell_type": "markdown",
   "metadata": {},
   "source": [
    "- Create ___X___, an array containing values of all features in __sales_df__, and ___y___, containing all values from the \"__sales__\" column.\n",
    "- Instantiate a linear regression model.\n",
    "- Fit the model to the training data.\n",
    "- Create __y_pred__, making predictions for __sales__ using the test features."
   ]
  },
  {
   "cell_type": "code",
   "execution_count": 13,
   "metadata": {},
   "outputs": [
    {
     "name": "stdout",
     "output_type": "stream",
     "text": [
      "Predictions: [53176.66154234 70996.19873235], Actual Values: [55261.28 67574.9 ]\n"
     ]
    }
   ],
   "source": [
    "# Create X and y arrays\n",
    "X = sales_df.drop(\"sales\", axis=1).values\n",
    "y = sales_df[\"sales\"].values\n",
    "\n",
    "X_train, X_test, y_train, y_test = train_test_split(\n",
    "    X, y, test_size=0.3, random_state=42)\n",
    "\n",
    "# Instantiate the model\n",
    "reg = LinearRegression()\n",
    "\n",
    "# Fit the model to the data\n",
    "reg.fit(X_train, y_train)\n",
    "\n",
    "# Make predictions\n",
    "y_pred = reg.predict(X_test)\n",
    "print(\"Predictions: {}, Actual Values: {}\".format(y_pred[:2], y_test[:2]))"
   ]
  },
  {
   "cell_type": "markdown",
   "metadata": {},
   "source": []
  },
  {
   "cell_type": "markdown",
   "metadata": {},
   "source": []
  },
  {
   "cell_type": "markdown",
   "metadata": {},
   "source": [
    "### `Regression performance`\n",
    "Now you have fit a model, __reg__, using all features from __sales_df__, and made predictions of sales values, you can evaluate performance using some common regression metrics.\n",
    "\n",
    "The variables __X_train, X_test, y_train, y_test,__ and __y_pred__, along with the fitted model, _reg_, all from the last exercise, have been preloaded for you.\n",
    "\n",
    "Your task is to find out how well the features can explain the variance in the target values, along with assessing the model's ability to make predictions on unseen data."
   ]
  },
  {
   "cell_type": "markdown",
   "metadata": {},
   "source": [
    "- Import __mean_squared_error__.\n",
    "- Calculate the model's ___R-squared___ score by passing the test feature values and the test target values to an appropriate method.\n",
    "- Calculate the model's root mean squared error using __y_test__ and __y_pred__.\n",
    "Print __r_squared__ and __rmse__"
   ]
  },
  {
   "cell_type": "markdown",
   "metadata": {},
   "source": []
  },
  {
   "cell_type": "markdown",
   "metadata": {},
   "source": []
  },
  {
   "cell_type": "markdown",
   "metadata": {},
   "source": []
  },
  {
   "cell_type": "markdown",
   "metadata": {},
   "source": [
    "#### `Cross-validation for R-squared`\n",
    "_Cross-validation_ is a vital approach to evaluating a model. It maximizes the amount of data that is available to the model, as the model is not only trained but also tested on all of the available data.\n",
    "\n",
    "In this exercise, you will build a linear regression model, then use 6-fold _cross-validation_ to assess its accuracy for predicting sales using social media advertising expenditure. You will display the individual score for each of the ___six-folds___.\n",
    "\n",
    "The sales_df dataset has been split into y for the target variable, and ___X___ for the features, and preloaded for you. LinearRegression has been imported from sklearn.linear_model."
   ]
  },
  {
   "cell_type": "markdown",
   "metadata": {},
   "source": [
    "- Import __KFold__ and __cross_val_score__.\n",
    "- Create kf by calling __KFold()__, setting the number of splits to six, _shuffle_ to __True__, and setting a seed of ___5___.\n",
    "- Perform _cross-validation_ using __reg__ on ___X___ and ___y___, passing __kf__ to __cv__.\n",
    "- Print the __cv_scores__."
   ]
  },
  {
   "cell_type": "code",
   "execution_count": 14,
   "metadata": {},
   "outputs": [
    {
     "name": "stdout",
     "output_type": "stream",
     "text": [
      "[0.99894062 0.99909245 0.9990103  0.99896344 0.99889153 0.99903953]\n"
     ]
    }
   ],
   "source": [
    "# Import the necessary modules\n",
    "from sklearn.model_selection import cross_val_score, KFold\n",
    "\n",
    "#  Create a KFold object\n",
    "kf = KFold(n_splits=6, shuffle=True, random_state=5)\n",
    "\n",
    "reg = LinearRegression()\n",
    "\n",
    "# Compute 6-fold cross-validation scores\n",
    "cv_scores = cross_val_score(reg, X, y, cv=kf)\n",
    "\n",
    "# Print scores\n",
    "print(cv_scores)"
   ]
  },
  {
   "cell_type": "markdown",
   "metadata": {},
   "source": [
    "R-squared for each fold ranged between 0.74 and 0.77?"
   ]
  },
  {
   "cell_type": "markdown",
   "metadata": {},
   "source": [
    "You learned about the fundamentals of linear regression, a statistical method used to model the relationship between a dependent variable and one or more independent variables. Key points included:\n",
    "\n",
    "- __Simple Linear Regression__: You discovered that it involves modeling the relationship between two variables by fitting a linear equation to observed data. The equation is of the form ___(y = ax + b)___, where ___(y)___ is the _target variable_, ___(x)___ is the _feature_, and (___a___) and (___b___) are the _coefficients_ representing the _slope_ and _intercept_, _respectively_.\n",
    "\n",
    "- __Ordinary Least Squares (OLS)__: You explored how OLS aims to minimize the sum of the squared differences (residuals) between the observed and predicted values, leading to the best-fitting line for the observed data.\n",
    "\n",
    "- __Multiple Linear Regression__: You expanded your knowledge to include scenarios with more than one feature, understanding that each feature gets its coefficient, illustrating the model's ability to handle complex relationships.\n",
    "\n",
    "- __Performance Metrics__: You learned about R-squared and root mean squared error ___(RMSE)___ as measures to assess the performance of your regression models. ___R-squared___ quantifies how well the features explain the variance in the target variable, while RMSE measures the average magnitude of the errors between predicted and actual values.\n",
    "\n",
    "- __Practical Application__: Through exercises, you applied these concepts by creating a multiple linear regression model using the __LinearRegression__ class __from sklearn.linear_model__ to predict sales based on advertising expenditure. You practiced splitting data into training and test sets, fitting the model, making predictions, and evaluating model performance using R-squared and RMSE.\n",
    "\n"
   ]
  },
  {
   "cell_type": "code",
   "execution_count": 17,
   "metadata": {},
   "outputs": [],
   "source": [
    "# Example of fitting a model and making predictions\n",
    "X = sales_df.drop(\"sales\", axis=1).values\n",
    "y = sales_df[\"sales\"].values\n",
    "X_train, X_test, y_train, y_test = train_test_split(\n",
    "    X, y, test_size=0.3, random_state=42)\n",
    "reg = LinearRegression()\n",
    "reg.fit(X_train, y_train)\n",
    "y_pred = reg.predict(X_test)"
   ]
  },
  {
   "cell_type": "markdown",
   "metadata": {},
   "source": [
    "This lesson equipped you with the foundational knowledge to build and evaluate linear regression models, setting the stage for more advanced topics in predictive modeling."
   ]
  },
  {
   "cell_type": "markdown",
   "metadata": {},
   "source": []
  },
  {
   "cell_type": "markdown",
   "metadata": {},
   "source": []
  },
  {
   "cell_type": "markdown",
   "metadata": {},
   "source": []
  },
  {
   "cell_type": "markdown",
   "metadata": {},
   "source": []
  },
  {
   "cell_type": "markdown",
   "metadata": {},
   "source": []
  },
  {
   "cell_type": "markdown",
   "metadata": {},
   "source": []
  },
  {
   "cell_type": "markdown",
   "metadata": {},
   "source": []
  },
  {
   "cell_type": "markdown",
   "metadata": {},
   "source": [
    "You learned about the importance and implementation of cross-validation in evaluating the performance of regression models, specifically to predict sales values based on advertising expenditure. Cross-validation helps overcome the limitations of a simple train-test split by using multiple splits of the data into training and testing sets, allowing for a more robust assessment of a model's performance.\n",
    "\n",
    "- __Cross-validation Explained__: You discovered that cross-validation involves dividing the dataset into k parts (or folds), then systematically using each fold for testing while the remaining parts are used for training. This process is repeated k times, once for each fold, to ensure every data point has been used for both training and testing.\n",
    "\n",
    "- __Implementing k-fold Cross-validation__: You learned to use ___KFold___ and __cross_val_score__ from __sklearn.model_selection__ for performing _6-fold_ cross-validation. This involves shuffling the dataset, setting a random seed for reproducibility, and then calculating cross-validation scores to assess model performance.\n",
    "\n",
    "- __Analyzing Cross-validation Results__: You calculated the mean and standard deviation of the cross-validation scores to get a sense of the model's average performance and its variability. Additionally, you learned to calculate the 95% confidence interval of the scores, providing insight into the range within which the true model performance metric lies with 95% certainty.\n"
   ]
  },
  {
   "cell_type": "code",
   "execution_count": 16,
   "metadata": {},
   "outputs": [
    {
     "name": "stdout",
     "output_type": "stream",
     "text": [
      "0.9989896443678249\n"
     ]
    }
   ],
   "source": [
    "# Example code for performing 6-fold cross-validation\n",
    "from sklearn.model_selection import KFold, cross_val_score\n",
    "kf = KFold(n_splits=6, shuffle=True, random_state=5)\n",
    "cv_scores = cross_val_score(LinearRegression(), X, y, cv=kf)\n",
    "print(np.mean(cv_scores)) "
   ]
  },
  {
   "cell_type": "markdown",
   "metadata": {},
   "source": [
    "### `Lasso regression for feature importance`\n",
    "In the video, you saw how lasso regression can be used to identify important features in a dataset.\n",
    "\n",
    "In this exercise, you will fit a lasso regression model to the __sales_df__ data and plot the model's coefficients.\n",
    "\n",
    "The feature and target variable arrays have been pre-loaded as ___X___ and ___y___, along with sales_columns, which contains the dataset's feature names."
   ]
  },
  {
   "cell_type": "code",
   "execution_count": 30,
   "metadata": {},
   "outputs": [],
   "source": [
    "sales_df = pd.read_csv('../datasets/advertising_and_sales_clean.csv',\n",
    "                        usecols=['tv', 'radio', 'social_media','sales'])\n",
    "\n",
    "sales_columns = sales_df[['tv', 'radio', 'social_media']].columns\n",
    "\n",
    "\n",
    "X = sales_df.drop('sales', axis=1).values\n",
    "y = sales_df['sales'].values"
   ]
  },
  {
   "cell_type": "markdown",
   "metadata": {},
   "source": [
    "- Import __Lasso__ from __sklearn.linear_model__.\n",
    "- Instantiate a _Lasso regressor_ with an ___alpha___ of ___0.3___.\n",
    "- _Fit_ the model to the data.\n",
    "- Compute the model's coefficients, storing as __lasso_coef__.\n"
   ]
  },
  {
   "cell_type": "code",
   "execution_count": 32,
   "metadata": {},
   "outputs": [
    {
     "name": "stdout",
     "output_type": "stream",
     "text": [
      "[ 3.56256962 -0.00397035  0.00496385]\n"
     ]
    },
    {
     "data": {
      "image/png": "[encoded data removed]",
      "text/plain": [
       "<Figure size 640x480 with 1 Axes>"
      ]
     },
     "metadata": {},
     "output_type": "display_data"
    },
    {
     "ename": "",
     "evalue": "",
     "output_type": "error",
     "traceback": [
      "\u001b[1;31mThe Kernel crashed while executing code in the current cell or a previous cell. \n",
      "\u001b[1;31mPlease review the code in the cell(s) to identify a possible cause of the failure. \n",
      "\u001b[1;31mClick <a href='https://aka.ms/vscodeJupyterKernelCrash'>here</a> for more info. \n",
      "\u001b[1;31mView Jupyter <a href='command:jupyter.viewOutput'>log</a> for further details."
     ]
    }
   ],
   "source": [
    "# Import Lasso\n",
    "from sklearn.linear_model import Lasso\n",
    "\n",
    "# Instantiate a lasso regression model\n",
    "lasso = Lasso(alpha=0.3)\n",
    "\n",
    "# Fit the model to the data\n",
    "lasso.fit(X,y).coef_\n",
    "\n",
    "# Compute and print the coefficients\n",
    "lasso_coef = lasso.coef_\n",
    "print(lasso_coef)\n",
    "plt.bar(sales_columns, lasso_coef)\n",
    "plt.xticks(rotation=45)\n",
    "plt.show()"
   ]
  },
  {
   "cell_type": "markdown",
   "metadata": {},
   "source": [
    "See how the figure makes it clear that expenditure on TV advertising is the most important feature in the dataset to predict sales values! In the next chapter, we will learn how to further assess and improve our model's performance!"
   ]
  }
 ],
 "metadata": {
  "kernelspec": {
   "display_name": "Python 3",
   "language": "python",
   "name": "python3"
  },
  "language_info": {
   "codemirror_mode": {
    "name": "ipython",
    "version": 3
   },
   "file_extension": ".py",
   "mimetype": "text/x-python",
   "name": "python",
   "nbconvert_exporter": "python",
   "pygments_lexer": "ipython3",
   "version": "3.11.2"
  }
 },
 "nbformat": 4,
 "nbformat_minor": 2
}
