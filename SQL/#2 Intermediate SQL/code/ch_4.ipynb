{
 "cells": [
  {
   "cell_type": "markdown",
   "metadata": {},
   "source": [
    "#### `Sorting single fields`\n",
    "Now that you understand how __ORDER BY__ works, you'll put it into practice. In this exercise, you'll work on sorting single fields only. This can be helpful to extract quick insights such as the top-grossing or top-scoring film.\n",
    "\n",
    "The following exercises will help you gain further insights into the film database."
   ]
  },
  {
   "cell_type": "markdown",
   "metadata": {},
   "source": [
    "- Select the __name__ of each person in the __people__ table, sorted alphabetically."
   ]
  },
  {
   "cell_type": "code",
   "execution_count": null,
   "metadata": {},
   "outputs": [],
   "source": [
    "# # -- Select name from people and sort alphabetically\n",
    "# SELECT name\n",
    "# FROM people\n",
    "# ORDER BY name;"
   ]
  },
  {
   "cell_type": "markdown",
   "metadata": {},
   "source": [
    "- Select the __title__ and __duration__ for every film, from longest duration to shortest."
   ]
  },
  {
   "cell_type": "code",
   "execution_count": null,
   "metadata": {},
   "outputs": [],
   "source": [
    "# # -- Select the title and duration from longest to shortest film\n",
    "# SELECT title, duration\n",
    "# FROM films\n",
    "# ORDER BY duration DESC"
   ]
  },
  {
   "cell_type": "markdown",
   "metadata": {},
   "source": [
    "#### `Sorting multiple fields`\n",
    "__ORDER BY__ can also be used to sort on multiple fields. It will sort by the first field specified, then sort by the next, and so on. As an example, you may want to sort the __people__ data by age and keep the names in alphabetical order.\n",
    "\n",
    "Try using __ORDER BY__ to sort multiple columns."
   ]
  },
  {
   "cell_type": "markdown",
   "metadata": {},
   "source": [
    "- Select the __release_year__, __duration__, and __title__ of ___films___ ordered by their release year and duration, in that order."
   ]
  },
  {
   "cell_type": "code",
   "execution_count": null,
   "metadata": {},
   "outputs": [],
   "source": [
    "# # -- Select the release year, duration, and title sorted by release year and duration\n",
    "# SELECT release_year, duration, title\n",
    "# FROM films\n",
    "# ORDER BY release_year, duration;"
   ]
  },
  {
   "cell_type": "markdown",
   "metadata": {},
   "source": [
    "- Select the __certification__, __release_year__, and __title__ from ___films___ ordered first by __certification (alphabetically__) and second by __release year__, starting with the most _recent year_"
   ]
  },
  {
   "cell_type": "code",
   "execution_count": null,
   "metadata": {},
   "outputs": [],
   "source": [
    "# # -- Select the certification, release year, and title sorted by certification and release year\n",
    "# SELECT certification, release_year, title\n",
    "# FROM films\n",
    "# ORDER BY certification DESC, release_year DESC;"
   ]
  },
  {
   "cell_type": "markdown",
   "metadata": {},
   "source": [
    "#### `GROUP BY single fields`\n",
    "__GROUP BY__ is a SQL keyword that allows you to group and summarize results with the additional use of aggregate functions. For example, films can be grouped by the certification and language before counting the film titles in each group. This allows you to see how many films had a particular certification and language grouping.\n",
    "\n",
    "In the following steps, you'll summarize other groups of films to learn more about the films in your database."
   ]
  },
  {
   "cell_type": "markdown",
   "metadata": {},
   "source": [
    "- Select the __release_year__ and count of __films__ released in each year aliased as __film_count__."
   ]
  },
  {
   "cell_type": "code",
   "execution_count": null,
   "metadata": {},
   "outputs": [],
   "source": [
    "# # -- Find the release_year and film_count of each year\n",
    "# SELECT release_year, COUNT(*) AS film_count\n",
    "# FROM films\n",
    "# GROUP BY release_year;"
   ]
  },
  {
   "cell_type": "markdown",
   "metadata": {},
   "source": [
    "- Select the __release_year__ and average duration aliased as __avg_duration__ of all films, grouped by __release_year__."
   ]
  },
  {
   "cell_type": "code",
   "execution_count": null,
   "metadata": {},
   "outputs": [],
   "source": [
    "# # -- Find the release_year and average duration of films for each year\n",
    "# SELECT release_year, AVG(duration) AS avg_duration\n",
    "# FROM films\n",
    "# GROUP BY release_year;"
   ]
  },
  {
   "cell_type": "markdown",
   "metadata": {},
   "source": [
    "#### `GROUP BY multiple fields`\n",
    "__GROUP BY__ becomes more powerful when used across multiple fields or combined with __ORDER BY__ and __LIMIT__.\n",
    "\n",
    "Perhaps you're interested in learning about budget changes throughout the years in individual countries. You'll use grouping in this exercise to look at the maximum budget for each country in each year there is data available."
   ]
  },
  {
   "cell_type": "markdown",
   "metadata": {},
   "source": [
    "- Select the __release_year__, __country__, and the _maximum_ __budget__ aliased as __max_budget__ for each _year_ and each _country_; sort your results by __release_year__ and __country__."
   ]
  },
  {
   "cell_type": "code",
   "execution_count": null,
   "metadata": {},
   "outputs": [],
   "source": [
    "# # -- Find the release_year, country, and max_budget, then group and order by release_year and country\n",
    "# SELECT release_year, country, MAX(budget) AS max_budget\n",
    "# FROM films\n",
    "# GROUP BY release_year, country\n",
    "# ORDER BY release_year, country"
   ]
  },
  {
   "cell_type": "markdown",
   "metadata": {},
   "source": [
    "#### `Answering business questions`\n",
    "In the real world, every SQL query starts with a business question. Then it is up to you to decide how to write the query that answers the question. Let's try this out.\n",
    "\n",
    "Which __release_year__ had the most language diversity?\n",
    "\n",
    "Take your time to translate this question into code. We'll get you started then it's up to you to test your queries in the console.\n",
    "\n",
    "\"Most language diversity\" can be interpreted as __COUNT(DISTINCT ...)__. Now over to you."
   ]
  },
  {
   "cell_type": "code",
   "execution_count": null,
   "metadata": {},
   "outputs": [],
   "source": [
    "# # SELECT release_year, COUNT(DISTINCT language) AS lang\n",
    "# FROM films\n",
    "# GROUP BY release_year\n",
    "# ORDER BY lang DESC;"
   ]
  },
  {
   "cell_type": "markdown",
   "metadata": {},
   "source": [
    "#### `Possible answers`\n",
    "\n",
    "\n",
    "- 2005\n",
    "- 1916\n",
    "- `2006`\n",
    "- 1990"
   ]
  },
  {
   "cell_type": "markdown",
   "metadata": {},
   "source": [
    "#### `Filter with HAVING`\n",
    "Your final keyword is __HAVING__. It works similarly to __WHERE__ in that it is a filtering clause, with the difference that __HAVING__ filters grouped data.\n",
    "\n",
    "Filtering grouped data can be especially handy when working with a large dataset. When working with thousands or even millions of rows, __HAVING__ will allow you to filter for just the group of data you want, such as films over two hours in length!\n",
    "\n",
    "Practice using __HAVING__ to find out which countries (or country) have the most varied film certifications."
   ]
  },
  {
   "cell_type": "markdown",
   "metadata": {},
   "source": [
    "- Select __country__ from the __films__ table, and get the distinct count of __certification__ aliased as __certification_count__.\n",
    "- Group the results by __country__.\n",
    "- Filter the unique count of _certifications_ to only results _greater than_ __10__."
   ]
  },
  {
   "cell_type": "code",
   "execution_count": null,
   "metadata": {},
   "outputs": [],
   "source": [
    "# # -- Select the country and distinct count of certification as certification_count\n",
    "# SELECT country, COUNT(DISTINCT certification) AS certification_count\n",
    "# FROM films\n",
    "# # -- Group by country\n",
    "# GROUP BY country\n",
    "# # -- Filter results to countries with more than 10 different certifications\n",
    "# HAVING COUNT(DISTINCT certification) > 10"
   ]
  },
  {
   "cell_type": "markdown",
   "metadata": {},
   "source": [
    "#### `HAVING and sorting`\n",
    "Filtering and sorting go hand in hand and gives you greater interpretability by ordering our results.\n",
    "\n",
    "Let's see this magic at work by writing a query showing what countries have the highest average film budgets."
   ]
  },
  {
   "cell_type": "markdown",
   "metadata": {},
   "source": [
    "- Select the __country__ and the average budget as __average_budget__, rounded to two decimal, from __films__.\n",
    "- Group the results by __country__.\n",
    "- Filter the results to countries with an average budget of more than one billion (1000000000).\n",
    "- Sort by descending order of the __average_budget__."
   ]
  },
  {
   "cell_type": "code",
   "execution_count": 1,
   "metadata": {},
   "outputs": [],
   "source": [
    "# # -- Select the country and average_budget from films\n",
    "# SELECT country, ROUND(AVG(budget), 2) AS average_budget\n",
    "# FROM films\n",
    "# # -- Group by country\n",
    "# GROUP BY country\n",
    "# # -- Filter to countries with an average_budget of more than one billion\n",
    "# HAVING AVG(budget) > 1000000000\n",
    "# # -- Order by descending order of the aggregated budget\n",
    "# ORDER BY average_budget DESC"
   ]
  },
  {
   "cell_type": "markdown",
   "metadata": {},
   "source": [
    "#### `All together now`\n",
    "It's time to use much of what you've learned in one query! This is good preparation for using SQL in the real world where you'll often be asked to write more complex queries since some of the basic queries can be answered by playing around in spreadsheet applications.\n",
    "\n",
    "In this exercise, you'll write a query that returns the average budget and gross earnings for films each year after 1990 if the average budget is greater than 60 million.\n",
    "\n",
    "This will be a big query, but you can handle it!"
   ]
  },
  {
   "cell_type": "markdown",
   "metadata": {},
   "source": [
    "- Select the __release_year__ for each film in the __films__ table, filter for records _released_ after ___1990___, and group by __release_year__."
   ]
  },
  {
   "cell_type": "code",
   "execution_count": null,
   "metadata": {},
   "outputs": [],
   "source": [
    "# # -- Select the release_year for films released after 1990 grouped by year\n",
    "# SELECT release_year\n",
    "# FROM films\n",
    "# WHERE release_year > 1990\n",
    "# GROUP BY release_year"
   ]
  },
  {
   "cell_type": "markdown",
   "metadata": {},
   "source": [
    "- Modify the query to include the average __budget__ aliased as __avg_budget__ and average __gross__ aliased as __avg_gross__ for the results we have so far."
   ]
  },
  {
   "cell_type": "code",
   "execution_count": null,
   "metadata": {},
   "outputs": [],
   "source": [
    "# # -- Modify the query to also list the average budget and average gross\n",
    "# SELECT release_year, AVG(budget) AS avg_budget, AVG(gross) AS avg_gross \n",
    "# FROM films\n",
    "# WHERE release_year > 1990\n",
    "# GROUP BY release_year;\n"
   ]
  },
  {
   "cell_type": "markdown",
   "metadata": {},
   "source": [
    "- Modify the query once more so that only years with an average budget of greater than 60 million are included."
   ]
  },
  {
   "cell_type": "code",
   "execution_count": null,
   "metadata": {},
   "outputs": [],
   "source": [
    "# SELECT release_year, AVG(budget) AS avg_budget, AVG(gross) AS avg_gross\n",
    "# FROM films\n",
    "# WHERE release_year > 1990\n",
    "# GROUP BY release_year\n",
    "# # -- Modify the query to see only years with an avg_budget of more than 60 million\n",
    "# HAVING AVG(budget) >60000000;"
   ]
  },
  {
   "cell_type": "markdown",
   "metadata": {},
   "source": [
    "- SELECT release_year, AVG(budget) AS avg_budget, AVG(gross) AS avg_gross"
   ]
  },
  {
   "cell_type": "code",
   "execution_count": null,
   "metadata": {},
   "outputs": [],
   "source": [
    "# SELECT release_year, AVG(budget) AS avg_budget, AVG(gross) AS avg_gross\n",
    "# FROM films\n",
    "# WHERE release_year > 1990\n",
    "# GROUP BY release_year\n",
    "# HAVING AVG(budget) > 60000000\n",
    "# # -- Order the results from highest to lowest average gross and limit to one\n",
    "# ORDER BY avg_gross DESC\n",
    "# LIMIT 1;"
   ]
  }
 ],
 "metadata": {
  "kernelspec": {
   "display_name": "Python 3",
   "language": "python",
   "name": "python3"
  },
  "language_info": {
   "codemirror_mode": {
    "name": "ipython",
    "version": 3
   },
   "file_extension": ".py",
   "mimetype": "text/x-python",
   "name": "python",
   "nbconvert_exporter": "python",
   "pygments_lexer": "ipython3",
   "version": "3.11.2"
  }
 },
 "nbformat": 4,
 "nbformat_minor": 2
}
