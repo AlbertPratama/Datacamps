{
 "cells": [
  {
   "cell_type": "markdown",
   "metadata": {},
   "source": [
    "#### `Using WHERE with numbers`\n",
    "Filtering with __WHERE__ allows you to analyze your data better. You may have a dataset that includes a range of different movies, and you need to do a case study on the most notable films with the biggest budgets. In this case, you'll want to filter your data to a specific __budget__ range.\n",
    "\n",
    "Now it's your turn to use the __WHERE__ clause to filter numeric values!"
   ]
  },
  {
   "cell_type": "code",
   "execution_count": null,
   "metadata": {},
   "outputs": [],
   "source": [
    "# # -- Select film_ids and imdb_score with an imdb_score over 7.0\n",
    "# SELECT film_id, imdb_score\n",
    "# FROM reviews\n",
    "# WHERE imdb_score > 7.0;"
   ]
  },
  {
   "cell_type": "markdown",
   "metadata": {},
   "source": [
    "- Select the __film_id__ and __facebook_likes__ of the first ten records with less than ___1000___ likes from the __reviews__ table."
   ]
  },
  {
   "cell_type": "code",
   "execution_count": null,
   "metadata": {},
   "outputs": [],
   "source": [
    "# # -- Select film_ids and facebook_likes for ten records with less than 1000 likes\n",
    "# SELECT film_id, facebook_likes\n",
    "# FROM reviews\n",
    "# WHERE facebook_likes < 1000\n",
    "# LIMIT 10;"
   ]
  },
  {
   "cell_type": "markdown",
   "metadata": {},
   "source": [
    "- Count how many records have a __num_votes__ of at least ___100,000___; use the alias __films_over_100K_votes__."
   ]
  },
  {
   "cell_type": "code",
   "execution_count": null,
   "metadata": {},
   "outputs": [],
   "source": [
    "# # -- Count the records with at least 100,000 votes\n",
    "# SELECT COUNT(num_votes) AS films_over_100K_votes\n",
    "# FROM reviews\n",
    "# WHERE num_votes >= 100000;"
   ]
  },
  {
   "cell_type": "markdown",
   "metadata": {},
   "source": [
    "#### `Using WHERE with text`\n",
    "___WHERE___ can also filter string values.\n",
    "\n",
    "Imagine you are part of an organization that gives cinematography awards, and you have several international categories. Before you confirm an award for every language listed in your dataset, it may be worth seeing if there are enough films of a specific language to make it a fair competition. If there is only one movie or a significant skew, it may be worth considering a different way of giving international awards."
   ]
  },
  {
   "cell_type": "markdown",
   "metadata": {},
   "source": [
    "- Select and count the __language__ field using the alias __count_spanish__.\n",
    "- Apply a filter to select only __Spanish__ from the __language__ field."
   ]
  },
  {
   "cell_type": "code",
   "execution_count": null,
   "metadata": {},
   "outputs": [],
   "source": [
    "# # -- Count the Spanish-language films\n",
    "# SELECT COUNT(language) AS count_spanish\n",
    "# FROM films\n",
    "# WHERE language = 'Spanish';"
   ]
  },
  {
   "cell_type": "markdown",
   "metadata": {},
   "source": [
    "#### `Using AND`\n",
    "The following exercises combine __AND__ and __OR__ with the __WHERE__ clause. Using these operators together strengthens your queries and analyses of data.\n",
    "\n",
    "You will apply these new skills now on the __films__ table."
   ]
  },
  {
   "cell_type": "markdown",
   "metadata": {},
   "source": [
    "- Select the __title__ and __release_year__ for all German-language films released before __2000__."
   ]
  },
  {
   "cell_type": "code",
   "execution_count": null,
   "metadata": {},
   "outputs": [],
   "source": [
    "# # -- Select the title and release_year for all German-language films released before 2000\n",
    "# SELECT title, release_year\n",
    "# FROM films\n",
    "# WHERE release_year < 2000 AND language = 'German';"
   ]
  },
  {
   "cell_type": "markdown",
   "metadata": {},
   "source": [
    "- Update the query from the previous step to show German-language films released after __2000__ rather than before."
   ]
  },
  {
   "cell_type": "code",
   "execution_count": null,
   "metadata": {},
   "outputs": [],
   "source": [
    "# # -- Update the query to see all German-language films released after 2000\n",
    "# SELECT title, release_year\n",
    "# FROM films\n",
    "# WHERE release_year > 2000\n",
    "# \tAND language = 'German';"
   ]
  },
  {
   "cell_type": "markdown",
   "metadata": {},
   "source": [
    "- Select all details for German-language films released after 2000 but before 2010 using only __WHERE__ and __AND__."
   ]
  },
  {
   "cell_type": "code",
   "execution_count": null,
   "metadata": {},
   "outputs": [],
   "source": [
    "# # -- Select all records for German-language films released after 2000 and before 2010\n",
    "# SELECT *\n",
    "# FROM films\n",
    "# WHERE language = 'German' AND\n",
    "#     release_year > 2000 AND \n",
    "#     release_year < 2010;"
   ]
  },
  {
   "cell_type": "markdown",
   "metadata": {},
   "source": [
    "#### `Using OR`\n",
    "This time you'll write a query to get the __title__ and __release_year__ of films released in 1990 or 1999, which were in English or Spanish and took in more than $2,000,000 __gross__.\n",
    "\n",
    "It looks like a lot, but you can build the query up one step at a time to get comfortable with the underlying concept in each step. Let's go!"
   ]
  },
  {
   "cell_type": "markdown",
   "metadata": {},
   "source": [
    "- Select the __title__ and __release_year__ for __films__ released in ___1990___ or ___1999___ using only __WHERE__ and __OR__."
   ]
  },
  {
   "cell_type": "code",
   "execution_count": null,
   "metadata": {},
   "outputs": [],
   "source": [
    "# # -- Find the title and year of films from the 1990 or 1999\n",
    "# SELECT title, release_year\n",
    "# FROM films\n",
    "# WHERE release_year = 1990 OR release_year = 1999;"
   ]
  },
  {
   "cell_type": "markdown",
   "metadata": {},
   "source": [
    "- Filter the records to only include English or Spanish-language films."
   ]
  },
  {
   "cell_type": "code",
   "execution_count": null,
   "metadata": {},
   "outputs": [],
   "source": [
    "# SELECT title, release_year\n",
    "# FROM films\n",
    "# WHERE (release_year = 1990 OR release_year = 1999)\n",
    "# # -- Add a filter to see only English or Spanish-language films\n",
    "# \tAND (language = 'Spanish' OR language = 'English');"
   ]
  },
  {
   "cell_type": "markdown",
   "metadata": {},
   "source": [
    "- Finally, restrict the query to only return films worth more than $2,000,000 __gross__."
   ]
  },
  {
   "cell_type": "code",
   "execution_count": null,
   "metadata": {},
   "outputs": [],
   "source": [
    "# SELECT title, release_year\n",
    "# FROM films\n",
    "# WHERE (release_year = 1990 OR release_year = 1999)\n",
    "# \tAND (language = 'English' OR language = 'Spanish')\n",
    "# # -- Filter films with more than $2,000,000 gross\n",
    "# \tAND (gross > 2000000);"
   ]
  },
  {
   "cell_type": "markdown",
   "metadata": {},
   "source": [
    "#### `Using BETWEEN`\n",
    "Let's use __BETWEEN__ with __AND__ on the __films__ database to get the __title__ and __release_year__ of all Spanish-language films released between 1990 and 2000 (inclusive) with budgets over $100 million.\n",
    "\n",
    "We have broken the problem into smaller steps so that you can build the query as you go along!"
   ]
  },
  {
   "cell_type": "markdown",
   "metadata": {},
   "source": [
    "- Select the __title__ and __release_year__ of all films released between ___1990___ and ___2000___ (inclusive) using __BETWEEN__."
   ]
  },
  {
   "cell_type": "code",
   "execution_count": null,
   "metadata": {},
   "outputs": [],
   "source": [
    "# # -- Select the title and release_year for films released between 1990 and 2000\n",
    "# SELECT title, release_year\n",
    "# FROM films\n",
    "# WHERE release_year \n",
    "#     BETWEEN 1990 AND 2000; "
   ]
  },
  {
   "cell_type": "markdown",
   "metadata": {},
   "source": [
    "- Build on your previous query to select only films with a __budget__ over ___$100___ million."
   ]
  },
  {
   "cell_type": "code",
   "execution_count": null,
   "metadata": {},
   "outputs": [],
   "source": [
    "# SELECT title, release_year\n",
    "# FROM films\n",
    "# WHERE release_year BETWEEN 1990 AND 2000\n",
    "# # -- Narrow down your query to films with budgets > $100 million\n",
    "# \tAND budget > 100000000;"
   ]
  },
  {
   "cell_type": "markdown",
   "metadata": {},
   "source": [
    "- Now, restrict the query to only return Spanish-language films."
   ]
  },
  {
   "cell_type": "code",
   "execution_count": null,
   "metadata": {},
   "outputs": [],
   "source": [
    "# SELECT title, release_year\n",
    "# FROM films\n",
    "# WHERE release_year BETWEEN 1990 AND 2000\n",
    "# \tAND budget > 100000000\n",
    "# # -- Restrict the query to only Spanish-language films\n",
    "# \tAND language = 'Spanish';"
   ]
  },
  {
   "cell_type": "markdown",
   "metadata": {},
   "source": [
    "- Finally, amend the query to include all Spanish-language or French-language films with the same criteria."
   ]
  },
  {
   "cell_type": "code",
   "execution_count": null,
   "metadata": {},
   "outputs": [],
   "source": [
    "# SELECT title, release_year\n",
    "# FROM films\n",
    "# WHERE release_year BETWEEN 1990 AND 2000\n",
    "# \tAND budget > 100000000\n",
    "# # -- Amend the query to include Spanish or French-language films\n",
    "# \tAND (language = 'Spanish' OR language = 'French');"
   ]
  },
  {
   "cell_type": "markdown",
   "metadata": {},
   "source": [
    "#### `LIKE and NOT LIKE`\n",
    "The __LIKE__ and __NOT LIKE__ operators can be used to find records that either match or do not match a specified pattern, respectively. They can be coupled with the wildcards ___%___ and __. The ___%___ will match zero or many characters, and __ will match a single character.\n",
    "\n",
    "This is useful when you want to filter text, but not to an exact word.\n",
    "\n",
    "Do the following exercises to gain some practice with these keywords."
   ]
  },
  {
   "cell_type": "markdown",
   "metadata": {},
   "source": [
    "- Select the names of all people whose names begin with '___B___'."
   ]
  },
  {
   "cell_type": "code",
   "execution_count": null,
   "metadata": {},
   "outputs": [],
   "source": [
    "# # -- Select the names that start with B\n",
    "# SELECT name\n",
    "# FROM people\n",
    "# WHERE name LIKE 'B%';"
   ]
  },
  {
   "cell_type": "markdown",
   "metadata": {},
   "source": [
    "- Select the names of people whose names have '___r___' as the second letter."
   ]
  },
  {
   "cell_type": "code",
   "execution_count": null,
   "metadata": {},
   "outputs": [],
   "source": [
    "# SELECT name\n",
    "# FROM people\n",
    "# # -- Select the names that have r as the second letter\n",
    "# WHERE name LIKE '_r%';"
   ]
  },
  {
   "cell_type": "markdown",
   "metadata": {},
   "source": [
    "- Select the names of people whose names don't start with '___A___'."
   ]
  },
  {
   "cell_type": "code",
   "execution_count": null,
   "metadata": {},
   "outputs": [],
   "source": [
    "# SELECT name\n",
    "# FROM people\n",
    "# # -- Select names that don't start with A\n",
    "# WHERE name NOT LIKE 'A%';"
   ]
  },
  {
   "cell_type": "markdown",
   "metadata": {},
   "source": [
    "#### `WHERE IN`\n",
    "You now know you can query multiple conditions using the __IN__ operator and a set of parentheses. It is a valuable piece of code that helps us keep our queries clean and concise.\n",
    "\n",
    "Try using the __IN__ operator yourself!"
   ]
  },
  {
   "cell_type": "markdown",
   "metadata": {},
   "source": [
    "- Select the __title__ and __release_year__ of all films released in 1990 or 2000 that were longer than two hours."
   ]
  },
  {
   "cell_type": "code",
   "execution_count": null,
   "metadata": {},
   "outputs": [],
   "source": [
    "# # -- Find the title and release_year for all films over two hours in length released in 1990 and 2000\n",
    "# SELECT title, release_year\n",
    "# FROM films\n",
    "# WHERE release_year IN(1990, 2000)\n",
    "#     AND duration > 120;"
   ]
  },
  {
   "cell_type": "markdown",
   "metadata": {},
   "source": [
    "- Select the __title__ and __language__ of all films in _English_, _Spanish_, or _French_ using __IN__"
   ]
  },
  {
   "cell_type": "code",
   "execution_count": null,
   "metadata": {},
   "outputs": [],
   "source": [
    "# # -- Find the title and language of all films in English, Spanish, and French\n",
    "# SELECT title, language\n",
    "# FROM films\n",
    "# WHERE language IN('English', 'Spanish', 'French');"
   ]
  },
  {
   "cell_type": "markdown",
   "metadata": {},
   "source": [
    "- Select the __title__, __certification__ and __language__ of all films __certified__ ___NC-17___ or ___R___ that are in _English_, _Italian_, or _Greek_."
   ]
  },
  {
   "cell_type": "code",
   "execution_count": null,
   "metadata": {},
   "outputs": [],
   "source": [
    "# # -- Find the title, certification, and language all films certified NC-17 or R that are in English, Italian, or Greek\n",
    "# SELECT title, certification, language\n",
    "# FROM films\n",
    "# WHERE certification IN('NC-17', 'R')\n",
    "#     AND language IN('English', 'Italian', 'Greek')"
   ]
  },
  {
   "cell_type": "markdown",
   "metadata": {},
   "source": [
    "#### `Combining filtering and selecting`\n",
    "Time for a little challenge. So far, your SQL vocabulary from this course includes __COUNT()__, __DISTINCT__, __LIMIT__, __WHERE__, __OR__, __AND__, __BETWEEN__, __LIKE__, __NOT LIKE__, and __IN__. In this exercise, you will try to use some of these together. Writing more complex queries will be standard for you as you become a qualified SQL programmer.\n",
    "\n",
    "As this query will be a little more complicated than what you've seen so far, we've included a bit of code to get you started. You will be using __DISTINCT__ here too because, surprise, there are two movies named 'Hamlet' in this dataset!\n",
    "\n",
    "Follow the instructions to find out what 90's films we have in our dataset that would be suitable for English-speaking teens."
   ]
  },
  {
   "cell_type": "markdown",
   "metadata": {},
   "source": [
    "- Count the unique __titles__ from the films database and use the alias provided.\n",
    "- Filter to include only movies with a __release_year__ from ___1990___ to ___1999___, _inclusive_.\n",
    "- Add another filter narrowing your query down to _English-language_ films.\n",
    "- Add a final filter to select only films with '__G__', '__PG__', '__PG-13__' __certifications__."
   ]
  },
  {
   "cell_type": "code",
   "execution_count": null,
   "metadata": {},
   "outputs": [],
   "source": [
    "# # -- Count the unique titles\n",
    "# SELECT COUNT(DISTINCT title) AS nineties_english_films_for_teens\n",
    "# FROM films\n",
    "# # -- Filter to release_years to between 1990 and 1999\n",
    "# WHERE release_year BETWEEN 1990 AND 1999\n",
    "# # -- Filter to English-language films\n",
    "# \tAND language = 'English'\n",
    "# -- Narrow it down to G, PG, and PG-13 certifications\n",
    "# \tAND certification IN('G', 'PG', 'PG-13');"
   ]
  },
  {
   "cell_type": "markdown",
   "metadata": {},
   "source": [
    "#### `Practice with NULLs`\n",
    "Well done. Now that you know what __NULL__ means and what it's used for, it's time for some more practice!\n",
    "\n",
    "Let's explore the __films__ table again to better understand what data you have."
   ]
  },
  {
   "cell_type": "markdown",
   "metadata": {},
   "source": [
    "- Select the __title__ of every film that doesn't have a budget associated with it and use the alias __no_budget_info__."
   ]
  },
  {
   "cell_type": "code",
   "execution_count": null,
   "metadata": {},
   "outputs": [],
   "source": [
    "# # -- List all film titles with missing budgets\n",
    "# SELECT title AS no_budget_info\n",
    "# FROM films\n",
    "# WHERE budget IS NULL"
   ]
  },
  {
   "cell_type": "markdown",
   "metadata": {},
   "source": [
    "- Count the number of films with a language associated with them and use the alias __count_language_known__."
   ]
  },
  {
   "cell_type": "code",
   "execution_count": null,
   "metadata": {},
   "outputs": [],
   "source": [
    "# # -- Count the number of films we have language data for\n",
    "# SELECT COUNT(*) AS count_language_known\n",
    "# FROM films\n",
    "# WHERE language IS NOT NULL;"
   ]
  }
 ],
 "metadata": {
  "language_info": {
   "name": "python"
  }
 },
 "nbformat": 4,
 "nbformat_minor": 2
}
