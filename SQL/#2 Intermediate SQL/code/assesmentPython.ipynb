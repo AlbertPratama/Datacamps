{
 "cells": [
  {
   "cell_type": "code",
   "execution_count": null,
   "metadata": {},
   "outputs": [],
   "source": [
    "# # a = [72, 78, 81, 82, 84, 85, 86, 86, 88, 88, 89, 89, 90, 91, 92, 93, 94, 95, 96, 98]\n",
    "\n",
    "# # for i, num in enumerate(a, start=1):\n",
    "# #     print(f\"angka{i}: {num}\")\n",
    "\n",
    "\n",
    "# # print(20*0.25)\n",
    "\n",
    "# # class Planet:\n",
    "# #     def __init__ (self, name):\n",
    "# #         self.name = name\n",
    "\n",
    "# # m = Planet('mercury')\n",
    "# # m.name\n",
    "\n",
    "# pac = ['a', 'b', 'c']\n",
    "\n",
    "# for i in pac:\n",
    "#     print(i)\n",
    "\n",
    "\n",
    "# def add(a,b):\n",
    "#     return a+b\n",
    "\n",
    "# x = add(1,2)\n",
    "# print(x)\n",
    "\n",
    "\n",
    "# class Candy:\n",
    "#     flavor = 'seet'\n",
    "\n",
    "#     def __init__(self, name):\n",
    "#         self.name = name\n",
    "\n",
    "# c = Candy('chi')\n",
    "# print(c.name)\n",
    "\n",
    "# book = {\n",
    "#     'title': 'the',\n",
    "#     'author': 'lois',\n",
    "#     'rating': 4.13\n",
    "# }\n",
    "\n",
    "# book['format'] = 'paperback'\n",
    "\n",
    "# print(book['format'])\n",
    "\n",
    "\n",
    "# class Planet:\n",
    "#     def __init__(self, name, diameter_km):\n",
    "#         self.name = name\n",
    "#         self.diameter_km = diameter_km\n",
    "\n",
    "# e = Planet('Earth', 12742)\n",
    "# print(e.name, e.diameter_km)\n",
    "\n",
    "\n",
    "# class Color:\n",
    "#     def __init__(self, rgb_value):\n",
    "#         self.rgb_value = rgb_value\n",
    "\n",
    "# c = Color('yeah')\n",
    "# print(c.rgb_value)\n",
    "\n",
    "\n",
    "# def to_int(x):\n",
    "#     try:\n",
    "#         return int(x)\n",
    "#     except ValueError:\n",
    "#         print(\"that value can't be turned into an integer\")\n",
    "\n",
    "# to_int('')\n",
    "\n",
    "# def sun():\n",
    "#     'i know'\n",
    "\n",
    "#     return None\n",
    "\n",
    "# print(sun.__doc__)\n",
    "\n",
    "\n",
    "# [string.upper() for string in ['hello', 'world']]\n",
    "\n",
    "\n",
    "for i in 'hello':\n",
    "    if i == 'l':\n",
    "        continue\n",
    "    print(i)"
   ]
  },
  {
   "cell_type": "code",
   "execution_count": null,
   "metadata": {},
   "outputs": [],
   "source": [
    "a = 5\n",
    "b = True\n",
    "c = a > 8\n",
    "d = b or c\n",
    "\n",
    "print(a, b,c,d)"
   ]
  },
  {
   "cell_type": "code",
   "execution_count": 1,
   "metadata": {},
   "outputs": [
    {
     "name": "stdout",
     "output_type": "stream",
     "text": [
      "hi\n",
      "hi\n",
      "hi\n"
     ]
    }
   ],
   "source": [
    "for i in range(3):\n",
    "  print('hi')"
   ]
  },
  {
   "cell_type": "code",
   "execution_count": 2,
   "metadata": {},
   "outputs": [
    {
     "name": "stdout",
     "output_type": "stream",
     "text": [
      "0\n",
      "1\n"
     ]
    }
   ],
   "source": [
    "for i in range(2):\n",
    "  print(i)"
   ]
  }
 ],
 "metadata": {
  "kernelspec": {
   "display_name": "Python 3",
   "language": "python",
   "name": "python3"
  },
  "language_info": {
   "codemirror_mode": {
    "name": "ipython",
    "version": 3
   },
   "file_extension": ".py",
   "mimetype": "text/x-python",
   "name": "python",
   "nbconvert_exporter": "python",
   "pygments_lexer": "ipython3",
   "version": "3.11.2"
  }
 },
 "nbformat": 4,
 "nbformat_minor": 2
}
